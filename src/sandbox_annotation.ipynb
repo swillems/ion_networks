{
 "cells": [
  {
   "cell_type": "code",
   "execution_count": null,
   "metadata": {},
   "outputs": [],
   "source": [
    "import os\n",
    "import importlib\n",
    "from timeit import timeit\n",
    "import logging\n",
    "import sys\n",
    "import importlib\n",
    "import time\n",
    "\n",
    "import numpy as np\n",
    "import pandas as pd\n",
    "import scipy\n",
    "import h5py\n",
    "import matplotlib\n",
    "from matplotlib import pyplot as plt\n",
    "import seaborn as sns\n",
    "import numba\n",
    "\n",
    "import ms_utils\n",
    "import browser\n",
    "import interface\n",
    "import ms_database\n",
    "import ms_run_files\n",
    "\n",
    "import sandbox\n",
    "\n",
    "import line_profiler\n",
    "profile = line_profiler.LineProfiler()\n",
    "# heat.evolve = profile(heat.evolve)\n",
    "# profile.print_stats()\n",
    "\n",
    "def reload():\n",
    "    importlib.reload(ms_run_files)\n",
    "    importlib.reload(ms_utils)\n",
    "    importlib.reload(browser)\n",
    "    importlib.reload(interface)\n",
    "    importlib.reload(sandbox)\n",
    "    importlib.reload(ms_database)"
   ]
  },
  {
   "cell_type": "code",
   "execution_count": null,
   "metadata": {},
   "outputs": [],
   "source": [
    "reload()\n",
    "\n",
    "inets = []\n",
    "evis = []\n",
    "anis = []\n",
    "# in_folder = \"/home/sander/Documents/Proteomics/data/ion_networks\"\n",
    "in_folder = \"/home/sander/Documents/Proteomics/data/ecoli3\"\n",
    "# in_folder = \"/home/sander/Documents/Proteomics/data/jpt/APEX\"\n",
    "for file_name in ms_utils.get_file_names_with_extension([in_folder], \".inet.hdf\"):\n",
    "    inets.append(\n",
    "        ms_run_files.Network(\n",
    "            file_name\n",
    "        )\n",
    "    )\n",
    "    evis.append(\n",
    "        ms_run_files.Evidence(\n",
    "            file_name\n",
    "        )\n",
    "    )\n",
    "    anis.append(\n",
    "        ms_run_files.Annotation(\n",
    "            file_name\n",
    "        )\n",
    "    )"
   ]
  },
  {
   "cell_type": "code",
   "execution_count": null,
   "metadata": {},
   "outputs": [],
   "source": [
    "# ani_indices = anis[0].get_dataset(\"indices\", 'edge_candidates')\n",
    "ani_indptr = anis[0].get_dataset(\"indptr\", 'edge_candidates')\n",
    "edge_indptr, edge_indices = inets[0].get_edges(indptr_and_indices=True)"
   ]
  },
  {
   "cell_type": "code",
   "execution_count": null,
   "metadata": {},
   "outputs": [],
   "source": [
    "ani_indptr.shape"
   ]
  },
  {
   "cell_type": "code",
   "execution_count": null,
   "metadata": {},
   "outputs": [],
   "source": []
  },
  {
   "cell_type": "code",
   "execution_count": null,
   "metadata": {},
   "outputs": [],
   "source": []
  },
  {
   "cell_type": "code",
   "execution_count": null,
   "metadata": {},
   "outputs": [],
   "source": []
  },
  {
   "cell_type": "code",
   "execution_count": null,
   "metadata": {},
   "outputs": [],
   "source": []
  }
 ],
 "metadata": {
  "kernelspec": {
   "display_name": "Python [conda env:ion_networks]",
   "language": "python",
   "name": "conda-env-ion_networks-py"
  },
  "language_info": {
   "codemirror_mode": {
    "name": "ipython",
    "version": 3
   },
   "file_extension": ".py",
   "mimetype": "text/x-python",
   "name": "python",
   "nbconvert_exporter": "python",
   "pygments_lexer": "ipython3",
   "version": "3.8.1"
  }
 },
 "nbformat": 4,
 "nbformat_minor": 4
}
