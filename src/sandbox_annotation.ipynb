{
 "cells": [
  {
   "cell_type": "code",
   "execution_count": 1,
   "metadata": {},
   "outputs": [],
   "source": [
    "import os\n",
    "import importlib\n",
    "from timeit import timeit\n",
    "import logging\n",
    "import sys\n",
    "import importlib\n",
    "import time\n",
    "import multiprocessing as mp\n",
    "import multiprocessing.pool\n",
    "\n",
    "import numpy as np\n",
    "import pandas as pd\n",
    "import scipy\n",
    "import h5py\n",
    "import matplotlib\n",
    "from matplotlib import pyplot as plt\n",
    "import seaborn as sns\n",
    "import numba\n",
    "import sklearn.linear_model\n",
    "\n",
    "import ms_utils\n",
    "import browser\n",
    "import interface\n",
    "import ms_database\n",
    "import ms_run_files\n",
    "\n",
    "import sandbox\n",
    "\n",
    "import line_profiler\n",
    "profile = line_profiler.LineProfiler()\n",
    "# heat.evolve = profile(heat.evolve)\n",
    "# profile.print_stats()\n",
    "\n",
    "def reload():\n",
    "    importlib.reload(ms_run_files)\n",
    "    importlib.reload(ms_utils)\n",
    "    importlib.reload(browser)\n",
    "    importlib.reload(interface)\n",
    "    importlib.reload(sandbox)\n",
    "    importlib.reload(ms_database)\n",
    "   "
   ]
  },
  {
   "cell_type": "code",
   "execution_count": 27,
   "metadata": {},
   "outputs": [],
   "source": [
    "def get_candidate_peptide_indices_for_nodes(\n",
    "    inet,\n",
    "    database,\n",
    "    parameters\n",
    "):\n",
    "    # TODO: Docstring\n",
    "    ms_utils.LOGGER.info(\n",
    "        f\"Writing node candidates to {inet.file_name}\"\n",
    "    )\n",
    "    max_ppm = parameters[\"annotation_ppm\"]\n",
    "    self_mzs = inet.get_ion_coordinates(\"FRAGMENT_MZ\")\n",
    "    mz_order = np.argsort(self_mzs)\n",
    "    database_mzs = database.get_fragment_coordinates(\"mz\")\n",
    "    mz_transform = np.log(self_mzs[mz_order]) * 10**6\n",
    "    low_limits = np.searchsorted(\n",
    "        np.log(database_mzs) * 10**6,\n",
    "        mz_transform - max_ppm,\n",
    "        \"left\"\n",
    "    )\n",
    "    high_limits = np.searchsorted(\n",
    "        np.log(database_mzs) * 10**6,\n",
    "        mz_transform + max_ppm,\n",
    "        \"right\"\n",
    "    )\n",
    "    inv_order = np.argsort(mz_order)\n",
    "    return low_limits[inv_order], high_limits[inv_order]\n",
    "\n",
    "\n",
    "@numba.njit(nogil=True, cache=True)\n",
    "def score_annotations(\n",
    "    candidates,\n",
    "    edge_contributions,\n",
    "    indptr,\n",
    "    indices,\n",
    "    peptide_pointers,\n",
    "    low_peptide_indices,\n",
    "    high_peptide_indices,\n",
    "    peptide_count,\n",
    "):\n",
    "    annotated_ions = np.empty(candidates.shape[0], np.int64)\n",
    "    annotated_peptides = np.empty(candidates.shape[0], np.int64)\n",
    "    annotated_scores = np.empty(candidates.shape[0], np.float64)\n",
    "    current_annotation_index = 0\n",
    "    for index in np.flatnonzero(candidates):\n",
    "        local_edge_contributions = edge_contributions[indptr[index]: indptr[index + 1]]\n",
    "        good_edges = np.flatnonzero(local_edge_contributions > 0)\n",
    "        if good_edges.shape[0] == 0:\n",
    "            continue\n",
    "        neighbors = indices[indptr[index]: indptr[index + 1]][good_edges]\n",
    "        local_edge_contributions = local_edge_contributions[good_edges]\n",
    "        l = low_peptide_indices[index]\n",
    "        h = high_peptide_indices[index]\n",
    "        candidate_peptides = peptide_pointers[l:h]\n",
    "        candidate_peptide_scores = np.zeros(peptide_count, np.int64)\n",
    "        for edge_contribution, neighbor_index in zip(local_edge_contributions, neighbors):\n",
    "            l = low_peptide_indices[neighbor_index]\n",
    "            h = high_peptide_indices[neighbor_index]\n",
    "            if l == h:\n",
    "                continue\n",
    "            neighbor_peptides = peptide_pointers[l:h]\n",
    "            candidate_peptide_scores[neighbor_peptides] += edge_contribution\n",
    "        candidate_peptide_scores = candidate_peptide_scores[candidate_peptides]\n",
    "        hits = np.flatnonzero(candidate_peptide_scores)\n",
    "        if hits.shape[0] == 0:\n",
    "            continue\n",
    "        candidate_peptides = candidate_peptides[hits]\n",
    "        candidate_peptide_scores = candidate_peptide_scores[hits]\n",
    "    #     count_frequency = np.bincount(candidate_peptide_counts)\n",
    "    #     if count_frequency[-1] != 1:\n",
    "    #         continue\n",
    "    #     print(index, candidate_peptides, candidate_peptide_counts)\n",
    "        max_index = np.argmax(candidate_peptide_scores)\n",
    "        peptide = candidate_peptides[max_index]\n",
    "        score = candidate_peptide_scores[max_index]\n",
    "        annotated_ions[current_annotation_index] = index\n",
    "        annotated_peptides[current_annotation_index] = peptide\n",
    "        annotated_scores[current_annotation_index] = score\n",
    "        current_annotation_index += 1\n",
    "    annotated_ions = annotated_ions[:current_annotation_index]\n",
    "    annotated_peptides = annotated_peptides[:current_annotation_index]\n",
    "    annotated_scores = annotated_scores[:current_annotation_index]\n",
    "    return annotated_ions, annotated_peptides, annotated_scores"
   ]
  },
  {
   "cell_type": "code",
   "execution_count": 28,
   "metadata": {},
   "outputs": [],
   "source": [
    "inet = ms_run_files.HDF_Network_File(\n",
    "    \"/home/sander/Documents/Proteomics/data/ecoli_test/28Oct2016_060.inet.hdf\"\n",
    ")\n",
    "evi = ms_run_files.HDF_Evidence_File(inet)\n",
    "database = ms_database.HDF_Database_File(\n",
    "    \"/home/sander/Documents/Proteomics/data/databases/crap_ecoli_concatenated_decoy.hdf\"\n",
    ")\n",
    "parameters = ms_utils.read_parameters_from_json_file(default=\"annotation\")"
   ]
  },
  {
   "cell_type": "code",
   "execution_count": 29,
   "metadata": {},
   "outputs": [],
   "source": [
    "low_peptide_indices, high_peptide_indices = get_candidate_peptide_indices_for_nodes(\n",
    "    inet,\n",
    "    database,\n",
    "    parameters\n",
    ")\n",
    "peptide_pointers = database.get_fragment_coordinates(\"peptide_index\")\n",
    "indptr, indices, edge_pointers = inet.get_edges(symmetric=True, return_pointers=True)\n",
    "positive_counts = evi.get_edges()\n",
    "negative_counts = evi.get_edges(positive=False)\n",
    "peptide_sequences = database.read_dataset(\"sequence\", \"peptides\")\n",
    "decoys = database.read_dataset(\"decoy\", \"peptides\")"
   ]
  },
  {
   "cell_type": "code",
   "execution_count": 19,
   "metadata": {},
   "outputs": [
    {
     "data": {
      "text/plain": [
       "array([        0,         0,         0,         0,         0,         0,\n",
       "               0,         0,         0,         0, 103477684,   4368698])"
      ]
     },
     "execution_count": 19,
     "metadata": {},
     "output_type": "execute_result"
    }
   ],
   "source": [
    "# edge_contributions = positive_counts[edge_pointers] == 9\n",
    "# edge_contributions = positive_counts[edge_pointers] - negative_counts[edge_pointers]\n",
    "edge_contributions = positive_counts[edge_pointers] >= 4\n",
    "np.bincount(edge_contributions + 10)"
   ]
  },
  {
   "cell_type": "code",
   "execution_count": 20,
   "metadata": {},
   "outputs": [],
   "source": [
    "candidates = (high_peptide_indices > low_peptide_indices)\n",
    "thread_count = 8\n",
    "with multiprocessing.pool.ThreadPool(thread_count) as p:\n",
    "    results = p.starmap(\n",
    "        score_annotations,\n",
    "        [\n",
    "            (\n",
    "                candidates[i::thread_count],\n",
    "                edge_contributions,\n",
    "                indptr,\n",
    "                indices,\n",
    "                peptide_pointers,\n",
    "                low_peptide_indices,\n",
    "                high_peptide_indices,\n",
    "                peptide_sequences.shape[0],\n",
    "            ) for i in range(thread_count)\n",
    "        ]\n",
    "    )\n",
    "annotated_ions = np.concatenate([r[0] for r in results])\n",
    "annotated_peptides = np.concatenate([r[1] for r in results])\n",
    "annotated_scores = np.concatenate([r[2] for r in results])\n",
    "annotated_decoys = decoys[annotated_peptides]"
   ]
  },
  {
   "cell_type": "code",
   "execution_count": 26,
   "metadata": {},
   "outputs": [
    {
     "name": "stdout",
     "output_type": "stream",
     "text": [
      "0 [12658 13531]\n",
      "1 [ 9700 10558]\n",
      "2 [6798 7444]\n",
      "3 [4431 5000]\n",
      "4 [2931 3422]\n",
      "5 [1710 2274]\n",
      "6 [1083 1553]\n",
      "7 [ 884 1083]\n",
      "8 [638 842]\n",
      "9 [371 625]\n",
      "10 [288 414]\n",
      "11 [263 280]\n",
      "12 [212 178]\n",
      "13 [141  71]\n",
      "14 [76 42]\n",
      "15 [55]\n",
      "16 [46]\n"
     ]
    }
   ],
   "source": [
    "for i in range(int(np.max(annotated_scores))):\n",
    "    print(i, np.bincount(annotated_decoys[annotated_scores > i]))"
   ]
  },
  {
   "cell_type": "code",
   "execution_count": 13,
   "metadata": {},
   "outputs": [
    {
     "name": "stdout",
     "output_type": "stream",
     "text": [
      "519\n"
     ]
    },
    {
     "data": {
      "text/plain": [
       "(42853, 6659, 10.0)"
      ]
     },
     "execution_count": 13,
     "metadata": {},
     "output_type": "execute_result"
    }
   ],
   "source": [
    "max_i = 519\n",
    "\n",
    "print(np.argmax(annotated_scores))\n",
    "\n",
    "annotated_ions[max_i], annotated_peptides[max_i], annotated_scores[max_i]"
   ]
  },
  {
   "cell_type": "code",
   "execution_count": 14,
   "metadata": {},
   "outputs": [
    {
     "name": "stdout",
     "output_type": "stream",
     "text": [
      "True\n"
     ]
    },
    {
     "data": {
      "text/plain": [
       "array([  20031,  160604,  381583,  706580,  861205, 1184214, 1314618,\n",
       "       1590766, 1711541, 1820608, 1934910, 2191393, 2296601, 2580344,\n",
       "       2677683, 2932864, 3065615, 3224210])"
      ]
     },
     "execution_count": 14,
     "metadata": {},
     "output_type": "execute_result"
    }
   ],
   "source": [
    "i = 42853\n",
    "print(6659 in peptide_pointers[low_peptide_indices[i]: high_peptide_indices[i]])\n",
    "p = np.flatnonzero(peptide_pointers == 6659)\n",
    "p"
   ]
  },
  {
   "cell_type": "code",
   "execution_count": 15,
   "metadata": {},
   "outputs": [
    {
     "data": {
      "text/plain": [
       "14"
      ]
     },
     "execution_count": 15,
     "metadata": {},
     "output_type": "execute_result"
    }
   ],
   "source": [
    "# z = np.concatenate(\n",
    "#     [\n",
    "#         280718 in peptide_pointers[\n",
    "#             low_peptide_indices[n]: high_peptide_indices[n]\n",
    "#         ] for n in indices[indptr[i]: indptr[i+1]]\n",
    "#     ]\n",
    "# )\n",
    "# # np.bincount(z)[p]\n",
    "# z\n",
    "l = 0\n",
    "for n in indices[indptr[i]: indptr[i+1]]:\n",
    "    l += np.any(np.isin(p, np.arange(low_peptide_indices[n], high_peptide_indices[n])))\n",
    "#     l += 280718 in peptide_pointers[\n",
    "#         low_peptide_indices[n]: high_peptide_indices[n]\n",
    "#     ]\n",
    "    \n",
    "l"
   ]
  },
  {
   "cell_type": "code",
   "execution_count": 22,
   "metadata": {},
   "outputs": [
    {
     "data": {
      "text/plain": [
       "array([111428, 111368])"
      ]
     },
     "execution_count": 22,
     "metadata": {},
     "output_type": "execute_result"
    }
   ],
   "source": [
    "np.bincount(decoys)"
   ]
  },
  {
   "cell_type": "code",
   "execution_count": null,
   "metadata": {},
   "outputs": [],
   "source": []
  }
 ],
 "metadata": {
  "kernelspec": {
   "display_name": "Python [conda env:ion_networks]",
   "language": "python",
   "name": "conda-env-ion_networks-py"
  },
  "language_info": {
   "codemirror_mode": {
    "name": "ipython",
    "version": 3
   },
   "file_extension": ".py",
   "mimetype": "text/x-python",
   "name": "python",
   "nbconvert_exporter": "python",
   "pygments_lexer": "ipython3",
   "version": "3.8.1"
  }
 },
 "nbformat": 4,
 "nbformat_minor": 4
}
