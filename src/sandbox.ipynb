{
 "cells": [
  {
   "cell_type": "code",
   "execution_count": 1,
   "metadata": {},
   "outputs": [],
   "source": [
    "import os\n",
    "import importlib\n",
    "from timeit import timeit\n",
    "import logging\n",
    "import sys\n",
    "import importlib\n",
    "import time\n",
    "\n",
    "import numpy as np\n",
    "import pandas as pd\n",
    "import scipy\n",
    "import h5py\n",
    "import matplotlib\n",
    "from matplotlib import pyplot as plt\n",
    "import seaborn as sns\n",
    "\n",
    "import network\n",
    "import evidence\n",
    "import utils\n",
    "import browser\n",
    "import interface\n",
    "import database\n",
    "\n",
    "import sandbox\n",
    "\n",
    "formatter = logging.Formatter(\n",
    "    '%(asctime)s > %(message)s'\n",
    ")\n",
    "logger = logging.getLogger('network_log')\n",
    "logger.setLevel(logging.DEBUG)\n",
    "console_handler = logging.StreamHandler(stream=sys.stdout)\n",
    "console_handler.setLevel(logging.DEBUG)\n",
    "console_handler.setFormatter(formatter)\n",
    "logger.addHandler(console_handler)\n",
    "\n",
    "parameters = utils.read_parameters_from_json_file(default=\"evidence\")\n",
    "\n",
    "def reload():\n",
    "    importlib.reload(network)\n",
    "    importlib.reload(evidence)\n",
    "    importlib.reload(utils)\n",
    "    importlib.reload(browser)\n",
    "    importlib.reload(interface)\n",
    "    importlib.reload(sandbox)\n",
    "    importlib.reload(database)"
   ]
  },
  {
   "cell_type": "code",
   "execution_count": null,
   "metadata": {},
   "outputs": [],
   "source": [
    "reload()\n",
    "\n",
    "inets = []\n",
    "# in_folder = \"/home/sander/Documents/Proteomics/data/ion_networks\"\n",
    "# in_folder = \"/home/sander/Documents/Proteomics/data/ecoli\"\n",
    "in_folder = \"/home/sander/Documents/Proteomics/data/jpt/APEX\"\n",
    "for file_name in utils.get_file_names_with_extension([in_folder], \".inet.hdf\"):\n",
    "    inets.append(\n",
    "        network.Network(\n",
    "            file_name\n",
    "        )\n",
    "    )\n",
    "    \n",
    "evis = []\n",
    "# in_folder = \"/home/sander/Documents/Proteomics/data/ion_networks\"\n",
    "for i, file_name in enumerate(utils.get_file_names_with_extension([in_folder], \".evidence.hdf\")):\n",
    "    evis.append(\n",
    "        evidence.Evidence(\n",
    "            file_name,\n",
    "            inets[i]\n",
    "        )\n",
    "    )"
   ]
  },
  {
   "cell_type": "code",
   "execution_count": null,
   "metadata": {},
   "outputs": [],
   "source": [
    "reload()\n",
    "\n",
    "self = inets[0]\n",
    "other = inets[1]\n",
    "# self_ints, self_mzs, self_pmzs, self_rts = self.get_ion_coordinates()\n",
    "# other_ints, other_mzs, other_pmzs, other_rts = other.get_ion_coordinates()\n",
    "# calibrated_self_rts = sandbox.calibrate_precursor_rt(self, other, ppm=10)"
   ]
  },
  {
   "cell_type": "code",
   "execution_count": null,
   "metadata": {},
   "outputs": [],
   "source": []
  },
  {
   "cell_type": "code",
   "execution_count": null,
   "metadata": {},
   "outputs": [],
   "source": [
    "self_mzs = pd.read_csv(\n",
    "    \"/home/sander/Documents/Proteomics/data/jpt/APEX/200117_JPTmix_prop_Fullloop_01_Apex3DIons.inet.csv\",\n",
    "    usecols=[\"FRAGMENT_MZ\"]\n",
    ").values.flatten()\n",
    "other_mzs = pd.read_csv(\n",
    "    \"/home/sander/Documents/Proteomics/data/jpt/APEX/200117_JPTmix_prop_Fullloop_08_Apex3DIons.inet.csv\",\n",
    "    usecols=[\"FRAGMENT_MZ\"]\n",
    ").values.flatten()\n",
    "\n",
    "self_logints = pd.read_csv(\n",
    "    \"/home/sander/Documents/Proteomics/data/jpt/APEX/200117_JPTmix_prop_Fullloop_01_Apex3DIons.inet.csv\",\n",
    "    usecols=[\"FRAGMENT_LOGINT\"]\n",
    ").values.flatten()\n",
    "other_logints = pd.read_csv(\n",
    "    \"/home/sander/Documents/Proteomics/data/jpt/APEX/200117_JPTmix_prop_Fullloop_08_Apex3DIons.inet.csv\",\n",
    "    usecols=[\"FRAGMENT_LOGINT\"]\n",
    ").values.flatten()"
   ]
  },
  {
   "cell_type": "code",
   "execution_count": null,
   "metadata": {},
   "outputs": [],
   "source": [
    "# le_indices = np.concatenate(\n",
    "#     [\n",
    "#         start + np.argpartition(\n",
    "#             ions[\"INTENSITY\"][start: end], - to_select_per_sample\n",
    "#         )[-to_select_per_sample:] for start, end in zip(\n",
    "#             start_indices[:-1],\n",
    "#             start_indices[1:]\n",
    "#         )\n",
    "#     ]\n",
    "# )\n"
   ]
  },
  {
   "cell_type": "code",
   "execution_count": null,
   "metadata": {},
   "outputs": [],
   "source": [
    "calibration_ions = 50000\n",
    "self_ions = np.argpartition(self_logints, -calibration_ions)[-calibration_ions:]\n",
    "other_ions = np.argpartition(other_logints, -calibration_ions)[-calibration_ions:]"
   ]
  },
  {
   "cell_type": "code",
   "execution_count": null,
   "metadata": {},
   "outputs": [],
   "source": [
    "self_mzs = self_mzs[self_ions]\n",
    "other_mzs = other_mzs[other_ions]"
   ]
  },
  {
   "cell_type": "code",
   "execution_count": null,
   "metadata": {},
   "outputs": [],
   "source": []
  },
  {
   "cell_type": "code",
   "execution_count": null,
   "metadata": {},
   "outputs": [],
   "source": [
    "np.sort(self_mzs), np.sort(other_mzs)"
   ]
  },
  {
   "cell_type": "code",
   "execution_count": null,
   "metadata": {},
   "outputs": [],
   "source": [
    "self_mzs = self.get_ion_coordinates(\"FRAGMENT_MZ\")\n",
    "other_mzs = other.get_ion_coordinates(\"FRAGMENT_MZ\")\n",
    "# self_indices, other_indices = sandbox.quick_align(self_mzs, other_mzs, ppm=10)\n",
    "# self_rts = self.get_ion_coordinates(\"PRECURSOR_RT\")\n",
    "# other_rts = other.get_ion_coordinates(\"PRECURSOR_RT\", indices=other_indices)"
   ]
  },
  {
   "cell_type": "code",
   "execution_count": null,
   "metadata": {},
   "outputs": [],
   "source": [
    "self_inds = np.repeat(0, len(self_mzs))\n",
    "other_inds = np.repeat(1, len(other_mzs))"
   ]
  },
  {
   "cell_type": "code",
   "execution_count": null,
   "metadata": {},
   "outputs": [],
   "source": [
    "mzs = np.concatenate([self_mzs, other_mzs])\n",
    "inds = np.concatenate([self_inds, other_inds])\n",
    "order = np.argsort(mzs)\n",
    "mzs = mzs[order]\n",
    "inds = inds[order]"
   ]
  },
  {
   "cell_type": "code",
   "execution_count": null,
   "metadata": {},
   "outputs": [],
   "source": [
    "mz_diffs = np.diff(mzs)\n",
    "ind_diffs = np.diff(inds)\n",
    "x = np.concatenate([mz_diffs[ind_diffs==1], -mz_diffs[ind_diffs==-1]])"
   ]
  },
  {
   "cell_type": "code",
   "execution_count": null,
   "metadata": {},
   "outputs": [],
   "source": [
    "x = (mz_diffs[:-2] < mz_diffs[1:-1]) & (mz_diffs[1:-1] < mz_diffs[2:])\n",
    "x &= ind_diffs[1:-1] != 0\n",
    "x = mz_diffs[1:-1][x] * -ind_diffs[1:-1][x]"
   ]
  },
  {
   "cell_type": "code",
   "execution_count": null,
   "metadata": {},
   "outputs": [],
   "source": [
    "np.quantile(\n",
    "    mz_diffs[ind_diffs==-1] * 10**6 / mzs[:-1][ind_diffs==-1],\n",
    "    0.5\n",
    ")"
   ]
  },
  {
   "cell_type": "code",
   "execution_count": null,
   "metadata": {},
   "outputs": [],
   "source": []
  },
  {
   "cell_type": "code",
   "execution_count": null,
   "metadata": {},
   "outputs": [],
   "source": [
    "%matplotlib notebook\n",
    "\n",
    "# s = np.concatenate([mz_diffs[ind_diffs==1], -mz_diffs[ind_diffs==-1]])\n",
    "\n",
    "plt.scatter(\n",
    "    mzs[:-1][ind_diffs==1],\n",
    "    mz_diffs[ind_diffs==1] * 10**6 / mzs[:-1][ind_diffs==1]\n",
    "#     np.sort(self_mzs),\n",
    "#     np.sort(other_mzs) - np.sort(self_mzs),\n",
    "#     10**6 * (np.sort(self_mzs) - np.sort(other_mzs)) / np.sort(self_mzs)\n",
    ")"
   ]
  },
  {
   "cell_type": "code",
   "execution_count": null,
   "metadata": {},
   "outputs": [],
   "source": [
    "%matplotlib notebook\n",
    "\n",
    "a, b = np.unique(np.round(x,3), return_counts=True)\n",
    "print(np.quantile(x, np.arange(101)/100), np.median(x))\n",
    "# plt.plot(a,b)\n",
    "plt.plot(np.quantile(x, np.arange(101)/100))"
   ]
  },
  {
   "cell_type": "code",
   "execution_count": null,
   "metadata": {},
   "outputs": [],
   "source": []
  },
  {
   "cell_type": "code",
   "execution_count": null,
   "metadata": {},
   "outputs": [],
   "source": [
    "new_self_rts = []\n",
    "for self_start_index, self_end_index, other_rt_start, other_rt_end in zip(\n",
    "    self_indices[:-1],\n",
    "    self_indices[1:],\n",
    "    other_rts[:-1],\n",
    "    other_rts[1:]\n",
    "):\n",
    "#     if self_end_index == self_start_index:\n",
    "#         continue\n",
    "    self_rt_start = self_rts[self_start_index]\n",
    "    self_rt_end = self_rts[self_end_index]\n",
    "    if self_rt_start == self_rt_end:\n",
    "        new_rts = np.repeat(other_rt_start, self_end_index - self_start_index)\n",
    "    else:\n",
    "        slope = (other_rt_end - other_rt_start) / (self_rt_end - self_rt_start)\n",
    "        new_rts = other_rt_start + slope * (\n",
    "            self_rts[self_start_index: self_end_index] - self_rt_start\n",
    "        )\n",
    "    new_self_rts.append(new_rts)\n",
    "new_self_rts.append([other_rts[-1]])\n",
    "new_self_rts = np.concatenate(new_self_rts)"
   ]
  },
  {
   "cell_type": "code",
   "execution_count": null,
   "metadata": {},
   "outputs": [],
   "source": [
    "new_self_rts.shape[0] - self_rts.shape[0]"
   ]
  },
  {
   "cell_type": "code",
   "execution_count": null,
   "metadata": {},
   "outputs": [],
   "source": []
  },
  {
   "cell_type": "code",
   "execution_count": null,
   "metadata": {},
   "outputs": [],
   "source": [
    "self_rts = self.get_ion_coordinates(\"PRECURSOR_RT\")"
   ]
  },
  {
   "cell_type": "code",
   "execution_count": null,
   "metadata": {},
   "outputs": [],
   "source": [
    "%matplotlib notebook\n",
    "\n",
    "plt.scatter(self_rts, self_rts - calibrated_self_rts)"
   ]
  },
  {
   "cell_type": "code",
   "execution_count": null,
   "metadata": {},
   "outputs": [],
   "source": []
  },
  {
   "cell_type": "code",
   "execution_count": null,
   "metadata": {},
   "outputs": [],
   "source": [
    "reload()\n",
    "\n",
    "self_ints, self_mzs, self_dts, self_rts = self.get_ion_coordinates()\n",
    "other_ints, other_mzs, other_dts, other_rts = other.get_ion_coordinates()\n",
    "self_indices, other_indices = sandbox.quick_align(self_mzs, other_mzs, ppm=10)"
   ]
  },
  {
   "cell_type": "code",
   "execution_count": null,
   "metadata": {},
   "outputs": [],
   "source": []
  },
  {
   "cell_type": "code",
   "execution_count": null,
   "metadata": {},
   "outputs": [],
   "source": [
    "# s = slice(0, None, 1000)\n",
    "a1 = self_rts[self_indices]\n",
    "a2 = other_rts[other_indices]\n",
    "c = self_dts[self_indices] - other_dts[other_indices]"
   ]
  },
  {
   "cell_type": "code",
   "execution_count": null,
   "metadata": {},
   "outputs": [],
   "source": [
    "ppm=10\n",
    "\n",
    "self_mz_order = np.argsort(self_mzs)\n",
    "other_mz_order = np.argsort(other_mzs)\n",
    "max_mz_diff = 1 + ppm * 10**-6\n",
    "low_limits = np.searchsorted(\n",
    "    self_mzs[self_mz_order],\n",
    "    other_mzs[other_mz_order] / max_mz_diff,\n",
    "    \"left\"\n",
    ")\n",
    "high_limits = np.searchsorted(\n",
    "    self_mzs[self_mz_order],\n",
    "    other_mzs[other_mz_order] * max_mz_diff,\n",
    "    \"right\"\n",
    ")\n",
    "other_rt_order = np.argsort(other_mz_order)\n",
    "self_indices = np.concatenate(\n",
    "    [\n",
    "        self_mz_order[l:h] for l, h in zip(\n",
    "            low_limits[other_rt_order],\n",
    "            high_limits[other_rt_order]\n",
    "        )\n",
    "    ]\n",
    ")\n",
    "other_indices = np.repeat(\n",
    "    np.arange(len(other_rt_order)),\n",
    "    high_limits[other_rt_order] - low_limits[other_rt_order]\n",
    ")"
   ]
  },
  {
   "cell_type": "code",
   "execution_count": null,
   "metadata": {},
   "outputs": [],
   "source": [
    "%matplotlib notebook\n",
    "\n",
    "plt.plot(a1, a2)"
   ]
  },
  {
   "cell_type": "code",
   "execution_count": null,
   "metadata": {},
   "outputs": [],
   "source": [
    "%matplotlib notebook\n",
    "\n",
    "# plt.plot(a1, a2)\n",
    "# plt.scatter(a1, a2, marker=\".\", c=c, cmap=\"RdYlGn\")\n",
    "# sns.jointplot(a1, a2, kind=\"hex\", gridsize=200)\n",
    "# sns.jointplot(self_rts[self_indices], other_rts[other_indices], kind=\"hex\", gridsize=100)\n",
    "plt.scatter(self_rts[self_indices], other_rts[other_indices], marker=\".\")"
   ]
  },
  {
   "cell_type": "code",
   "execution_count": null,
   "metadata": {},
   "outputs": [],
   "source": []
  },
  {
   "cell_type": "code",
   "execution_count": null,
   "metadata": {},
   "outputs": [],
   "source": [
    "%matplotlib notebook\n",
    "\n",
    "a,b=np.unique(np.round(c,0), return_counts=True)\n",
    "plt.plot(a,b)"
   ]
  },
  {
   "cell_type": "code",
   "execution_count": null,
   "metadata": {},
   "outputs": [],
   "source": [
    "self_rts = self.get_ion_coordinates(\"PRECURSOR_RT\")\n",
    "other_rts = other.get_ion_coordinates(\"PRECURSOR_RT\", indices=other_indices)\n",
    "new_self_rts = []\n",
    "for self_start_index, self_end_index, other_rt_start, other_rt_end in zip(\n",
    "    self_indices[:-1],\n",
    "    self_indices[1:],\n",
    "    other_rts[:-1],\n",
    "    other_rts[1:]\n",
    "):\n",
    "    self_rt_start = self_rts[self_start_index]\n",
    "    self_rt_end = self_rts[self_end_index]\n",
    "    if self_rt_start == self_rt_end:\n",
    "        new_rts = np.repeat(other_rt_start, self_end_index - self_start_index)\n",
    "    else:\n",
    "        slope = (other_rt_end - other_rt_start) / (self_rt_end - self_rt_start)\n",
    "        new_rts = other_rt_start + slope * (\n",
    "            self_rts[self_start_index: self_end_index] - self_rt_start\n",
    "        )\n",
    "    new_self_rts.append(new_rts)\n",
    "new_self_rts.append([other_rts[-1]])\n",
    "new_self_rts = np.concatenate(new_self_rts)"
   ]
  },
  {
   "cell_type": "code",
   "execution_count": null,
   "metadata": {},
   "outputs": [],
   "source": [
    "# %matplotlib notebook\n",
    "\n",
    "# s = slice(0, None, 1000)\n",
    "# plt.scatter(new_self_rts[s], self_rts[s])"
   ]
  },
  {
   "cell_type": "code",
   "execution_count": null,
   "metadata": {},
   "outputs": [],
   "source": []
  },
  {
   "cell_type": "code",
   "execution_count": null,
   "metadata": {},
   "outputs": [],
   "source": []
  },
  {
   "cell_type": "code",
   "execution_count": null,
   "metadata": {},
   "outputs": [],
   "source": [
    "ints, mzs, pmzs, rts = inets[0].get_ion_coordinates()"
   ]
  },
  {
   "cell_type": "code",
   "execution_count": null,
   "metadata": {},
   "outputs": [],
   "source": [
    "reload()\n",
    "\n",
    "ali = evis[0].get_alignment(evis[1])\n",
    "# pairwise_alignment = inets[0].align_nodes(\n",
    "#     inets[1],\n",
    "#     parameters\n",
    "# )\n",
    "# ali = [\n",
    "#     pairwise_alignment.T.tocsr().indices,\n",
    "#     pairwise_alignment.indices\n",
    "# ]\n",
    "# a = np.repeat(np.arange(pairwise_alignment.shape[0]), np.diff(pairwise_alignment.indptr))\n",
    "# aa = pairwise_alignment.nonzero()[0]\n",
    "# a,aa,np.bincount(a==aa)"
   ]
  },
  {
   "cell_type": "code",
   "execution_count": null,
   "metadata": {},
   "outputs": [],
   "source": [
    "def rt_diffs(isotopic_distance, ppm, rts):\n",
    "    mz_order = np.argsort(mzs)\n",
    "    mzs_in_mz_order = mzs[mz_order]\n",
    "    if isotopic_distance > 0:\n",
    "        lower_limits = np.searchsorted(\n",
    "            mzs_in_mz_order,\n",
    "            (mzs_in_mz_order + isotopic_distance) / (1 + ppm * 10**-6),\n",
    "            \"left\"\n",
    "        )\n",
    "    else:\n",
    "        lower_limits = np.arange(len(mzs)) + 1\n",
    "    upper_limits = np.searchsorted(\n",
    "        mzs_in_mz_order,\n",
    "        (mzs_in_mz_order + isotopic_distance) * (1 + ppm * 10**-6),\n",
    "        \"right\"\n",
    "    )\n",
    "    first_isotopic_pairs = np.repeat(mz_order, upper_limits - lower_limits)\n",
    "    second_isotopic_pairs = np.concatenate([mz_order[l: u] for u, l in zip(upper_limits, lower_limits)])\n",
    "    return np.abs(rts[first_isotopic_pairs] - rts[second_isotopic_pairs])"
   ]
  },
  {
   "cell_type": "code",
   "execution_count": null,
   "metadata": {},
   "outputs": [],
   "source": [
    "isotopic_rts = rt_diffs(isotopic_distance = 1.002, ppm=2, rts=rts)\n",
    "random_rts = rt_diffs(isotopic_distance = 3.8254, ppm=2, rts=rts)"
   ]
  },
  {
   "cell_type": "code",
   "execution_count": null,
   "metadata": {},
   "outputs": [],
   "source": [
    "all_rts = np.concatenate([isotopic_rts, random_rts])\n",
    "all_labels = np.repeat([False, True], [len(isotopic_rts), len(random_rts)])\n",
    "order = np.argsort(all_rts)\n",
    "all_rts = all_rts[order]\n",
    "all_labels = all_labels[order]\n",
    "fdr = np.cumsum(all_labels) / (1 + np.arange(len(all_labels)))"
   ]
  },
  {
   "cell_type": "code",
   "execution_count": null,
   "metadata": {},
   "outputs": [],
   "source": [
    "np.argmin(fdr)"
   ]
  },
  {
   "cell_type": "code",
   "execution_count": null,
   "metadata": {},
   "outputs": [],
   "source": [
    "%matplotlib notebook\n",
    "\n",
    "s = slice(0,10000000, 1)\n",
    "plt.plot(all_rts[s], fdr[s])"
   ]
  },
  {
   "cell_type": "code",
   "execution_count": null,
   "metadata": {},
   "outputs": [],
   "source": [
    "isotope_rt_diffs, isotope_count = np.unique(\n",
    "        isotopic_rts,\n",
    "        return_counts=True\n",
    "    )\n",
    "isotope_count = np.cumsum(isotope_count)\n",
    "random_rt_diffs, random_count = np.unique(\n",
    "        random_rts,\n",
    "        return_counts=True\n",
    "    )\n",
    "random_count = np.cumsum(random_count)"
   ]
  },
  {
   "cell_type": "code",
   "execution_count": null,
   "metadata": {},
   "outputs": [],
   "source": [
    "# random_diffs = isotope_rt_diffs\n",
    "# random_counts = isotope_count"
   ]
  },
  {
   "cell_type": "code",
   "execution_count": null,
   "metadata": {},
   "outputs": [],
   "source": [
    "%matplotlib notebook\n",
    "\n",
    "# plt.plot(\n",
    "#     *np.unique(\n",
    "#         np.round(\n",
    "#             rts[first_isotopic_pairs] - rts[second_isotopic_pairs],\n",
    "#             3\n",
    "#         ),\n",
    "#         return_counts=True\n",
    "#     )\n",
    "# )\n",
    "\n",
    "\n",
    "plt.plot(\n",
    "    isotope_rt_diffs, isotope_count/isotope_count[-1]\n",
    ")\n",
    "plt.plot(\n",
    "    random_rt_diffs, random_count/random_count[-1]\n",
    ")\n",
    "# plt.plot(\n",
    "#     random_diffs, random_counts/random_counts[-1]+0.0029-0.001, c=\"r\"\n",
    "# )\n",
    "# plt.plot(\n",
    "#     random_diffs, random_counts/random_counts[-1]+0.0029+0.0015, c=\"r\"\n",
    "# )\n",
    "# plt.plot(\n",
    "#     random_diffs, random_counts/random_counts[-1], c=\"r\"\n",
    "# )\n",
    "plt.axhline(0.5, c=\"grey\")\n",
    "plt.axvline(0, c=\"grey\")\n",
    "# plt.plot([-15,15], [0.313,0.69])\n",
    "\n",
    "# plt.plot(\n",
    "#     isotope_rt_diffs,\n",
    "#     np.gradient(isotope_count),\n",
    "# )"
   ]
  },
  {
   "cell_type": "code",
   "execution_count": null,
   "metadata": {},
   "outputs": [],
   "source": [
    "%matplotlib notebook\n",
    "\n",
    "ricos = np.diff(isotope_count) / np.diff(isotope_rt_diffs)\n",
    "plt.plot(isotope_rt_diffs[:-1], ricos)"
   ]
  },
  {
   "cell_type": "code",
   "execution_count": null,
   "metadata": {},
   "outputs": [],
   "source": [
    "%matplotlib notebook\n",
    "\n",
    "sns.jointplot(\n",
    "    rts[first_isotopic_pairs[::10]],\n",
    "    rts[second_isotopic_pairs[::10]],\n",
    "    kind=\"hex\",\n",
    "    gridsize=500\n",
    ")"
   ]
  },
  {
   "cell_type": "code",
   "execution_count": null,
   "metadata": {},
   "outputs": [],
   "source": [
    "%matplotlib notebook\n",
    "\n",
    "sns.jointplot(\n",
    "    inets[0].get_ion_coordinates(\"FRAGMENT_LOGINT\", indices=ali[:,0]),\n",
    "    inets[1].get_ion_coordinates(\"FRAGMENT_LOGINT\", indices=ali[:,1]),\n",
    "    kind=\"hex\",\n",
    "    gridsize=500\n",
    ")"
   ]
  },
  {
   "cell_type": "code",
   "execution_count": null,
   "metadata": {},
   "outputs": [],
   "source": [
    "left, right = inets[0].get_edges(return_as_scipy_csr=False)\n",
    "mzs = inets[0].get_ion_coordinates(\"MZ2\")\n",
    "diffs2 = mzs[left] - mzs[right]"
   ]
  },
  {
   "cell_type": "code",
   "execution_count": null,
   "metadata": {},
   "outputs": [],
   "source": [
    "z = evidences[0].get_evidence(network_keys=[k.key for k in inets[1:]], return_total=True)"
   ]
  },
  {
   "cell_type": "code",
   "execution_count": null,
   "metadata": {},
   "outputs": [],
   "source": [
    "edges = inets[0].get_edges()\n",
    "edges.data = z[0] > z[1] + 8\n",
    "edges.eliminate_zeros()\n",
    "left, right = edges.nonzero()\n",
    "mzs = inets[0].get_ion_coordinates(\"MZ2\")\n",
    "diffs = mzs[left] - mzs[right]"
   ]
  },
  {
   "cell_type": "code",
   "execution_count": null,
   "metadata": {},
   "outputs": [],
   "source": [
    "# ori_a, ori_b = np.unique(np.round(diffs2, 3), return_counts=True)\n",
    "new_a, new_b = np.unique(np.round(diffs, 3), return_counts=True)"
   ]
  },
  {
   "cell_type": "code",
   "execution_count": null,
   "metadata": {},
   "outputs": [],
   "source": []
  },
  {
   "cell_type": "code",
   "execution_count": null,
   "metadata": {},
   "outputs": [],
   "source": [
    "%matplotlib notebook\n",
    "\n",
    "plt.plot(ori_a, ori_b/np.max(ori_b))\n",
    "plt.plot(new_a, new_b/np.max(new_b))"
   ]
  },
  {
   "cell_type": "code",
   "execution_count": null,
   "metadata": {},
   "outputs": [],
   "source": []
  },
  {
   "cell_type": "code",
   "execution_count": null,
   "metadata": {},
   "outputs": [],
   "source": []
  },
  {
   "cell_type": "code",
   "execution_count": null,
   "metadata": {},
   "outputs": [],
   "source": []
  },
  {
   "cell_type": "code",
   "execution_count": null,
   "metadata": {},
   "outputs": [],
   "source": [
    "mzs = inets[0].get_ion_coordinates(\"MZ2\")\n",
    "diffs = np.abs(mzs[left] - mzs[right])\n",
    "good = np.abs(diffs - 1.002) < 0.01"
   ]
  },
  {
   "cell_type": "code",
   "execution_count": null,
   "metadata": {},
   "outputs": [],
   "source": [
    "inets[0].get_ion_coordinates(indices=z[0])"
   ]
  },
  {
   "cell_type": "code",
   "execution_count": null,
   "metadata": {},
   "outputs": [],
   "source": [
    "posi = z[0][good]\n",
    "negi = z[1][good]\n",
    "np.bincount(posi), np.bincount(negi)"
   ]
  },
  {
   "cell_type": "code",
   "execution_count": null,
   "metadata": {},
   "outputs": [],
   "source": [
    "# iso = np.histogram2d(posi, negi, bins=10)[0].astype(np.int)\n",
    "# total = np.histogram2d(z[0], z[1], bins=10)[0].astype(np.int)\n",
    "iso, total"
   ]
  },
  {
   "cell_type": "code",
   "execution_count": null,
   "metadata": {},
   "outputs": [],
   "source": [
    "%matplotlib notebook\n",
    "# sns.heatmap(np.log(iso/total), cmap=\"RdYlGn\")\n",
    "sns.heatmap(np.log(iso + 1), cmap=\"RdYlGn\")"
   ]
  },
  {
   "cell_type": "code",
   "execution_count": null,
   "metadata": {},
   "outputs": [],
   "source": []
  },
  {
   "cell_type": "code",
   "execution_count": null,
   "metadata": {},
   "outputs": [],
   "source": [
    "selected = (z[0] + z[1]) > 0\n",
    "# np.unique(z[0][selected] / (z[0] + z[1])[selected], return_counts=True)\n",
    "a, b = np.unique(z[0][selected]-z[1][selected], return_counts=True)"
   ]
  },
  {
   "cell_type": "code",
   "execution_count": null,
   "metadata": {},
   "outputs": [],
   "source": [
    "%matplotlib notebook\n",
    "\n",
    "plt.plot(a, b)"
   ]
  },
  {
   "cell_type": "code",
   "execution_count": null,
   "metadata": {},
   "outputs": [],
   "source": [
    "%matplotlib notebook\n",
    "\n",
    "first_mz2, first_rt1, first_mz1, first_logint = inets[0].get_ion_coordinates([\"MZ2\", \"RT\", \"MZ1\", \"LOGINT\"])\n",
    "second_mz2, second_rt2, second_mz1, second_logint = inets[1].get_ion_coordinates([\"MZ2\", \"RT\", \"MZ1\", \"LOGINT\"])\n",
    "a = al.get_alignment(inets[0], inets[1], return_as_scipy_csr=False)\n",
    "\n",
    "sns.jointplot(first_mz1, first_mz2, kind=\"hex\", gridsize=500)\n",
    "sns.jointplot(first_logint[a[:,0]], second_logint[a[:,1]], kind=\"hex\", gridsize=500)"
   ]
  },
  {
   "cell_type": "code",
   "execution_count": null,
   "metadata": {},
   "outputs": [],
   "source": []
  },
  {
   "cell_type": "code",
   "execution_count": null,
   "metadata": {},
   "outputs": [],
   "source": []
  },
  {
   "cell_type": "code",
   "execution_count": null,
   "metadata": {},
   "outputs": [],
   "source": []
  },
  {
   "cell_type": "code",
   "execution_count": null,
   "metadata": {},
   "outputs": [],
   "source": []
  },
  {
   "cell_type": "code",
   "execution_count": null,
   "metadata": {},
   "outputs": [],
   "source": []
  },
  {
   "cell_type": "code",
   "execution_count": null,
   "metadata": {},
   "outputs": [],
   "source": []
  },
  {
   "cell_type": "code",
   "execution_count": null,
   "metadata": {},
   "outputs": [],
   "source": []
  },
  {
   "cell_type": "code",
   "execution_count": null,
   "metadata": {},
   "outputs": [],
   "source": [
    "importlib.reload(network)\n",
    "mzs, rts = inet.get_ion_coordinates([\"MZ2\", \"RT\"])\n",
    "isotopic_distance = 1.002\n",
    "ppm = 10\n",
    "\n",
    "isotope_rt_diffs, isotope_count = network.determine_isotopic_rt_difference(\n",
    "    mzs,\n",
    "    rts,\n",
    "    isotopic_distance,\n",
    "    ppm\n",
    ")"
   ]
  },
  {
   "cell_type": "code",
   "execution_count": null,
   "metadata": {},
   "outputs": [],
   "source": [
    "# mz_order = np.argsort(mzs)\n",
    "# mzs_in_mz_order = mzs[mz_order]\n",
    "# print(mzs_in_mz_order, (mzs_in_mz_order + isotopic_distance) * (1 + ppm * 10**-6))\n",
    "rts"
   ]
  },
  {
   "cell_type": "code",
   "execution_count": null,
   "metadata": {},
   "outputs": [],
   "source": [
    "ratios = []\n",
    "resolution = np.linspace(0,1,100)\n",
    "lower_limits = np.arange(len(rts)) + 1\n",
    "for limit in resolution:\n",
    "    upper_limits = np.searchsorted(\n",
    "        rts,\n",
    "        rts + limit,\n",
    "        \"right\"\n",
    "    )\n",
    "    total = np.sum(upper_limits-lower_limits)\n",
    "    ratio = isotope_count[np.searchsorted(isotope_rt_diffs, limit, \"right\")] / total\n",
    "    ratios.append(ratio)"
   ]
  },
  {
   "cell_type": "code",
   "execution_count": null,
   "metadata": {},
   "outputs": [],
   "source": [
    "%matplotlib notebook\n",
    "\n",
    "plt.plot(resolution, ratios)"
   ]
  },
  {
   "cell_type": "code",
   "execution_count": null,
   "metadata": {},
   "outputs": [],
   "source": []
  },
  {
   "cell_type": "code",
   "execution_count": null,
   "metadata": {},
   "outputs": [],
   "source": [
    "%matplotlib notebook\n",
    "\n",
    "\n",
    "plt.plot(isotope_rt_diffs, isotope_count / isotope_count[-1])"
   ]
  },
  {
   "cell_type": "code",
   "execution_count": null,
   "metadata": {},
   "outputs": [],
   "source": []
  },
  {
   "cell_type": "code",
   "execution_count": null,
   "metadata": {},
   "outputs": [],
   "source": []
  },
  {
   "cell_type": "code",
   "execution_count": null,
   "metadata": {},
   "outputs": [],
   "source": []
  },
  {
   "cell_type": "code",
   "execution_count": null,
   "metadata": {},
   "outputs": [],
   "source": []
  },
  {
   "cell_type": "code",
   "execution_count": null,
   "metadata": {},
   "outputs": [],
   "source": [
    "indptr, indices = inet.get_edge_indptr_and_indices()"
   ]
  },
  {
   "cell_type": "code",
   "execution_count": null,
   "metadata": {},
   "outputs": [],
   "source": [
    "second_indices = np.repeat(np.arange(len(indptr) - 1), np.diff(indptr))"
   ]
  },
  {
   "cell_type": "code",
   "execution_count": null,
   "metadata": {},
   "outputs": [],
   "source": [
    "%matplotlib notebook\n",
    "\n",
    "mzs = inet.get_ion_coordinates(\"MZ2\")\n",
    "diffs = np.abs(mzs[indices]-mzs[second_indices])\n",
    "\n",
    "plt.plot(*np.unique(np.round(diffs,2), return_counts=True))\n",
    "\n",
    "# plt.scatter(mzs[pairs[:,0]], diffs, marker=\".\")\n",
    "# mzds = mzs[pairs[:,0]] - mzs[pairs[:,1]]\n",
    "# sns.jointplot(mzs[pairs[:,0]], mzs[pairs[:,0]]-mzs[pairs[:,1]], kind=\"hex\", gridsize=100)"
   ]
  },
  {
   "cell_type": "code",
   "execution_count": null,
   "metadata": {},
   "outputs": [],
   "source": []
  },
  {
   "cell_type": "code",
   "execution_count": null,
   "metadata": {},
   "outputs": [],
   "source": []
  },
  {
   "cell_type": "code",
   "execution_count": null,
   "metadata": {},
   "outputs": [],
   "source": [
    "importlib.reload(network)\n",
    "inet1 = network.Network(\n",
    "    \"/home/sander/Documents/Proteomics/data/ion_networks/ecoli_sonar/ion_networks/28Oct2016_060_Apex3DIons.hdf\"\n",
    ")\n",
    "inet2 = network.Network(\n",
    "    \"/home/sander/Documents/Proteomics/data/tmp.hdf\"\n",
    ")\n",
    "# inet.logger=logger"
   ]
  },
  {
   "cell_type": "code",
   "execution_count": null,
   "metadata": {},
   "outputs": [],
   "source": [
    "coords = inet2.get_ion_coordinates(inet2.dimensions)\n",
    "print(inet2.dimensions)"
   ]
  },
  {
   "cell_type": "code",
   "execution_count": null,
   "metadata": {},
   "outputs": [],
   "source": [
    "%matplotlib notebook\n",
    "\n",
    "selection = (coords[3] > 30) & (coords[3] < 31)\n",
    "# selection=...\n",
    "\n",
    "# sns.jointplot(coords[1][selection], coords[2][selection], kind=\"hex\", gridsize=200)\n",
    "plt.scatter(coords[1][selection], coords[3][selection], marker=\".\", c=coords[0][selection], cmap=\"RdYlGn\")"
   ]
  },
  {
   "cell_type": "code",
   "execution_count": null,
   "metadata": {},
   "outputs": [],
   "source": [
    "%matplotlib notebook\n",
    "coords = inet2.get_ion_coordinates(inet2.dimensions)\n",
    "print(inet2.dimensions)\n",
    "from mpl_toolkits.mplot3d import Axes3D\n",
    "fig = plt.figure()\n",
    "ax = fig.add_subplot(111, projection='3d')\n",
    "\n",
    "selection = (coords[3] > 30) & (coords[3] < 30.2)\n",
    "selection &= (coords[2] < 2000)\n",
    "selection &= (coords[1] < 900)\n",
    "# selection=...\n",
    "\n",
    "# sns.jointplot(coords[1][selection], coords[2][selection], kind=\"hex\", gridsize=200)\n",
    "ax.scatter(\n",
    "    coords[1][selection],\n",
    "    coords[3][selection],\n",
    "    coords[2][selection],\n",
    "    marker=\".\",\n",
    "    c=coords[0][selection],\n",
    "    cmap=\"RdYlGn\"\n",
    ")\n",
    "ax.set_xlabel('MZ1')\n",
    "ax.set_ylabel('RT')\n",
    "ax.set_zlabel('MZ2')"
   ]
  },
  {
   "cell_type": "code",
   "execution_count": null,
   "metadata": {},
   "outputs": [],
   "source": [
    "%matplotlib notebook\n",
    "coords = inet1.get_ion_coordinates(inet1.dimensions)\n",
    "print(inet1.dimensions)\n",
    "from mpl_toolkits.mplot3d import Axes3D\n",
    "fig = plt.figure()\n",
    "ax = fig.add_subplot(111, projection='3d')\n",
    "\n",
    "selection = (coords[3] > 30) & (coords[3] < 31)\n",
    "selection &= (coords[2] < 2000)\n",
    "selection &= (coords[1] < 900)\n",
    "# selection=...\n",
    "\n",
    "# sns.jointplot(coords[1][selection], coords[2][selection], kind=\"hex\", gridsize=200)\n",
    "ax.scatter(\n",
    "    coords[1][selection],\n",
    "    coords[3][selection],\n",
    "    coords[2][selection],\n",
    "    marker=\".\",\n",
    "    c=coords[0][selection],\n",
    "    cmap=\"RdYlGn\"\n",
    ")\n",
    "ax.set_xlabel('MZ1')\n",
    "ax.set_ylabel('RT')\n",
    "ax.set_zlabel('MZ2')"
   ]
  },
  {
   "cell_type": "code",
   "execution_count": null,
   "metadata": {},
   "outputs": [],
   "source": [
    "importlib.reload(network)\n",
    "importlib.reload(alignment)\n",
    "inets = []\n",
    "in_folder = \"/home/sander/Documents/Proteomics/data/ion_networks/ecoli_sonar/ion_networks\"\n",
    "for file_name in sorted(os.listdir(in_folder)):\n",
    "    in_file_name = os.path.join(in_folder, file_name)\n",
    "    inet = network.Network(\n",
    "        in_file_name\n",
    "    )\n",
    "    inets.append(inet)\n",
    "al = alignment.Alignment(\n",
    "    \"/home/sander/Documents/Proteomics/data/ion_networks/ecoli_sonar/alignment/alignment.hdf\"\n",
    "#     \"/home/sander/Documents/Proteomics/data/ion_networks/dda/dda_sonar_test_align.hdf\"\n",
    ")"
   ]
  },
  {
   "cell_type": "code",
   "execution_count": null,
   "metadata": {},
   "outputs": [],
   "source": [
    "importlib.reload(alignment)\n",
    "al = alignment.Alignment(\n",
    "    \"/home/sander/Documents/Proteomics/data/ion_networks/ecoli_sonar/alignment/alignment.hdf\"\n",
    "#     \"/home/sander/Documents/Proteomics/data/ion_networks/dda/dda_sonar_test_align.hdf\"\n",
    ")"
   ]
  },
  {
   "cell_type": "code",
   "execution_count": null,
   "metadata": {},
   "outputs": [],
   "source": [
    "%matplotlib notebook\n",
    "\n",
    "# inets = [\n",
    "#     network.Network(\"/home/sander/Documents/Proteomics/data/ion_networks/dda/tmp.hdf\"),\n",
    "#     network.Network(\"/home/sander/Documents/Proteomics/data/ion_networks/ecoli_sonar/ion_networks/28Oct2016_060_Apex3DIons.hdf\")\n",
    "# ]\n",
    "i = 0\n",
    "j = 1\n",
    "dimension = \"LOGINT\"\n",
    "\n",
    "x1, x2, x3, x4 = al.get_alignment(inets[i], inets[j])\n",
    "array1 = inets[i].get_ion_coordinates(dimension)[x1]\n",
    "array2 = inets[j].get_ion_coordinates(dimension)[x2]\n",
    "\n",
    "# plt.scatter(array1, array2, marker=\".\")\n",
    "sns.jointplot(array1, array2, kind=\"hex\", gridsize=500)"
   ]
  },
  {
   "cell_type": "code",
   "execution_count": null,
   "metadata": {},
   "outputs": [],
   "source": []
  },
  {
   "cell_type": "code",
   "execution_count": null,
   "metadata": {},
   "outputs": [],
   "source": [
    "import sandbox\n",
    "importlib.reload(sandbox)\n",
    "edges1, edges2, ali = sandbox.align_edges(inets[0], inets[1], al)\n",
    "edges1, edges2, ali"
   ]
  },
  {
   "cell_type": "code",
   "execution_count": null,
   "metadata": {},
   "outputs": [],
   "source": [
    "indirect = (ali.T * edges1 * ali).tocsr()"
   ]
  },
  {
   "cell_type": "code",
   "execution_count": null,
   "metadata": {},
   "outputs": [],
   "source": [
    "positive = indirect.multiply(edges2)"
   ]
  },
  {
   "cell_type": "code",
   "execution_count": null,
   "metadata": {},
   "outputs": [],
   "source": [
    "available = edges2 * ali.T * ali"
   ]
  },
  {
   "cell_type": "code",
   "execution_count": null,
   "metadata": {},
   "outputs": [],
   "source": [
    "negative = available - positive"
   ]
  },
  {
   "cell_type": "code",
   "execution_count": null,
   "metadata": {},
   "outputs": [],
   "source": [
    "edges2, indirect, available, positive, negative"
   ]
  },
  {
   "cell_type": "code",
   "execution_count": null,
   "metadata": {},
   "outputs": [],
   "source": [
    "mzs = inets[1].get_ion_coordinates(\"MZ2\")"
   ]
  },
  {
   "cell_type": "code",
   "execution_count": null,
   "metadata": {},
   "outputs": [],
   "source": [
    "%matplotlib notebook\n",
    "\n",
    "first_indices, second_indices = edges2.nonzero()\n",
    "diffs = np.abs(mzs[first_indices]-mzs[second_indices])\n",
    "a, b = np.unique(np.round(diffs,2), return_counts=True)\n",
    "\n",
    "plt.plot(a, b / np.average(b))\n",
    "\n",
    "first_indices, second_indices = negative.nonzero()\n",
    "diffs = np.abs(mzs[first_indices]-mzs[second_indices])\n",
    "a, b = np.unique(np.round(diffs,2), return_counts=True)\n",
    "\n",
    "plt.plot(a, b / np.average(b))\n",
    "\n",
    "first_indices, second_indices = positive.nonzero()\n",
    "diffs = np.abs(mzs[first_indices]-mzs[second_indices])\n",
    "a, b = np.unique(np.round(diffs,2), return_counts=True)\n",
    "\n",
    "plt.plot(a, b / np.average(b))"
   ]
  },
  {
   "cell_type": "code",
   "execution_count": null,
   "metadata": {},
   "outputs": [],
   "source": [
    "np.unique(positive.data)"
   ]
  },
  {
   "cell_type": "code",
   "execution_count": null,
   "metadata": {},
   "outputs": [],
   "source": [
    "inets[0].node_count"
   ]
  },
  {
   "cell_type": "code",
   "execution_count": null,
   "metadata": {},
   "outputs": [],
   "source": []
  },
  {
   "cell_type": "code",
   "execution_count": null,
   "metadata": {},
   "outputs": [],
   "source": []
  },
  {
   "cell_type": "code",
   "execution_count": null,
   "metadata": {},
   "outputs": [],
   "source": [
    "posi = evis[0].get_edge_mask_from_group()\n",
    "negi = evis[0].get_edge_mask_from_group(positive=False)"
   ]
  },
  {
   "cell_type": "code",
   "execution_count": null,
   "metadata": {},
   "outputs": [],
   "source": [
    "first, second = evis[0].ion_network.get_edges().nonzero()"
   ]
  },
  {
   "cell_type": "code",
   "execution_count": null,
   "metadata": {},
   "outputs": [],
   "source": [
    "posis = (posi == 9) & (negi == 0)\n",
    "negis = (posi == 0) & (negi == 9)"
   ]
  },
  {
   "cell_type": "code",
   "execution_count": null,
   "metadata": {},
   "outputs": [],
   "source": [
    "first_posi = first[posis]\n",
    "second_posi = second[posis]\n",
    "first_negi = first[negis]\n",
    "second_negi = second[negis]"
   ]
  },
  {
   "cell_type": "code",
   "execution_count": null,
   "metadata": {},
   "outputs": [],
   "source": [
    "posi_rtd = rts[second_posi] - rts[first_posi]\n",
    "negi_rtd = rts[second_negi] - rts[first_negi]"
   ]
  },
  {
   "cell_type": "code",
   "execution_count": null,
   "metadata": {},
   "outputs": [],
   "source": [
    "posi_rt_diffs, posi_count = np.unique(\n",
    "        posi_rtd,\n",
    "        return_counts=True\n",
    "    )\n",
    "posi_count = np.cumsum(posi_count)\n",
    "negi_rt_diffs, negi_count = np.unique(\n",
    "        negi_rtd,\n",
    "        return_counts=True\n",
    "    )\n",
    "negi_count = np.cumsum(negi_count)"
   ]
  },
  {
   "cell_type": "code",
   "execution_count": null,
   "metadata": {},
   "outputs": [],
   "source": [
    "%matplotlib notebook\n",
    "\n",
    "plt.plot(\n",
    "    posi_rt_diffs, posi_count / posi_count[-1]\n",
    ")\n",
    "plt.plot(\n",
    "    negi_rt_diffs, negi_count / negi_count[-1]\n",
    ")"
   ]
  },
  {
   "cell_type": "code",
   "execution_count": null,
   "metadata": {},
   "outputs": [],
   "source": []
  },
  {
   "cell_type": "code",
   "execution_count": null,
   "metadata": {},
   "outputs": [],
   "source": []
  },
  {
   "cell_type": "code",
   "execution_count": null,
   "metadata": {},
   "outputs": [],
   "source": []
  },
  {
   "cell_type": "code",
   "execution_count": null,
   "metadata": {},
   "outputs": [],
   "source": []
  },
  {
   "cell_type": "code",
   "execution_count": null,
   "metadata": {},
   "outputs": [],
   "source": []
  },
  {
   "cell_type": "code",
   "execution_count": 3,
   "metadata": {},
   "outputs": [
    {
     "name": "stdout",
     "output_type": "stream",
     "text": [
      "2020-04-10 15:06:26,804 > ==================================================\n",
      "2020-04-10 15:06:26,805 > ion_networks.py -f /home/sander/.local/share/jupyter/runtime/kernel-e1313ccf-1826-4d2a-8e36-19b035c0d793.json\n",
      "2020-04-10 15:06:26,805 > This log is being saved as: /home/sander/Documents/Proteomics/ion_networks/src/log.txt.\n",
      "2020-04-10 15:06:26,806 > \n",
      "2020-04-10 15:06:26,807 > Command: database.\n",
      "2020-04-10 15:06:26,808 > 2 input_file_names: ['/home/sander/Documents/Proteomics/data/databases/fasta/crap.fasta', '/home/sander/Documents/Proteomics/data/databases/fasta/ecoli.fasta']\n",
      "2020-04-10 15:06:26,809 > output_directory: /home/sander/Documents/Proteomics/data/databases/hdf\n",
      "2020-04-10 15:06:26,809 > parameter_file_name: \n",
      "2020-04-10 15:06:26,810 > log_file_name: /home/sander/Documents/Proteomics/ion_networks/src/log.txt\n",
      "2020-04-10 15:06:26,810 > \n",
      "2020-04-10 15:06:26,811 > Creating database /home/sander/Documents/Proteomics/data/databases/hdf/crap_ecoli_concatenated_decoy.hdf\n",
      "2020-04-10 15:06:26,811 > Reading /home/sander/Documents/Proteomics/data/databases/fasta/crap.fasta\n",
      "2020-04-10 15:06:26,843 > Reading /home/sander/Documents/Proteomics/data/databases/fasta/ecoli.fasta\n",
      "2020-04-10 15:06:28,698 > Writing proteins to /home/sander/Documents/Proteomics/data/databases/hdf/crap_ecoli_concatenated_decoy.hdf\n",
      "2020-04-10 15:06:28,947 > Writing peptidoforms to /home/sander/Documents/Proteomics/data/databases/hdf/crap_ecoli_concatenated_decoy.hdf\n",
      "2020-04-10 15:06:41,955 > Predicting fragrec\n",
      "2020-04-10 15:06:41,981 > using HCD models\n",
      "2020-04-10 15:06:42,247 > scanning peptide file...\n",
      "(1)500 (0)500 (3)500 (4)500 (2)500 (5)500 (6)500 (7)500 (1)1000 (4)1000 (0)1000 (2)1000 (5)1000 (6)1000 (3)1000 (7)1000 (1)1500 (4)1500 (0)1500 (2)1500 (7)1500 (6)1500 (3)1500 (5)1500 (1)2000 (4)2000 (2)2000 (0)2000 (7)2000 (6)2000 (3)2000 (1)2500 (4)2500 (5)2000 (0)2500 (2)2500 (7)2500 (6)2500 (3)2500 (4)3000 (1)3000 (5)2500 (0)3000 (7)3000 (2)3000 (6)3000 (3)3000 (1)3500 (5)3000 (4)3500 (7)3500 (0)3500 (2)3500 (6)3500 (3)3500 (1)4000 (5)3500 (4)4000 (2)4000 (7)4000 (0)4000 (6)4000 (3)4000 (1)4500 (4)4500 (2)4500 (5)4000 (7)4500 (6)4500 (0)4500 (1)5000 (3)4500 (4)5000 (2)5000 (5)4500 (7)5000 (6)5000 (1)5500 (0)5000 (3)5000 (2)5500 (4)5500 (7)5500 (5)5000 (6)5500 (0)5500 (1)6000 (3)5500 (4)6000 (5)5500 (2)6000 (1)6500 (0)6000 (7)6000 (3)6000 (6)6000 (4)6500 (5)6000 (2)6500 (1)7000 (0)6500 (3)6500 (7)6500 (6)6500 (4)7000 (5)6500 (0)7000 (2)7000 (1)7500 (3)7000 (7)7000 (6)7000 (4)7500 (5)7000 (1)8000 (0)7500 (2)7500 (3)7500 (7)7500 (6)7500 (4)8000 (5)7500 (0)8000 (1)8500 (3)8000 (2)8000 (7)8000 (5)8000 (1)9000 (4)8500 (0)8500 (2)8500 (3)8500 (6)8000 (7)8500 (1)9500 (5)8500 (0)9000 (4)9000 (3)9000 (7)9000 (2)9000 (6)8500 (1)10000 (0)9500 (4)9500 (3)9500 (7)9500 (5)9000 (2)9500 (6)9000 (1)10500 (0)10000 (4)10000 (7)10000 (3)10000 (5)9500 (2)10000 (4)10500 (0)10500 (1)11000 (6)9500 (5)10000 (7)10500 (3)10500 (2)10500 (4)11000 (5)10500 (6)10000 (1)11500 (0)11000 (7)11000 (3)11000 (2)11000 (5)11000 (4)11500 (1)12000 (0)11500 (6)10500 (7)11500 (3)11500 (2)11500 (5)11500 (4)12000 (1)12500 (7)12000 (6)11000 (0)12000 (3)12000 (2)12000 (4)12500 (6)11500 (7)12500 (5)12000 (3)12500 (0)12500 (2)12500 (6)12000 (5)12500 (6)12500 \n",
      "2020-04-10 15:06:52,629 > merging results ...\n",
      "2020-04-10 15:06:56,148 > using HCD models\n",
      "2020-04-10 15:06:56,411 > scanning peptide file...\n",
      "(0)500 (1)500 (4)500 (2)500 (3)500 (5)500 (7)500 (6)500 (0)1000 (4)1000 (1)1000 (7)1000 (2)1000 (6)1000 (3)1000 (5)1000 (0)1500 (4)1500 (7)1500 (1)1500 (2)1500 (3)1500 (6)1500 (5)1500 (0)2000 (4)2000 (7)2000 (2)2000 (1)2000 (3)2000 (6)2000 (5)2000 (4)2500 (7)2500 (0)2500 (2)2500 (1)2500 (3)2500 (6)2500 (4)3000 (5)2500 (7)3000 (2)3000 (0)3000 (1)3000 (6)3000 (3)3000 (4)3500 (5)3000 (7)3500 (1)3500 (2)3500 (0)3500 (3)3500 (4)4000 (6)3500 (5)3500 (7)4000 (1)4000 (2)4000 (0)4000 (4)4500 (3)4000 (5)4000 (7)4500 (6)4000 (1)4500 (0)4500 (2)4500 (4)5000 (5)4500 (3)4500 (7)5000 (6)4500 (0)5000 (1)5000 (4)5500 (2)5000 (3)5000 (5)5000 (0)5500 (6)5000 (7)5500 (2)5500 (1)5500 (4)6000 (3)5500 (6)5500 (5)5500 (7)6000 (0)6000 (2)6000 (4)6500 (1)6000 (6)6000 (5)6000 (3)6000 (7)6500 (0)6500 (4)7000 (2)6500 (6)6500 (1)6500 (7)7000 (5)6500 (0)7000 (3)6500 (4)7500 (2)7000 (6)7000 (1)7000 (7)7500 (5)7000 (0)7500 (3)7000 (4)8000 (2)7500 (1)7500 (7)8000 (6)7500 (5)7500 (3)7500 (0)8000 (4)8500 (2)8000 (1)8000 (7)8500 (6)8000 (5)8000 (0)8500 (4)9000 (2)8500 (1)8500 (3)8000 (7)9000 (6)8500 (0)9000 (5)8500 (2)9000 (4)9500 (1)9000 (3)8500 (7)9500 (6)9000 (0)9500 (5)9000 (2)9500 (4)10000 (3)9000 (1)9500 (7)10000 (6)9500 (0)10000 (5)9500 (4)10500 (2)10000 (1)10000 (3)9500 (6)10000 (7)10500 (0)10500 (5)10000 (4)11000 (1)10500 (3)10000 (2)10500 (6)10500 (7)11000 (0)11000 (4)11500 (5)10500 (1)11000 (2)11000 (3)10500 (6)11000 (7)11500 (0)11500 (5)11000 (4)12000 (2)11500 (3)11000 (1)11500 (6)11500 (7)12000 (4)12500 (0)12000 (5)11500 (2)12000 (3)11500 (7)12500 (1)12000 (6)12000 (0)12500 (5)12000 (3)12000 (2)12500 (1)12500 (6)12500 (5)12500 (3)12500 \n",
      "2020-04-10 15:07:07,348 > merging results ...\n",
      "2020-04-10 15:07:20,175 > using HCD models\n",
      "2020-04-10 15:07:20,511 > scanning peptide file...\n",
      "(0)500 (1)500 (4)500 (2)500 (7)500 (3)500 (6)500 (5)500 (0)1000 (1)1000 (4)1000 (6)1000 (2)1000 (3)1000 (5)1000 (7)1000 (0)1500 (1)1500 (4)1500 (6)1500 (3)1500 (2)1500 (5)1500 (7)1500 (4)2000 (0)2000 (1)2000 (6)2000 (5)2000 (3)2000 (2)2000 (7)2000 (4)2500 (6)2500 (0)2500 (1)2500 (5)2500 (3)2500 (7)2500 (4)3000 (2)2500 (0)3000 (6)3000 (1)3000 (4)3500 (7)3000 (5)3000 (2)3000 (3)3000 (0)3500 (6)3500 (1)3500 (4)4000 (2)3500 (7)3500 (5)3500 (6)4000 (0)4000 (3)3500 (1)4000 (4)4500 (2)4000 (6)4500 (7)4000 (5)4000 (0)4500 (3)4000 (1)4500 (2)4500 (6)5000 (5)4500 (0)5000 (7)4500 (4)5000 (1)5000 (3)4500 (6)5500 (2)5000 (5)5000 (0)5500 (7)5000 (1)5500 (3)5000 (4)5500 (2)5500 (5)5500 (6)6000 (3)5500 (1)6000 (0)6000 (7)5500 (4)6000 (2)6000 (6)6500 (1)6500 (5)6000 (3)6000 (7)6000 (4)6500 (0)6500 (2)6500 (6)7000 (1)7000 (5)6500 (4)7000 (3)6500 (7)6500 (0)7000 (2)7000 (1)7500 (5)7000 (6)7500 (4)7500 (7)7000 (3)7000 (0)7500 (2)7500 (1)8000 (4)8000 (7)7500 (5)7500 (0)8000 (3)7500 (6)8000 (2)8000 (4)8500 (1)8500 (7)8000 (5)8000 (6)8500 (3)8000 (0)8500 (2)8500 (7)8500 (1)9000 (4)9000 (3)8500 (0)9000 (5)8500 (6)9000 (2)9000 (1)9500 (4)9500 (7)9000 (3)9000 (0)9500 (5)9000 (6)9500 (1)10000 (4)10000 (2)9500 (7)9500 (3)9500 (6)10000 (0)10000 (5)9500 (1)10500 (2)10000 (4)10500 (7)10000 (6)10500 (3)10000 (5)10000 (1)11000 (0)10500 (2)10500 (4)11000 (7)10500 (6)11000 (3)10500 (1)11500 (5)10500 (0)11000 (4)11500 (2)11000 (6)11500 (7)11000 (3)11000 (5)11000 (4)12000 (1)12000 (0)11500 (2)11500 (6)12000 (3)11500 (7)11500 (5)11500 (2)12000 (4)12500 (0)12000 (1)12500 (6)12500 (7)12000 (3)12000 (5)12000 (0)12500 (2)12500 (7)12500 (3)12500 (5)12500 \n",
      "2020-04-10 15:07:30,570 > merging results ...\n",
      "2020-04-10 15:07:43,008 > using HCD models\n",
      "2020-04-10 15:07:43,293 > scanning peptide file...\n"
     ]
    },
    {
     "name": "stdout",
     "output_type": "stream",
     "text": [
      "(0)500 (1)500 (4)500 (2)500 (3)500 (5)500 (6)500 (7)500 (0)1000 (1)1000 (2)1000 (4)1000 (5)1000 (6)1000 (3)1000 (7)1000 (1)1500 (0)1500 (4)1500 (2)1500 (5)1500 (3)1500 (7)1500 (6)1500 (1)2000 (0)2000 (2)2000 (5)2000 (7)2000 (4)2000 (6)2000 (3)2000 (1)2500 (0)2500 (7)2500 (6)2500 (4)2500 (3)2500 (5)2500 (2)2500 (1)3000 (0)3000 (6)3000 (4)3000 (5)3000 (7)3000 (3)3000 (2)3000 (0)3500 (1)3500 (7)3500 (4)3500 (6)3500 (5)3500 (2)3500 (3)3500 (1)4000 (0)4000 (7)4000 (4)4000 (5)4000 (6)4000 (3)4000 (1)4500 (0)4500 (7)4500 (2)4000 (6)4500 (4)4500 (5)4500 (0)5000 (1)5000 (7)5000 (3)4500 (6)5000 (5)5000 (2)4500 (4)5000 (0)5500 (3)5000 (1)5500 (7)5500 (2)5000 (5)5500 (6)5500 (4)5500 (0)6000 (1)6000 (3)5500 (7)6000 (2)5500 (5)6000 (4)6000 (6)6000 (1)6500 (0)6500 (3)6000 (2)6000 (7)6500 (5)6500 (4)6500 (1)7000 (3)6500 (0)7000 (6)6500 (2)6500 (7)7000 (5)7000 (4)7000 (3)7000 (0)7500 (6)7000 (2)7000 (1)7500 (7)7500 (5)7500 (4)7500 (0)8000 (3)7500 (6)7500 (2)7500 (7)8000 (4)8000 (5)8000 (1)8000 (0)8500 (3)8000 (7)8500 (6)8000 (2)8000 (4)8500 (0)9000 (1)8500 (5)8500 (3)8500 (7)9000 (6)8500 (4)9000 (2)8500 (0)9500 (5)9000 (1)9000 (7)9500 (6)9000 (3)9000 (2)9000 (4)9500 (7)10000 (1)9500 (0)10000 (5)9500 (3)9500 (6)9500 (2)9500 (7)10500 (0)10500 (4)10000 (1)10000 (5)10000 (3)10000 (2)10000 (6)10000 (7)11000 (0)11000 (4)10500 (1)10500 (5)10500 (2)10500 (3)10500 (6)10500 (4)11000 (0)11500 (1)11000 (7)11500 (5)11000 (2)11000 (6)11000 (3)11000 (4)11500 (0)12000 (5)11500 (1)11500 (2)11500 (7)12000 (6)11500 (3)11500 (4)12000 (0)12500 (2)12000 (5)12000 (7)12500 (6)12000 (1)12000 (3)12000 (2)12500 (4)12500 (5)12500 (6)12500 (3)12500 (1)12500 \n",
      "2020-04-10 15:07:53,677 > merging results ...\n",
      "2020-04-10 15:07:56,856 > using HCD models\n",
      "2020-04-10 15:07:57,133 > scanning peptide file...\n",
      "(0)500 (1)500 (4)500 (5)500 (6)500 (7)500 (2)500 (3)500 (0)1000 (5)1000 (1)1000 (7)1000 (4)1000 (2)1000 (3)1000 (6)1000 (0)1500 (5)1500 (7)1500 (3)1500 (6)1500 (1)1500 (2)1500 (4)1500 (0)2000 (5)2000 (7)2000 (6)2000 (2)2000 (1)2000 (3)2000 (4)2000 (7)2500 (5)2500 (0)2500 (2)2500 (1)2500 (6)2500 (4)2500 (3)2500 (7)3000 (0)3000 (1)3000 (5)3000 (2)3000 (6)3000 (4)3000 (3)3000 (7)3500 (0)3500 (2)3500 (5)3500 (1)3500 (6)3500 (3)3500 (4)3500 (7)4000 (0)4000 (2)4000 (1)4000 (5)4000 (6)4000 (3)4000 (4)4000 (7)4500 (2)4500 (0)4500 (1)4500 (6)4500 (5)4500 (3)4500 (7)5000 (4)4500 (2)5000 (0)5000 (5)5000 (6)5000 (1)5000 (3)5000 (7)5500 (4)5000 (2)5500 (0)5500 (6)5500 (5)5500 (1)5500 (3)5500 (7)6000 (4)5500 (2)6000 (6)6000 (0)6000 (5)6000 (3)6000 (7)6500 (1)6000 (4)6000 (0)6500 (6)6500 (5)6500 (2)6500 (3)6500 (1)6500 (7)7000 (4)6500 (0)7000 (6)7000 (5)7000 (2)7000 (3)7000 (1)7000 (7)7500 (0)7500 (6)7500 (4)7000 (5)7500 (2)7500 (3)7500 (1)7500 (7)8000 (0)8000 (4)7500 (2)8000 (6)8000 (5)8000 (3)8000 (1)8000 (7)8500 (6)8500 (0)8500 (4)8000 (3)8500 (2)8500 (5)8500 (1)8500 (7)9000 (6)9000 (0)9000 (4)8500 (3)9000 (2)9000 (1)9000 (5)9000 (7)9500 (0)9500 (6)9500 (4)9000 (3)9500 (7)10000 (5)9500 (4)9500 (6)10000 (0)10000 (1)9500 (2)9500 (3)10000 (7)10500 (5)10000 (2)10000 (4)10000 (0)10500 (1)10000 (6)10500 (7)11000 (5)10500 (2)10500 (0)11000 (4)10500 (3)10500 (1)10500 (6)11000 (7)11500 (2)11000 (5)11000 (0)11500 (3)11000 (4)11000 (1)11000 (6)11500 (7)12000 (2)11500 (5)11500 (4)11500 (3)11500 (0)12000 (6)12000 (1)11500 (7)12500 (4)12000 (2)12000 (5)12000 (0)12500 (3)12000 (6)12500 (1)12000 (4)12500 (2)12500 (3)12500 (5)12500 (1)12500 \n",
      "2020-04-10 15:08:07,632 > merging results ...\n",
      "2020-04-10 15:08:20,230 > using HCD models\n",
      "2020-04-10 15:08:20,517 > scanning peptide file...\n",
      "(0)500 (1)500 (2)500 (4)500 (5)500 (7)500 (6)500 (3)500 (0)1000 (7)1000 (1)1000 (2)1000 (6)1000 (5)1000 (4)1000 (3)1000 (0)1500 (7)1500 (5)1500 (1)1500 (4)1500 (3)1500 (2)1500 (6)1500 (0)2000 (7)2000 (5)2000 (1)2000 (4)2000 (2)2000 (3)2000 (6)2000 (0)2500 (7)2500 (1)2500 (4)2500 (3)2500 (5)2500 (6)2500 (2)2500 (7)3000 (0)3000 (1)3000 (4)3000 (3)3000 (5)3000 (2)3000 (6)3000 (7)3500 (0)3500 (4)3500 (1)3500 (3)3500 (2)3500 (6)3500 (0)4000 (5)3500 (7)4000 (4)4000 (3)4000 (1)4000 (2)4000 (6)4000 (7)4500 (0)4500 (5)4000 (4)4500 (3)4500 (2)4500 (6)4500 (1)4500 (0)5000 (7)5000 (5)4500 (4)5000 (3)5000 (2)5000 (0)5500 (6)5000 (1)5000 (7)5500 (5)5000 (4)5500 (3)5500 (6)5500 (0)6000 (2)5500 (1)5500 (7)6000 (4)6000 (5)5500 (6)6000 (3)6000 (0)6500 (2)6000 (1)6000 (4)6500 (7)6500 (5)6000 (6)6500 (3)6500 (2)6500 (1)6500 (0)7000 (4)7000 (5)6500 (6)7000 (7)7000 (3)7000 (2)7000 (0)7500 (1)7000 (5)7000 (6)7500 (7)7500 (3)7500 (4)7500 (2)7500 (1)7500 (0)8000 (6)8000 (5)7500 (4)8000 (7)8000 (3)8000 (2)8000 (1)8000 (0)8500 (4)8500 (5)8000 (6)8500 (3)8500 (7)8500 (1)8500 (2)8500 (0)9000 (4)9000 (5)8500 (6)9000 (7)9000 (3)9000 (1)9000 (2)9000 (0)9500 (4)9500 (6)9500 (7)9500 (5)9000 (3)9500 (2)9500 (4)10000 (1)9500 (0)10000 (5)9500 (6)10000 (7)10000 (3)10000 (2)10000 (1)10000 (0)10500 (4)10500 (5)10000 (3)10500 (7)10500 (6)10500 (2)10500 (1)10500 (4)11000 (0)11000 (5)10500 (3)11000 (2)11000 (6)11000 (7)11000 (1)11000 (4)11500 (0)11500 (5)11000 (2)11500 (6)11500 (3)11500 (7)11500 (4)12000 (1)11500 (2)12000 (0)12000 (5)11500 (6)12000 (3)12000 (7)12000 (4)12500 (2)12500 (1)12000 (6)12500 (5)12000 (0)12500 (7)12500 (3)12500 (5)12500 (1)12500 \n",
      "2020-04-10 15:08:31,762 > merging results ...\n",
      "2020-04-10 15:08:45,050 > using HCD models\n",
      "2020-04-10 15:08:45,343 > scanning peptide file...\n",
      "(1)500 (0)500 (4)500 (5)500 (3)500 (2)500 (6)500 (7)500 (0)1000 (1)1000 (5)1000 (2)1000 (3)1000 (6)1000 (7)1000 (4)1000 (1)1500 (0)1500 (5)1500 (3)1500 (7)1500 (6)1500 (2)1500 (4)1500 (1)2000 (5)2000 (7)2000 (0)2000 (6)2000 (3)2000 (2)2000 (4)2000 (7)2500 (1)2500 (5)2500 (6)2500 (3)2500 (2)2500 (0)2500 (4)2500 (7)3000 (1)3000 (0)3000 (6)3000 (3)3000 (5)3000 (2)3000 (7)3500 (4)3000 (6)3500 (0)3500 (3)3500 (1)3500 (5)3500 (2)3500 (4)3500 (7)4000 (6)4000 (0)4000 (1)4000 (5)4000 (3)4000 (2)4000 (4)4000 (0)4500 (7)4500 (1)4500 (6)4500 (5)4500 (3)4500 (4)4500 (2)4500 (1)5000 (6)5000 (5)5000 (7)5000 (0)5000 (4)5000 (3)5000 (2)5000 (1)5500 (6)5500 (5)5500 (0)5500 (4)5500 (7)5500 (3)5500 (1)6000 (5)6000 (2)5500 (6)6000 (4)6000 (0)6000 (7)6000 (3)6000 (5)6500 (2)6000 (6)6500 (1)6500 (4)6500 (0)6500 (7)6500 (3)6500 (6)7000 (2)6500 (1)7000 (4)7000 (5)7000 (7)7000 (0)7000 (6)7500 (3)7000 (4)7500 (5)7500 (2)7000 (0)7500 (1)7500 (6)8000 (7)7500 (4)8000 (3)7500 (5)8000 (2)7500 (1)8000 (0)8000 (6)8500 (4)8500 (3)8000 (7)8000 (5)8500 (1)8500 (0)8500 (2)8000 (6)9000 (3)8500 (4)9000 (7)8500 (5)9000 (0)9000 (1)9000 (2)8500 (3)9000 (5)9500 (4)9500 (6)9500 (7)9000 (1)9500 (0)9500 (3)9500 (2)9000 (6)10000 (4)10000 (7)9500 (5)10000 (1)10000 (0)10000 (3)10000 (2)9500 (7)10000 (6)10500 (4)10500 (5)10500 (1)10500 (3)10500 (0)10500 (2)10000 (7)10500 (4)11000 (5)11000 (1)11000 (6)11000 (0)11000 (3)11000 (7)11000 (2)10500 (4)11500 (5)11500 (1)11500 (6)11500 (3)11500 (0)11500 (7)11500 (2)11000 (5)12000 (1)12000 (4)12000 (6)12000 (3)12000 (0)12000 (2)11500 (7)12000 (5)12500 (1)12500 (4)12500 (3)12500 (6)12500 (2)12000 (7)12500 (0)12500 (2)12500 \n",
      "2020-04-10 15:08:55,342 > merging results ...\n",
      "2020-04-10 15:08:58,928 > using HCD models\n",
      "2020-04-10 15:08:59,209 > scanning peptide file...\n"
     ]
    },
    {
     "name": "stdout",
     "output_type": "stream",
     "text": [
      "(1)500 (0)500 (4)500 (5)500 (3)500 (2)500 (6)500 (7)500 (0)1000 (5)1000 (6)1000 (1)1000 (4)1000 (3)1000 (7)1000 (2)1000 (0)1500 (6)1500 (1)1500 (5)1500 (4)1500 (7)1500 (2)1500 (3)1500 (0)2000 (6)2000 (1)2000 (5)2000 (7)2000 (3)2000 (4)2000 (2)2000 (0)2500 (1)2500 (6)2500 (7)2500 (5)2500 (4)2500 (2)2500 (3)2500 (1)3000 (0)3000 (7)3000 (5)3000 (1)3500 (2)3000 (6)3000 (3)3000 (4)3000 (0)3500 (7)3500 (5)3500 (1)4000 (2)3500 (6)3500 (3)3500 (4)3500 (7)4000 (5)4000 (0)4000 (6)4000 (1)4500 (2)4000 (4)4000 (3)4000 (5)4500 (7)4500 (0)4500 (6)4500 (4)4500 (1)5000 (3)4500 (2)4500 (5)5000 (7)5000 (0)5000 (6)5000 (4)5000 (1)5500 (3)5000 (2)5000 (7)5500 (5)5500 (6)5500 (0)5500 (1)6000 (4)5500 (3)5500 (7)6000 (6)6000 (2)5500 (0)6000 (5)6000 (4)6000 (3)6000 (7)6500 (1)6500 (6)6500 (2)6000 (0)6500 (5)6500 (3)6500 (7)7000 (4)6500 (1)7000 (6)7000 (2)6500 (5)7000 (7)7500 (0)7000 (1)7500 (3)7000 (6)7500 (4)7000 (2)7000 (7)8000 (0)7500 (5)7500 (1)8000 (3)7500 (6)8000 (4)7500 (2)7500 (7)8500 (0)8000 (5)8000 (1)8500 (6)8500 (3)8000 (2)8000 (4)8000 (7)9000 (6)9000 (0)8500 (5)8500 (1)9000 (3)8500 (7)9500 (0)9000 (4)8500 (2)8500 (6)9500 (5)9000 (1)9500 (3)9000 (7)10000 (4)9000 (0)9500 (2)9000 (5)9500 (6)10000 (3)9500 (7)10500 (1)10000 (4)9500 (6)10500 (2)9500 (5)10000 (0)10000 (3)10000 (7)11000 (4)10000 (1)10500 (2)10000 (6)11000 (5)10500 (4)10500 (0)10500 (1)11000 (3)10500 (7)11500 (6)11500 (5)11000 (2)10500 (4)11000 (0)11000 (1)11500 (3)11000 (7)12000 (5)11500 (4)11500 (6)12000 (2)11000 (0)11500 (3)11500 (1)12000 (4)12000 (5)12000 (7)12500 (2)11500 (0)12000 (6)12500 (4)12500 (3)12000 (1)12500 (5)12500 (0)12500 (2)12000 (3)12500 (2)12500 \n",
      "2020-04-10 15:09:09,971 > merging results ...\n",
      "2020-04-10 15:09:22,183 > using HCD models\n",
      "2020-04-10 15:09:22,521 > scanning peptide file...\n",
      "(0)500 (1)500 (4)500 (5)500 (3)500 (2)500 (6)500 (7)500 (0)1000 (1)1000 (5)1000 (4)1000 (2)1000 (3)1000 (6)1000 (0)1500 (7)1000 (5)1500 (1)1500 (3)1500 (2)1500 (4)1500 (6)1500 (0)2000 (7)1500 (5)2000 (3)2000 (1)2000 (2)2000 (4)2000 (6)2000 (7)2000 (0)2500 (3)2500 (5)2500 (2)2500 (1)2500 (4)2500 (6)2500 (7)2500 (0)3000 (3)3000 (2)3000 (5)3000 (4)3000 (1)3000 (7)3000 (6)3000 (0)3500 (3)3500 (2)3500 (4)3500 (5)3500 (1)3500 (7)3500 (6)3500 (2)4000 (4)4000 (3)4000 (0)4000 (5)4000 (1)4000 (6)4000 (7)4000 (4)4500 (0)4500 (2)4500 (3)4500 (5)4500 (1)4500 (6)4500 (7)4500 (4)5000 (5)5000 (0)5000 (2)5000 (1)5000 (3)5000 (6)5000 (7)5000 (4)5500 (5)5500 (1)5500 (2)5500 (0)5500 (6)5500 (7)5500 (3)5500 (4)6000 (1)6000 (5)6000 (0)6000 (2)6000 (6)6000 (3)6000 (7)6000 (1)6500 (4)6500 (5)6500 (2)6500 (6)6500 (0)6500 (1)7000 (7)6500 (3)6500 (4)7000 (5)7000 (6)7000 (0)7000 (2)7000 (1)7500 (7)7000 (3)7000 (4)7500 (5)7500 (6)7500 (1)8000 (2)7500 (0)7500 (4)8000 (7)7500 (3)7500 (6)8000 (5)8000 (1)8500 (2)8000 (4)8500 (0)8000 (6)8500 (3)8000 (7)8000 (5)8500 (2)8500 (4)9000 (1)9000 (0)8500 (6)9000 (3)8500 (7)8500 (5)9000 (2)9000 (1)9500 (4)9500 (0)9000 (6)9500 (5)9500 (7)9000 (3)9000 (6)10000 (1)10000 (2)9500 (0)9500 (4)10000 (6)10500 (3)9500 (7)9500 (1)10500 (0)10000 (2)10000 (5)10000 (4)10500 (3)10000 (6)11000 (1)11000 (5)10500 (7)10000 (0)10500 (4)11000 (2)10500 (3)10500 (6)11500 (5)11000 (1)11500 (0)11000 (7)10500 (2)11000 (4)11500 (6)12000 (3)11000 (7)11000 (0)11500 (1)12000 (5)11500 (2)11500 (4)12000 (3)11500 (6)12500 (0)12000 (5)12000 (2)12000 (1)12500 (7)11500 (0)12500 (4)12500 (3)12000 (7)12000 (5)12500 (2)12500 (3)12500 (7)12500 \n",
      "2020-04-10 15:09:34,148 > merging results ...\n",
      "2020-04-10 15:09:49,176 > using HCD models\n",
      "2020-04-10 15:09:49,517 > scanning peptide file...\n",
      "(0)500 (1)500 (2)500 (5)500 (3)500 (4)500 (7)500 (6)500 (1)1000 (0)1000 (2)1000 (5)1000 (7)1000 (3)1000 (6)1000 (4)1000 (1)1500 (0)1500 (5)1500 (3)1500 (2)1500 (6)1500 (7)1500 (4)1500 (1)2000 (0)2000 (2)2000 (5)2000 (3)2000 (7)2000 (6)2000 (4)2000 (1)2500 (0)2500 (2)2500 (3)2500 (7)2500 (6)2500 (5)2500 (4)2500 (1)3000 (0)3000 (2)3000 (5)3000 (3)3000 (6)3000 (7)3000 (4)3000 (1)3500 (0)3500 (2)3500 (5)3500 (6)3500 (7)3500 (3)3500 (4)3500 (1)4000 (2)4000 (0)4000 (5)4000 (6)4000 (3)4000 (7)4000 (4)4000 (1)4500 (0)4500 (6)4500 (2)4500 (5)4500 (7)4500 (3)4500 (4)4500 (0)5000 (1)5000 (6)5000 (2)5000 (5)5000 (3)5000 (7)5000 (0)5500 (4)5000 (1)5500 (2)5500 (6)5500 (5)5500 (7)5500 (3)5500 (1)6000 (4)5500 (0)6000 (2)6000 (6)6000 (5)6000 (7)6000 (3)6000 (4)6000 (0)6500 (1)6500 (2)6500 (6)6500 (5)6500 (3)6500 (0)7000 (4)6500 (7)6500 (1)7000 (6)7000 (2)7000 (5)7000 (7)7000 (4)7000 (3)7000 (0)7500 (6)7500 (1)7500 (5)7500 (2)7500 (4)7500 (0)8000 (3)7500 (7)7500 (6)8000 (5)8000 (2)8000 (1)8000 (0)8500 (4)8000 (6)8500 (7)8000 (5)8500 (2)8500 (3)8000 (1)8500 (0)9000 (4)8500 (6)9000 (5)9000 (2)9000 (7)8500 (1)9000 (3)8500 (0)9500 (4)9000 (6)9500 (5)9500 (2)9500 (1)9500 (3)9000 (7)9000 (0)10000 (5)10000 (4)9500 (6)10000 (1)10000 (2)10000 (3)9500 (7)9500 (0)10500 (6)10500 (5)10500 (4)10000 (2)10500 (3)10000 (1)10500 (7)10000 (6)11000 (0)11000 (5)11000 (2)11000 (4)10500 (3)10500 (1)11000 (7)10500 (0)11500 (5)11500 (6)11500 (2)11500 (3)11000 (4)11000 (0)12000 (1)11500 (7)11000 (2)12000 (5)12000 (3)11500 (6)12000 (4)11500 (0)12500 (2)12500 (7)11500 (6)12500 (1)12000 (3)12000 (5)12500 (4)12000 (7)12000 (3)12500 (1)12500 (4)12500 (7)12500 \n",
      "2020-04-10 15:10:00,368 > merging results ...\n",
      "2020-04-10 15:10:03,833 > using HCD models\n",
      "2020-04-10 15:10:04,147 > scanning peptide file...\n",
      "(0)500 (1)500 (2)500 (3)500 (4)500 (5)500 (7)500 (6)500 (0)1000 (1)1000 (2)1000 (4)1000 (3)1000 (7)1000 (6)1000 (5)1000 (1)1500 (0)1500 (2)1500 (4)1500 (6)1500 (7)1500 (3)1500 (5)1500 (1)2000 (0)2000 (4)2000 (2)2000 (7)2000 (3)2000 (6)2000 (1)2500 (5)2000 (0)2500 (4)2500 (2)2500 (6)2500 (7)2500 (1)3000 (3)2500 (4)3000 (0)3000 (5)2500 (2)3000 (6)3000 (7)3000 (1)3500 (3)3000 (0)3500 (2)3500 (4)3500 (5)3000 (6)3500 (7)3500 (1)4000 (3)3500 (2)4000 (0)4000 (4)4000 (5)3500 (6)4000 (7)4000 (1)4500 (3)4000 (4)4500 (2)4500 (0)4500 (6)4500 (7)4500 (5)4000 (4)5000 (1)5000 (3)4500 (2)5000 (6)5000 (0)5000 (7)5000 (4)5500 (5)4500 (2)5500 (3)5000 (1)5500 (0)5500 (7)5500 (6)5500 (5)5000 (2)6000 (4)6000 (3)5500 (1)6000 (0)6000 (7)6000 (6)6000 (5)5500 (4)6500 (3)6000 (1)6500 (2)6500 (0)6500 (7)6500 (6)6500 (5)6000 (4)7000 (3)6500 (2)7000 (1)7000 (7)7000 (0)7000 (5)6500 (6)7000 (4)7500 (2)7500 (3)7000 (7)7500 (0)7500 (1)7500 (6)7500 (5)7000 (4)8000 (3)7500 (7)8000 (0)8000 (2)8000 (6)8000 (1)8000 (5)7500 (4)8500 (3)8000 (2)8500 (7)8500 (0)8500 (6)8500 (1)8500 (5)8000 (4)9000 (2)9000 (3)8500 (7)9000 (0)9000 (6)9000 (1)9000 (5)8500 (4)9500 (3)9000 (7)9500 (0)9500 (2)9500 (6)9500 (5)9000 (1)9500 (4)10000 (7)10000 (3)9500 (0)10000 (2)10000 (6)10000 (1)10000 (4)10500 (7)10500 (5)9500 (3)10000 (0)10500 (6)10500 (2)10500 (4)11000 (7)11000 (1)10500 (5)10000 (3)10500 (0)11000 (4)11500 (7)11500 (1)11000 (2)11000 (6)11000 (3)11000 (5)10500 (4)12000 (0)11500 (7)12000 (1)11500 (6)11500 (2)11500 (3)11500 (5)11000 (4)12500 (0)12000 (7)12500 (6)12000 (1)12000 (2)12000 (3)12000 (5)11500 (0)12500 (1)12500 (6)12500 (2)12500 (5)12000 (3)12500 (5)12500 \n",
      "2020-04-10 15:10:17,299 > merging results ...\n",
      "2020-04-10 15:10:30,989 > using HCD models\n",
      "2020-04-10 15:10:31,336 > scanning peptide file...\n"
     ]
    },
    {
     "name": "stdout",
     "output_type": "stream",
     "text": [
      "(0)500 (1)500 (2)500 (3)500 (6)500 (5)500 (7)500 (4)500 (0)1000 (1)1000 (3)1000 (2)1000 (6)1000 (7)1000 (4)1000 (5)1000 (0)1500 (3)1500 (1)1500 (6)1500 (2)1500 (7)1500 (4)1500 (5)1500 (0)2000 (6)2000 (1)2000 (3)2000 (4)2000 (2)2000 (7)2000 (0)2500 (5)2000 (6)2500 (3)2500 (1)2500 (2)2500 (4)2500 (0)3000 (7)2500 (5)2500 (6)3000 (3)3000 (2)3000 (1)3000 (0)3500 (4)3000 (5)3000 (7)3000 (3)3500 (6)3500 (2)3500 (0)4000 (1)3500 (5)3500 (4)3500 (7)3500 (6)4000 (2)4000 (3)4000 (0)4500 (5)4000 (1)4000 (4)4000 (7)4000 (2)4500 (3)4500 (6)4500 (5)4500 (0)5000 (4)4500 (1)4500 (2)5000 (7)4500 (5)5000 (3)5000 (6)5000 (4)5000 (0)5500 (1)5000 (2)5500 (5)5500 (7)5000 (6)5500 (3)5500 (0)6000 (4)5500 (1)5500 (2)6000 (5)6000 (7)5500 (4)6000 (3)6000 (0)6500 (6)6000 (1)6000 (5)6500 (2)6500 (3)6500 (0)7000 (7)6000 (4)6500 (6)6500 (1)6500 (2)7000 (5)7000 (7)6500 (0)7500 (4)7000 (3)7000 (1)7000 (6)7000 (2)7500 (5)7500 (4)7500 (0)8000 (3)7500 (7)7000 (1)7500 (6)7500 (2)8000 (4)8000 (5)8000 (7)7500 (3)8000 (0)8500 (1)8000 (2)8500 (6)8000 (4)8500 (5)8500 (3)8500 (7)8000 (0)9000 (1)8500 (2)9000 (6)8500 (5)9000 (4)9000 (3)9000 (7)8500 (0)9500 (6)9000 (2)9500 (1)9000 (5)9500 (4)9500 (3)9500 (7)9000 (0)10000 (6)9500 (2)10000 (1)9500 (5)10000 (4)10000 (3)10000 (0)10500 (6)10000 (7)9500 (2)10500 (5)10500 (4)10500 (1)10000 (0)11000 (6)10500 (2)11000 (3)10500 (5)11000 (4)11000 (7)10000 (1)10500 (0)11500 (6)11000 (2)11500 (5)11500 (3)11000 (4)11500 (7)10500 (1)11000 (0)12000 (6)11500 (5)12000 (4)12000 (2)12000 (7)11000 (3)11500 (6)12000 (0)12500 (1)11500 (5)12500 (4)12500 (2)12500 (7)11500 (3)12000 (6)12500 (1)12000 (3)12500 (7)12000 (1)12500 (7)12500 \n",
      "2020-04-10 15:10:44,131 > merging results ...\n",
      "2020-04-10 15:11:00,659 > using HCD models\n",
      "2020-04-10 15:11:00,999 > scanning peptide file...\n",
      "(0)500 (1)500 (4)500 (3)500 (2)500 (5)500 (7)500 (6)500 (1)1000 (0)1000 (4)1000 (5)1000 (3)1000 (7)1000 (2)1000 (6)1000 (1)1500 (0)1500 (4)1500 (5)1500 (3)1500 (7)1500 (2)1500 (6)1500 (1)2000 (0)2000 (4)2000 (7)2000 (5)2000 (3)2000 (6)2000 (1)2500 (2)2000 (0)2500 (5)2500 (7)2500 (4)2500 (3)2500 (1)3000 (6)2500 (2)2500 (0)3000 (5)3000 (7)3000 (4)3000 (3)3000 (6)3000 (2)3000 (1)3500 (5)3500 (0)3500 (4)3500 (7)3500 (3)3500 (6)3500 (2)3500 (1)4000 (0)4000 (5)4000 (7)4000 (4)4000 (3)4000 (1)4500 (6)4000 (2)4000 (0)4500 (7)4500 (4)4500 (3)4500 (5)4500 (1)5000 (0)5000 (2)4500 (7)5000 (6)4500 (4)5000 (3)5000 (1)5500 (5)5000 (7)5500 (2)5000 (6)5000 (0)5500 (4)5500 (3)5500 (1)6000 (5)5500 (7)6000 (6)5500 (2)5500 (0)6000 (3)6000 (4)6000 (1)6500 (5)6000 (7)6500 (6)6000 (0)6500 (3)6500 (4)6500 (2)6000 (5)6500 (1)7000 (7)7000 (0)7000 (6)6500 (3)7000 (4)7000 (1)7500 (2)6500 (7)7500 (5)7000 (0)7500 (6)7000 (4)7500 (1)8000 (3)7500 (5)7500 (7)8000 (2)7000 (0)8000 (6)7500 (1)8500 (4)8000 (3)8000 (5)8000 (2)7500 (0)8500 (6)8000 (7)8500 (1)9000 (4)8500 (3)8500 (5)8500 (0)9000 (2)8000 (7)9000 (6)8500 (4)9000 (1)9500 (5)9000 (3)9000 (0)9500 (2)8500 (7)9500 (6)9000 (1)10000 (5)9500 (4)9500 (2)9000 (0)10000 (3)9500 (7)10000 (1)10500 (4)10000 (5)10000 (6)9500 (2)9500 (0)10500 (7)10500 (3)10000 (1)11000 (5)10500 (2)10000 (4)10500 (6)10000 (0)11000 (7)11000 (1)11500 (3)10500 (5)11000 (2)10500 (6)10500 (4)11000 (7)11500 (0)11500 (1)12000 (5)11500 (3)11000 (2)11000 (6)11000 (4)11500 (7)12000 (3)11500 (5)12000 (1)12500 (0)12000 (2)11500 (4)12000 (6)11500 (7)12500 (3)12000 (5)12500 (2)12000 (0)12500 (4)12500 (6)12000 (3)12500 (2)12500 (6)12500 \n",
      "2020-04-10 15:11:13,252 > merging results ...\n",
      "2020-04-10 15:11:17,447 > using HCD models\n",
      "2020-04-10 15:11:17,779 > scanning peptide file...\n",
      "(1)500 (0)500 (4)500 (5)500 (2)500 (3)500 (7)500 (6)500 (1)1000 (4)1000 (0)1000 (5)1000 (2)1000 (7)1000 (3)1000 (6)1000 (1)1500 (4)1500 (2)1500 (5)1500 (7)1500 (0)1500 (6)1500 (3)1500 (1)2000 (7)2000 (5)2000 (2)2000 (0)2000 (4)2000 (1)2500 (6)2000 (3)2000 (5)2500 (7)2500 (0)2500 (2)2500 (4)2500 (1)3000 (6)2500 (5)3000 (3)2500 (7)3000 (2)3000 (4)3000 (0)3000 (1)3500 (6)3000 (5)3500 (7)3500 (3)3000 (4)3500 (2)3500 (0)3500 (1)4000 (6)3500 (7)4000 (5)4000 (4)4000 (3)3500 (2)4000 (0)4000 (1)4500 (7)4500 (6)4000 (5)4500 (3)4000 (4)4500 (2)4500 (0)4500 (1)5000 (7)5000 (5)5000 (6)4500 (3)4500 (4)5000 (2)5000 (0)5000 (7)5500 (1)5500 (6)5000 (5)5500 (3)5000 (4)5500 (2)5500 (7)6000 (1)6000 (0)5500 (5)6000 (3)5500 (6)5500 (4)6000 (2)6000 (7)6500 (1)6500 (0)6000 (3)6000 (5)6500 (6)6000 (4)6500 (2)6500 (7)7000 (1)7000 (0)6500 (3)6500 (5)7000 (6)6500 (4)7000 (2)7000 (1)7500 (0)7000 (7)7500 (5)7500 (6)7000 (4)7500 (3)7000 (2)7500 (1)8000 (0)7500 (7)8000 (5)8000 (3)7500 (4)8000 (0)8000 (2)8000 (6)7500 (7)8500 (1)8500 (5)8500 (3)8000 (4)8500 (6)8000 (0)8500 (2)8500 (7)9000 (5)9000 (3)8500 (1)9000 (4)9000 (6)8500 (2)9000 (0)9000 (7)9500 (3)9000 (5)9500 (1)9500 (4)9500 (2)9500 (6)9000 (7)10000 (0)9500 (3)9500 (1)10000 (5)10000 (4)10000 (2)10000 (6)9500 (7)10500 (0)10000 (3)10000 (1)10500 (5)10500 (4)10500 (2)10500 (6)10000 (0)10500 (7)11000 (1)11000 (3)10500 (5)11000 (2)11000 (4)11000 (0)11000 (6)10500 (7)11500 (1)11500 (3)11000 (5)11500 (2)11500 (4)11500 (0)11500 (6)11000 (7)12000 (3)11500 (5)12000 (2)12000 (1)12000 (4)12000 (6)11500 (0)12000 (7)12500 (3)12000 (1)12500 (5)12500 (2)12500 (6)12000 (0)12500 (4)12500 (3)12500 (6)12500 \n",
      "2020-04-10 15:11:30,716 > merging results ...\n",
      "2020-04-10 15:11:44,158 > using HCD models\n",
      "2020-04-10 15:11:44,443 > scanning peptide file...\n",
      "(0)500 (1)500 (4)500 (3)500 (6)500 (2)500 (7)500 (5)500 (0)1000 (6)1000 (3)1000 (7)1000 (2)1000 (4)1000 (1)1000 (5)1000 (6)1500 (7)1500 (3)1500 (0)1500 (4)1500 (2)1500 (5)1500 (1)1500 (6)2000 (3)2000 (7)2000 (0)2000 (4)2000 (2)2000 (5)2000 (6)2500 (0)2500 (3)2500 (1)2000 (7)2500 (4)2500 (2)2500 (6)3000 (5)2500 (3)3000 (0)3000 (1)2500 (2)3000 (7)3000 (4)3000 (5)3000 (6)3500 (3)3500 (0)3500 (1)3000 (2)3500 (7)3500 (4)3500 (5)3500 (6)4000 (3)4000 (0)4000 (1)3500 (7)4000 (2)4000 (6)4500 (3)4500 (4)4000 (5)4000 (0)4500 (1)4000 (7)4500 (6)5000 (3)5000 (4)4500 (5)4500 (0)5000 (2)4500 (7)5000 (1)4500 (6)5500 (4)5000 (3)5500 (5)5000 (2)5000 (0)5500 (1)5000 (7)5500 (6)6000 (4)5500 (3)6000 (5)5500 (2)5500 (0)6000 (7)6000 (6)6500 (1)5500 (5)6000 (2)6000 (4)6000 (3)6500 (0)6500 (7)6500 (6)7000 (1)6000 (5)6500 (4)6500 (3)7000 (0)7000 (2)6500 (1)6500 (6)7500 (7)7000 (5)7000 (3)7500 (4)7000 (0)7500 (6)8000 (1)7000 (2)7000 (5)7500 (7)7500 (3)8000 (6)8500 (4)7500 (0)8000 (1)7500 (2)7500 (5)8000 (3)8500 (7)8000 (4)8000 (6)9000 (0)8500 (2)8000 (1)8000 (3)9000 (5)8500 (4)8500 (6)9500 (7)8500 (2)8500 (0)9000 (1)8500 (3)9500 (5)9000 (4)9000 (7)9000 (6)10000 (1)9000 (2)9000 (3)10000 (0)9500 (7)9500 (5)9500 (6)10500 (4)9500 (1)9500 (3)10500 (2)9500 (0)10000 (7)10000 (5)10000 (6)11000 (1)10000 (3)11000 (2)10000 (4)10000 (7)10500 (0)10500 (5)10500 (3)11500 (1)10500 (6)11500 (7)11000 (4)10500 (2)10500 (5)11000 (0)11000 (3)12000 (6)12000 (1)11000 (7)11500 (4)11000 (5)11500 (2)11000 (0)11500 (7)12000 (4)11500 (3)12500 (1)11500 (6)12500 (2)11500 (0)12000 (5)12000 (7)12500 (4)12000 (1)12000 (0)12500 (2)12000 (5)12500 (4)12500 (1)12500 (2)12500 \n",
      "2020-04-10 15:11:55,047 > merging results ...\n",
      "2020-04-10 15:12:11,932 > using HCD models\n",
      "2020-04-10 15:12:12,084 > scanning peptide file...\n",
      "(0)500 (5)500 (1)500 (7)500 (6)500 (2)500 (3)500 (4)500 (5)1000 (0)1000 (7)1000 (1)1000 (6)1000 (2)1000 (4)1000 (3)1000 (5)1500 (7)1500 (0)1500 (6)1500 (2)1500 (1)1500 (3)1500 (4)1500 (5)2000 (7)2000 (6)2000 (1)2000 (3)2000 (2)2000 (0)2000 (4)2000 \n",
      "2020-04-10 15:12:14,289 > merging results ...\n",
      "2020-04-10 15:12:15,035 > using HCD models\n",
      "2020-04-10 15:12:15,226 > scanning peptide file...\n",
      "(1)500 (0)500 (6)500 (4)500 (2)500 (3)500 (7)500 (5)500 (1)1000 (0)1000 (4)1000 (6)1000 (3)1000 (2)1000 (5)1000 (7)1000 (1)1500 (4)1500 (6)1500 (0)1500 (3)1500 (2)1500 (5)1500 (7)1500 (1)2000 (4)2000 (6)2000 (0)2000 (2)2000 (5)2000 (3)2000 (7)2000 \n",
      "2020-04-10 15:12:17,513 > merging results ...\n",
      "2020-04-10 15:12:19,536 > using HCD models\n",
      "2020-04-10 15:12:19,695 > scanning peptide file...\n",
      "(0)500 (1)500 (5)500 (4)500 (6)500 (2)500 (3)500 (7)500 (0)1000 (1)1000 (5)1000 (2)1000 (4)1000 (3)1000 (7)1000 (6)1000 (1)1500 (5)1500 (2)1500 (3)1500 (0)1500 (4)1500 (6)1500 (7)1500 (1)2000 (5)2000 (2)2000 (0)2000 (7)2000 (4)2000 (3)2000 (6)2000 \n",
      "2020-04-10 15:12:22,128 > merging results ...\n"
     ]
    },
    {
     "name": "stdout",
     "output_type": "stream",
     "text": [
      "2020-04-10 15:12:38,754 > Writing parameters to /home/sander/Documents/Proteomics/data/databases/hdf/crap_ecoli_concatenated_decoy.hdf\n",
      "2020-04-10 15:12:38,836 > \n",
      "2020-04-10 15:12:38,837 > Successfully finished execution.\n",
      "2020-04-10 15:12:38,838 > Time taken: 372.0342152118683.\n"
     ]
    }
   ],
   "source": [
    "reload()\n",
    "\n",
    "interface.Interface.create_database(\n",
    "    input_path=[\n",
    "        \"/home/sander/Documents/Proteomics/data/databases/fasta/ecoli.fasta\",\n",
    "        \"/home/sander/Documents/Proteomics/data/databases/fasta/crap.fasta\",\n",
    "    ],\n",
    "    output_directory=\"/home/sander/Documents/Proteomics/data/databases/hdf\",\n",
    "    parameter_file_name=\"\",\n",
    "    log_file_name=None\n",
    ")"
   ]
  },
  {
   "cell_type": "code",
   "execution_count": 13,
   "metadata": {},
   "outputs": [],
   "source": [
    "reload()\n",
    "\n",
    "db = database.Database(\"/home/sander/Documents/Proteomics/data/databases/hdf/crap_ecoli_concatenated_decoy.hdf\")"
   ]
  },
  {
   "cell_type": "code",
   "execution_count": 15,
   "metadata": {},
   "outputs": [
    {
     "data": {
      "text/plain": [
       "array([2434.14073868, 3150.56283868,  937.45048468, ..., 2131.01497468,\n",
       "       2940.49090468, 2960.42322468])"
      ]
     },
     "execution_count": 15,
     "metadata": {},
     "output_type": "execute_result"
    }
   ],
   "source": [
    "db.get_peptide_coordinates(\"mass\")"
   ]
  },
  {
   "cell_type": "code",
   "execution_count": null,
   "metadata": {},
   "outputs": [],
   "source": []
  }
 ],
 "metadata": {
  "kernelspec": {
   "display_name": "Python [conda env:ion_networks]",
   "language": "python",
   "name": "conda-env-ion_networks-py"
  },
  "language_info": {
   "codemirror_mode": {
    "name": "ipython",
    "version": 3
   },
   "file_extension": ".py",
   "mimetype": "text/x-python",
   "name": "python",
   "nbconvert_exporter": "python",
   "pygments_lexer": "ipython3",
   "version": "3.8.1"
  }
 },
 "nbformat": 4,
 "nbformat_minor": 4
}
