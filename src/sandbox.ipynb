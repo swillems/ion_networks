{
 "cells": [
  {
   "cell_type": "code",
   "execution_count": 1,
   "metadata": {},
   "outputs": [],
   "source": [
    "import os\n",
    "import importlib\n",
    "from timeit import timeit\n",
    "import logging\n",
    "import sys\n",
    "import importlib\n",
    "import time\n",
    "\n",
    "import numpy as np\n",
    "import pandas as pd\n",
    "import scipy\n",
    "import h5py\n",
    "import matplotlib\n",
    "from matplotlib import pyplot as plt\n",
    "import seaborn as sns\n",
    "import numba\n",
    "\n",
    "import network\n",
    "import evidence\n",
    "import utils\n",
    "import browser\n",
    "import interface\n",
    "import database\n",
    "import annotation\n",
    "\n",
    "import sandbox\n",
    "\n",
    "formatter = logging.Formatter(\n",
    "    '%(asctime)s > %(message)s'\n",
    ")\n",
    "logger = logging.getLogger('network_log')\n",
    "logger.setLevel(logging.DEBUG)\n",
    "console_handler = logging.StreamHandler(stream=sys.stdout)\n",
    "console_handler.setLevel(logging.DEBUG)\n",
    "console_handler.setFormatter(formatter)\n",
    "logger.addHandler(console_handler)\n",
    "\n",
    "parameters = utils.read_parameters_from_json_file(default=\"evidence\")\n",
    "\n",
    "def reload():\n",
    "    importlib.reload(network)\n",
    "    importlib.reload(evidence)\n",
    "    importlib.reload(utils)\n",
    "    importlib.reload(browser)\n",
    "    importlib.reload(interface)\n",
    "    importlib.reload(sandbox)\n",
    "    importlib.reload(database)\n",
    "    importlib.reload(annotation)"
   ]
  },
  {
   "cell_type": "code",
   "execution_count": 2,
   "metadata": {},
   "outputs": [],
   "source": [
    "reload()\n",
    "\n",
    "inets = []\n",
    "# in_folder = \"/home/sander/Documents/Proteomics/data/ion_networks\"\n",
    "in_folder = \"/home/sander/Documents/Proteomics/data/ecoli\"\n",
    "# in_folder = \"/home/sander/Documents/Proteomics/data/jpt/APEX\"\n",
    "for file_name in utils.get_file_names_with_extension([in_folder], \".inet.hdf\"):\n",
    "    inets.append(\n",
    "        network.Network(\n",
    "            file_name\n",
    "        )\n",
    "    )\n",
    "    \n",
    "evis = []\n",
    "# in_folder = \"/home/sander/Documents/Proteomics/data/ion_networks\"\n",
    "for i, file_name in enumerate(utils.get_file_names_with_extension([in_folder], \".evidence.hdf\")):\n",
    "    evis.append(\n",
    "        evidence.Evidence(\n",
    "            file_name,\n",
    "            inets[i]\n",
    "        )\n",
    "    )"
   ]
  },
  {
   "cell_type": "code",
   "execution_count": null,
   "metadata": {},
   "outputs": [],
   "source": []
  },
  {
   "cell_type": "code",
   "execution_count": 7,
   "metadata": {},
   "outputs": [],
   "source": [
    "self_inet = inets[0]\n",
    "self_evi = evis[0]\n",
    "other_inet = inets[1]\n",
    "other_evi = evis[1]\n",
    "\n",
    "self_alignment = self_evi.get_aligned_nodes_from_group(\n",
    "    other_evi.file_name_base,\n",
    "    return_as_mask=False\n",
    ")\n",
    "other_alignment = other_evi.get_aligned_nodes_from_group(\n",
    "    self_evi.file_name_base,\n",
    "    return_as_mask=False\n",
    ")\n",
    "# other_logints = inets[other_name].get_ion_coordinates(\n",
    "#     \"FRAGMENT_LOGINT\",\n",
    "#     indices=other_alignment\n",
    "# )\n",
    "# logints[i, self_alignment] = other_logints"
   ]
  },
  {
   "cell_type": "code",
   "execution_count": 11,
   "metadata": {},
   "outputs": [
    {
     "data": {
      "application/javascript": [
       "/* Put everything inside the global mpl namespace */\n",
       "window.mpl = {};\n",
       "\n",
       "\n",
       "mpl.get_websocket_type = function() {\n",
       "    if (typeof(WebSocket) !== 'undefined') {\n",
       "        return WebSocket;\n",
       "    } else if (typeof(MozWebSocket) !== 'undefined') {\n",
       "        return MozWebSocket;\n",
       "    } else {\n",
       "        alert('Your browser does not have WebSocket support. ' +\n",
       "              'Please try Chrome, Safari or Firefox ≥ 6. ' +\n",
       "              'Firefox 4 and 5 are also supported but you ' +\n",
       "              'have to enable WebSockets in about:config.');\n",
       "    };\n",
       "}\n",
       "\n",
       "mpl.figure = function(figure_id, websocket, ondownload, parent_element) {\n",
       "    this.id = figure_id;\n",
       "\n",
       "    this.ws = websocket;\n",
       "\n",
       "    this.supports_binary = (this.ws.binaryType != undefined);\n",
       "\n",
       "    if (!this.supports_binary) {\n",
       "        var warnings = document.getElementById(\"mpl-warnings\");\n",
       "        if (warnings) {\n",
       "            warnings.style.display = 'block';\n",
       "            warnings.textContent = (\n",
       "                \"This browser does not support binary websocket messages. \" +\n",
       "                    \"Performance may be slow.\");\n",
       "        }\n",
       "    }\n",
       "\n",
       "    this.imageObj = new Image();\n",
       "\n",
       "    this.context = undefined;\n",
       "    this.message = undefined;\n",
       "    this.canvas = undefined;\n",
       "    this.rubberband_canvas = undefined;\n",
       "    this.rubberband_context = undefined;\n",
       "    this.format_dropdown = undefined;\n",
       "\n",
       "    this.image_mode = 'full';\n",
       "\n",
       "    this.root = $('<div/>');\n",
       "    this._root_extra_style(this.root)\n",
       "    this.root.attr('style', 'display: inline-block');\n",
       "\n",
       "    $(parent_element).append(this.root);\n",
       "\n",
       "    this._init_header(this);\n",
       "    this._init_canvas(this);\n",
       "    this._init_toolbar(this);\n",
       "\n",
       "    var fig = this;\n",
       "\n",
       "    this.waiting = false;\n",
       "\n",
       "    this.ws.onopen =  function () {\n",
       "            fig.send_message(\"supports_binary\", {value: fig.supports_binary});\n",
       "            fig.send_message(\"send_image_mode\", {});\n",
       "            if (mpl.ratio != 1) {\n",
       "                fig.send_message(\"set_dpi_ratio\", {'dpi_ratio': mpl.ratio});\n",
       "            }\n",
       "            fig.send_message(\"refresh\", {});\n",
       "        }\n",
       "\n",
       "    this.imageObj.onload = function() {\n",
       "            if (fig.image_mode == 'full') {\n",
       "                // Full images could contain transparency (where diff images\n",
       "                // almost always do), so we need to clear the canvas so that\n",
       "                // there is no ghosting.\n",
       "                fig.context.clearRect(0, 0, fig.canvas.width, fig.canvas.height);\n",
       "            }\n",
       "            fig.context.drawImage(fig.imageObj, 0, 0);\n",
       "        };\n",
       "\n",
       "    this.imageObj.onunload = function() {\n",
       "        fig.ws.close();\n",
       "    }\n",
       "\n",
       "    this.ws.onmessage = this._make_on_message_function(this);\n",
       "\n",
       "    this.ondownload = ondownload;\n",
       "}\n",
       "\n",
       "mpl.figure.prototype._init_header = function() {\n",
       "    var titlebar = $(\n",
       "        '<div class=\"ui-dialog-titlebar ui-widget-header ui-corner-all ' +\n",
       "        'ui-helper-clearfix\"/>');\n",
       "    var titletext = $(\n",
       "        '<div class=\"ui-dialog-title\" style=\"width: 100%; ' +\n",
       "        'text-align: center; padding: 3px;\"/>');\n",
       "    titlebar.append(titletext)\n",
       "    this.root.append(titlebar);\n",
       "    this.header = titletext[0];\n",
       "}\n",
       "\n",
       "\n",
       "\n",
       "mpl.figure.prototype._canvas_extra_style = function(canvas_div) {\n",
       "\n",
       "}\n",
       "\n",
       "\n",
       "mpl.figure.prototype._root_extra_style = function(canvas_div) {\n",
       "\n",
       "}\n",
       "\n",
       "mpl.figure.prototype._init_canvas = function() {\n",
       "    var fig = this;\n",
       "\n",
       "    var canvas_div = $('<div/>');\n",
       "\n",
       "    canvas_div.attr('style', 'position: relative; clear: both; outline: 0');\n",
       "\n",
       "    function canvas_keyboard_event(event) {\n",
       "        return fig.key_event(event, event['data']);\n",
       "    }\n",
       "\n",
       "    canvas_div.keydown('key_press', canvas_keyboard_event);\n",
       "    canvas_div.keyup('key_release', canvas_keyboard_event);\n",
       "    this.canvas_div = canvas_div\n",
       "    this._canvas_extra_style(canvas_div)\n",
       "    this.root.append(canvas_div);\n",
       "\n",
       "    var canvas = $('<canvas/>');\n",
       "    canvas.addClass('mpl-canvas');\n",
       "    canvas.attr('style', \"left: 0; top: 0; z-index: 0; outline: 0\")\n",
       "\n",
       "    this.canvas = canvas[0];\n",
       "    this.context = canvas[0].getContext(\"2d\");\n",
       "\n",
       "    var backingStore = this.context.backingStorePixelRatio ||\n",
       "\tthis.context.webkitBackingStorePixelRatio ||\n",
       "\tthis.context.mozBackingStorePixelRatio ||\n",
       "\tthis.context.msBackingStorePixelRatio ||\n",
       "\tthis.context.oBackingStorePixelRatio ||\n",
       "\tthis.context.backingStorePixelRatio || 1;\n",
       "\n",
       "    mpl.ratio = (window.devicePixelRatio || 1) / backingStore;\n",
       "\n",
       "    var rubberband = $('<canvas/>');\n",
       "    rubberband.attr('style', \"position: absolute; left: 0; top: 0; z-index: 1;\")\n",
       "\n",
       "    var pass_mouse_events = true;\n",
       "\n",
       "    canvas_div.resizable({\n",
       "        start: function(event, ui) {\n",
       "            pass_mouse_events = false;\n",
       "        },\n",
       "        resize: function(event, ui) {\n",
       "            fig.request_resize(ui.size.width, ui.size.height);\n",
       "        },\n",
       "        stop: function(event, ui) {\n",
       "            pass_mouse_events = true;\n",
       "            fig.request_resize(ui.size.width, ui.size.height);\n",
       "        },\n",
       "    });\n",
       "\n",
       "    function mouse_event_fn(event) {\n",
       "        if (pass_mouse_events)\n",
       "            return fig.mouse_event(event, event['data']);\n",
       "    }\n",
       "\n",
       "    rubberband.mousedown('button_press', mouse_event_fn);\n",
       "    rubberband.mouseup('button_release', mouse_event_fn);\n",
       "    // Throttle sequential mouse events to 1 every 20ms.\n",
       "    rubberband.mousemove('motion_notify', mouse_event_fn);\n",
       "\n",
       "    rubberband.mouseenter('figure_enter', mouse_event_fn);\n",
       "    rubberband.mouseleave('figure_leave', mouse_event_fn);\n",
       "\n",
       "    canvas_div.on(\"wheel\", function (event) {\n",
       "        event = event.originalEvent;\n",
       "        event['data'] = 'scroll'\n",
       "        if (event.deltaY < 0) {\n",
       "            event.step = 1;\n",
       "        } else {\n",
       "            event.step = -1;\n",
       "        }\n",
       "        mouse_event_fn(event);\n",
       "    });\n",
       "\n",
       "    canvas_div.append(canvas);\n",
       "    canvas_div.append(rubberband);\n",
       "\n",
       "    this.rubberband = rubberband;\n",
       "    this.rubberband_canvas = rubberband[0];\n",
       "    this.rubberband_context = rubberband[0].getContext(\"2d\");\n",
       "    this.rubberband_context.strokeStyle = \"#000000\";\n",
       "\n",
       "    this._resize_canvas = function(width, height) {\n",
       "        // Keep the size of the canvas, canvas container, and rubber band\n",
       "        // canvas in synch.\n",
       "        canvas_div.css('width', width)\n",
       "        canvas_div.css('height', height)\n",
       "\n",
       "        canvas.attr('width', width * mpl.ratio);\n",
       "        canvas.attr('height', height * mpl.ratio);\n",
       "        canvas.attr('style', 'width: ' + width + 'px; height: ' + height + 'px;');\n",
       "\n",
       "        rubberband.attr('width', width);\n",
       "        rubberband.attr('height', height);\n",
       "    }\n",
       "\n",
       "    // Set the figure to an initial 600x600px, this will subsequently be updated\n",
       "    // upon first draw.\n",
       "    this._resize_canvas(600, 600);\n",
       "\n",
       "    // Disable right mouse context menu.\n",
       "    $(this.rubberband_canvas).bind(\"contextmenu\",function(e){\n",
       "        return false;\n",
       "    });\n",
       "\n",
       "    function set_focus () {\n",
       "        canvas.focus();\n",
       "        canvas_div.focus();\n",
       "    }\n",
       "\n",
       "    window.setTimeout(set_focus, 100);\n",
       "}\n",
       "\n",
       "mpl.figure.prototype._init_toolbar = function() {\n",
       "    var fig = this;\n",
       "\n",
       "    var nav_element = $('<div/>');\n",
       "    nav_element.attr('style', 'width: 100%');\n",
       "    this.root.append(nav_element);\n",
       "\n",
       "    // Define a callback function for later on.\n",
       "    function toolbar_event(event) {\n",
       "        return fig.toolbar_button_onclick(event['data']);\n",
       "    }\n",
       "    function toolbar_mouse_event(event) {\n",
       "        return fig.toolbar_button_onmouseover(event['data']);\n",
       "    }\n",
       "\n",
       "    for(var toolbar_ind in mpl.toolbar_items) {\n",
       "        var name = mpl.toolbar_items[toolbar_ind][0];\n",
       "        var tooltip = mpl.toolbar_items[toolbar_ind][1];\n",
       "        var image = mpl.toolbar_items[toolbar_ind][2];\n",
       "        var method_name = mpl.toolbar_items[toolbar_ind][3];\n",
       "\n",
       "        if (!name) {\n",
       "            // put a spacer in here.\n",
       "            continue;\n",
       "        }\n",
       "        var button = $('<button/>');\n",
       "        button.addClass('ui-button ui-widget ui-state-default ui-corner-all ' +\n",
       "                        'ui-button-icon-only');\n",
       "        button.attr('role', 'button');\n",
       "        button.attr('aria-disabled', 'false');\n",
       "        button.click(method_name, toolbar_event);\n",
       "        button.mouseover(tooltip, toolbar_mouse_event);\n",
       "\n",
       "        var icon_img = $('<span/>');\n",
       "        icon_img.addClass('ui-button-icon-primary ui-icon');\n",
       "        icon_img.addClass(image);\n",
       "        icon_img.addClass('ui-corner-all');\n",
       "\n",
       "        var tooltip_span = $('<span/>');\n",
       "        tooltip_span.addClass('ui-button-text');\n",
       "        tooltip_span.html(tooltip);\n",
       "\n",
       "        button.append(icon_img);\n",
       "        button.append(tooltip_span);\n",
       "\n",
       "        nav_element.append(button);\n",
       "    }\n",
       "\n",
       "    var fmt_picker_span = $('<span/>');\n",
       "\n",
       "    var fmt_picker = $('<select/>');\n",
       "    fmt_picker.addClass('mpl-toolbar-option ui-widget ui-widget-content');\n",
       "    fmt_picker_span.append(fmt_picker);\n",
       "    nav_element.append(fmt_picker_span);\n",
       "    this.format_dropdown = fmt_picker[0];\n",
       "\n",
       "    for (var ind in mpl.extensions) {\n",
       "        var fmt = mpl.extensions[ind];\n",
       "        var option = $(\n",
       "            '<option/>', {selected: fmt === mpl.default_extension}).html(fmt);\n",
       "        fmt_picker.append(option);\n",
       "    }\n",
       "\n",
       "    // Add hover states to the ui-buttons\n",
       "    $( \".ui-button\" ).hover(\n",
       "        function() { $(this).addClass(\"ui-state-hover\");},\n",
       "        function() { $(this).removeClass(\"ui-state-hover\");}\n",
       "    );\n",
       "\n",
       "    var status_bar = $('<span class=\"mpl-message\"/>');\n",
       "    nav_element.append(status_bar);\n",
       "    this.message = status_bar[0];\n",
       "}\n",
       "\n",
       "mpl.figure.prototype.request_resize = function(x_pixels, y_pixels) {\n",
       "    // Request matplotlib to resize the figure. Matplotlib will then trigger a resize in the client,\n",
       "    // which will in turn request a refresh of the image.\n",
       "    this.send_message('resize', {'width': x_pixels, 'height': y_pixels});\n",
       "}\n",
       "\n",
       "mpl.figure.prototype.send_message = function(type, properties) {\n",
       "    properties['type'] = type;\n",
       "    properties['figure_id'] = this.id;\n",
       "    this.ws.send(JSON.stringify(properties));\n",
       "}\n",
       "\n",
       "mpl.figure.prototype.send_draw_message = function() {\n",
       "    if (!this.waiting) {\n",
       "        this.waiting = true;\n",
       "        this.ws.send(JSON.stringify({type: \"draw\", figure_id: this.id}));\n",
       "    }\n",
       "}\n",
       "\n",
       "\n",
       "mpl.figure.prototype.handle_save = function(fig, msg) {\n",
       "    var format_dropdown = fig.format_dropdown;\n",
       "    var format = format_dropdown.options[format_dropdown.selectedIndex].value;\n",
       "    fig.ondownload(fig, format);\n",
       "}\n",
       "\n",
       "\n",
       "mpl.figure.prototype.handle_resize = function(fig, msg) {\n",
       "    var size = msg['size'];\n",
       "    if (size[0] != fig.canvas.width || size[1] != fig.canvas.height) {\n",
       "        fig._resize_canvas(size[0], size[1]);\n",
       "        fig.send_message(\"refresh\", {});\n",
       "    };\n",
       "}\n",
       "\n",
       "mpl.figure.prototype.handle_rubberband = function(fig, msg) {\n",
       "    var x0 = msg['x0'] / mpl.ratio;\n",
       "    var y0 = (fig.canvas.height - msg['y0']) / mpl.ratio;\n",
       "    var x1 = msg['x1'] / mpl.ratio;\n",
       "    var y1 = (fig.canvas.height - msg['y1']) / mpl.ratio;\n",
       "    x0 = Math.floor(x0) + 0.5;\n",
       "    y0 = Math.floor(y0) + 0.5;\n",
       "    x1 = Math.floor(x1) + 0.5;\n",
       "    y1 = Math.floor(y1) + 0.5;\n",
       "    var min_x = Math.min(x0, x1);\n",
       "    var min_y = Math.min(y0, y1);\n",
       "    var width = Math.abs(x1 - x0);\n",
       "    var height = Math.abs(y1 - y0);\n",
       "\n",
       "    fig.rubberband_context.clearRect(\n",
       "        0, 0, fig.canvas.width / mpl.ratio, fig.canvas.height / mpl.ratio);\n",
       "\n",
       "    fig.rubberband_context.strokeRect(min_x, min_y, width, height);\n",
       "}\n",
       "\n",
       "mpl.figure.prototype.handle_figure_label = function(fig, msg) {\n",
       "    // Updates the figure title.\n",
       "    fig.header.textContent = msg['label'];\n",
       "}\n",
       "\n",
       "mpl.figure.prototype.handle_cursor = function(fig, msg) {\n",
       "    var cursor = msg['cursor'];\n",
       "    switch(cursor)\n",
       "    {\n",
       "    case 0:\n",
       "        cursor = 'pointer';\n",
       "        break;\n",
       "    case 1:\n",
       "        cursor = 'default';\n",
       "        break;\n",
       "    case 2:\n",
       "        cursor = 'crosshair';\n",
       "        break;\n",
       "    case 3:\n",
       "        cursor = 'move';\n",
       "        break;\n",
       "    }\n",
       "    fig.rubberband_canvas.style.cursor = cursor;\n",
       "}\n",
       "\n",
       "mpl.figure.prototype.handle_message = function(fig, msg) {\n",
       "    fig.message.textContent = msg['message'];\n",
       "}\n",
       "\n",
       "mpl.figure.prototype.handle_draw = function(fig, msg) {\n",
       "    // Request the server to send over a new figure.\n",
       "    fig.send_draw_message();\n",
       "}\n",
       "\n",
       "mpl.figure.prototype.handle_image_mode = function(fig, msg) {\n",
       "    fig.image_mode = msg['mode'];\n",
       "}\n",
       "\n",
       "mpl.figure.prototype.updated_canvas_event = function() {\n",
       "    // Called whenever the canvas gets updated.\n",
       "    this.send_message(\"ack\", {});\n",
       "}\n",
       "\n",
       "// A function to construct a web socket function for onmessage handling.\n",
       "// Called in the figure constructor.\n",
       "mpl.figure.prototype._make_on_message_function = function(fig) {\n",
       "    return function socket_on_message(evt) {\n",
       "        if (evt.data instanceof Blob) {\n",
       "            /* FIXME: We get \"Resource interpreted as Image but\n",
       "             * transferred with MIME type text/plain:\" errors on\n",
       "             * Chrome.  But how to set the MIME type?  It doesn't seem\n",
       "             * to be part of the websocket stream */\n",
       "            evt.data.type = \"image/png\";\n",
       "\n",
       "            /* Free the memory for the previous frames */\n",
       "            if (fig.imageObj.src) {\n",
       "                (window.URL || window.webkitURL).revokeObjectURL(\n",
       "                    fig.imageObj.src);\n",
       "            }\n",
       "\n",
       "            fig.imageObj.src = (window.URL || window.webkitURL).createObjectURL(\n",
       "                evt.data);\n",
       "            fig.updated_canvas_event();\n",
       "            fig.waiting = false;\n",
       "            return;\n",
       "        }\n",
       "        else if (typeof evt.data === 'string' && evt.data.slice(0, 21) == \"data:image/png;base64\") {\n",
       "            fig.imageObj.src = evt.data;\n",
       "            fig.updated_canvas_event();\n",
       "            fig.waiting = false;\n",
       "            return;\n",
       "        }\n",
       "\n",
       "        var msg = JSON.parse(evt.data);\n",
       "        var msg_type = msg['type'];\n",
       "\n",
       "        // Call the  \"handle_{type}\" callback, which takes\n",
       "        // the figure and JSON message as its only arguments.\n",
       "        try {\n",
       "            var callback = fig[\"handle_\" + msg_type];\n",
       "        } catch (e) {\n",
       "            console.log(\"No handler for the '\" + msg_type + \"' message type: \", msg);\n",
       "            return;\n",
       "        }\n",
       "\n",
       "        if (callback) {\n",
       "            try {\n",
       "                // console.log(\"Handling '\" + msg_type + \"' message: \", msg);\n",
       "                callback(fig, msg);\n",
       "            } catch (e) {\n",
       "                console.log(\"Exception inside the 'handler_\" + msg_type + \"' callback:\", e, e.stack, msg);\n",
       "            }\n",
       "        }\n",
       "    };\n",
       "}\n",
       "\n",
       "// from http://stackoverflow.com/questions/1114465/getting-mouse-location-in-canvas\n",
       "mpl.findpos = function(e) {\n",
       "    //this section is from http://www.quirksmode.org/js/events_properties.html\n",
       "    var targ;\n",
       "    if (!e)\n",
       "        e = window.event;\n",
       "    if (e.target)\n",
       "        targ = e.target;\n",
       "    else if (e.srcElement)\n",
       "        targ = e.srcElement;\n",
       "    if (targ.nodeType == 3) // defeat Safari bug\n",
       "        targ = targ.parentNode;\n",
       "\n",
       "    // jQuery normalizes the pageX and pageY\n",
       "    // pageX,Y are the mouse positions relative to the document\n",
       "    // offset() returns the position of the element relative to the document\n",
       "    var x = e.pageX - $(targ).offset().left;\n",
       "    var y = e.pageY - $(targ).offset().top;\n",
       "\n",
       "    return {\"x\": x, \"y\": y};\n",
       "};\n",
       "\n",
       "/*\n",
       " * return a copy of an object with only non-object keys\n",
       " * we need this to avoid circular references\n",
       " * http://stackoverflow.com/a/24161582/3208463\n",
       " */\n",
       "function simpleKeys (original) {\n",
       "  return Object.keys(original).reduce(function (obj, key) {\n",
       "    if (typeof original[key] !== 'object')\n",
       "        obj[key] = original[key]\n",
       "    return obj;\n",
       "  }, {});\n",
       "}\n",
       "\n",
       "mpl.figure.prototype.mouse_event = function(event, name) {\n",
       "    var canvas_pos = mpl.findpos(event)\n",
       "\n",
       "    if (name === 'button_press')\n",
       "    {\n",
       "        this.canvas.focus();\n",
       "        this.canvas_div.focus();\n",
       "    }\n",
       "\n",
       "    var x = canvas_pos.x * mpl.ratio;\n",
       "    var y = canvas_pos.y * mpl.ratio;\n",
       "\n",
       "    this.send_message(name, {x: x, y: y, button: event.button,\n",
       "                             step: event.step,\n",
       "                             guiEvent: simpleKeys(event)});\n",
       "\n",
       "    /* This prevents the web browser from automatically changing to\n",
       "     * the text insertion cursor when the button is pressed.  We want\n",
       "     * to control all of the cursor setting manually through the\n",
       "     * 'cursor' event from matplotlib */\n",
       "    event.preventDefault();\n",
       "    return false;\n",
       "}\n",
       "\n",
       "mpl.figure.prototype._key_event_extra = function(event, name) {\n",
       "    // Handle any extra behaviour associated with a key event\n",
       "}\n",
       "\n",
       "mpl.figure.prototype.key_event = function(event, name) {\n",
       "\n",
       "    // Prevent repeat events\n",
       "    if (name == 'key_press')\n",
       "    {\n",
       "        if (event.which === this._key)\n",
       "            return;\n",
       "        else\n",
       "            this._key = event.which;\n",
       "    }\n",
       "    if (name == 'key_release')\n",
       "        this._key = null;\n",
       "\n",
       "    var value = '';\n",
       "    if (event.ctrlKey && event.which != 17)\n",
       "        value += \"ctrl+\";\n",
       "    if (event.altKey && event.which != 18)\n",
       "        value += \"alt+\";\n",
       "    if (event.shiftKey && event.which != 16)\n",
       "        value += \"shift+\";\n",
       "\n",
       "    value += 'k';\n",
       "    value += event.which.toString();\n",
       "\n",
       "    this._key_event_extra(event, name);\n",
       "\n",
       "    this.send_message(name, {key: value,\n",
       "                             guiEvent: simpleKeys(event)});\n",
       "    return false;\n",
       "}\n",
       "\n",
       "mpl.figure.prototype.toolbar_button_onclick = function(name) {\n",
       "    if (name == 'download') {\n",
       "        this.handle_save(this, null);\n",
       "    } else {\n",
       "        this.send_message(\"toolbar_button\", {name: name});\n",
       "    }\n",
       "};\n",
       "\n",
       "mpl.figure.prototype.toolbar_button_onmouseover = function(tooltip) {\n",
       "    this.message.textContent = tooltip;\n",
       "};\n",
       "mpl.toolbar_items = [[\"Home\", \"Reset original view\", \"fa fa-home icon-home\", \"home\"], [\"Back\", \"Back to previous view\", \"fa fa-arrow-left icon-arrow-left\", \"back\"], [\"Forward\", \"Forward to next view\", \"fa fa-arrow-right icon-arrow-right\", \"forward\"], [\"\", \"\", \"\", \"\"], [\"Pan\", \"Pan axes with left mouse, zoom with right\", \"fa fa-arrows icon-move\", \"pan\"], [\"Zoom\", \"Zoom to rectangle\", \"fa fa-square-o icon-check-empty\", \"zoom\"], [\"\", \"\", \"\", \"\"], [\"Download\", \"Download plot\", \"fa fa-floppy-o icon-save\", \"download\"]];\n",
       "\n",
       "mpl.extensions = [\"eps\", \"pdf\", \"png\", \"ps\", \"raw\", \"svg\"];\n",
       "\n",
       "mpl.default_extension = \"png\";var comm_websocket_adapter = function(comm) {\n",
       "    // Create a \"websocket\"-like object which calls the given IPython comm\n",
       "    // object with the appropriate methods. Currently this is a non binary\n",
       "    // socket, so there is still some room for performance tuning.\n",
       "    var ws = {};\n",
       "\n",
       "    ws.close = function() {\n",
       "        comm.close()\n",
       "    };\n",
       "    ws.send = function(m) {\n",
       "        //console.log('sending', m);\n",
       "        comm.send(m);\n",
       "    };\n",
       "    // Register the callback with on_msg.\n",
       "    comm.on_msg(function(msg) {\n",
       "        //console.log('receiving', msg['content']['data'], msg);\n",
       "        // Pass the mpl event to the overridden (by mpl) onmessage function.\n",
       "        ws.onmessage(msg['content']['data'])\n",
       "    });\n",
       "    return ws;\n",
       "}\n",
       "\n",
       "mpl.mpl_figure_comm = function(comm, msg) {\n",
       "    // This is the function which gets called when the mpl process\n",
       "    // starts-up an IPython Comm through the \"matplotlib\" channel.\n",
       "\n",
       "    var id = msg.content.data.id;\n",
       "    // Get hold of the div created by the display call when the Comm\n",
       "    // socket was opened in Python.\n",
       "    var element = $(\"#\" + id);\n",
       "    var ws_proxy = comm_websocket_adapter(comm)\n",
       "\n",
       "    function ondownload(figure, format) {\n",
       "        window.open(figure.imageObj.src);\n",
       "    }\n",
       "\n",
       "    var fig = new mpl.figure(id, ws_proxy,\n",
       "                           ondownload,\n",
       "                           element.get(0));\n",
       "\n",
       "    // Call onopen now - mpl needs it, as it is assuming we've passed it a real\n",
       "    // web socket which is closed, not our websocket->open comm proxy.\n",
       "    ws_proxy.onopen();\n",
       "\n",
       "    fig.parent_element = element.get(0);\n",
       "    fig.cell_info = mpl.find_output_cell(\"<div id='\" + id + \"'></div>\");\n",
       "    if (!fig.cell_info) {\n",
       "        console.error(\"Failed to find cell for figure\", id, fig);\n",
       "        return;\n",
       "    }\n",
       "\n",
       "    var output_index = fig.cell_info[2]\n",
       "    var cell = fig.cell_info[0];\n",
       "\n",
       "};\n",
       "\n",
       "mpl.figure.prototype.handle_close = function(fig, msg) {\n",
       "    var width = fig.canvas.width/mpl.ratio\n",
       "    fig.root.unbind('remove')\n",
       "\n",
       "    // Update the output cell to use the data from the current canvas.\n",
       "    fig.push_to_output();\n",
       "    var dataURL = fig.canvas.toDataURL();\n",
       "    // Re-enable the keyboard manager in IPython - without this line, in FF,\n",
       "    // the notebook keyboard shortcuts fail.\n",
       "    IPython.keyboard_manager.enable()\n",
       "    $(fig.parent_element).html('<img src=\"' + dataURL + '\" width=\"' + width + '\">');\n",
       "    fig.close_ws(fig, msg);\n",
       "}\n",
       "\n",
       "mpl.figure.prototype.close_ws = function(fig, msg){\n",
       "    fig.send_message('closing', msg);\n",
       "    // fig.ws.close()\n",
       "}\n",
       "\n",
       "mpl.figure.prototype.push_to_output = function(remove_interactive) {\n",
       "    // Turn the data on the canvas into data in the output cell.\n",
       "    var width = this.canvas.width/mpl.ratio\n",
       "    var dataURL = this.canvas.toDataURL();\n",
       "    this.cell_info[1]['text/html'] = '<img src=\"' + dataURL + '\" width=\"' + width + '\">';\n",
       "}\n",
       "\n",
       "mpl.figure.prototype.updated_canvas_event = function() {\n",
       "    // Tell IPython that the notebook contents must change.\n",
       "    IPython.notebook.set_dirty(true);\n",
       "    this.send_message(\"ack\", {});\n",
       "    var fig = this;\n",
       "    // Wait a second, then push the new image to the DOM so\n",
       "    // that it is saved nicely (might be nice to debounce this).\n",
       "    setTimeout(function () { fig.push_to_output() }, 1000);\n",
       "}\n",
       "\n",
       "mpl.figure.prototype._init_toolbar = function() {\n",
       "    var fig = this;\n",
       "\n",
       "    var nav_element = $('<div/>');\n",
       "    nav_element.attr('style', 'width: 100%');\n",
       "    this.root.append(nav_element);\n",
       "\n",
       "    // Define a callback function for later on.\n",
       "    function toolbar_event(event) {\n",
       "        return fig.toolbar_button_onclick(event['data']);\n",
       "    }\n",
       "    function toolbar_mouse_event(event) {\n",
       "        return fig.toolbar_button_onmouseover(event['data']);\n",
       "    }\n",
       "\n",
       "    for(var toolbar_ind in mpl.toolbar_items){\n",
       "        var name = mpl.toolbar_items[toolbar_ind][0];\n",
       "        var tooltip = mpl.toolbar_items[toolbar_ind][1];\n",
       "        var image = mpl.toolbar_items[toolbar_ind][2];\n",
       "        var method_name = mpl.toolbar_items[toolbar_ind][3];\n",
       "\n",
       "        if (!name) { continue; };\n",
       "\n",
       "        var button = $('<button class=\"btn btn-default\" href=\"#\" title=\"' + name + '\"><i class=\"fa ' + image + ' fa-lg\"></i></button>');\n",
       "        button.click(method_name, toolbar_event);\n",
       "        button.mouseover(tooltip, toolbar_mouse_event);\n",
       "        nav_element.append(button);\n",
       "    }\n",
       "\n",
       "    // Add the status bar.\n",
       "    var status_bar = $('<span class=\"mpl-message\" style=\"text-align:right; float: right;\"/>');\n",
       "    nav_element.append(status_bar);\n",
       "    this.message = status_bar[0];\n",
       "\n",
       "    // Add the close button to the window.\n",
       "    var buttongrp = $('<div class=\"btn-group inline pull-right\"></div>');\n",
       "    var button = $('<button class=\"btn btn-mini btn-primary\" href=\"#\" title=\"Stop Interaction\"><i class=\"fa fa-power-off icon-remove icon-large\"></i></button>');\n",
       "    button.click(function (evt) { fig.handle_close(fig, {}); } );\n",
       "    button.mouseover('Stop Interaction', toolbar_mouse_event);\n",
       "    buttongrp.append(button);\n",
       "    var titlebar = this.root.find($('.ui-dialog-titlebar'));\n",
       "    titlebar.prepend(buttongrp);\n",
       "}\n",
       "\n",
       "mpl.figure.prototype._root_extra_style = function(el){\n",
       "    var fig = this\n",
       "    el.on(\"remove\", function(){\n",
       "\tfig.close_ws(fig, {});\n",
       "    });\n",
       "}\n",
       "\n",
       "mpl.figure.prototype._canvas_extra_style = function(el){\n",
       "    // this is important to make the div 'focusable\n",
       "    el.attr('tabindex', 0)\n",
       "    // reach out to IPython and tell the keyboard manager to turn it's self\n",
       "    // off when our div gets focus\n",
       "\n",
       "    // location in version 3\n",
       "    if (IPython.notebook.keyboard_manager) {\n",
       "        IPython.notebook.keyboard_manager.register_events(el);\n",
       "    }\n",
       "    else {\n",
       "        // location in version 2\n",
       "        IPython.keyboard_manager.register_events(el);\n",
       "    }\n",
       "\n",
       "}\n",
       "\n",
       "mpl.figure.prototype._key_event_extra = function(event, name) {\n",
       "    var manager = IPython.notebook.keyboard_manager;\n",
       "    if (!manager)\n",
       "        manager = IPython.keyboard_manager;\n",
       "\n",
       "    // Check for shift+enter\n",
       "    if (event.shiftKey && event.which == 13) {\n",
       "        this.canvas_div.blur();\n",
       "        // select the cell after this one\n",
       "        var index = IPython.notebook.find_cell_index(this.cell_info[0]);\n",
       "        IPython.notebook.select(index + 1);\n",
       "    }\n",
       "}\n",
       "\n",
       "mpl.figure.prototype.handle_save = function(fig, msg) {\n",
       "    fig.ondownload(fig, null);\n",
       "}\n",
       "\n",
       "\n",
       "mpl.find_output_cell = function(html_output) {\n",
       "    // Return the cell and output element which can be found *uniquely* in the notebook.\n",
       "    // Note - this is a bit hacky, but it is done because the \"notebook_saving.Notebook\"\n",
       "    // IPython event is triggered only after the cells have been serialised, which for\n",
       "    // our purposes (turning an active figure into a static one), is too late.\n",
       "    var cells = IPython.notebook.get_cells();\n",
       "    var ncells = cells.length;\n",
       "    for (var i=0; i<ncells; i++) {\n",
       "        var cell = cells[i];\n",
       "        if (cell.cell_type === 'code'){\n",
       "            for (var j=0; j<cell.output_area.outputs.length; j++) {\n",
       "                var data = cell.output_area.outputs[j];\n",
       "                if (data.data) {\n",
       "                    // IPython >= 3 moved mimebundle to data attribute of output\n",
       "                    data = data.data;\n",
       "                }\n",
       "                if (data['text/html'] == html_output) {\n",
       "                    return [cell, data, j];\n",
       "                }\n",
       "            }\n",
       "        }\n",
       "    }\n",
       "}\n",
       "\n",
       "// Register the function which deals with the matplotlib target/channel.\n",
       "// The kernel may be null if the page has been refreshed.\n",
       "if (IPython.notebook.kernel != null) {\n",
       "    IPython.notebook.kernel.comm_manager.register_target('matplotlib', mpl.mpl_figure_comm);\n",
       "}\n"
      ],
      "text/plain": [
       "<IPython.core.display.Javascript object>"
      ]
     },
     "metadata": {},
     "output_type": "display_data"
    },
    {
     "data": {
      "text/html": [
       "<img src=\"data:image/png;base64,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\" width=\"640\">"
      ],
      "text/plain": [
       "<IPython.core.display.HTML object>"
      ]
     },
     "metadata": {},
     "output_type": "display_data"
    },
    {
     "data": {
      "text/plain": [
       "<matplotlib.collections.PathCollection at 0x7f02cf4378b0>"
      ]
     },
     "execution_count": 11,
     "metadata": {},
     "output_type": "execute_result"
    }
   ],
   "source": [
    "%matplotlib notebook\n",
    "\n",
    "a1 = self_inet.get_ion_coordinates(\"PRECURSOR_RT\", indices = self_alignment)\n",
    "a2 = other_inet.get_ion_coordinates(\"PRECURSOR_RT\", indices = other_alignment)\n",
    "\n",
    "plt.scatter(a1, a2, marker=\".\")"
   ]
  },
  {
   "cell_type": "code",
   "execution_count": 19,
   "metadata": {},
   "outputs": [
    {
     "ename": "TypeError",
     "evalue": "'dict' object is not callable",
     "output_type": "error",
     "traceback": [
      "\u001b[0;31m---------------------------------------------------------------------------\u001b[0m",
      "\u001b[0;31mTypeError\u001b[0m                                 Traceback (most recent call last)",
      "\u001b[0;32m<ipython-input-19-2b778df0f680>\u001b[0m in \u001b[0;36m<module>\u001b[0;34m\u001b[0m\n\u001b[1;32m      1\u001b[0m \u001b[0;32mimport\u001b[0m \u001b[0mmatplotlib\u001b[0m\u001b[0;34m\u001b[0m\u001b[0;34m\u001b[0m\u001b[0m\n\u001b[0;32m----> 2\u001b[0;31m \u001b[0mmatplotlib\u001b[0m\u001b[0;34m.\u001b[0m\u001b[0mcolors\u001b[0m\u001b[0;34m.\u001b[0m\u001b[0m__dict__\u001b[0m\u001b[0;34m(\u001b[0m\u001b[0;34m)\u001b[0m\u001b[0;34m[\u001b[0m\u001b[0mCSS4_COLORS\u001b[0m\u001b[0;34m]\u001b[0m\u001b[0;34m\u001b[0m\u001b[0;34m\u001b[0m\u001b[0m\n\u001b[0m",
      "\u001b[0;31mTypeError\u001b[0m: 'dict' object is not callable"
     ]
    }
   ],
   "source": [
    "import matplotlib\n",
    "matplotlib.colors.__dict__['CSS4_COLORS']"
   ]
  },
  {
   "cell_type": "code",
   "execution_count": null,
   "metadata": {},
   "outputs": [],
   "source": []
  },
  {
   "cell_type": "code",
   "execution_count": null,
   "metadata": {},
   "outputs": [],
   "source": []
  },
  {
   "cell_type": "code",
   "execution_count": null,
   "metadata": {},
   "outputs": [],
   "source": []
  },
  {
   "cell_type": "code",
   "execution_count": null,
   "metadata": {},
   "outputs": [],
   "source": []
  },
  {
   "cell_type": "code",
   "execution_count": null,
   "metadata": {},
   "outputs": [],
   "source": []
  },
  {
   "cell_type": "code",
   "execution_count": null,
   "metadata": {},
   "outputs": [],
   "source": []
  },
  {
   "cell_type": "code",
   "execution_count": null,
   "metadata": {},
   "outputs": [],
   "source": []
  },
  {
   "cell_type": "code",
   "execution_count": null,
   "metadata": {},
   "outputs": [],
   "source": [
    "reload()\n",
    "\n",
    "an = annotation.Annotation(\n",
    "    evidence=evis[0],\n",
    "    database=\"/home/sander/Documents/Proteomics/data/databases/hdf/crap_ecoli_concatenated_decoy.hdf\",\n",
    "    parameters={\n",
    "        \"annotation_ppm\": 20,\n",
    "    },\n",
    "    logger=logger\n",
    ")"
   ]
  },
  {
   "cell_type": "code",
   "execution_count": null,
   "metadata": {},
   "outputs": [],
   "source": [
    "self=inets[1]\n",
    "# indptr, indices = self.get_edges(\n",
    "#     indptr_and_indices=True\n",
    "# )\n",
    "# x, y = self.get_edges(return_as_scipy_csr=False)"
   ]
  },
  {
   "cell_type": "code",
   "execution_count": null,
   "metadata": {},
   "outputs": [],
   "source": [
    "rts = self.get_ion_coordinates(\"PRECURSOR_RT\")\n",
    "rts[:1000000]"
   ]
  },
  {
   "cell_type": "code",
   "execution_count": null,
   "metadata": {},
   "outputs": [],
   "source": []
  },
  {
   "cell_type": "code",
   "execution_count": null,
   "metadata": {},
   "outputs": [],
   "source": []
  },
  {
   "cell_type": "code",
   "execution_count": null,
   "metadata": {},
   "outputs": [],
   "source": []
  },
  {
   "cell_type": "code",
   "execution_count": null,
   "metadata": {},
   "outputs": [],
   "source": []
  },
  {
   "cell_type": "code",
   "execution_count": null,
   "metadata": {},
   "outputs": [],
   "source": []
  },
  {
   "cell_type": "code",
   "execution_count": null,
   "metadata": {},
   "outputs": [],
   "source": []
  },
  {
   "cell_type": "code",
   "execution_count": null,
   "metadata": {},
   "outputs": [],
   "source": []
  },
  {
   "cell_type": "code",
   "execution_count": null,
   "metadata": {},
   "outputs": [],
   "source": []
  },
  {
   "cell_type": "code",
   "execution_count": null,
   "metadata": {},
   "outputs": [],
   "source": [
    "reload()\n",
    "\n",
    "self = inets[0]\n",
    "other = inets[1]\n",
    "# self_ints, self_mzs, self_pmzs, self_rts = self.get_ion_coordinates()\n",
    "# other_ints, other_mzs, other_pmzs, other_rts = other.get_ion_coordinates()\n",
    "# calibrated_self_rts = sandbox.calibrate_precursor_rt(self, other, ppm=10)"
   ]
  },
  {
   "cell_type": "code",
   "execution_count": null,
   "metadata": {},
   "outputs": [],
   "source": []
  },
  {
   "cell_type": "code",
   "execution_count": null,
   "metadata": {},
   "outputs": [],
   "source": [
    "self_mzs = pd.read_csv(\n",
    "    \"/home/sander/Documents/Proteomics/data/jpt/APEX/200117_JPTmix_prop_Fullloop_01_Apex3DIons.inet.csv\",\n",
    "    usecols=[\"FRAGMENT_MZ\"]\n",
    ").values.flatten()\n",
    "other_mzs = pd.read_csv(\n",
    "    \"/home/sander/Documents/Proteomics/data/jpt/APEX/200117_JPTmix_prop_Fullloop_08_Apex3DIons.inet.csv\",\n",
    "    usecols=[\"FRAGMENT_MZ\"]\n",
    ").values.flatten()\n",
    "\n",
    "self_logints = pd.read_csv(\n",
    "    \"/home/sander/Documents/Proteomics/data/jpt/APEX/200117_JPTmix_prop_Fullloop_01_Apex3DIons.inet.csv\",\n",
    "    usecols=[\"FRAGMENT_LOGINT\"]\n",
    ").values.flatten()\n",
    "other_logints = pd.read_csv(\n",
    "    \"/home/sander/Documents/Proteomics/data/jpt/APEX/200117_JPTmix_prop_Fullloop_08_Apex3DIons.inet.csv\",\n",
    "    usecols=[\"FRAGMENT_LOGINT\"]\n",
    ").values.flatten()"
   ]
  },
  {
   "cell_type": "code",
   "execution_count": null,
   "metadata": {},
   "outputs": [],
   "source": [
    "# le_indices = np.concatenate(\n",
    "#     [\n",
    "#         start + np.argpartition(\n",
    "#             ions[\"INTENSITY\"][start: end], - to_select_per_sample\n",
    "#         )[-to_select_per_sample:] for start, end in zip(\n",
    "#             start_indices[:-1],\n",
    "#             start_indices[1:]\n",
    "#         )\n",
    "#     ]\n",
    "# )\n"
   ]
  },
  {
   "cell_type": "code",
   "execution_count": null,
   "metadata": {},
   "outputs": [],
   "source": [
    "calibration_ions = 50000\n",
    "self_ions = np.argpartition(self_logints, -calibration_ions)[-calibration_ions:]\n",
    "other_ions = np.argpartition(other_logints, -calibration_ions)[-calibration_ions:]"
   ]
  },
  {
   "cell_type": "code",
   "execution_count": null,
   "metadata": {},
   "outputs": [],
   "source": [
    "self_mzs = self_mzs[self_ions]\n",
    "other_mzs = other_mzs[other_ions]"
   ]
  },
  {
   "cell_type": "code",
   "execution_count": null,
   "metadata": {},
   "outputs": [],
   "source": []
  },
  {
   "cell_type": "code",
   "execution_count": null,
   "metadata": {},
   "outputs": [],
   "source": [
    "np.sort(self_mzs), np.sort(other_mzs)"
   ]
  },
  {
   "cell_type": "code",
   "execution_count": null,
   "metadata": {},
   "outputs": [],
   "source": [
    "self_mzs = self.get_ion_coordinates(\"FRAGMENT_MZ\")\n",
    "other_mzs = other.get_ion_coordinates(\"FRAGMENT_MZ\")\n",
    "# self_indices, other_indices = sandbox.quick_align(self_mzs, other_mzs, ppm=10)\n",
    "# self_rts = self.get_ion_coordinates(\"PRECURSOR_RT\")\n",
    "# other_rts = other.get_ion_coordinates(\"PRECURSOR_RT\", indices=other_indices)"
   ]
  },
  {
   "cell_type": "code",
   "execution_count": null,
   "metadata": {},
   "outputs": [],
   "source": [
    "self_inds = np.repeat(0, len(self_mzs))\n",
    "other_inds = np.repeat(1, len(other_mzs))"
   ]
  },
  {
   "cell_type": "code",
   "execution_count": null,
   "metadata": {},
   "outputs": [],
   "source": [
    "mzs = np.concatenate([self_mzs, other_mzs])\n",
    "inds = np.concatenate([self_inds, other_inds])\n",
    "order = np.argsort(mzs)\n",
    "mzs = mzs[order]\n",
    "inds = inds[order]"
   ]
  },
  {
   "cell_type": "code",
   "execution_count": null,
   "metadata": {},
   "outputs": [],
   "source": [
    "mz_diffs = np.diff(mzs)\n",
    "ind_diffs = np.diff(inds)\n",
    "x = np.concatenate([mz_diffs[ind_diffs==1], -mz_diffs[ind_diffs==-1]])"
   ]
  },
  {
   "cell_type": "code",
   "execution_count": null,
   "metadata": {},
   "outputs": [],
   "source": [
    "x = (mz_diffs[:-2] < mz_diffs[1:-1]) & (mz_diffs[1:-1] < mz_diffs[2:])\n",
    "x &= ind_diffs[1:-1] != 0\n",
    "x = mz_diffs[1:-1][x] * -ind_diffs[1:-1][x]"
   ]
  },
  {
   "cell_type": "code",
   "execution_count": null,
   "metadata": {},
   "outputs": [],
   "source": [
    "np.quantile(\n",
    "    mz_diffs[ind_diffs==-1] * 10**6 / mzs[:-1][ind_diffs==-1],\n",
    "    0.5\n",
    ")"
   ]
  },
  {
   "cell_type": "code",
   "execution_count": null,
   "metadata": {},
   "outputs": [],
   "source": []
  },
  {
   "cell_type": "code",
   "execution_count": null,
   "metadata": {},
   "outputs": [],
   "source": [
    "%matplotlib notebook\n",
    "\n",
    "# s = np.concatenate([mz_diffs[ind_diffs==1], -mz_diffs[ind_diffs==-1]])\n",
    "\n",
    "plt.scatter(\n",
    "    mzs[:-1][ind_diffs==1],\n",
    "    mz_diffs[ind_diffs==1] * 10**6 / mzs[:-1][ind_diffs==1]\n",
    "#     np.sort(self_mzs),\n",
    "#     np.sort(other_mzs) - np.sort(self_mzs),\n",
    "#     10**6 * (np.sort(self_mzs) - np.sort(other_mzs)) / np.sort(self_mzs)\n",
    ")"
   ]
  },
  {
   "cell_type": "code",
   "execution_count": null,
   "metadata": {},
   "outputs": [],
   "source": [
    "%matplotlib notebook\n",
    "\n",
    "a, b = np.unique(np.round(x,3), return_counts=True)\n",
    "print(np.quantile(x, np.arange(101)/100), np.median(x))\n",
    "# plt.plot(a,b)\n",
    "plt.plot(np.quantile(x, np.arange(101)/100))"
   ]
  },
  {
   "cell_type": "code",
   "execution_count": null,
   "metadata": {},
   "outputs": [],
   "source": []
  },
  {
   "cell_type": "code",
   "execution_count": null,
   "metadata": {},
   "outputs": [],
   "source": [
    "new_self_rts = []\n",
    "for self_start_index, self_end_index, other_rt_start, other_rt_end in zip(\n",
    "    self_indices[:-1],\n",
    "    self_indices[1:],\n",
    "    other_rts[:-1],\n",
    "    other_rts[1:]\n",
    "):\n",
    "#     if self_end_index == self_start_index:\n",
    "#         continue\n",
    "    self_rt_start = self_rts[self_start_index]\n",
    "    self_rt_end = self_rts[self_end_index]\n",
    "    if self_rt_start == self_rt_end:\n",
    "        new_rts = np.repeat(other_rt_start, self_end_index - self_start_index)\n",
    "    else:\n",
    "        slope = (other_rt_end - other_rt_start) / (self_rt_end - self_rt_start)\n",
    "        new_rts = other_rt_start + slope * (\n",
    "            self_rts[self_start_index: self_end_index] - self_rt_start\n",
    "        )\n",
    "    new_self_rts.append(new_rts)\n",
    "new_self_rts.append([other_rts[-1]])\n",
    "new_self_rts = np.concatenate(new_self_rts)"
   ]
  },
  {
   "cell_type": "code",
   "execution_count": null,
   "metadata": {},
   "outputs": [],
   "source": [
    "new_self_rts.shape[0] - self_rts.shape[0]"
   ]
  },
  {
   "cell_type": "code",
   "execution_count": null,
   "metadata": {},
   "outputs": [],
   "source": []
  },
  {
   "cell_type": "code",
   "execution_count": null,
   "metadata": {},
   "outputs": [],
   "source": [
    "self_rts = self.get_ion_coordinates(\"PRECURSOR_RT\")"
   ]
  },
  {
   "cell_type": "code",
   "execution_count": null,
   "metadata": {},
   "outputs": [],
   "source": [
    "%matplotlib notebook\n",
    "\n",
    "plt.scatter(self_rts, self_rts - calibrated_self_rts)"
   ]
  },
  {
   "cell_type": "code",
   "execution_count": null,
   "metadata": {},
   "outputs": [],
   "source": []
  },
  {
   "cell_type": "code",
   "execution_count": null,
   "metadata": {},
   "outputs": [],
   "source": [
    "reload()\n",
    "\n",
    "self_ints, self_mzs, self_dts, self_rts = self.get_ion_coordinates()\n",
    "other_ints, other_mzs, other_dts, other_rts = other.get_ion_coordinates()\n",
    "self_indices, other_indices = sandbox.quick_align(self_mzs, other_mzs, ppm=10)"
   ]
  },
  {
   "cell_type": "code",
   "execution_count": null,
   "metadata": {},
   "outputs": [],
   "source": []
  },
  {
   "cell_type": "code",
   "execution_count": null,
   "metadata": {},
   "outputs": [],
   "source": [
    "# s = slice(0, None, 1000)\n",
    "a1 = self_rts[self_indices]\n",
    "a2 = other_rts[other_indices]\n",
    "c = self_dts[self_indices] - other_dts[other_indices]"
   ]
  },
  {
   "cell_type": "code",
   "execution_count": null,
   "metadata": {},
   "outputs": [],
   "source": [
    "ppm=10\n",
    "\n",
    "self_mz_order = np.argsort(self_mzs)\n",
    "other_mz_order = np.argsort(other_mzs)\n",
    "max_mz_diff = 1 + ppm * 10**-6\n",
    "low_limits = np.searchsorted(\n",
    "    self_mzs[self_mz_order],\n",
    "    other_mzs[other_mz_order] / max_mz_diff,\n",
    "    \"left\"\n",
    ")\n",
    "high_limits = np.searchsorted(\n",
    "    self_mzs[self_mz_order],\n",
    "    other_mzs[other_mz_order] * max_mz_diff,\n",
    "    \"right\"\n",
    ")\n",
    "other_rt_order = np.argsort(other_mz_order)\n",
    "self_indices = np.concatenate(\n",
    "    [\n",
    "        self_mz_order[l:h] for l, h in zip(\n",
    "            low_limits[other_rt_order],\n",
    "            high_limits[other_rt_order]\n",
    "        )\n",
    "    ]\n",
    ")\n",
    "other_indices = np.repeat(\n",
    "    np.arange(len(other_rt_order)),\n",
    "    high_limits[other_rt_order] - low_limits[other_rt_order]\n",
    ")"
   ]
  },
  {
   "cell_type": "code",
   "execution_count": null,
   "metadata": {},
   "outputs": [],
   "source": [
    "%matplotlib notebook\n",
    "\n",
    "plt.plot(a1, a2)"
   ]
  },
  {
   "cell_type": "code",
   "execution_count": null,
   "metadata": {},
   "outputs": [],
   "source": [
    "%matplotlib notebook\n",
    "\n",
    "# plt.plot(a1, a2)\n",
    "# plt.scatter(a1, a2, marker=\".\", c=c, cmap=\"RdYlGn\")\n",
    "# sns.jointplot(a1, a2, kind=\"hex\", gridsize=200)\n",
    "# sns.jointplot(self_rts[self_indices], other_rts[other_indices], kind=\"hex\", gridsize=100)\n",
    "plt.scatter(self_rts[self_indices], other_rts[other_indices], marker=\".\")"
   ]
  },
  {
   "cell_type": "code",
   "execution_count": null,
   "metadata": {},
   "outputs": [],
   "source": []
  },
  {
   "cell_type": "code",
   "execution_count": null,
   "metadata": {},
   "outputs": [],
   "source": [
    "%matplotlib notebook\n",
    "\n",
    "a,b=np.unique(np.round(c,0), return_counts=True)\n",
    "plt.plot(a,b)"
   ]
  },
  {
   "cell_type": "code",
   "execution_count": null,
   "metadata": {},
   "outputs": [],
   "source": [
    "self_rts = self.get_ion_coordinates(\"PRECURSOR_RT\")\n",
    "other_rts = other.get_ion_coordinates(\"PRECURSOR_RT\", indices=other_indices)\n",
    "new_self_rts = []\n",
    "for self_start_index, self_end_index, other_rt_start, other_rt_end in zip(\n",
    "    self_indices[:-1],\n",
    "    self_indices[1:],\n",
    "    other_rts[:-1],\n",
    "    other_rts[1:]\n",
    "):\n",
    "    self_rt_start = self_rts[self_start_index]\n",
    "    self_rt_end = self_rts[self_end_index]\n",
    "    if self_rt_start == self_rt_end:\n",
    "        new_rts = np.repeat(other_rt_start, self_end_index - self_start_index)\n",
    "    else:\n",
    "        slope = (other_rt_end - other_rt_start) / (self_rt_end - self_rt_start)\n",
    "        new_rts = other_rt_start + slope * (\n",
    "            self_rts[self_start_index: self_end_index] - self_rt_start\n",
    "        )\n",
    "    new_self_rts.append(new_rts)\n",
    "new_self_rts.append([other_rts[-1]])\n",
    "new_self_rts = np.concatenate(new_self_rts)"
   ]
  },
  {
   "cell_type": "code",
   "execution_count": null,
   "metadata": {},
   "outputs": [],
   "source": [
    "# %matplotlib notebook\n",
    "\n",
    "# s = slice(0, None, 1000)\n",
    "# plt.scatter(new_self_rts[s], self_rts[s])"
   ]
  },
  {
   "cell_type": "code",
   "execution_count": null,
   "metadata": {},
   "outputs": [],
   "source": []
  },
  {
   "cell_type": "code",
   "execution_count": null,
   "metadata": {},
   "outputs": [],
   "source": []
  },
  {
   "cell_type": "code",
   "execution_count": null,
   "metadata": {},
   "outputs": [],
   "source": [
    "ints, mzs, pmzs, rts = inets[0].get_ion_coordinates()"
   ]
  },
  {
   "cell_type": "code",
   "execution_count": null,
   "metadata": {},
   "outputs": [],
   "source": [
    "reload()\n",
    "\n",
    "ali = evis[0].get_alignment(evis[1])\n",
    "# pairwise_alignment = inets[0].align_nodes(\n",
    "#     inets[1],\n",
    "#     parameters\n",
    "# )\n",
    "# ali = [\n",
    "#     pairwise_alignment.T.tocsr().indices,\n",
    "#     pairwise_alignment.indices\n",
    "# ]\n",
    "# a = np.repeat(np.arange(pairwise_alignment.shape[0]), np.diff(pairwise_alignment.indptr))\n",
    "# aa = pairwise_alignment.nonzero()[0]\n",
    "# a,aa,np.bincount(a==aa)"
   ]
  },
  {
   "cell_type": "code",
   "execution_count": null,
   "metadata": {},
   "outputs": [],
   "source": [
    "def rt_diffs(isotopic_distance, ppm, rts):\n",
    "    mz_order = np.argsort(mzs)\n",
    "    mzs_in_mz_order = mzs[mz_order]\n",
    "    if isotopic_distance > 0:\n",
    "        lower_limits = np.searchsorted(\n",
    "            mzs_in_mz_order,\n",
    "            (mzs_in_mz_order + isotopic_distance) / (1 + ppm * 10**-6),\n",
    "            \"left\"\n",
    "        )\n",
    "    else:\n",
    "        lower_limits = np.arange(len(mzs)) + 1\n",
    "    upper_limits = np.searchsorted(\n",
    "        mzs_in_mz_order,\n",
    "        (mzs_in_mz_order + isotopic_distance) * (1 + ppm * 10**-6),\n",
    "        \"right\"\n",
    "    )\n",
    "    first_isotopic_pairs = np.repeat(mz_order, upper_limits - lower_limits)\n",
    "    second_isotopic_pairs = np.concatenate([mz_order[l: u] for u, l in zip(upper_limits, lower_limits)])\n",
    "    return np.abs(rts[first_isotopic_pairs] - rts[second_isotopic_pairs])"
   ]
  },
  {
   "cell_type": "code",
   "execution_count": null,
   "metadata": {},
   "outputs": [],
   "source": [
    "isotopic_rts = rt_diffs(isotopic_distance = 1.002, ppm=2, rts=rts)\n",
    "random_rts = rt_diffs(isotopic_distance = 3.8254, ppm=2, rts=rts)"
   ]
  },
  {
   "cell_type": "code",
   "execution_count": null,
   "metadata": {},
   "outputs": [],
   "source": [
    "all_rts = np.concatenate([isotopic_rts, random_rts])\n",
    "all_labels = np.repeat([False, True], [len(isotopic_rts), len(random_rts)])\n",
    "order = np.argsort(all_rts)\n",
    "all_rts = all_rts[order]\n",
    "all_labels = all_labels[order]\n",
    "fdr = np.cumsum(all_labels) / (1 + np.arange(len(all_labels)))"
   ]
  },
  {
   "cell_type": "code",
   "execution_count": null,
   "metadata": {},
   "outputs": [],
   "source": [
    "np.argmin(fdr)"
   ]
  },
  {
   "cell_type": "code",
   "execution_count": null,
   "metadata": {},
   "outputs": [],
   "source": [
    "%matplotlib notebook\n",
    "\n",
    "s = slice(0,10000000, 1)\n",
    "plt.plot(all_rts[s], fdr[s])"
   ]
  },
  {
   "cell_type": "code",
   "execution_count": null,
   "metadata": {},
   "outputs": [],
   "source": [
    "isotope_rt_diffs, isotope_count = np.unique(\n",
    "        isotopic_rts,\n",
    "        return_counts=True\n",
    "    )\n",
    "isotope_count = np.cumsum(isotope_count)\n",
    "random_rt_diffs, random_count = np.unique(\n",
    "        random_rts,\n",
    "        return_counts=True\n",
    "    )\n",
    "random_count = np.cumsum(random_count)"
   ]
  },
  {
   "cell_type": "code",
   "execution_count": null,
   "metadata": {},
   "outputs": [],
   "source": [
    "# random_diffs = isotope_rt_diffs\n",
    "# random_counts = isotope_count"
   ]
  },
  {
   "cell_type": "code",
   "execution_count": null,
   "metadata": {},
   "outputs": [],
   "source": [
    "%matplotlib notebook\n",
    "\n",
    "# plt.plot(\n",
    "#     *np.unique(\n",
    "#         np.round(\n",
    "#             rts[first_isotopic_pairs] - rts[second_isotopic_pairs],\n",
    "#             3\n",
    "#         ),\n",
    "#         return_counts=True\n",
    "#     )\n",
    "# )\n",
    "\n",
    "\n",
    "plt.plot(\n",
    "    isotope_rt_diffs, isotope_count/isotope_count[-1]\n",
    ")\n",
    "plt.plot(\n",
    "    random_rt_diffs, random_count/random_count[-1]\n",
    ")\n",
    "# plt.plot(\n",
    "#     random_diffs, random_counts/random_counts[-1]+0.0029-0.001, c=\"r\"\n",
    "# )\n",
    "# plt.plot(\n",
    "#     random_diffs, random_counts/random_counts[-1]+0.0029+0.0015, c=\"r\"\n",
    "# )\n",
    "# plt.plot(\n",
    "#     random_diffs, random_counts/random_counts[-1], c=\"r\"\n",
    "# )\n",
    "plt.axhline(0.5, c=\"grey\")\n",
    "plt.axvline(0, c=\"grey\")\n",
    "# plt.plot([-15,15], [0.313,0.69])\n",
    "\n",
    "# plt.plot(\n",
    "#     isotope_rt_diffs,\n",
    "#     np.gradient(isotope_count),\n",
    "# )"
   ]
  },
  {
   "cell_type": "code",
   "execution_count": null,
   "metadata": {},
   "outputs": [],
   "source": [
    "%matplotlib notebook\n",
    "\n",
    "ricos = np.diff(isotope_count) / np.diff(isotope_rt_diffs)\n",
    "plt.plot(isotope_rt_diffs[:-1], ricos)"
   ]
  },
  {
   "cell_type": "code",
   "execution_count": null,
   "metadata": {},
   "outputs": [],
   "source": [
    "%matplotlib notebook\n",
    "\n",
    "sns.jointplot(\n",
    "    rts[first_isotopic_pairs[::10]],\n",
    "    rts[second_isotopic_pairs[::10]],\n",
    "    kind=\"hex\",\n",
    "    gridsize=500\n",
    ")"
   ]
  },
  {
   "cell_type": "code",
   "execution_count": null,
   "metadata": {},
   "outputs": [],
   "source": [
    "%matplotlib notebook\n",
    "\n",
    "sns.jointplot(\n",
    "    inets[0].get_ion_coordinates(\"FRAGMENT_LOGINT\", indices=ali[:,0]),\n",
    "    inets[1].get_ion_coordinates(\"FRAGMENT_LOGINT\", indices=ali[:,1]),\n",
    "    kind=\"hex\",\n",
    "    gridsize=500\n",
    ")"
   ]
  },
  {
   "cell_type": "code",
   "execution_count": null,
   "metadata": {},
   "outputs": [],
   "source": [
    "left, right = inets[0].get_edges(return_as_scipy_csr=False)\n",
    "mzs = inets[0].get_ion_coordinates(\"MZ2\")\n",
    "diffs2 = mzs[left] - mzs[right]"
   ]
  },
  {
   "cell_type": "code",
   "execution_count": null,
   "metadata": {},
   "outputs": [],
   "source": [
    "z = evidences[0].get_evidence(network_keys=[k.key for k in inets[1:]], return_total=True)"
   ]
  },
  {
   "cell_type": "code",
   "execution_count": null,
   "metadata": {},
   "outputs": [],
   "source": [
    "edges = inets[0].get_edges()\n",
    "edges.data = z[0] > z[1] + 8\n",
    "edges.eliminate_zeros()\n",
    "left, right = edges.nonzero()\n",
    "mzs = inets[0].get_ion_coordinates(\"MZ2\")\n",
    "diffs = mzs[left] - mzs[right]"
   ]
  },
  {
   "cell_type": "code",
   "execution_count": null,
   "metadata": {},
   "outputs": [],
   "source": [
    "# ori_a, ori_b = np.unique(np.round(diffs2, 3), return_counts=True)\n",
    "new_a, new_b = np.unique(np.round(diffs, 3), return_counts=True)"
   ]
  },
  {
   "cell_type": "code",
   "execution_count": null,
   "metadata": {},
   "outputs": [],
   "source": []
  },
  {
   "cell_type": "code",
   "execution_count": null,
   "metadata": {},
   "outputs": [],
   "source": [
    "%matplotlib notebook\n",
    "\n",
    "plt.plot(ori_a, ori_b/np.max(ori_b))\n",
    "plt.plot(new_a, new_b/np.max(new_b))"
   ]
  },
  {
   "cell_type": "code",
   "execution_count": null,
   "metadata": {},
   "outputs": [],
   "source": []
  },
  {
   "cell_type": "code",
   "execution_count": null,
   "metadata": {},
   "outputs": [],
   "source": []
  },
  {
   "cell_type": "code",
   "execution_count": null,
   "metadata": {},
   "outputs": [],
   "source": []
  },
  {
   "cell_type": "code",
   "execution_count": null,
   "metadata": {},
   "outputs": [],
   "source": [
    "mzs = inets[0].get_ion_coordinates(\"MZ2\")\n",
    "diffs = np.abs(mzs[left] - mzs[right])\n",
    "good = np.abs(diffs - 1.002) < 0.01"
   ]
  },
  {
   "cell_type": "code",
   "execution_count": null,
   "metadata": {},
   "outputs": [],
   "source": [
    "inets[0].get_ion_coordinates(indices=z[0])"
   ]
  },
  {
   "cell_type": "code",
   "execution_count": null,
   "metadata": {},
   "outputs": [],
   "source": [
    "posi = z[0][good]\n",
    "negi = z[1][good]\n",
    "np.bincount(posi), np.bincount(negi)"
   ]
  },
  {
   "cell_type": "code",
   "execution_count": null,
   "metadata": {},
   "outputs": [],
   "source": [
    "# iso = np.histogram2d(posi, negi, bins=10)[0].astype(np.int)\n",
    "# total = np.histogram2d(z[0], z[1], bins=10)[0].astype(np.int)\n",
    "iso, total"
   ]
  },
  {
   "cell_type": "code",
   "execution_count": null,
   "metadata": {},
   "outputs": [],
   "source": [
    "%matplotlib notebook\n",
    "# sns.heatmap(np.log(iso/total), cmap=\"RdYlGn\")\n",
    "sns.heatmap(np.log(iso + 1), cmap=\"RdYlGn\")"
   ]
  },
  {
   "cell_type": "code",
   "execution_count": null,
   "metadata": {},
   "outputs": [],
   "source": []
  },
  {
   "cell_type": "code",
   "execution_count": null,
   "metadata": {},
   "outputs": [],
   "source": [
    "selected = (z[0] + z[1]) > 0\n",
    "# np.unique(z[0][selected] / (z[0] + z[1])[selected], return_counts=True)\n",
    "a, b = np.unique(z[0][selected]-z[1][selected], return_counts=True)"
   ]
  },
  {
   "cell_type": "code",
   "execution_count": null,
   "metadata": {},
   "outputs": [],
   "source": [
    "%matplotlib notebook\n",
    "\n",
    "plt.plot(a, b)"
   ]
  },
  {
   "cell_type": "code",
   "execution_count": null,
   "metadata": {},
   "outputs": [],
   "source": [
    "%matplotlib notebook\n",
    "\n",
    "first_mz2, first_rt1, first_mz1, first_logint = inets[0].get_ion_coordinates([\"MZ2\", \"RT\", \"MZ1\", \"LOGINT\"])\n",
    "second_mz2, second_rt2, second_mz1, second_logint = inets[1].get_ion_coordinates([\"MZ2\", \"RT\", \"MZ1\", \"LOGINT\"])\n",
    "a = al.get_alignment(inets[0], inets[1], return_as_scipy_csr=False)\n",
    "\n",
    "sns.jointplot(first_mz1, first_mz2, kind=\"hex\", gridsize=500)\n",
    "sns.jointplot(first_logint[a[:,0]], second_logint[a[:,1]], kind=\"hex\", gridsize=500)"
   ]
  },
  {
   "cell_type": "code",
   "execution_count": null,
   "metadata": {},
   "outputs": [],
   "source": []
  },
  {
   "cell_type": "code",
   "execution_count": null,
   "metadata": {},
   "outputs": [],
   "source": []
  },
  {
   "cell_type": "code",
   "execution_count": null,
   "metadata": {},
   "outputs": [],
   "source": []
  },
  {
   "cell_type": "code",
   "execution_count": null,
   "metadata": {},
   "outputs": [],
   "source": []
  },
  {
   "cell_type": "code",
   "execution_count": null,
   "metadata": {},
   "outputs": [],
   "source": []
  },
  {
   "cell_type": "code",
   "execution_count": null,
   "metadata": {},
   "outputs": [],
   "source": []
  },
  {
   "cell_type": "code",
   "execution_count": null,
   "metadata": {},
   "outputs": [],
   "source": []
  },
  {
   "cell_type": "code",
   "execution_count": null,
   "metadata": {},
   "outputs": [],
   "source": [
    "importlib.reload(network)\n",
    "mzs, rts = inet.get_ion_coordinates([\"MZ2\", \"RT\"])\n",
    "isotopic_distance = 1.002\n",
    "ppm = 10\n",
    "\n",
    "isotope_rt_diffs, isotope_count = network.determine_isotopic_rt_difference(\n",
    "    mzs,\n",
    "    rts,\n",
    "    isotopic_distance,\n",
    "    ppm\n",
    ")"
   ]
  },
  {
   "cell_type": "code",
   "execution_count": null,
   "metadata": {},
   "outputs": [],
   "source": [
    "# mz_order = np.argsort(mzs)\n",
    "# mzs_in_mz_order = mzs[mz_order]\n",
    "# print(mzs_in_mz_order, (mzs_in_mz_order + isotopic_distance) * (1 + ppm * 10**-6))\n",
    "rts"
   ]
  },
  {
   "cell_type": "code",
   "execution_count": null,
   "metadata": {},
   "outputs": [],
   "source": [
    "ratios = []\n",
    "resolution = np.linspace(0,1,100)\n",
    "lower_limits = np.arange(len(rts)) + 1\n",
    "for limit in resolution:\n",
    "    upper_limits = np.searchsorted(\n",
    "        rts,\n",
    "        rts + limit,\n",
    "        \"right\"\n",
    "    )\n",
    "    total = np.sum(upper_limits-lower_limits)\n",
    "    ratio = isotope_count[np.searchsorted(isotope_rt_diffs, limit, \"right\")] / total\n",
    "    ratios.append(ratio)"
   ]
  },
  {
   "cell_type": "code",
   "execution_count": null,
   "metadata": {},
   "outputs": [],
   "source": [
    "%matplotlib notebook\n",
    "\n",
    "plt.plot(resolution, ratios)"
   ]
  },
  {
   "cell_type": "code",
   "execution_count": null,
   "metadata": {},
   "outputs": [],
   "source": []
  },
  {
   "cell_type": "code",
   "execution_count": null,
   "metadata": {},
   "outputs": [],
   "source": [
    "%matplotlib notebook\n",
    "\n",
    "\n",
    "plt.plot(isotope_rt_diffs, isotope_count / isotope_count[-1])"
   ]
  },
  {
   "cell_type": "code",
   "execution_count": null,
   "metadata": {},
   "outputs": [],
   "source": []
  },
  {
   "cell_type": "code",
   "execution_count": null,
   "metadata": {},
   "outputs": [],
   "source": []
  },
  {
   "cell_type": "code",
   "execution_count": null,
   "metadata": {},
   "outputs": [],
   "source": []
  },
  {
   "cell_type": "code",
   "execution_count": null,
   "metadata": {},
   "outputs": [],
   "source": []
  },
  {
   "cell_type": "code",
   "execution_count": null,
   "metadata": {},
   "outputs": [],
   "source": [
    "indptr, indices = inet.get_edge_indptr_and_indices()"
   ]
  },
  {
   "cell_type": "code",
   "execution_count": null,
   "metadata": {},
   "outputs": [],
   "source": [
    "second_indices = np.repeat(np.arange(len(indptr) - 1), np.diff(indptr))"
   ]
  },
  {
   "cell_type": "code",
   "execution_count": null,
   "metadata": {},
   "outputs": [],
   "source": [
    "%matplotlib notebook\n",
    "\n",
    "mzs = inet.get_ion_coordinates(\"MZ2\")\n",
    "diffs = np.abs(mzs[indices]-mzs[second_indices])\n",
    "\n",
    "plt.plot(*np.unique(np.round(diffs,2), return_counts=True))\n",
    "\n",
    "# plt.scatter(mzs[pairs[:,0]], diffs, marker=\".\")\n",
    "# mzds = mzs[pairs[:,0]] - mzs[pairs[:,1]]\n",
    "# sns.jointplot(mzs[pairs[:,0]], mzs[pairs[:,0]]-mzs[pairs[:,1]], kind=\"hex\", gridsize=100)"
   ]
  },
  {
   "cell_type": "code",
   "execution_count": null,
   "metadata": {},
   "outputs": [],
   "source": []
  },
  {
   "cell_type": "code",
   "execution_count": null,
   "metadata": {},
   "outputs": [],
   "source": []
  },
  {
   "cell_type": "code",
   "execution_count": null,
   "metadata": {},
   "outputs": [],
   "source": [
    "importlib.reload(network)\n",
    "inet1 = network.Network(\n",
    "    \"/home/sander/Documents/Proteomics/data/ion_networks/ecoli_sonar/ion_networks/28Oct2016_060_Apex3DIons.hdf\"\n",
    ")\n",
    "inet2 = network.Network(\n",
    "    \"/home/sander/Documents/Proteomics/data/tmp.hdf\"\n",
    ")\n",
    "# inet.logger=logger"
   ]
  },
  {
   "cell_type": "code",
   "execution_count": null,
   "metadata": {},
   "outputs": [],
   "source": [
    "coords = inet2.get_ion_coordinates(inet2.dimensions)\n",
    "print(inet2.dimensions)"
   ]
  },
  {
   "cell_type": "code",
   "execution_count": null,
   "metadata": {},
   "outputs": [],
   "source": [
    "%matplotlib notebook\n",
    "\n",
    "selection = (coords[3] > 30) & (coords[3] < 31)\n",
    "# selection=...\n",
    "\n",
    "# sns.jointplot(coords[1][selection], coords[2][selection], kind=\"hex\", gridsize=200)\n",
    "plt.scatter(coords[1][selection], coords[3][selection], marker=\".\", c=coords[0][selection], cmap=\"RdYlGn\")"
   ]
  },
  {
   "cell_type": "code",
   "execution_count": null,
   "metadata": {},
   "outputs": [],
   "source": [
    "%matplotlib notebook\n",
    "coords = inet2.get_ion_coordinates(inet2.dimensions)\n",
    "print(inet2.dimensions)\n",
    "from mpl_toolkits.mplot3d import Axes3D\n",
    "fig = plt.figure()\n",
    "ax = fig.add_subplot(111, projection='3d')\n",
    "\n",
    "selection = (coords[3] > 30) & (coords[3] < 30.2)\n",
    "selection &= (coords[2] < 2000)\n",
    "selection &= (coords[1] < 900)\n",
    "# selection=...\n",
    "\n",
    "# sns.jointplot(coords[1][selection], coords[2][selection], kind=\"hex\", gridsize=200)\n",
    "ax.scatter(\n",
    "    coords[1][selection],\n",
    "    coords[3][selection],\n",
    "    coords[2][selection],\n",
    "    marker=\".\",\n",
    "    c=coords[0][selection],\n",
    "    cmap=\"RdYlGn\"\n",
    ")\n",
    "ax.set_xlabel('MZ1')\n",
    "ax.set_ylabel('RT')\n",
    "ax.set_zlabel('MZ2')"
   ]
  },
  {
   "cell_type": "code",
   "execution_count": null,
   "metadata": {},
   "outputs": [],
   "source": [
    "%matplotlib notebook\n",
    "coords = inet1.get_ion_coordinates(inet1.dimensions)\n",
    "print(inet1.dimensions)\n",
    "from mpl_toolkits.mplot3d import Axes3D\n",
    "fig = plt.figure()\n",
    "ax = fig.add_subplot(111, projection='3d')\n",
    "\n",
    "selection = (coords[3] > 30) & (coords[3] < 31)\n",
    "selection &= (coords[2] < 2000)\n",
    "selection &= (coords[1] < 900)\n",
    "# selection=...\n",
    "\n",
    "# sns.jointplot(coords[1][selection], coords[2][selection], kind=\"hex\", gridsize=200)\n",
    "ax.scatter(\n",
    "    coords[1][selection],\n",
    "    coords[3][selection],\n",
    "    coords[2][selection],\n",
    "    marker=\".\",\n",
    "    c=coords[0][selection],\n",
    "    cmap=\"RdYlGn\"\n",
    ")\n",
    "ax.set_xlabel('MZ1')\n",
    "ax.set_ylabel('RT')\n",
    "ax.set_zlabel('MZ2')"
   ]
  },
  {
   "cell_type": "code",
   "execution_count": null,
   "metadata": {},
   "outputs": [],
   "source": [
    "importlib.reload(network)\n",
    "importlib.reload(alignment)\n",
    "inets = []\n",
    "in_folder = \"/home/sander/Documents/Proteomics/data/ion_networks/ecoli_sonar/ion_networks\"\n",
    "for file_name in sorted(os.listdir(in_folder)):\n",
    "    in_file_name = os.path.join(in_folder, file_name)\n",
    "    inet = network.Network(\n",
    "        in_file_name\n",
    "    )\n",
    "    inets.append(inet)\n",
    "al = alignment.Alignment(\n",
    "    \"/home/sander/Documents/Proteomics/data/ion_networks/ecoli_sonar/alignment/alignment.hdf\"\n",
    "#     \"/home/sander/Documents/Proteomics/data/ion_networks/dda/dda_sonar_test_align.hdf\"\n",
    ")"
   ]
  },
  {
   "cell_type": "code",
   "execution_count": null,
   "metadata": {},
   "outputs": [],
   "source": [
    "importlib.reload(alignment)\n",
    "al = alignment.Alignment(\n",
    "    \"/home/sander/Documents/Proteomics/data/ion_networks/ecoli_sonar/alignment/alignment.hdf\"\n",
    "#     \"/home/sander/Documents/Proteomics/data/ion_networks/dda/dda_sonar_test_align.hdf\"\n",
    ")"
   ]
  },
  {
   "cell_type": "code",
   "execution_count": null,
   "metadata": {},
   "outputs": [],
   "source": [
    "%matplotlib notebook\n",
    "\n",
    "# inets = [\n",
    "#     network.Network(\"/home/sander/Documents/Proteomics/data/ion_networks/dda/tmp.hdf\"),\n",
    "#     network.Network(\"/home/sander/Documents/Proteomics/data/ion_networks/ecoli_sonar/ion_networks/28Oct2016_060_Apex3DIons.hdf\")\n",
    "# ]\n",
    "i = 0\n",
    "j = 1\n",
    "dimension = \"LOGINT\"\n",
    "\n",
    "x1, x2, x3, x4 = al.get_alignment(inets[i], inets[j])\n",
    "array1 = inets[i].get_ion_coordinates(dimension)[x1]\n",
    "array2 = inets[j].get_ion_coordinates(dimension)[x2]\n",
    "\n",
    "# plt.scatter(array1, array2, marker=\".\")\n",
    "sns.jointplot(array1, array2, kind=\"hex\", gridsize=500)"
   ]
  },
  {
   "cell_type": "code",
   "execution_count": null,
   "metadata": {},
   "outputs": [],
   "source": []
  },
  {
   "cell_type": "code",
   "execution_count": null,
   "metadata": {},
   "outputs": [],
   "source": [
    "import sandbox\n",
    "importlib.reload(sandbox)\n",
    "edges1, edges2, ali = sandbox.align_edges(inets[0], inets[1], al)\n",
    "edges1, edges2, ali"
   ]
  },
  {
   "cell_type": "code",
   "execution_count": null,
   "metadata": {},
   "outputs": [],
   "source": [
    "indirect = (ali.T * edges1 * ali).tocsr()"
   ]
  },
  {
   "cell_type": "code",
   "execution_count": null,
   "metadata": {},
   "outputs": [],
   "source": [
    "positive = indirect.multiply(edges2)"
   ]
  },
  {
   "cell_type": "code",
   "execution_count": null,
   "metadata": {},
   "outputs": [],
   "source": [
    "available = edges2 * ali.T * ali"
   ]
  },
  {
   "cell_type": "code",
   "execution_count": null,
   "metadata": {},
   "outputs": [],
   "source": [
    "negative = available - positive"
   ]
  },
  {
   "cell_type": "code",
   "execution_count": null,
   "metadata": {},
   "outputs": [],
   "source": [
    "edges2, indirect, available, positive, negative"
   ]
  },
  {
   "cell_type": "code",
   "execution_count": null,
   "metadata": {},
   "outputs": [],
   "source": [
    "mzs = inets[1].get_ion_coordinates(\"MZ2\")"
   ]
  },
  {
   "cell_type": "code",
   "execution_count": null,
   "metadata": {},
   "outputs": [],
   "source": [
    "%matplotlib notebook\n",
    "\n",
    "first_indices, second_indices = edges2.nonzero()\n",
    "diffs = np.abs(mzs[first_indices]-mzs[second_indices])\n",
    "a, b = np.unique(np.round(diffs,2), return_counts=True)\n",
    "\n",
    "plt.plot(a, b / np.average(b))\n",
    "\n",
    "first_indices, second_indices = negative.nonzero()\n",
    "diffs = np.abs(mzs[first_indices]-mzs[second_indices])\n",
    "a, b = np.unique(np.round(diffs,2), return_counts=True)\n",
    "\n",
    "plt.plot(a, b / np.average(b))\n",
    "\n",
    "first_indices, second_indices = positive.nonzero()\n",
    "diffs = np.abs(mzs[first_indices]-mzs[second_indices])\n",
    "a, b = np.unique(np.round(diffs,2), return_counts=True)\n",
    "\n",
    "plt.plot(a, b / np.average(b))"
   ]
  },
  {
   "cell_type": "code",
   "execution_count": null,
   "metadata": {},
   "outputs": [],
   "source": [
    "np.unique(positive.data)"
   ]
  },
  {
   "cell_type": "code",
   "execution_count": null,
   "metadata": {},
   "outputs": [],
   "source": [
    "inets[0].node_count"
   ]
  },
  {
   "cell_type": "code",
   "execution_count": null,
   "metadata": {},
   "outputs": [],
   "source": []
  },
  {
   "cell_type": "code",
   "execution_count": null,
   "metadata": {},
   "outputs": [],
   "source": []
  },
  {
   "cell_type": "code",
   "execution_count": null,
   "metadata": {},
   "outputs": [],
   "source": [
    "posi = evis[0].get_edge_mask_from_group()\n",
    "negi = evis[0].get_edge_mask_from_group(positive=False)"
   ]
  },
  {
   "cell_type": "code",
   "execution_count": null,
   "metadata": {},
   "outputs": [],
   "source": [
    "first, second = evis[0].ion_network.get_edges().nonzero()"
   ]
  },
  {
   "cell_type": "code",
   "execution_count": null,
   "metadata": {},
   "outputs": [],
   "source": [
    "posis = (posi == 9) & (negi == 0)\n",
    "negis = (posi == 0) & (negi == 9)"
   ]
  },
  {
   "cell_type": "code",
   "execution_count": null,
   "metadata": {},
   "outputs": [],
   "source": [
    "first_posi = first[posis]\n",
    "second_posi = second[posis]\n",
    "first_negi = first[negis]\n",
    "second_negi = second[negis]"
   ]
  },
  {
   "cell_type": "code",
   "execution_count": null,
   "metadata": {},
   "outputs": [],
   "source": [
    "posi_rtd = rts[second_posi] - rts[first_posi]\n",
    "negi_rtd = rts[second_negi] - rts[first_negi]"
   ]
  },
  {
   "cell_type": "code",
   "execution_count": null,
   "metadata": {},
   "outputs": [],
   "source": [
    "posi_rt_diffs, posi_count = np.unique(\n",
    "        posi_rtd,\n",
    "        return_counts=True\n",
    "    )\n",
    "posi_count = np.cumsum(posi_count)\n",
    "negi_rt_diffs, negi_count = np.unique(\n",
    "        negi_rtd,\n",
    "        return_counts=True\n",
    "    )\n",
    "negi_count = np.cumsum(negi_count)"
   ]
  },
  {
   "cell_type": "code",
   "execution_count": null,
   "metadata": {},
   "outputs": [],
   "source": [
    "%matplotlib notebook\n",
    "\n",
    "plt.plot(\n",
    "    posi_rt_diffs, posi_count / posi_count[-1]\n",
    ")\n",
    "plt.plot(\n",
    "    negi_rt_diffs, negi_count / negi_count[-1]\n",
    ")"
   ]
  },
  {
   "cell_type": "code",
   "execution_count": null,
   "metadata": {},
   "outputs": [],
   "source": []
  },
  {
   "cell_type": "code",
   "execution_count": null,
   "metadata": {},
   "outputs": [],
   "source": []
  },
  {
   "cell_type": "code",
   "execution_count": null,
   "metadata": {},
   "outputs": [],
   "source": []
  },
  {
   "cell_type": "code",
   "execution_count": null,
   "metadata": {},
   "outputs": [],
   "source": []
  },
  {
   "cell_type": "code",
   "execution_count": null,
   "metadata": {},
   "outputs": [],
   "source": []
  },
  {
   "cell_type": "code",
   "execution_count": null,
   "metadata": {},
   "outputs": [],
   "source": [
    "reload()\n",
    "\n",
    "interface.Interface.create_database(\n",
    "    input_path=[\n",
    "        \"/home/sander/Documents/Proteomics/data/databases/fasta/ecoli.fasta\",\n",
    "        \"/home/sander/Documents/Proteomics/data/databases/fasta/crap.fasta\",\n",
    "    ],\n",
    "    output_directory=\"/home/sander/Documents/Proteomics/data/databases/hdf\",\n",
    "    parameter_file_name=\"\",\n",
    "    log_file_name=None\n",
    ")"
   ]
  },
  {
   "cell_type": "code",
   "execution_count": null,
   "metadata": {},
   "outputs": [],
   "source": [
    "reload()\n",
    "\n",
    "db = database.Database(\"/home/sander/Documents/Proteomics/data/databases/hdf/crap_ecoli_concatenated_decoy.hdf\")\n",
    "db_mzs = db.get_fragment_coordinates(\"mz\")"
   ]
  },
  {
   "cell_type": "code",
   "execution_count": null,
   "metadata": {},
   "outputs": [],
   "source": [
    "reload()\n",
    "\n",
    "an = annotation.Annotation(\n",
    "    evidence=evis[0],\n",
    "    database=\"/home/sander/Documents/Proteomics/data/databases/hdf/crap_ecoli_concatenated_decoy.hdf\",\n",
    "    parameters={\n",
    "        \"annotation_ppm\": 20,\n",
    "    },\n",
    "    logger=logger\n",
    ")"
   ]
  },
  {
   "cell_type": "code",
   "execution_count": null,
   "metadata": {},
   "outputs": [],
   "source": [
    "mzs = inets[0].get_ion_coordinates(\"FRAGMENT_MZ\")"
   ]
  },
  {
   "cell_type": "code",
   "execution_count": null,
   "metadata": {},
   "outputs": [],
   "source": []
  },
  {
   "cell_type": "code",
   "execution_count": null,
   "metadata": {},
   "outputs": [],
   "source": [
    "db.get_peptide_coordinates(\"sequence\").dtype == np.dtype('O')"
   ]
  },
  {
   "cell_type": "code",
   "execution_count": null,
   "metadata": {},
   "outputs": [],
   "source": [
    "reload()\n",
    "\n",
    "an = annotation.Annotation(\n",
    "    evidence=evis[0]\n",
    ")\n",
    "low_peptide_indices, high_peptide_indices = an.get_candidate_peptide_indices_for_nodes(\n",
    "    db,\n",
    "    {\"annotation_ppm\": 10}\n",
    ")"
   ]
  },
  {
   "cell_type": "code",
   "execution_count": null,
   "metadata": {},
   "outputs": [],
   "source": [
    "np.flatnonzero(high_peptide_indices - low_peptide_indices)"
   ]
  },
  {
   "cell_type": "code",
   "execution_count": null,
   "metadata": {},
   "outputs": [],
   "source": [
    "db_peptides = db.get_fragment_coordinates(\"peptide_index\")\n",
    "indptr, indices = an.ion_network.get_edges(\n",
    "    indptr_and_indices=True\n",
    ")"
   ]
  },
  {
   "cell_type": "code",
   "execution_count": null,
   "metadata": {},
   "outputs": [],
   "source": [
    "@numba.njit(parallel=True)\n",
    "def nb_isin(array1, array2):\n",
    "    out = np.empty(array1.shape[0], np.bool_)\n",
    "    array2_set = set(array2)\n",
    "    for i in numba.prange(array1.shape[0]):\n",
    "        out[i] = array1[i] in array2_set\n",
    "    return out\n",
    "\n",
    "\n",
    "@numba.njit\n",
    "def annotate_edges(\n",
    "    indptr,\n",
    "    indices,\n",
    "    low_peptide_indices,\n",
    "    high_peptide_indices,\n",
    "    db_peptides,\n",
    "    max_batch\n",
    "):\n",
    "    result_indptr = np.empty(indptr[-1], np.int64)\n",
    "    result_indices = np.empty(max_batch, np.int64)\n",
    "    current_index = 0\n",
    "#     max_batch = np.max(np.diff(indptr) * (high_peptide_indices - low_peptide_indices))\n",
    "    for start, end, low, high in zip(\n",
    "        indptr[:-1],\n",
    "        indptr[1:],\n",
    "        low_peptide_indices,\n",
    "        high_peptide_indices,\n",
    "    ):\n",
    "        if (low == high) or (start == end):\n",
    "            result_indptr[start:end] = current_index\n",
    "            continue\n",
    "        if ((end - start) * (high - low) + current_index) >= result_indices.shape[0]:\n",
    "            new_result_indices = np.empty(max_batch + current_index, np.int64)\n",
    "            new_result_indices[:current_index] = result_indices\n",
    "            result_indices = new_result_indices\n",
    "        peptide_candidates = db_peptides[low: high]\n",
    "        peptide_candidates_set = set(peptide_candidates)\n",
    "        neighbors = indices[start: end]\n",
    "        for i, neighbor in enumerate(neighbors):\n",
    "            neighbor_low = low_peptide_indices[neighbor]\n",
    "            neighbor_high = high_peptide_indices[neighbor]\n",
    "            if neighbor_low == neighbor_high:\n",
    "                result_indptr[start + i] = current_index\n",
    "                continue\n",
    "            neighbor_peptide_candidates = db_peptides[neighbor_low: neighbor_high]\n",
    "            for neighbor_peptide_candidate in neighbor_peptide_candidates:\n",
    "                if neighbor_peptide_candidate in peptide_candidates_set:\n",
    "                    result_indices[current_index] = neighbor_peptide_candidate\n",
    "                    current_index += 1\n",
    "            result_indptr[start + i] = current_index\n",
    "    result_indptr[1:] = result_indptr[:-1]\n",
    "    result_indptr[0] = 0\n",
    "    return result_indptr, result_indices[:current_index]"
   ]
  },
  {
   "cell_type": "code",
   "execution_count": null,
   "metadata": {},
   "outputs": [],
   "source": [
    "a, aa = annotate_edges(\n",
    "    indptr[:100],\n",
    "    indices,\n",
    "    low_peptide_indices,\n",
    "    high_peptide_indices,\n",
    "    db_peptides,\n",
    "    np.max(np.diff(indptr) * (high_peptide_indices - low_peptide_indices))\n",
    ")"
   ]
  },
  {
   "cell_type": "code",
   "execution_count": null,
   "metadata": {},
   "outputs": [],
   "source": [
    "import multiprocessing as mp\n",
    "\n",
    "\n",
    "def pfunction(function):\n",
    "    def starred_function(*args, **kwargs):\n",
    "        return function(*args, **kwargs)\n",
    "    return starred_function\n",
    "\n",
    "\n",
    "def star_annotate(args, **kwargs):\n",
    "    return annotate_edges(*args, **kwargs)\n",
    "\n",
    "# with mp.Pool(8) as p:\n",
    "#     r = p.map(\n",
    "#         star_annotate,\n",
    "#         [\n",
    "#             (\n",
    "#                 indptr[i * int(np.ceil(len(indptr) / 8)): (i + 1) * int(np.ceil(len(indptr) / 8))],\n",
    "#                 indices,\n",
    "#                 low_peptide_indices,\n",
    "#                 high_peptide_indices,\n",
    "#                 db_peptides,\n",
    "#                 np.max(np.diff(indptr) * (high_peptide_indices - low_peptide_indices))\n",
    "#             ) for i in range(8)\n",
    "#         ]\n",
    "#     )"
   ]
  },
  {
   "cell_type": "code",
   "execution_count": null,
   "metadata": {},
   "outputs": [],
   "source": [
    "r"
   ]
  },
  {
   "cell_type": "code",
   "execution_count": null,
   "metadata": {},
   "outputs": [],
   "source": [
    "%matplotlib notebook\n",
    "\n",
    "plt.plot(np.bincount(x))"
   ]
  },
  {
   "cell_type": "code",
   "execution_count": null,
   "metadata": {},
   "outputs": [],
   "source": []
  },
  {
   "cell_type": "code",
   "execution_count": null,
   "metadata": {},
   "outputs": [],
   "source": []
  },
  {
   "cell_type": "code",
   "execution_count": null,
   "metadata": {},
   "outputs": [],
   "source": []
  },
  {
   "cell_type": "code",
   "execution_count": null,
   "metadata": {},
   "outputs": [],
   "source": []
  },
  {
   "cell_type": "code",
   "execution_count": null,
   "metadata": {},
   "outputs": [],
   "source": []
  },
  {
   "cell_type": "code",
   "execution_count": null,
   "metadata": {},
   "outputs": [],
   "source": []
  },
  {
   "cell_type": "code",
   "execution_count": null,
   "metadata": {},
   "outputs": [],
   "source": []
  },
  {
   "cell_type": "code",
   "execution_count": null,
   "metadata": {},
   "outputs": [],
   "source": []
  },
  {
   "cell_type": "code",
   "execution_count": null,
   "metadata": {},
   "outputs": [],
   "source": [
    "@sandbox.generate_in_parallel(cpu_count=4)\n",
    "@numba.njit\n",
    "def annotate_edges(\n",
    "    selection,\n",
    "    indptr,\n",
    "    indices,\n",
    "    low_peptide_indices,\n",
    "    high_peptide_indices,\n",
    "    db_peptides,\n",
    "    max_batch\n",
    "):\n",
    "    result_indptr = np.empty(indptr[-1], np.int64)\n",
    "    result_indices = np.empty(max_batch, np.int64)\n",
    "    current_index = 0\n",
    "#     max_batch = np.max(np.diff(indptr) * (high_peptide_indices - low_peptide_indices))\n",
    "    for select in selection:\n",
    "        start = indptr[select]\n",
    "        end = indptr[select + 1]\n",
    "        low = low_peptide_indices[select]\n",
    "        high = high_peptide_indices[select]\n",
    "        if (low == high) or (start == end):\n",
    "            result_indptr[start:end] = current_index\n",
    "            continue\n",
    "        if ((end - start) * (high - low) + current_index) >= result_indices.shape[0]:\n",
    "            new_result_indices = np.empty(max_batch + current_index, np.int64)\n",
    "            new_result_indices[:current_index] = result_indices\n",
    "            result_indices = new_result_indices\n",
    "        peptide_candidates = db_peptides[low: high]\n",
    "        peptide_candidates_set = set(peptide_candidates)\n",
    "        neighbors = indices[start: end]\n",
    "        for i, neighbor in enumerate(neighbors):\n",
    "            neighbor_low = low_peptide_indices[neighbor]\n",
    "            neighbor_high = high_peptide_indices[neighbor]\n",
    "            if neighbor_low == neighbor_high:\n",
    "                result_indptr[start + i] = current_index\n",
    "                continue\n",
    "            neighbor_peptide_candidates = db_peptides[neighbor_low: neighbor_high]\n",
    "            for neighbor_peptide_candidate in neighbor_peptide_candidates:\n",
    "                if neighbor_peptide_candidate in peptide_candidates_set:\n",
    "                    result_indices[current_index] = neighbor_peptide_candidate\n",
    "                    current_index += 1\n",
    "            result_indptr[start + i] = current_index\n",
    "    result_indptr[1:] = result_indptr[:-1]\n",
    "    result_indptr[0] = 0\n",
    "    return result_indptr[indptr[selection[0]]: indptr[selection[-1]]].copy(), result_indices[:current_index].copy()"
   ]
  },
  {
   "cell_type": "code",
   "execution_count": null,
   "metadata": {},
   "outputs": [],
   "source": [
    "k = [ \n",
    "    i for i in annotate_edges(\n",
    "#         [indptr[i*100:(i+1)*100+1] for i in range(4)],\n",
    "        np.arange(0, 100),\n",
    "        indptr,\n",
    "        indices,\n",
    "        low_peptide_indices,\n",
    "        high_peptide_indices,\n",
    "        db_peptides,\n",
    "        np.max(np.diff(indptr) * (high_peptide_indices - low_peptide_indices))\n",
    "    )\n",
    "]"
   ]
  },
  {
   "cell_type": "code",
   "execution_count": null,
   "metadata": {},
   "outputs": [],
   "source": [
    "i = annotate_edges(\n",
    "#         [indptr[i*100:(i+1)*100+1] for i in range(4)],\n",
    "        np.arange(1000, 10000),\n",
    "        indptr,\n",
    "        indices,\n",
    "        low_peptide_indices,\n",
    "        high_peptide_indices,\n",
    "        db_peptides,\n",
    "        np.max(np.diff(indptr) * (high_peptide_indices - low_peptide_indices))\n",
    "    )"
   ]
  },
  {
   "cell_type": "code",
   "execution_count": null,
   "metadata": {},
   "outputs": [],
   "source": [
    "i"
   ]
  },
  {
   "cell_type": "code",
   "execution_count": null,
   "metadata": {},
   "outputs": [],
   "source": []
  },
  {
   "cell_type": "code",
   "execution_count": null,
   "metadata": {},
   "outputs": [],
   "source": []
  },
  {
   "cell_type": "code",
   "execution_count": null,
   "metadata": {},
   "outputs": [],
   "source": [
    "[indptr[i*25:(i+1)*25] for i in range(4)]"
   ]
  },
  {
   "cell_type": "code",
   "execution_count": null,
   "metadata": {},
   "outputs": [],
   "source": [
    "[indptr[:100] for i in range(4)]"
   ]
  },
  {
   "cell_type": "code",
   "execution_count": null,
   "metadata": {},
   "outputs": [],
   "source": []
  },
  {
   "cell_type": "code",
   "execution_count": null,
   "metadata": {},
   "outputs": [],
   "source": []
  },
  {
   "cell_type": "code",
   "execution_count": null,
   "metadata": {},
   "outputs": [],
   "source": []
  },
  {
   "cell_type": "code",
   "execution_count": null,
   "metadata": {},
   "outputs": [],
   "source": []
  },
  {
   "cell_type": "code",
   "execution_count": null,
   "metadata": {},
   "outputs": [],
   "source": [
    "z = [ \n",
    "    i for i in parallelizedGenerator(\n",
    "        8,\n",
    "        annotate_edges,\n",
    "        [\n",
    "            indptr[i * int(np.ceil(len(indptr) / 8)): (i + 1) * int(np.ceil(len(indptr) / 8))] for i in range(8)\n",
    "        ],\n",
    "        indices,\n",
    "        low_peptide_indices,\n",
    "        high_peptide_indices,\n",
    "        db_peptides,\n",
    "        np.max(np.diff(indptr) * (high_peptide_indices - low_peptide_indices))\n",
    "    )\n",
    "]"
   ]
  },
  {
   "cell_type": "code",
   "execution_count": null,
   "metadata": {},
   "outputs": [],
   "source": []
  },
  {
   "cell_type": "code",
   "execution_count": null,
   "metadata": {},
   "outputs": [],
   "source": []
  },
  {
   "cell_type": "code",
   "execution_count": null,
   "metadata": {},
   "outputs": [],
   "source": [
    "import multiprocessing as mp\n",
    "\n",
    "def parallelizedGenerator(\n",
    "    process_count,\n",
    "    function,\n",
    "    iterable,\n",
    "    *args,\n",
    "    **kwargs\n",
    "):\n",
    "    in_queue = mp.Queue()\n",
    "    out_queue = mp.Queue()\n",
    "\n",
    "    def _parallel_function():\n",
    "        while True:\n",
    "            element = in_queue.get()\n",
    "            if element is None:\n",
    "                out_queue.put(None)\n",
    "                return\n",
    "            result = function(\n",
    "                element,\n",
    "                *args,\n",
    "                **kwargs\n",
    "            )\n",
    "            out_queue.put(result)\n",
    "\n",
    "    for element in iterable:\n",
    "        in_queue.put(element)\n",
    "    processes = []\n",
    "    for process_index in range(process_count):\n",
    "        process = mp.Process(\n",
    "            target=_parallel_function,\n",
    "        )\n",
    "        in_queue.put(None)\n",
    "        process.start()\n",
    "        processes.append(process)\n",
    "    running_processes = process_count\n",
    "    while True:\n",
    "        result = out_queue.get()\n",
    "        if result is None:\n",
    "            running_processes -= 1\n",
    "            if running_processes == 0:\n",
    "                break\n",
    "        else:\n",
    "            yield result\n",
    "    in_queue.close()\n",
    "    out_queue.close()\n",
    "    in_queue.join_thread()\n",
    "    out_queue.join_thread()\n",
    "    while processes:\n",
    "        process = processes.pop()\n",
    "        process.join()"
   ]
  },
  {
   "cell_type": "code",
   "execution_count": null,
   "metadata": {},
   "outputs": [],
   "source": []
  },
  {
   "cell_type": "code",
   "execution_count": null,
   "metadata": {},
   "outputs": [],
   "source": []
  },
  {
   "cell_type": "code",
   "execution_count": null,
   "metadata": {},
   "outputs": [],
   "source": []
  },
  {
   "cell_type": "code",
   "execution_count": null,
   "metadata": {},
   "outputs": [],
   "source": []
  },
  {
   "cell_type": "code",
   "execution_count": null,
   "metadata": {},
   "outputs": [],
   "source": []
  }
 ],
 "metadata": {
  "kernelspec": {
   "display_name": "Python [conda env:ion_networks]",
   "language": "python",
   "name": "conda-env-ion_networks-py"
  },
  "language_info": {
   "codemirror_mode": {
    "name": "ipython",
    "version": 3
   },
   "file_extension": ".py",
   "mimetype": "text/x-python",
   "name": "python",
   "nbconvert_exporter": "python",
   "pygments_lexer": "ipython3",
   "version": "3.8.1"
  }
 },
 "nbformat": 4,
 "nbformat_minor": 4
}
