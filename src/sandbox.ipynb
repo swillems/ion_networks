{
 "cells": [
  {
   "cell_type": "code",
   "execution_count": 5,
   "metadata": {},
   "outputs": [],
   "source": [
    "import os\n",
    "import importlib\n",
    "from timeit import timeit\n",
    "import logging\n",
    "import sys\n",
    "import importlib\n",
    "import time\n",
    "\n",
    "import numpy as np\n",
    "import pandas as pd\n",
    "import scipy\n",
    "import h5py\n",
    "import matplotlib\n",
    "from matplotlib import pyplot as plt\n",
    "import seaborn as sns\n",
    "import numba\n",
    "\n",
    "import ms_utils\n",
    "import browser\n",
    "import interface\n",
    "import ms_database\n",
    "import ms_run_files\n",
    "\n",
    "import sandbox\n",
    "\n",
    "def reload():\n",
    "    importlib.reload(ms_run_files)\n",
    "    importlib.reload(ms_utils)\n",
    "    importlib.reload(browser)\n",
    "    importlib.reload(interface)\n",
    "    importlib.reload(sandbox)\n",
    "    importlib.reload(ms_database)\n",
    "   "
   ]
  },
  {
   "cell_type": "code",
   "execution_count": 7,
   "metadata": {},
   "outputs": [],
   "source": [
    "reload()\n",
    "\n",
    "inets = []\n",
    "# in_folder = \"/home/sander/Documents/Proteomics/data/ion_networks\"\n",
    "in_folder = \"/home/sander/Documents/Proteomics/data/ecoli\"\n",
    "# in_folder = \"/home/sander/Documents/Proteomics/data/jpt/APEX\"\n",
    "for file_name in ms_utils.get_file_names_with_extension([in_folder], \".inet.hdf\"):\n",
    "    inets.append(\n",
    "        ms_run_files.Network(\n",
    "            file_name\n",
    "        )\n",
    "    )\n",
    "    \n",
    "evis = []\n",
    "# in_folder = \"/home/sander/Documents/Proteomics/data/ion_networks\"\n",
    "for i, file_name in enumerate(ms_utils.get_file_names_with_extension([in_folder], \".evidence.hdf\")):\n",
    "    evis.append(\n",
    "        ms_run_files.Evidence(\n",
    "            file_name,\n",
    "            inets[i]\n",
    "        )\n",
    "    )"
   ]
  },
  {
   "cell_type": "code",
   "execution_count": null,
   "metadata": {},
   "outputs": [],
   "source": []
  },
  {
   "cell_type": "code",
   "execution_count": null,
   "metadata": {},
   "outputs": [],
   "source": [
    "self_inet = inets[0]\n",
    "self_evi = evis[0]\n",
    "other_inet = inets[1]\n",
    "other_evi = evis[1]\n",
    "\n",
    "self_alignment = self_evi.get_aligned_nodes_from_group(\n",
    "    other_evi.file_name_base,\n",
    "    return_as_mask=False\n",
    ")\n",
    "other_alignment = other_evi.get_aligned_nodes_from_group(\n",
    "    self_evi.file_name_base,\n",
    "    return_as_mask=False\n",
    ")\n",
    "# other_logints = inets[other_name].get_ion_coordinates(\n",
    "#     \"FRAGMENT_LOGINT\",\n",
    "#     indices=other_alignment\n",
    "# )\n",
    "# logints[i, self_alignment] = other_logints"
   ]
  },
  {
   "cell_type": "code",
   "execution_count": null,
   "metadata": {},
   "outputs": [],
   "source": [
    "%matplotlib notebook\n",
    "\n",
    "fig = plt.figure()\n",
    "ax = fig.add_subplot(111)\n",
    "\n",
    "ind_start = 0\n",
    "ind_size = len(self_alignment)\n",
    "\n",
    "a1 = self_inet.get_ion_coordinates(\"PRECURSOR_RT\", indices = self_alignment[ind_start: ind_start+ind_size])\n",
    "b1 = self_inet.get_ion_coordinates(\"PRECURSOR_MZ\", indices = self_alignment[ind_start: ind_start+ind_size])\n",
    "a2 = other_inet.get_ion_coordinates(\"PRECURSOR_RT\", indices = other_alignment[ind_start: ind_start+ind_size])\n",
    "b2 = other_inet.get_ion_coordinates(\"PRECURSOR_MZ\", indices = other_alignment[ind_start: ind_start+ind_size])\n",
    "\n",
    "# ax=\n",
    "\n",
    "start_edges = list(zip(a1, b1))\n",
    "end_edges = list(zip(a2, b2))\n",
    "# colors = positive_counts[selection] - negative_counts[selection]\n",
    "edges = np.array(list(zip(start_edges, end_edges)))\n",
    "\n",
    "x = ax.add_collection(\n",
    "    matplotlib.collections.LineCollection(edges),\n",
    ")\n",
    "x.set_color(\"grey\")\n",
    "ax.scatter(a1, b1, marker=\".\", c=\"g\", zorder=10)\n",
    "ax.scatter(a2, b2, marker=\".\", c=\"r\", zorder=10)\n",
    "ax.set_xlabel(\"PRECURSOR_RT\")\n",
    "ax.set_ylabel(\"PRECURSOR_MZ\")\n",
    "# sns.jointplot(a1[ind_start: ind_start+ind_size], a2[ind_start: ind_start+ind_size], kind=\"kde\",gridsize=100)"
   ]
  },
  {
   "cell_type": "code",
   "execution_count": null,
   "metadata": {},
   "outputs": [],
   "source": [
    "import matplotlib\n",
    "sorted(matplotlib.colors.__dict__['CSS4_COLORS'])"
   ]
  },
  {
   "cell_type": "code",
   "execution_count": null,
   "metadata": {},
   "outputs": [],
   "source": [
    "# repro = evi.get_aligned_nodes_from_group()"
   ]
  },
  {
   "cell_type": "code",
   "execution_count": null,
   "metadata": {},
   "outputs": [],
   "source": [
    "inet=inets[0]\n",
    "evi=evis[0]\n",
    "\n",
    "%matplotlib notebook\n",
    "coords = inet.get_ion_coordinates(inet2.dimensions)\n",
    "print(inet.dimensions)\n",
    "from mpl_toolkits.mplot3d import Axes3D\n",
    "fig = plt.figure()\n",
    "ax = fig.add_subplot(111, projection='3d')\n",
    "\n",
    "# repro = evi.get_aligned_nodes_from_group()\n",
    "\n",
    "selection = (coords[3] > 30) & (coords[3] < 30.2)\n",
    "selection &= (coords[2] < 2000)\n",
    "selection &= (coords[1] < 900)\n",
    "# selection=...\n",
    "\n",
    "# sns.jointplot(coords[1][selection], coords[2][selection], kind=\"hex\", gridsize=200)\n",
    "ax.scatter(\n",
    "    coords[1][selection],\n",
    "    coords[3][selection],\n",
    "    coords[2][selection],\n",
    "    marker=\".\",\n",
    "    c=coords[0][selection],\n",
    "    cmap=\"RdYlGn\"\n",
    ")\n",
    "ax.set_xlabel(inet.dimensions[1])\n",
    "ax.set_ylabel(inet.dimensions[3])\n",
    "ax.set_zlabel(inet.dimensions[2])"
   ]
  },
  {
   "cell_type": "code",
   "execution_count": null,
   "metadata": {},
   "outputs": [],
   "source": []
  },
  {
   "cell_type": "code",
   "execution_count": null,
   "metadata": {},
   "outputs": [],
   "source": []
  },
  {
   "cell_type": "code",
   "execution_count": null,
   "metadata": {},
   "outputs": [],
   "source": []
  },
  {
   "cell_type": "code",
   "execution_count": null,
   "metadata": {},
   "outputs": [],
   "source": []
  },
  {
   "cell_type": "code",
   "execution_count": null,
   "metadata": {},
   "outputs": [],
   "source": []
  },
  {
   "cell_type": "code",
   "execution_count": null,
   "metadata": {},
   "outputs": [],
   "source": []
  },
  {
   "cell_type": "code",
   "execution_count": null,
   "metadata": {},
   "outputs": [],
   "source": []
  },
  {
   "cell_type": "code",
   "execution_count": null,
   "metadata": {},
   "outputs": [],
   "source": []
  },
  {
   "cell_type": "code",
   "execution_count": null,
   "metadata": {},
   "outputs": [],
   "source": []
  },
  {
   "cell_type": "code",
   "execution_count": null,
   "metadata": {},
   "outputs": [],
   "source": []
  },
  {
   "cell_type": "code",
   "execution_count": null,
   "metadata": {},
   "outputs": [],
   "source": []
  },
  {
   "cell_type": "code",
   "execution_count": null,
   "metadata": {},
   "outputs": [],
   "source": []
  },
  {
   "cell_type": "code",
   "execution_count": null,
   "metadata": {},
   "outputs": [],
   "source": [
    "reload()\n",
    "\n",
    "an = annotation.Annotation(\n",
    "    evidence=evis[0],\n",
    "    database=\"/home/sander/Documents/Proteomics/data/databases/hdf/crap_ecoli_concatenated_decoy.hdf\",\n",
    "    parameters={\n",
    "        \"annotation_ppm\": 20,\n",
    "    },\n",
    "    logger=logger\n",
    ")"
   ]
  },
  {
   "cell_type": "code",
   "execution_count": null,
   "metadata": {},
   "outputs": [],
   "source": [
    "self=inets[1]\n",
    "# indptr, indices = self.get_edges(\n",
    "#     indptr_and_indices=True\n",
    "# )\n",
    "# x, y = self.get_edges(return_as_scipy_csr=False)"
   ]
  },
  {
   "cell_type": "code",
   "execution_count": null,
   "metadata": {},
   "outputs": [],
   "source": [
    "rts = self.get_ion_coordinates(\"PRECURSOR_RT\")\n",
    "rts[:1000000]"
   ]
  },
  {
   "cell_type": "code",
   "execution_count": null,
   "metadata": {},
   "outputs": [],
   "source": []
  },
  {
   "cell_type": "code",
   "execution_count": null,
   "metadata": {},
   "outputs": [],
   "source": []
  },
  {
   "cell_type": "code",
   "execution_count": null,
   "metadata": {},
   "outputs": [],
   "source": []
  },
  {
   "cell_type": "code",
   "execution_count": null,
   "metadata": {},
   "outputs": [],
   "source": []
  },
  {
   "cell_type": "code",
   "execution_count": null,
   "metadata": {},
   "outputs": [],
   "source": []
  },
  {
   "cell_type": "code",
   "execution_count": null,
   "metadata": {},
   "outputs": [],
   "source": []
  },
  {
   "cell_type": "code",
   "execution_count": null,
   "metadata": {},
   "outputs": [],
   "source": []
  },
  {
   "cell_type": "code",
   "execution_count": null,
   "metadata": {},
   "outputs": [],
   "source": []
  },
  {
   "cell_type": "code",
   "execution_count": null,
   "metadata": {},
   "outputs": [],
   "source": [
    "reload()\n",
    "\n",
    "self = inets[0]\n",
    "other = inets[1]\n",
    "# self_ints, self_mzs, self_pmzs, self_rts = self.get_ion_coordinates()\n",
    "# other_ints, other_mzs, other_pmzs, other_rts = other.get_ion_coordinates()\n",
    "# calibrated_self_rts = sandbox.calibrate_precursor_rt(self, other, ppm=10)"
   ]
  },
  {
   "cell_type": "code",
   "execution_count": null,
   "metadata": {},
   "outputs": [],
   "source": []
  },
  {
   "cell_type": "code",
   "execution_count": null,
   "metadata": {},
   "outputs": [],
   "source": [
    "self_mzs = pd.read_csv(\n",
    "    \"/home/sander/Documents/Proteomics/data/jpt/APEX/200117_JPTmix_prop_Fullloop_01_Apex3DIons.inet.csv\",\n",
    "    usecols=[\"FRAGMENT_MZ\"]\n",
    ").values.flatten()\n",
    "other_mzs = pd.read_csv(\n",
    "    \"/home/sander/Documents/Proteomics/data/jpt/APEX/200117_JPTmix_prop_Fullloop_08_Apex3DIons.inet.csv\",\n",
    "    usecols=[\"FRAGMENT_MZ\"]\n",
    ").values.flatten()\n",
    "\n",
    "self_logints = pd.read_csv(\n",
    "    \"/home/sander/Documents/Proteomics/data/jpt/APEX/200117_JPTmix_prop_Fullloop_01_Apex3DIons.inet.csv\",\n",
    "    usecols=[\"FRAGMENT_LOGINT\"]\n",
    ").values.flatten()\n",
    "other_logints = pd.read_csv(\n",
    "    \"/home/sander/Documents/Proteomics/data/jpt/APEX/200117_JPTmix_prop_Fullloop_08_Apex3DIons.inet.csv\",\n",
    "    usecols=[\"FRAGMENT_LOGINT\"]\n",
    ").values.flatten()"
   ]
  },
  {
   "cell_type": "code",
   "execution_count": null,
   "metadata": {},
   "outputs": [],
   "source": [
    "# le_indices = np.concatenate(\n",
    "#     [\n",
    "#         start + np.argpartition(\n",
    "#             ions[\"INTENSITY\"][start: end], - to_select_per_sample\n",
    "#         )[-to_select_per_sample:] for start, end in zip(\n",
    "#             start_indices[:-1],\n",
    "#             start_indices[1:]\n",
    "#         )\n",
    "#     ]\n",
    "# )\n"
   ]
  },
  {
   "cell_type": "code",
   "execution_count": null,
   "metadata": {},
   "outputs": [],
   "source": [
    "calibration_ions = 50000\n",
    "self_ions = np.argpartition(self_logints, -calibration_ions)[-calibration_ions:]\n",
    "other_ions = np.argpartition(other_logints, -calibration_ions)[-calibration_ions:]"
   ]
  },
  {
   "cell_type": "code",
   "execution_count": null,
   "metadata": {},
   "outputs": [],
   "source": [
    "self_mzs = self_mzs[self_ions]\n",
    "other_mzs = other_mzs[other_ions]"
   ]
  },
  {
   "cell_type": "code",
   "execution_count": null,
   "metadata": {},
   "outputs": [],
   "source": []
  },
  {
   "cell_type": "code",
   "execution_count": null,
   "metadata": {},
   "outputs": [],
   "source": [
    "np.sort(self_mzs), np.sort(other_mzs)"
   ]
  },
  {
   "cell_type": "code",
   "execution_count": null,
   "metadata": {},
   "outputs": [],
   "source": [
    "self_mzs = self.get_ion_coordinates(\"FRAGMENT_MZ\")\n",
    "other_mzs = other.get_ion_coordinates(\"FRAGMENT_MZ\")\n",
    "# self_indices, other_indices = sandbox.quick_align(self_mzs, other_mzs, ppm=10)\n",
    "# self_rts = self.get_ion_coordinates(\"PRECURSOR_RT\")\n",
    "# other_rts = other.get_ion_coordinates(\"PRECURSOR_RT\", indices=other_indices)"
   ]
  },
  {
   "cell_type": "code",
   "execution_count": null,
   "metadata": {},
   "outputs": [],
   "source": [
    "self_inds = np.repeat(0, len(self_mzs))\n",
    "other_inds = np.repeat(1, len(other_mzs))"
   ]
  },
  {
   "cell_type": "code",
   "execution_count": null,
   "metadata": {},
   "outputs": [],
   "source": [
    "mzs = np.concatenate([self_mzs, other_mzs])\n",
    "inds = np.concatenate([self_inds, other_inds])\n",
    "order = np.argsort(mzs)\n",
    "mzs = mzs[order]\n",
    "inds = inds[order]"
   ]
  },
  {
   "cell_type": "code",
   "execution_count": null,
   "metadata": {},
   "outputs": [],
   "source": [
    "mz_diffs = np.diff(mzs)\n",
    "ind_diffs = np.diff(inds)\n",
    "x = np.concatenate([mz_diffs[ind_diffs==1], -mz_diffs[ind_diffs==-1]])"
   ]
  },
  {
   "cell_type": "code",
   "execution_count": null,
   "metadata": {},
   "outputs": [],
   "source": [
    "x = (mz_diffs[:-2] < mz_diffs[1:-1]) & (mz_diffs[1:-1] < mz_diffs[2:])\n",
    "x &= ind_diffs[1:-1] != 0\n",
    "x = mz_diffs[1:-1][x] * -ind_diffs[1:-1][x]"
   ]
  },
  {
   "cell_type": "code",
   "execution_count": null,
   "metadata": {},
   "outputs": [],
   "source": [
    "np.quantile(\n",
    "    mz_diffs[ind_diffs==-1] * 10**6 / mzs[:-1][ind_diffs==-1],\n",
    "    0.5\n",
    ")"
   ]
  },
  {
   "cell_type": "code",
   "execution_count": null,
   "metadata": {},
   "outputs": [],
   "source": []
  },
  {
   "cell_type": "code",
   "execution_count": null,
   "metadata": {},
   "outputs": [],
   "source": [
    "%matplotlib notebook\n",
    "\n",
    "# s = np.concatenate([mz_diffs[ind_diffs==1], -mz_diffs[ind_diffs==-1]])\n",
    "\n",
    "plt.scatter(\n",
    "    mzs[:-1][ind_diffs==1],\n",
    "    mz_diffs[ind_diffs==1] * 10**6 / mzs[:-1][ind_diffs==1]\n",
    "#     np.sort(self_mzs),\n",
    "#     np.sort(other_mzs) - np.sort(self_mzs),\n",
    "#     10**6 * (np.sort(self_mzs) - np.sort(other_mzs)) / np.sort(self_mzs)\n",
    ")"
   ]
  },
  {
   "cell_type": "code",
   "execution_count": null,
   "metadata": {},
   "outputs": [],
   "source": [
    "%matplotlib notebook\n",
    "\n",
    "a, b = np.unique(np.round(x,3), return_counts=True)\n",
    "print(np.quantile(x, np.arange(101)/100), np.median(x))\n",
    "# plt.plot(a,b)\n",
    "plt.plot(np.quantile(x, np.arange(101)/100))"
   ]
  },
  {
   "cell_type": "code",
   "execution_count": null,
   "metadata": {},
   "outputs": [],
   "source": []
  },
  {
   "cell_type": "code",
   "execution_count": null,
   "metadata": {},
   "outputs": [],
   "source": [
    "new_self_rts = []\n",
    "for self_start_index, self_end_index, other_rt_start, other_rt_end in zip(\n",
    "    self_indices[:-1],\n",
    "    self_indices[1:],\n",
    "    other_rts[:-1],\n",
    "    other_rts[1:]\n",
    "):\n",
    "#     if self_end_index == self_start_index:\n",
    "#         continue\n",
    "    self_rt_start = self_rts[self_start_index]\n",
    "    self_rt_end = self_rts[self_end_index]\n",
    "    if self_rt_start == self_rt_end:\n",
    "        new_rts = np.repeat(other_rt_start, self_end_index - self_start_index)\n",
    "    else:\n",
    "        slope = (other_rt_end - other_rt_start) / (self_rt_end - self_rt_start)\n",
    "        new_rts = other_rt_start + slope * (\n",
    "            self_rts[self_start_index: self_end_index] - self_rt_start\n",
    "        )\n",
    "    new_self_rts.append(new_rts)\n",
    "new_self_rts.append([other_rts[-1]])\n",
    "new_self_rts = np.concatenate(new_self_rts)"
   ]
  },
  {
   "cell_type": "code",
   "execution_count": null,
   "metadata": {},
   "outputs": [],
   "source": [
    "new_self_rts.shape[0] - self_rts.shape[0]"
   ]
  },
  {
   "cell_type": "code",
   "execution_count": null,
   "metadata": {},
   "outputs": [],
   "source": []
  },
  {
   "cell_type": "code",
   "execution_count": null,
   "metadata": {},
   "outputs": [],
   "source": [
    "self_rts = self.get_ion_coordinates(\"PRECURSOR_RT\")"
   ]
  },
  {
   "cell_type": "code",
   "execution_count": null,
   "metadata": {},
   "outputs": [],
   "source": [
    "%matplotlib notebook\n",
    "\n",
    "plt.scatter(self_rts, self_rts - calibrated_self_rts)"
   ]
  },
  {
   "cell_type": "code",
   "execution_count": null,
   "metadata": {},
   "outputs": [],
   "source": []
  },
  {
   "cell_type": "code",
   "execution_count": null,
   "metadata": {},
   "outputs": [],
   "source": [
    "reload()\n",
    "\n",
    "self_ints, self_mzs, self_dts, self_rts = self.get_ion_coordinates()\n",
    "other_ints, other_mzs, other_dts, other_rts = other.get_ion_coordinates()\n",
    "self_indices, other_indices = sandbox.quick_align(self_mzs, other_mzs, ppm=10)"
   ]
  },
  {
   "cell_type": "code",
   "execution_count": null,
   "metadata": {},
   "outputs": [],
   "source": []
  },
  {
   "cell_type": "code",
   "execution_count": null,
   "metadata": {},
   "outputs": [],
   "source": [
    "# s = slice(0, None, 1000)\n",
    "a1 = self_rts[self_indices]\n",
    "a2 = other_rts[other_indices]\n",
    "c = self_dts[self_indices] - other_dts[other_indices]"
   ]
  },
  {
   "cell_type": "code",
   "execution_count": null,
   "metadata": {},
   "outputs": [],
   "source": [
    "ppm=10\n",
    "\n",
    "self_mz_order = np.argsort(self_mzs)\n",
    "other_mz_order = np.argsort(other_mzs)\n",
    "max_mz_diff = 1 + ppm * 10**-6\n",
    "low_limits = np.searchsorted(\n",
    "    self_mzs[self_mz_order],\n",
    "    other_mzs[other_mz_order] / max_mz_diff,\n",
    "    \"left\"\n",
    ")\n",
    "high_limits = np.searchsorted(\n",
    "    self_mzs[self_mz_order],\n",
    "    other_mzs[other_mz_order] * max_mz_diff,\n",
    "    \"right\"\n",
    ")\n",
    "other_rt_order = np.argsort(other_mz_order)\n",
    "self_indices = np.concatenate(\n",
    "    [\n",
    "        self_mz_order[l:h] for l, h in zip(\n",
    "            low_limits[other_rt_order],\n",
    "            high_limits[other_rt_order]\n",
    "        )\n",
    "    ]\n",
    ")\n",
    "other_indices = np.repeat(\n",
    "    np.arange(len(other_rt_order)),\n",
    "    high_limits[other_rt_order] - low_limits[other_rt_order]\n",
    ")"
   ]
  },
  {
   "cell_type": "code",
   "execution_count": null,
   "metadata": {},
   "outputs": [],
   "source": [
    "%matplotlib notebook\n",
    "\n",
    "plt.plot(a1, a2)"
   ]
  },
  {
   "cell_type": "code",
   "execution_count": null,
   "metadata": {},
   "outputs": [],
   "source": [
    "%matplotlib notebook\n",
    "\n",
    "# plt.plot(a1, a2)\n",
    "# plt.scatter(a1, a2, marker=\".\", c=c, cmap=\"RdYlGn\")\n",
    "# sns.jointplot(a1, a2, kind=\"hex\", gridsize=200)\n",
    "# sns.jointplot(self_rts[self_indices], other_rts[other_indices], kind=\"hex\", gridsize=100)\n",
    "plt.scatter(self_rts[self_indices], other_rts[other_indices], marker=\".\")"
   ]
  },
  {
   "cell_type": "code",
   "execution_count": null,
   "metadata": {},
   "outputs": [],
   "source": []
  },
  {
   "cell_type": "code",
   "execution_count": null,
   "metadata": {},
   "outputs": [],
   "source": [
    "%matplotlib notebook\n",
    "\n",
    "a,b=np.unique(np.round(c,0), return_counts=True)\n",
    "plt.plot(a,b)"
   ]
  },
  {
   "cell_type": "code",
   "execution_count": null,
   "metadata": {},
   "outputs": [],
   "source": [
    "self_rts = self.get_ion_coordinates(\"PRECURSOR_RT\")\n",
    "other_rts = other.get_ion_coordinates(\"PRECURSOR_RT\", indices=other_indices)\n",
    "new_self_rts = []\n",
    "for self_start_index, self_end_index, other_rt_start, other_rt_end in zip(\n",
    "    self_indices[:-1],\n",
    "    self_indices[1:],\n",
    "    other_rts[:-1],\n",
    "    other_rts[1:]\n",
    "):\n",
    "    self_rt_start = self_rts[self_start_index]\n",
    "    self_rt_end = self_rts[self_end_index]\n",
    "    if self_rt_start == self_rt_end:\n",
    "        new_rts = np.repeat(other_rt_start, self_end_index - self_start_index)\n",
    "    else:\n",
    "        slope = (other_rt_end - other_rt_start) / (self_rt_end - self_rt_start)\n",
    "        new_rts = other_rt_start + slope * (\n",
    "            self_rts[self_start_index: self_end_index] - self_rt_start\n",
    "        )\n",
    "    new_self_rts.append(new_rts)\n",
    "new_self_rts.append([other_rts[-1]])\n",
    "new_self_rts = np.concatenate(new_self_rts)"
   ]
  },
  {
   "cell_type": "code",
   "execution_count": null,
   "metadata": {},
   "outputs": [],
   "source": [
    "# %matplotlib notebook\n",
    "\n",
    "# s = slice(0, None, 1000)\n",
    "# plt.scatter(new_self_rts[s], self_rts[s])"
   ]
  },
  {
   "cell_type": "code",
   "execution_count": null,
   "metadata": {},
   "outputs": [],
   "source": []
  },
  {
   "cell_type": "code",
   "execution_count": null,
   "metadata": {},
   "outputs": [],
   "source": []
  },
  {
   "cell_type": "code",
   "execution_count": null,
   "metadata": {},
   "outputs": [],
   "source": [
    "ints, mzs, pmzs, rts = inets[0].get_ion_coordinates()"
   ]
  },
  {
   "cell_type": "code",
   "execution_count": null,
   "metadata": {},
   "outputs": [],
   "source": [
    "reload()\n",
    "\n",
    "ali = evis[0].get_alignment(evis[1])\n",
    "# pairwise_alignment = inets[0].align_nodes(\n",
    "#     inets[1],\n",
    "#     parameters\n",
    "# )\n",
    "# ali = [\n",
    "#     pairwise_alignment.T.tocsr().indices,\n",
    "#     pairwise_alignment.indices\n",
    "# ]\n",
    "# a = np.repeat(np.arange(pairwise_alignment.shape[0]), np.diff(pairwise_alignment.indptr))\n",
    "# aa = pairwise_alignment.nonzero()[0]\n",
    "# a,aa,np.bincount(a==aa)"
   ]
  },
  {
   "cell_type": "code",
   "execution_count": null,
   "metadata": {},
   "outputs": [],
   "source": [
    "def rt_diffs(isotopic_distance, ppm, rts):\n",
    "    mz_order = np.argsort(mzs)\n",
    "    mzs_in_mz_order = mzs[mz_order]\n",
    "    if isotopic_distance > 0:\n",
    "        lower_limits = np.searchsorted(\n",
    "            mzs_in_mz_order,\n",
    "            (mzs_in_mz_order + isotopic_distance) / (1 + ppm * 10**-6),\n",
    "            \"left\"\n",
    "        )\n",
    "    else:\n",
    "        lower_limits = np.arange(len(mzs)) + 1\n",
    "    upper_limits = np.searchsorted(\n",
    "        mzs_in_mz_order,\n",
    "        (mzs_in_mz_order + isotopic_distance) * (1 + ppm * 10**-6),\n",
    "        \"right\"\n",
    "    )\n",
    "    first_isotopic_pairs = np.repeat(mz_order, upper_limits - lower_limits)\n",
    "    second_isotopic_pairs = np.concatenate([mz_order[l: u] for u, l in zip(upper_limits, lower_limits)])\n",
    "    return np.abs(rts[first_isotopic_pairs] - rts[second_isotopic_pairs])"
   ]
  },
  {
   "cell_type": "code",
   "execution_count": null,
   "metadata": {},
   "outputs": [],
   "source": [
    "isotopic_rts = rt_diffs(isotopic_distance = 1.002, ppm=2, rts=rts)\n",
    "random_rts = rt_diffs(isotopic_distance = 3.8254, ppm=2, rts=rts)"
   ]
  },
  {
   "cell_type": "code",
   "execution_count": null,
   "metadata": {},
   "outputs": [],
   "source": [
    "all_rts = np.concatenate([isotopic_rts, random_rts])\n",
    "all_labels = np.repeat([False, True], [len(isotopic_rts), len(random_rts)])\n",
    "order = np.argsort(all_rts)\n",
    "all_rts = all_rts[order]\n",
    "all_labels = all_labels[order]\n",
    "fdr = np.cumsum(all_labels) / (1 + np.arange(len(all_labels)))"
   ]
  },
  {
   "cell_type": "code",
   "execution_count": null,
   "metadata": {},
   "outputs": [],
   "source": [
    "np.argmin(fdr)"
   ]
  },
  {
   "cell_type": "code",
   "execution_count": null,
   "metadata": {},
   "outputs": [],
   "source": [
    "%matplotlib notebook\n",
    "\n",
    "s = slice(0,10000000, 1)\n",
    "plt.plot(all_rts[s], fdr[s])"
   ]
  },
  {
   "cell_type": "code",
   "execution_count": null,
   "metadata": {},
   "outputs": [],
   "source": [
    "isotope_rt_diffs, isotope_count = np.unique(\n",
    "        isotopic_rts,\n",
    "        return_counts=True\n",
    "    )\n",
    "isotope_count = np.cumsum(isotope_count)\n",
    "random_rt_diffs, random_count = np.unique(\n",
    "        random_rts,\n",
    "        return_counts=True\n",
    "    )\n",
    "random_count = np.cumsum(random_count)"
   ]
  },
  {
   "cell_type": "code",
   "execution_count": null,
   "metadata": {},
   "outputs": [],
   "source": [
    "# random_diffs = isotope_rt_diffs\n",
    "# random_counts = isotope_count"
   ]
  },
  {
   "cell_type": "code",
   "execution_count": null,
   "metadata": {},
   "outputs": [],
   "source": [
    "%matplotlib notebook\n",
    "\n",
    "# plt.plot(\n",
    "#     *np.unique(\n",
    "#         np.round(\n",
    "#             rts[first_isotopic_pairs] - rts[second_isotopic_pairs],\n",
    "#             3\n",
    "#         ),\n",
    "#         return_counts=True\n",
    "#     )\n",
    "# )\n",
    "\n",
    "\n",
    "plt.plot(\n",
    "    isotope_rt_diffs, isotope_count/isotope_count[-1]\n",
    ")\n",
    "plt.plot(\n",
    "    random_rt_diffs, random_count/random_count[-1]\n",
    ")\n",
    "# plt.plot(\n",
    "#     random_diffs, random_counts/random_counts[-1]+0.0029-0.001, c=\"r\"\n",
    "# )\n",
    "# plt.plot(\n",
    "#     random_diffs, random_counts/random_counts[-1]+0.0029+0.0015, c=\"r\"\n",
    "# )\n",
    "# plt.plot(\n",
    "#     random_diffs, random_counts/random_counts[-1], c=\"r\"\n",
    "# )\n",
    "plt.axhline(0.5, c=\"grey\")\n",
    "plt.axvline(0, c=\"grey\")\n",
    "# plt.plot([-15,15], [0.313,0.69])\n",
    "\n",
    "# plt.plot(\n",
    "#     isotope_rt_diffs,\n",
    "#     np.gradient(isotope_count),\n",
    "# )"
   ]
  },
  {
   "cell_type": "code",
   "execution_count": null,
   "metadata": {},
   "outputs": [],
   "source": [
    "%matplotlib notebook\n",
    "\n",
    "ricos = np.diff(isotope_count) / np.diff(isotope_rt_diffs)\n",
    "plt.plot(isotope_rt_diffs[:-1], ricos)"
   ]
  },
  {
   "cell_type": "code",
   "execution_count": null,
   "metadata": {},
   "outputs": [],
   "source": [
    "%matplotlib notebook\n",
    "\n",
    "sns.jointplot(\n",
    "    rts[first_isotopic_pairs[::10]],\n",
    "    rts[second_isotopic_pairs[::10]],\n",
    "    kind=\"hex\",\n",
    "    gridsize=500\n",
    ")"
   ]
  },
  {
   "cell_type": "code",
   "execution_count": null,
   "metadata": {},
   "outputs": [],
   "source": [
    "%matplotlib notebook\n",
    "\n",
    "sns.jointplot(\n",
    "    inets[0].get_ion_coordinates(\"FRAGMENT_LOGINT\", indices=ali[:,0]),\n",
    "    inets[1].get_ion_coordinates(\"FRAGMENT_LOGINT\", indices=ali[:,1]),\n",
    "    kind=\"hex\",\n",
    "    gridsize=500\n",
    ")"
   ]
  },
  {
   "cell_type": "code",
   "execution_count": null,
   "metadata": {},
   "outputs": [],
   "source": [
    "left, right = inets[0].get_edges(return_as_scipy_csr=False)\n",
    "mzs = inets[0].get_ion_coordinates(\"MZ2\")\n",
    "diffs2 = mzs[left] - mzs[right]"
   ]
  },
  {
   "cell_type": "code",
   "execution_count": null,
   "metadata": {},
   "outputs": [],
   "source": [
    "z = evidences[0].get_evidence(network_keys=[k.key for k in inets[1:]], return_total=True)"
   ]
  },
  {
   "cell_type": "code",
   "execution_count": null,
   "metadata": {},
   "outputs": [],
   "source": [
    "edges = inets[0].get_edges()\n",
    "edges.data = z[0] > z[1] + 8\n",
    "edges.eliminate_zeros()\n",
    "left, right = edges.nonzero()\n",
    "mzs = inets[0].get_ion_coordinates(\"MZ2\")\n",
    "diffs = mzs[left] - mzs[right]"
   ]
  },
  {
   "cell_type": "code",
   "execution_count": null,
   "metadata": {},
   "outputs": [],
   "source": [
    "# ori_a, ori_b = np.unique(np.round(diffs2, 3), return_counts=True)\n",
    "new_a, new_b = np.unique(np.round(diffs, 3), return_counts=True)"
   ]
  },
  {
   "cell_type": "code",
   "execution_count": null,
   "metadata": {},
   "outputs": [],
   "source": []
  },
  {
   "cell_type": "code",
   "execution_count": null,
   "metadata": {},
   "outputs": [],
   "source": [
    "%matplotlib notebook\n",
    "\n",
    "plt.plot(ori_a, ori_b/np.max(ori_b))\n",
    "plt.plot(new_a, new_b/np.max(new_b))"
   ]
  },
  {
   "cell_type": "code",
   "execution_count": null,
   "metadata": {},
   "outputs": [],
   "source": []
  },
  {
   "cell_type": "code",
   "execution_count": null,
   "metadata": {},
   "outputs": [],
   "source": []
  },
  {
   "cell_type": "code",
   "execution_count": null,
   "metadata": {},
   "outputs": [],
   "source": []
  },
  {
   "cell_type": "code",
   "execution_count": null,
   "metadata": {},
   "outputs": [],
   "source": [
    "mzs = inets[0].get_ion_coordinates(\"MZ2\")\n",
    "diffs = np.abs(mzs[left] - mzs[right])\n",
    "good = np.abs(diffs - 1.002) < 0.01"
   ]
  },
  {
   "cell_type": "code",
   "execution_count": null,
   "metadata": {},
   "outputs": [],
   "source": [
    "inets[0].get_ion_coordinates(indices=z[0])"
   ]
  },
  {
   "cell_type": "code",
   "execution_count": null,
   "metadata": {},
   "outputs": [],
   "source": [
    "posi = z[0][good]\n",
    "negi = z[1][good]\n",
    "np.bincount(posi), np.bincount(negi)"
   ]
  },
  {
   "cell_type": "code",
   "execution_count": null,
   "metadata": {},
   "outputs": [],
   "source": [
    "# iso = np.histogram2d(posi, negi, bins=10)[0].astype(np.int)\n",
    "# total = np.histogram2d(z[0], z[1], bins=10)[0].astype(np.int)\n",
    "iso, total"
   ]
  },
  {
   "cell_type": "code",
   "execution_count": null,
   "metadata": {},
   "outputs": [],
   "source": [
    "%matplotlib notebook\n",
    "# sns.heatmap(np.log(iso/total), cmap=\"RdYlGn\")\n",
    "sns.heatmap(np.log(iso + 1), cmap=\"RdYlGn\")"
   ]
  },
  {
   "cell_type": "code",
   "execution_count": null,
   "metadata": {},
   "outputs": [],
   "source": []
  },
  {
   "cell_type": "code",
   "execution_count": null,
   "metadata": {},
   "outputs": [],
   "source": [
    "selected = (z[0] + z[1]) > 0\n",
    "# np.unique(z[0][selected] / (z[0] + z[1])[selected], return_counts=True)\n",
    "a, b = np.unique(z[0][selected]-z[1][selected], return_counts=True)"
   ]
  },
  {
   "cell_type": "code",
   "execution_count": null,
   "metadata": {},
   "outputs": [],
   "source": [
    "%matplotlib notebook\n",
    "\n",
    "plt.plot(a, b)"
   ]
  },
  {
   "cell_type": "code",
   "execution_count": null,
   "metadata": {},
   "outputs": [],
   "source": [
    "%matplotlib notebook\n",
    "\n",
    "first_mz2, first_rt1, first_mz1, first_logint = inets[0].get_ion_coordinates([\"MZ2\", \"RT\", \"MZ1\", \"LOGINT\"])\n",
    "second_mz2, second_rt2, second_mz1, second_logint = inets[1].get_ion_coordinates([\"MZ2\", \"RT\", \"MZ1\", \"LOGINT\"])\n",
    "a = al.get_alignment(inets[0], inets[1], return_as_scipy_csr=False)\n",
    "\n",
    "sns.jointplot(first_mz1, first_mz2, kind=\"hex\", gridsize=500)\n",
    "sns.jointplot(first_logint[a[:,0]], second_logint[a[:,1]], kind=\"hex\", gridsize=500)"
   ]
  },
  {
   "cell_type": "code",
   "execution_count": null,
   "metadata": {},
   "outputs": [],
   "source": []
  },
  {
   "cell_type": "code",
   "execution_count": null,
   "metadata": {},
   "outputs": [],
   "source": []
  },
  {
   "cell_type": "code",
   "execution_count": null,
   "metadata": {},
   "outputs": [],
   "source": []
  },
  {
   "cell_type": "code",
   "execution_count": null,
   "metadata": {},
   "outputs": [],
   "source": []
  },
  {
   "cell_type": "code",
   "execution_count": null,
   "metadata": {},
   "outputs": [],
   "source": []
  },
  {
   "cell_type": "code",
   "execution_count": null,
   "metadata": {},
   "outputs": [],
   "source": []
  },
  {
   "cell_type": "code",
   "execution_count": null,
   "metadata": {},
   "outputs": [],
   "source": []
  },
  {
   "cell_type": "code",
   "execution_count": null,
   "metadata": {},
   "outputs": [],
   "source": [
    "importlib.reload(network)\n",
    "mzs, rts = inet.get_ion_coordinates([\"MZ2\", \"RT\"])\n",
    "isotopic_distance = 1.002\n",
    "ppm = 10\n",
    "\n",
    "isotope_rt_diffs, isotope_count = network.determine_isotopic_rt_difference(\n",
    "    mzs,\n",
    "    rts,\n",
    "    isotopic_distance,\n",
    "    ppm\n",
    ")"
   ]
  },
  {
   "cell_type": "code",
   "execution_count": null,
   "metadata": {},
   "outputs": [],
   "source": [
    "# mz_order = np.argsort(mzs)\n",
    "# mzs_in_mz_order = mzs[mz_order]\n",
    "# print(mzs_in_mz_order, (mzs_in_mz_order + isotopic_distance) * (1 + ppm * 10**-6))\n",
    "rts"
   ]
  },
  {
   "cell_type": "code",
   "execution_count": null,
   "metadata": {},
   "outputs": [],
   "source": [
    "ratios = []\n",
    "resolution = np.linspace(0,1,100)\n",
    "lower_limits = np.arange(len(rts)) + 1\n",
    "for limit in resolution:\n",
    "    upper_limits = np.searchsorted(\n",
    "        rts,\n",
    "        rts + limit,\n",
    "        \"right\"\n",
    "    )\n",
    "    total = np.sum(upper_limits-lower_limits)\n",
    "    ratio = isotope_count[np.searchsorted(isotope_rt_diffs, limit, \"right\")] / total\n",
    "    ratios.append(ratio)"
   ]
  },
  {
   "cell_type": "code",
   "execution_count": null,
   "metadata": {},
   "outputs": [],
   "source": [
    "%matplotlib notebook\n",
    "\n",
    "plt.plot(resolution, ratios)"
   ]
  },
  {
   "cell_type": "code",
   "execution_count": null,
   "metadata": {},
   "outputs": [],
   "source": []
  },
  {
   "cell_type": "code",
   "execution_count": null,
   "metadata": {},
   "outputs": [],
   "source": [
    "%matplotlib notebook\n",
    "\n",
    "\n",
    "plt.plot(isotope_rt_diffs, isotope_count / isotope_count[-1])"
   ]
  },
  {
   "cell_type": "code",
   "execution_count": null,
   "metadata": {},
   "outputs": [],
   "source": []
  },
  {
   "cell_type": "code",
   "execution_count": null,
   "metadata": {},
   "outputs": [],
   "source": []
  },
  {
   "cell_type": "code",
   "execution_count": null,
   "metadata": {},
   "outputs": [],
   "source": []
  },
  {
   "cell_type": "code",
   "execution_count": null,
   "metadata": {},
   "outputs": [],
   "source": []
  },
  {
   "cell_type": "code",
   "execution_count": null,
   "metadata": {},
   "outputs": [],
   "source": [
    "indptr, indices = inet.get_edge_indptr_and_indices()"
   ]
  },
  {
   "cell_type": "code",
   "execution_count": null,
   "metadata": {},
   "outputs": [],
   "source": [
    "second_indices = np.repeat(np.arange(len(indptr) - 1), np.diff(indptr))"
   ]
  },
  {
   "cell_type": "code",
   "execution_count": null,
   "metadata": {},
   "outputs": [],
   "source": [
    "%matplotlib notebook\n",
    "\n",
    "mzs = inet.get_ion_coordinates(\"MZ2\")\n",
    "diffs = np.abs(mzs[indices]-mzs[second_indices])\n",
    "\n",
    "plt.plot(*np.unique(np.round(diffs,2), return_counts=True))\n",
    "\n",
    "# plt.scatter(mzs[pairs[:,0]], diffs, marker=\".\")\n",
    "# mzds = mzs[pairs[:,0]] - mzs[pairs[:,1]]\n",
    "# sns.jointplot(mzs[pairs[:,0]], mzs[pairs[:,0]]-mzs[pairs[:,1]], kind=\"hex\", gridsize=100)"
   ]
  },
  {
   "cell_type": "code",
   "execution_count": null,
   "metadata": {},
   "outputs": [],
   "source": []
  },
  {
   "cell_type": "code",
   "execution_count": null,
   "metadata": {},
   "outputs": [],
   "source": []
  },
  {
   "cell_type": "code",
   "execution_count": null,
   "metadata": {},
   "outputs": [],
   "source": [
    "importlib.reload(network)\n",
    "# inet1 = network.Network(\n",
    "#     \"/home/sander/Documents/Proteomics/data/ion_networks/ecoli_sonar/ion_networks/28Oct2016_060_Apex3DIons.hdf\"\n",
    "# )\n",
    "inet2 = network.Network(\n",
    "    \"/home/sander/Documents/Proteomics/data/tmp.hdf\"\n",
    ")\n",
    "# inet.logger=logger"
   ]
  },
  {
   "cell_type": "code",
   "execution_count": null,
   "metadata": {},
   "outputs": [],
   "source": [
    "coords = inet2.get_ion_coordinates(inet2.dimensions)\n",
    "print(inet2.dimensions)"
   ]
  },
  {
   "cell_type": "code",
   "execution_count": null,
   "metadata": {},
   "outputs": [],
   "source": [
    "%matplotlib notebook\n",
    "\n",
    "selection = (coords[3] > 30) & (coords[3] < 31)\n",
    "# selection=...\n",
    "\n",
    "# sns.jointplot(coords[1][selection], coords[2][selection], kind=\"hex\", gridsize=200)\n",
    "plt.scatter(coords[1][selection], coords[3][selection], marker=\".\", c=coords[0][selection], cmap=\"RdYlGn\")"
   ]
  },
  {
   "cell_type": "code",
   "execution_count": null,
   "metadata": {},
   "outputs": [],
   "source": [
    "inet2 = network.Network(\n",
    "    \"/home/sander/Documents/Sandbox/test.inet.hdf\"\n",
    ")\n",
    "# inet2=inets[0]\n",
    "\n",
    "%matplotlib notebook\n",
    "coords = inet2.get_ion_coordinates(inet2.dimensions)\n",
    "print(inet2.dimensions)\n",
    "from mpl_toolkits.mplot3d import Axes3D\n",
    "fig = plt.figure()\n",
    "ax = fig.add_subplot(111, projection='3d')\n",
    "\n",
    "selection = (coords[3] > 30) & (coords[3] < 30.2)\n",
    "selection &= (coords[2] < 2000)\n",
    "selection &= (coords[1] < 900)\n",
    "# selection=...\n",
    "\n",
    "# sns.jointplot(coords[1][selection], coords[2][selection], kind=\"hex\", gridsize=200)\n",
    "ax.scatter(\n",
    "    coords[1][selection],\n",
    "    coords[3][selection],\n",
    "    coords[2][selection],\n",
    "    marker=\".\",\n",
    "    c=coords[0][selection],\n",
    "    cmap=\"RdYlGn\"\n",
    ")\n",
    "ax.set_xlabel(inet2.dimensions[1])\n",
    "ax.set_ylabel(inet2.dimensions[3])\n",
    "ax.set_zlabel(inet2.dimensions[2])"
   ]
  },
  {
   "cell_type": "code",
   "execution_count": null,
   "metadata": {},
   "outputs": [],
   "source": [
    "%matplotlib notebook\n",
    "coords = inet1.get_ion_coordinates(inet1.dimensions)\n",
    "print(inet1.dimensions)\n",
    "from mpl_toolkits.mplot3d import Axes3D\n",
    "fig = plt.figure()\n",
    "ax = fig.add_subplot(111, projection='3d')\n",
    "\n",
    "selection = (coords[3] > 30) & (coords[3] < 31)\n",
    "selection &= (coords[2] < 2000)\n",
    "selection &= (coords[1] < 900)\n",
    "# selection=...\n",
    "\n",
    "# sns.jointplot(coords[1][selection], coords[2][selection], kind=\"hex\", gridsize=200)\n",
    "ax.scatter(\n",
    "    coords[1][selection],\n",
    "    coords[3][selection],\n",
    "    coords[2][selection],\n",
    "    marker=\".\",\n",
    "    c=coords[0][selection],\n",
    "    cmap=\"RdYlGn\"\n",
    ")\n",
    "ax.set_xlabel('MZ1')\n",
    "ax.set_ylabel('RT')\n",
    "ax.set_zlabel('MZ2')"
   ]
  },
  {
   "cell_type": "code",
   "execution_count": null,
   "metadata": {},
   "outputs": [],
   "source": [
    "importlib.reload(network)\n",
    "importlib.reload(alignment)\n",
    "inets = []\n",
    "in_folder = \"/home/sander/Documents/Proteomics/data/ion_networks/ecoli_sonar/ion_networks\"\n",
    "for file_name in sorted(os.listdir(in_folder)):\n",
    "    in_file_name = os.path.join(in_folder, file_name)\n",
    "    inet = network.Network(\n",
    "        in_file_name\n",
    "    )\n",
    "    inets.append(inet)\n",
    "al = alignment.Alignment(\n",
    "    \"/home/sander/Documents/Proteomics/data/ion_networks/ecoli_sonar/alignment/alignment.hdf\"\n",
    "#     \"/home/sander/Documents/Proteomics/data/ion_networks/dda/dda_sonar_test_align.hdf\"\n",
    ")"
   ]
  },
  {
   "cell_type": "code",
   "execution_count": null,
   "metadata": {},
   "outputs": [],
   "source": [
    "importlib.reload(alignment)\n",
    "al = alignment.Alignment(\n",
    "    \"/home/sander/Documents/Proteomics/data/ion_networks/ecoli_sonar/alignment/alignment.hdf\"\n",
    "#     \"/home/sander/Documents/Proteomics/data/ion_networks/dda/dda_sonar_test_align.hdf\"\n",
    ")"
   ]
  },
  {
   "cell_type": "code",
   "execution_count": null,
   "metadata": {},
   "outputs": [],
   "source": [
    "%matplotlib notebook\n",
    "\n",
    "# inets = [\n",
    "#     network.Network(\"/home/sander/Documents/Proteomics/data/ion_networks/dda/tmp.hdf\"),\n",
    "#     network.Network(\"/home/sander/Documents/Proteomics/data/ion_networks/ecoli_sonar/ion_networks/28Oct2016_060_Apex3DIons.hdf\")\n",
    "# ]\n",
    "i = 0\n",
    "j = 1\n",
    "dimension = \"LOGINT\"\n",
    "\n",
    "x1, x2, x3, x4 = al.get_alignment(inets[i], inets[j])\n",
    "array1 = inets[i].get_ion_coordinates(dimension)[x1]\n",
    "array2 = inets[j].get_ion_coordinates(dimension)[x2]\n",
    "\n",
    "# plt.scatter(array1, array2, marker=\".\")\n",
    "sns.jointplot(array1, array2, kind=\"hex\", gridsize=500)"
   ]
  },
  {
   "cell_type": "code",
   "execution_count": null,
   "metadata": {},
   "outputs": [],
   "source": []
  },
  {
   "cell_type": "code",
   "execution_count": null,
   "metadata": {},
   "outputs": [],
   "source": [
    "import sandbox\n",
    "importlib.reload(sandbox)\n",
    "edges1, edges2, ali = sandbox.align_edges(inets[0], inets[1], al)\n",
    "edges1, edges2, ali"
   ]
  },
  {
   "cell_type": "code",
   "execution_count": null,
   "metadata": {},
   "outputs": [],
   "source": [
    "indirect = (ali.T * edges1 * ali).tocsr()"
   ]
  },
  {
   "cell_type": "code",
   "execution_count": null,
   "metadata": {},
   "outputs": [],
   "source": [
    "positive = indirect.multiply(edges2)"
   ]
  },
  {
   "cell_type": "code",
   "execution_count": null,
   "metadata": {},
   "outputs": [],
   "source": [
    "available = edges2 * ali.T * ali"
   ]
  },
  {
   "cell_type": "code",
   "execution_count": null,
   "metadata": {},
   "outputs": [],
   "source": [
    "negative = available - positive"
   ]
  },
  {
   "cell_type": "code",
   "execution_count": null,
   "metadata": {},
   "outputs": [],
   "source": [
    "edges2, indirect, available, positive, negative"
   ]
  },
  {
   "cell_type": "code",
   "execution_count": null,
   "metadata": {},
   "outputs": [],
   "source": [
    "mzs = inets[1].get_ion_coordinates(\"MZ2\")"
   ]
  },
  {
   "cell_type": "code",
   "execution_count": null,
   "metadata": {},
   "outputs": [],
   "source": [
    "%matplotlib notebook\n",
    "\n",
    "first_indices, second_indices = edges2.nonzero()\n",
    "diffs = np.abs(mzs[first_indices]-mzs[second_indices])\n",
    "a, b = np.unique(np.round(diffs,2), return_counts=True)\n",
    "\n",
    "plt.plot(a, b / np.average(b))\n",
    "\n",
    "first_indices, second_indices = negative.nonzero()\n",
    "diffs = np.abs(mzs[first_indices]-mzs[second_indices])\n",
    "a, b = np.unique(np.round(diffs,2), return_counts=True)\n",
    "\n",
    "plt.plot(a, b / np.average(b))\n",
    "\n",
    "first_indices, second_indices = positive.nonzero()\n",
    "diffs = np.abs(mzs[first_indices]-mzs[second_indices])\n",
    "a, b = np.unique(np.round(diffs,2), return_counts=True)\n",
    "\n",
    "plt.plot(a, b / np.average(b))"
   ]
  },
  {
   "cell_type": "code",
   "execution_count": null,
   "metadata": {},
   "outputs": [],
   "source": [
    "np.unique(positive.data)"
   ]
  },
  {
   "cell_type": "code",
   "execution_count": null,
   "metadata": {},
   "outputs": [],
   "source": [
    "inets[0].node_count"
   ]
  },
  {
   "cell_type": "code",
   "execution_count": null,
   "metadata": {},
   "outputs": [],
   "source": []
  },
  {
   "cell_type": "code",
   "execution_count": null,
   "metadata": {},
   "outputs": [],
   "source": []
  },
  {
   "cell_type": "code",
   "execution_count": null,
   "metadata": {},
   "outputs": [],
   "source": [
    "posi = evis[0].get_edge_mask_from_group()\n",
    "negi = evis[0].get_edge_mask_from_group(positive=False)"
   ]
  },
  {
   "cell_type": "code",
   "execution_count": null,
   "metadata": {},
   "outputs": [],
   "source": [
    "first, second = evis[0].ion_network.get_edges().nonzero()"
   ]
  },
  {
   "cell_type": "code",
   "execution_count": null,
   "metadata": {},
   "outputs": [],
   "source": [
    "posis = (posi == 9) & (negi == 0)\n",
    "negis = (posi == 0) & (negi == 9)"
   ]
  },
  {
   "cell_type": "code",
   "execution_count": null,
   "metadata": {},
   "outputs": [],
   "source": [
    "first_posi = first[posis]\n",
    "second_posi = second[posis]\n",
    "first_negi = first[negis]\n",
    "second_negi = second[negis]"
   ]
  },
  {
   "cell_type": "code",
   "execution_count": null,
   "metadata": {},
   "outputs": [],
   "source": [
    "posi_rtd = rts[second_posi] - rts[first_posi]\n",
    "negi_rtd = rts[second_negi] - rts[first_negi]"
   ]
  },
  {
   "cell_type": "code",
   "execution_count": null,
   "metadata": {},
   "outputs": [],
   "source": [
    "posi_rt_diffs, posi_count = np.unique(\n",
    "        posi_rtd,\n",
    "        return_counts=True\n",
    "    )\n",
    "posi_count = np.cumsum(posi_count)\n",
    "negi_rt_diffs, negi_count = np.unique(\n",
    "        negi_rtd,\n",
    "        return_counts=True\n",
    "    )\n",
    "negi_count = np.cumsum(negi_count)"
   ]
  },
  {
   "cell_type": "code",
   "execution_count": null,
   "metadata": {},
   "outputs": [],
   "source": [
    "%matplotlib notebook\n",
    "\n",
    "plt.plot(\n",
    "    posi_rt_diffs, posi_count / posi_count[-1]\n",
    ")\n",
    "plt.plot(\n",
    "    negi_rt_diffs, negi_count / negi_count[-1]\n",
    ")"
   ]
  },
  {
   "cell_type": "code",
   "execution_count": null,
   "metadata": {},
   "outputs": [],
   "source": []
  },
  {
   "cell_type": "code",
   "execution_count": null,
   "metadata": {},
   "outputs": [],
   "source": []
  },
  {
   "cell_type": "code",
   "execution_count": null,
   "metadata": {},
   "outputs": [],
   "source": []
  },
  {
   "cell_type": "code",
   "execution_count": null,
   "metadata": {},
   "outputs": [],
   "source": []
  },
  {
   "cell_type": "code",
   "execution_count": null,
   "metadata": {},
   "outputs": [],
   "source": []
  },
  {
   "cell_type": "code",
   "execution_count": 20,
   "metadata": {},
   "outputs": [
    {
     "name": "stdout",
     "output_type": "stream",
     "text": [
      "2020-04-21 10:43:15,268 > ==================================================\n",
      "2020-04-21 10:43:15,269 > ion_networks.py -f /home/sander/.local/share/jupyter/runtime/kernel-0c68f397-49de-4f29-8ae0-727a1e4e4f0e.json\n",
      "2020-04-21 10:43:15,269 > This log is being saved as: /home/sander/Documents/Proteomics/ion_networks/src/log.txt\n",
      "2020-04-21 10:43:15,270 > \n",
      "2020-04-21 10:43:15,270 > Command: database\n",
      "2020-04-21 10:43:15,271 > 1 input_file_name: ['/home/sander/Documents/Proteomics/data/databases/fasta/crap.fasta']\n",
      "2020-04-21 10:43:15,271 > output_directory: /home/sander/Documents/Proteomics/data/databases/hdf\n",
      "2020-04-21 10:43:15,272 > parameter_file_name: \n",
      "2020-04-21 10:43:15,272 > log_file_name: /home/sander/Documents/Proteomics/ion_networks/src/log.txt\n",
      "2020-04-21 10:43:15,273 > \n",
      "2020-04-21 10:43:15,276 > Creating database /home/sander/Documents/Proteomics/data/databases/hdf/crap_concatenated_decoy.hdf\n",
      "2020-04-21 10:43:15,276 > Reading /home/sander/Documents/Proteomics/data/databases/fasta/crap.fasta\n",
      "2020-04-21 10:43:15,305 > Writing proteins to /home/sander/Documents/Proteomics/data/databases/hdf/crap_concatenated_decoy.hdf\n",
      "2020-04-21 10:43:15,328 > Writing peptidoforms to /home/sander/Documents/Proteomics/data/databases/hdf/crap_concatenated_decoy.hdf\n",
      "2020-04-21 10:43:15,673 > Predicting fragments\n",
      "(1)500 (6)500 (4)500 (0)500 (5)500 (2)500 (7)500 (3)500 (0)1000 (6)1000 (1)1000 (5)1000 (4)1000 (7)1000 (2)1000 (3)1000 (0)1500 (6)1500 (5)1500 (1)1500 (4)1500 (7)1500 (2)1500 (3)1500 \n",
      "(4)500 (7)500 (0)500 (5)500 (1)500 (2)500 (6)500 (3)500 (4)1000 (5)1000 (7)1000 (0)1000 (2)1000 (6)1000 (3)1000 (1)1000 (7)1500 (5)1500 (2)1500 (4)1500 (3)1500 (1)1500 (0)1500 (6)1500 \n",
      "(0)500 (2)500 (6)500 (5)500 (3)500 (7)500 (1)500 (4)500 (0)1000 (5)1000 (6)1000 (1)1000 (2)1000 (7)1000 (3)1000 (4)1000 (6)1500 (2)1500 (0)1500 (5)1500 (1)1500 (7)1500 (3)1500 (4)1500 \n",
      "2020-04-21 10:43:23,029 > Writing fragments to /home/sander/Documents/Proteomics/data/databases/hdf/crap_concatenated_decoy.hdf\n",
      "2020-04-21 10:43:23,099 > Writing parameters to /home/sander/Documents/Proteomics/data/databases/hdf/crap_concatenated_decoy.hdf\n",
      "2020-04-21 10:43:23,115 > \n",
      "2020-04-21 10:43:23,116 > Successfully finished execution\n",
      "2020-04-21 10:43:23,116 > Time taken: 7.84846305847168\n"
     ]
    }
   ],
   "source": [
    "reload()\n",
    "\n",
    "interface.Interface.create_database(\n",
    "    input_path=[\n",
    "#         \"/home/sander/Documents/Proteomics/data/databases/fasta/corona.fasta\",\n",
    "        \"/home/sander/Documents/Proteomics/data/databases/fasta/crap.fasta\",\n",
    "    ],\n",
    "    output_directory=\"/home/sander/Documents/Proteomics/data/databases/hdf\",\n",
    "    parameter_file_name=\"\",\n",
    "    log_file_name=None\n",
    ")"
   ]
  },
  {
   "cell_type": "code",
   "execution_count": 3,
   "metadata": {},
   "outputs": [],
   "source": [
    "reload()\n",
    "\n",
    "db = database.Database(\"/home/sander/Documents/Proteomics/data/databases/hdf/crap_ecoli_concatenated_decoy.hdf\")\n",
    "db_mzs = db.get_fragment_coordinates(\"mz\")"
   ]
  },
  {
   "cell_type": "code",
   "execution_count": 62,
   "metadata": {},
   "outputs": [
    {
     "name": "stdout",
     "output_type": "stream",
     "text": [
      "2020-04-20 15:53:25,122 > ==================================================\n",
      "2020-04-20 15:53:25,123 > ion_networks.py -f /home/sander/.local/share/jupyter/runtime/kernel-3cd73bdb-d0a9-4d57-88d4-adf8be251bd8.json\n",
      "2020-04-20 15:53:25,124 > This log is being saved as: /home/sander/Documents/Proteomics/data/ecoli/log.txt.\n",
      "2020-04-20 15:53:25,124 > \n",
      "2020-04-20 15:53:25,125 > Command: annotate.\n",
      "2020-04-20 15:53:25,126 > 2 input_file_names: ['/home/sander/Documents/Proteomics/data/ecoli/28Oct2016_063.evidence.hdf', '/home/sander/Documents/Proteomics/data/ecoli/28Oct2016_064.inet.hdf']\n",
      "2020-04-20 15:53:25,126 > database_file_name: /home/sander/Documents/Proteomics/data/databases/hdf/corona_crap_concatenated_decoy.hdf\n",
      "2020-04-20 15:53:25,126 > parameter_file_name: \n",
      "2020-04-20 15:53:25,127 > log_file_name: /home/sander/Documents/Proteomics/data/ecoli/log.txt\n",
      "2020-04-20 15:53:25,127 > \n",
      "2020-04-20 15:53:25,133 > Writing parameters to /home/sander/Documents/Proteomics/data/ecoli/28Oct2016_063.annotation.hdf\n",
      "2020-04-20 15:53:25,138 > Writing candidates to /home/sander/Documents/Proteomics/data/ecoli/28Oct2016_063.annotation.hdf\n",
      "2020-04-20 15:53:25,138 > Writing node candidates to /home/sander/Documents/Proteomics/data/ecoli/28Oct2016_063.annotation.hdf\n",
      "2020-04-20 15:53:25,531 > Something went wrong, execution incomplete!\n",
      "Traceback (most recent call last):\n",
      "  File \"/home/sander/Documents/Proteomics/ion_networks/src/utils.py\", line 67, in open_logger\n",
      "    yield logger\n",
      "  File \"/home/sander/Documents/Proteomics/ion_networks/src/interface.py\", line 374, in annotate_ion_network\n",
      "    ani.create_annotations(database_file_name, parameters)\n",
      "  File \"/home/sander/Documents/Proteomics/ion_networks/src/annotation.py\", line 42, in create_annotations\n",
      "    self.write_candidates(database, parameters)\n",
      "  File \"/home/sander/Documents/Proteomics/ion_networks/src/annotation.py\", line 54, in write_candidates\n",
      "    low_peptide_indices, high_peptide_indices = self.get_candidate_peptide_indices_for_nodes(\n",
      "  File \"/home/sander/Documents/Proteomics/ion_networks/src/annotation.py\", line 180, in get_candidate_peptide_indices_for_nodes\n",
      "    database_mzs = database.get_fragment_coordinates(\"mz\")\n",
      "  File \"/home/sander/Documents/Proteomics/ion_networks/src/database.py\", line 366, in get_fragment_coordinates\n",
      "    return utils.read_hdf_coordinates(self, \"fragments\", dimensions, indices)\n",
      "  File \"/home/sander/Documents/Proteomics/ion_networks/src/utils.py\", line 530, in read_hdf_coordinates\n",
      "    array = array[indices]\n",
      "  File \"h5py/_objects.pyx\", line 54, in h5py._objects.with_phil.wrapper\n",
      "  File \"h5py/_objects.pyx\", line 55, in h5py._objects.with_phil.wrapper\n",
      "  File \"/home/sander/anaconda3/envs/ion_networks/lib/python3.8/site-packages/h5py/_hl/dataset.py\", line 573, in __getitem__\n",
      "    self.id.read(mspace, fspace, arr, mtype, dxpl=self._dxpl)\n",
      "KeyboardInterrupt\n"
     ]
    }
   ],
   "source": [
    "reload()\n",
    "\n",
    "interface.Interface.annotate_ion_network(\n",
    "    input_path=[\n",
    "        \"/home/sander/Documents/Proteomics/data/ecoli/28Oct2016_063.evidence.hdf\",\n",
    "        \"/home/sander/Documents/Proteomics/data/ecoli/28Oct2016_064.inet.hdf\",\n",
    "    ],\n",
    "    database_file_name=\"/home/sander/Documents/Proteomics/data/databases/hdf/corona_crap_concatenated_decoy.hdf\",\n",
    "    parameter_file_name=\"\",\n",
    "    log_file_name=\"/home/sander/Documents/Proteomics/data/ecoli/log.txt\",\n",
    ")"
   ]
  },
  {
   "cell_type": "code",
   "execution_count": 12,
   "metadata": {},
   "outputs": [],
   "source": [
    "reload()\n",
    "\n",
    "# an = annotation.Annotation(\n",
    "#     evidence=evis[0],\n",
    "#     database=\"/home/sander/Documents/Proteomics/data/databases/hdf/crap_ecoli_concatenated_decoy.hdf\",\n",
    "#     parameters={\n",
    "#         \"annotation_ppm\": 20,\n",
    "#     },\n",
    "#     logger=logger\n",
    "# )\n",
    "\n",
    "an = ms_run_files.Annotation(\n",
    "    \"/home/sander/Documents/Proteomics/data/ecoli/28Oct2016_061.annotation.hdf\",\n",
    "#     new_file=True,\n",
    "#     logger=logger\n",
    ")"
   ]
  },
  {
   "cell_type": "code",
   "execution_count": 13,
   "metadata": {},
   "outputs": [
    {
     "data": {
      "text/plain": [
       "array([0, 0, 0, ..., 0, 0, 0])"
      ]
     },
     "execution_count": 13,
     "metadata": {},
     "output_type": "execute_result"
    }
   ],
   "source": [
    "reload()\n",
    "\n",
    "an.get_dataset()"
   ]
  },
  {
   "cell_type": "code",
   "execution_count": 77,
   "metadata": {},
   "outputs": [
    {
     "data": {
      "text/plain": [
       "array([2639216])"
      ]
     },
     "execution_count": 77,
     "metadata": {},
     "output_type": "execute_result"
    }
   ],
   "source": [
    "np.bincount(z)"
   ]
  },
  {
   "cell_type": "code",
   "execution_count": 33,
   "metadata": {},
   "outputs": [],
   "source": [
    "df = pd.DataFrame(np.stack([np.arange(10), np.arange(10,20)]).T, columns = [\"one\", \"two\"])"
   ]
  },
  {
   "cell_type": "code",
   "execution_count": 42,
   "metadata": {},
   "outputs": [
    {
     "data": {
      "text/plain": [
       "array([10, 11, 12, 13, 14, 15, 16, 17, 18, 19])"
      ]
     },
     "execution_count": 42,
     "metadata": {},
     "output_type": "execute_result"
    }
   ],
   "source": [
    "df[\"two\"].values"
   ]
  },
  {
   "cell_type": "code",
   "execution_count": null,
   "metadata": {},
   "outputs": [],
   "source": []
  },
  {
   "cell_type": "code",
   "execution_count": null,
   "metadata": {},
   "outputs": [],
   "source": [
    "db.get_peptide_coordinates(\"sequence\").dtype == np.dtype('O')"
   ]
  },
  {
   "cell_type": "code",
   "execution_count": null,
   "metadata": {},
   "outputs": [],
   "source": [
    "reload()\n",
    "\n",
    "an = annotation.Annotation(\n",
    "    evidence=evis[0]\n",
    ")\n",
    "low_peptide_indices, high_peptide_indices = an.get_candidate_peptide_indices_for_nodes(\n",
    "    db,\n",
    "    {\"annotation_ppm\": 10}\n",
    ")"
   ]
  },
  {
   "cell_type": "code",
   "execution_count": null,
   "metadata": {},
   "outputs": [],
   "source": [
    "np.flatnonzero(high_peptide_indices - low_peptide_indices)"
   ]
  },
  {
   "cell_type": "code",
   "execution_count": null,
   "metadata": {},
   "outputs": [],
   "source": [
    "db_peptides = db.get_fragment_coordinates(\"peptide_index\")\n",
    "indptr, indices = an.ion_network.get_edges(\n",
    "    indptr_and_indices=True\n",
    ")"
   ]
  },
  {
   "cell_type": "code",
   "execution_count": null,
   "metadata": {},
   "outputs": [],
   "source": [
    "@numba.njit(parallel=True)\n",
    "def nb_isin(array1, array2):\n",
    "    out = np.empty(array1.shape[0], np.bool_)\n",
    "    array2_set = set(array2)\n",
    "    for i in numba.prange(array1.shape[0]):\n",
    "        out[i] = array1[i] in array2_set\n",
    "    return out\n",
    "\n",
    "\n",
    "@numba.njit\n",
    "def annotate_edges(\n",
    "    indptr,\n",
    "    indices,\n",
    "    low_peptide_indices,\n",
    "    high_peptide_indices,\n",
    "    db_peptides,\n",
    "    max_batch\n",
    "):\n",
    "    result_indptr = np.empty(indptr[-1], np.int64)\n",
    "    result_indices = np.empty(max_batch, np.int64)\n",
    "    current_index = 0\n",
    "#     max_batch = np.max(np.diff(indptr) * (high_peptide_indices - low_peptide_indices))\n",
    "    for start, end, low, high in zip(\n",
    "        indptr[:-1],\n",
    "        indptr[1:],\n",
    "        low_peptide_indices,\n",
    "        high_peptide_indices,\n",
    "    ):\n",
    "        if (low == high) or (start == end):\n",
    "            result_indptr[start:end] = current_index\n",
    "            continue\n",
    "        if ((end - start) * (high - low) + current_index) >= result_indices.shape[0]:\n",
    "            new_result_indices = np.empty(max_batch + current_index, np.int64)\n",
    "            new_result_indices[:current_index] = result_indices\n",
    "            result_indices = new_result_indices\n",
    "        peptide_candidates = db_peptides[low: high]\n",
    "        peptide_candidates_set = set(peptide_candidates)\n",
    "        neighbors = indices[start: end]\n",
    "        for i, neighbor in enumerate(neighbors):\n",
    "            neighbor_low = low_peptide_indices[neighbor]\n",
    "            neighbor_high = high_peptide_indices[neighbor]\n",
    "            if neighbor_low == neighbor_high:\n",
    "                result_indptr[start + i] = current_index\n",
    "                continue\n",
    "            neighbor_peptide_candidates = db_peptides[neighbor_low: neighbor_high]\n",
    "            for neighbor_peptide_candidate in neighbor_peptide_candidates:\n",
    "                if neighbor_peptide_candidate in peptide_candidates_set:\n",
    "                    result_indices[current_index] = neighbor_peptide_candidate\n",
    "                    current_index += 1\n",
    "            result_indptr[start + i] = current_index\n",
    "    result_indptr[1:] = result_indptr[:-1]\n",
    "    result_indptr[0] = 0\n",
    "    return result_indptr, result_indices[:current_index]"
   ]
  },
  {
   "cell_type": "code",
   "execution_count": null,
   "metadata": {},
   "outputs": [],
   "source": [
    "a, aa = annotate_edges(\n",
    "    indptr[:100],\n",
    "    indices,\n",
    "    low_peptide_indices,\n",
    "    high_peptide_indices,\n",
    "    db_peptides,\n",
    "    np.max(np.diff(indptr) * (high_peptide_indices - low_peptide_indices))\n",
    ")"
   ]
  },
  {
   "cell_type": "code",
   "execution_count": null,
   "metadata": {},
   "outputs": [],
   "source": [
    "import multiprocessing as mp\n",
    "\n",
    "\n",
    "def pfunction(function):\n",
    "    def starred_function(*args, **kwargs):\n",
    "        return function(*args, **kwargs)\n",
    "    return starred_function\n",
    "\n",
    "\n",
    "def star_annotate(args, **kwargs):\n",
    "    return annotate_edges(*args, **kwargs)\n",
    "\n",
    "# with mp.Pool(8) as p:\n",
    "#     r = p.map(\n",
    "#         star_annotate,\n",
    "#         [\n",
    "#             (\n",
    "#                 indptr[i * int(np.ceil(len(indptr) / 8)): (i + 1) * int(np.ceil(len(indptr) / 8))],\n",
    "#                 indices,\n",
    "#                 low_peptide_indices,\n",
    "#                 high_peptide_indices,\n",
    "#                 db_peptides,\n",
    "#                 np.max(np.diff(indptr) * (high_peptide_indices - low_peptide_indices))\n",
    "#             ) for i in range(8)\n",
    "#         ]\n",
    "#     )"
   ]
  },
  {
   "cell_type": "code",
   "execution_count": null,
   "metadata": {},
   "outputs": [],
   "source": [
    "r"
   ]
  },
  {
   "cell_type": "code",
   "execution_count": null,
   "metadata": {},
   "outputs": [],
   "source": [
    "%matplotlib notebook\n",
    "\n",
    "plt.plot(np.bincount(x))"
   ]
  },
  {
   "cell_type": "code",
   "execution_count": null,
   "metadata": {},
   "outputs": [],
   "source": []
  },
  {
   "cell_type": "code",
   "execution_count": null,
   "metadata": {},
   "outputs": [],
   "source": []
  },
  {
   "cell_type": "code",
   "execution_count": null,
   "metadata": {},
   "outputs": [],
   "source": []
  },
  {
   "cell_type": "code",
   "execution_count": null,
   "metadata": {},
   "outputs": [],
   "source": []
  },
  {
   "cell_type": "code",
   "execution_count": null,
   "metadata": {},
   "outputs": [],
   "source": []
  },
  {
   "cell_type": "code",
   "execution_count": null,
   "metadata": {},
   "outputs": [],
   "source": []
  },
  {
   "cell_type": "code",
   "execution_count": null,
   "metadata": {},
   "outputs": [],
   "source": []
  },
  {
   "cell_type": "code",
   "execution_count": null,
   "metadata": {},
   "outputs": [],
   "source": []
  },
  {
   "cell_type": "code",
   "execution_count": null,
   "metadata": {},
   "outputs": [],
   "source": [
    "@sandbox.generate_in_parallel(cpu_count=4)\n",
    "@numba.njit\n",
    "def annotate_edges(\n",
    "    selection,\n",
    "    indptr,\n",
    "    indices,\n",
    "    low_peptide_indices,\n",
    "    high_peptide_indices,\n",
    "    db_peptides,\n",
    "    max_batch\n",
    "):\n",
    "    result_indptr = np.empty(indptr[-1], np.int64)\n",
    "    result_indices = np.empty(max_batch, np.int64)\n",
    "    current_index = 0\n",
    "#     max_batch = np.max(np.diff(indptr) * (high_peptide_indices - low_peptide_indices))\n",
    "    for select in selection:\n",
    "        start = indptr[select]\n",
    "        end = indptr[select + 1]\n",
    "        low = low_peptide_indices[select]\n",
    "        high = high_peptide_indices[select]\n",
    "        if (low == high) or (start == end):\n",
    "            result_indptr[start:end] = current_index\n",
    "            continue\n",
    "        if ((end - start) * (high - low) + current_index) >= result_indices.shape[0]:\n",
    "            new_result_indices = np.empty(max_batch + current_index, np.int64)\n",
    "            new_result_indices[:current_index] = result_indices\n",
    "            result_indices = new_result_indices\n",
    "        peptide_candidates = db_peptides[low: high]\n",
    "        peptide_candidates_set = set(peptide_candidates)\n",
    "        neighbors = indices[start: end]\n",
    "        for i, neighbor in enumerate(neighbors):\n",
    "            neighbor_low = low_peptide_indices[neighbor]\n",
    "            neighbor_high = high_peptide_indices[neighbor]\n",
    "            if neighbor_low == neighbor_high:\n",
    "                result_indptr[start + i] = current_index\n",
    "                continue\n",
    "            neighbor_peptide_candidates = db_peptides[neighbor_low: neighbor_high]\n",
    "            for neighbor_peptide_candidate in neighbor_peptide_candidates:\n",
    "                if neighbor_peptide_candidate in peptide_candidates_set:\n",
    "                    result_indices[current_index] = neighbor_peptide_candidate\n",
    "                    current_index += 1\n",
    "            result_indptr[start + i] = current_index\n",
    "    result_indptr[1:] = result_indptr[:-1]\n",
    "    result_indptr[0] = 0\n",
    "    return result_indptr[indptr[selection[0]]: indptr[selection[-1]]].copy(), result_indices[:current_index].copy()"
   ]
  },
  {
   "cell_type": "code",
   "execution_count": null,
   "metadata": {},
   "outputs": [],
   "source": [
    "k = [ \n",
    "    i for i in annotate_edges(\n",
    "#         [indptr[i*100:(i+1)*100+1] for i in range(4)],\n",
    "        np.arange(0, 100),\n",
    "        indptr,\n",
    "        indices,\n",
    "        low_peptide_indices,\n",
    "        high_peptide_indices,\n",
    "        db_peptides,\n",
    "        np.max(np.diff(indptr) * (high_peptide_indices - low_peptide_indices))\n",
    "    )\n",
    "]"
   ]
  },
  {
   "cell_type": "code",
   "execution_count": null,
   "metadata": {},
   "outputs": [],
   "source": [
    "i = annotate_edges(\n",
    "#         [indptr[i*100:(i+1)*100+1] for i in range(4)],\n",
    "        np.arange(1000, 10000),\n",
    "        indptr,\n",
    "        indices,\n",
    "        low_peptide_indices,\n",
    "        high_peptide_indices,\n",
    "        db_peptides,\n",
    "        np.max(np.diff(indptr) * (high_peptide_indices - low_peptide_indices))\n",
    "    )"
   ]
  },
  {
   "cell_type": "code",
   "execution_count": null,
   "metadata": {},
   "outputs": [],
   "source": [
    "i"
   ]
  },
  {
   "cell_type": "code",
   "execution_count": null,
   "metadata": {},
   "outputs": [],
   "source": []
  },
  {
   "cell_type": "code",
   "execution_count": null,
   "metadata": {},
   "outputs": [],
   "source": []
  },
  {
   "cell_type": "code",
   "execution_count": null,
   "metadata": {},
   "outputs": [],
   "source": [
    "[indptr[i*25:(i+1)*25] for i in range(4)]"
   ]
  },
  {
   "cell_type": "code",
   "execution_count": null,
   "metadata": {},
   "outputs": [],
   "source": [
    "[indptr[:100] for i in range(4)]"
   ]
  },
  {
   "cell_type": "code",
   "execution_count": null,
   "metadata": {},
   "outputs": [],
   "source": []
  },
  {
   "cell_type": "code",
   "execution_count": null,
   "metadata": {},
   "outputs": [],
   "source": []
  },
  {
   "cell_type": "code",
   "execution_count": null,
   "metadata": {},
   "outputs": [],
   "source": []
  },
  {
   "cell_type": "code",
   "execution_count": null,
   "metadata": {},
   "outputs": [],
   "source": []
  },
  {
   "cell_type": "code",
   "execution_count": null,
   "metadata": {},
   "outputs": [],
   "source": [
    "z = [ \n",
    "    i for i in parallelizedGenerator(\n",
    "        8,\n",
    "        annotate_edges,\n",
    "        [\n",
    "            indptr[i * int(np.ceil(len(indptr) / 8)): (i + 1) * int(np.ceil(len(indptr) / 8))] for i in range(8)\n",
    "        ],\n",
    "        indices,\n",
    "        low_peptide_indices,\n",
    "        high_peptide_indices,\n",
    "        db_peptides,\n",
    "        np.max(np.diff(indptr) * (high_peptide_indices - low_peptide_indices))\n",
    "    )\n",
    "]"
   ]
  },
  {
   "cell_type": "code",
   "execution_count": null,
   "metadata": {},
   "outputs": [],
   "source": []
  },
  {
   "cell_type": "code",
   "execution_count": null,
   "metadata": {},
   "outputs": [],
   "source": []
  },
  {
   "cell_type": "code",
   "execution_count": null,
   "metadata": {},
   "outputs": [],
   "source": [
    "import multiprocessing as mp\n",
    "\n",
    "def parallelizedGenerator(\n",
    "    process_count,\n",
    "    function,\n",
    "    iterable,\n",
    "    *args,\n",
    "    **kwargs\n",
    "):\n",
    "    in_queue = mp.Queue()\n",
    "    out_queue = mp.Queue()\n",
    "\n",
    "    def _parallel_function():\n",
    "        while True:\n",
    "            element = in_queue.get()\n",
    "            if element is None:\n",
    "                out_queue.put(None)\n",
    "                return\n",
    "            result = function(\n",
    "                element,\n",
    "                *args,\n",
    "                **kwargs\n",
    "            )\n",
    "            out_queue.put(result)\n",
    "\n",
    "    for element in iterable:\n",
    "        in_queue.put(element)\n",
    "    processes = []\n",
    "    for process_index in range(process_count):\n",
    "        process = mp.Process(\n",
    "            target=_parallel_function,\n",
    "        )\n",
    "        in_queue.put(None)\n",
    "        process.start()\n",
    "        processes.append(process)\n",
    "    running_processes = process_count\n",
    "    while True:\n",
    "        result = out_queue.get()\n",
    "        if result is None:\n",
    "            running_processes -= 1\n",
    "            if running_processes == 0:\n",
    "                break\n",
    "        else:\n",
    "            yield result\n",
    "    in_queue.close()\n",
    "    out_queue.close()\n",
    "    in_queue.join_thread()\n",
    "    out_queue.join_thread()\n",
    "    while processes:\n",
    "        process = processes.pop()\n",
    "        process.join()"
   ]
  },
  {
   "cell_type": "code",
   "execution_count": null,
   "metadata": {},
   "outputs": [],
   "source": []
  },
  {
   "cell_type": "code",
   "execution_count": null,
   "metadata": {},
   "outputs": [],
   "source": []
  },
  {
   "cell_type": "code",
   "execution_count": null,
   "metadata": {},
   "outputs": [],
   "source": []
  },
  {
   "cell_type": "code",
   "execution_count": null,
   "metadata": {},
   "outputs": [],
   "source": [
    "# %matplotlib notebook\n",
    "\n",
    "import matplotlib.animation as animation\n",
    "from IPython.display import HTML\n",
    "from mpl_toolkits.mplot3d import axes3d\n",
    "from mpl_toolkits.mplot3d import Axes3D\n",
    "import matplotlib.pyplot as plt\n",
    "\n",
    "inet=inets[0]\n",
    "evi=evis[0]\n",
    "\n",
    "coords = inet.get_ion_coordinates(inet.dimensions)\n",
    "repro = evi.get_aligned_nodes_from_group()\n",
    "\n",
    "fig = plt.figure(1, figsize=(13, 9))\n",
    "ax = fig.add_subplot(111, projection='3d')\n",
    "\n",
    "\n",
    "# selection = (coords[3] > 30) & (coords[3] < 30.2)\n",
    "# selection &= (coords[2] < 2000)\n",
    "# selection &= (coords[1] < 900)\n",
    "# selection=slice(0,None,10000)\n",
    "selection = repro>=25\n",
    "selection &= (coords[3] > 10) & (coords[3] < 10.1)\n",
    "\n",
    "ax.scatter(\n",
    "    coords[1][selection],\n",
    "    coords[3][selection],\n",
    "    coords[2][selection],\n",
    "    marker=\".\",\n",
    "    c=coords[0][selection],\n",
    "    cmap=\"RdYlGn\"\n",
    ")\n",
    "ax.set_xlabel(inet.dimensions[1])\n",
    "ax.set_ylabel(inet.dimensions[3])\n",
    "ax.set_zlabel(inet.dimensions[2])\n",
    "\n",
    "\n",
    "def animate(i):\n",
    "    ax.view_init(elev=30., azim=3.6*i)\n",
    "    return fig,\n",
    "\n",
    "# Animate\n",
    "ani = animation.FuncAnimation(fig, animate, \n",
    "                               frames=100, interval=100, blit=True)    \n",
    "\n",
    "HTML(ani.to_html5_video())"
   ]
  },
  {
   "cell_type": "code",
   "execution_count": null,
   "metadata": {},
   "outputs": [],
   "source": []
  },
  {
   "cell_type": "code",
   "execution_count": null,
   "metadata": {},
   "outputs": [],
   "source": []
  },
  {
   "cell_type": "code",
   "execution_count": null,
   "metadata": {},
   "outputs": [],
   "source": []
  },
  {
   "cell_type": "code",
   "execution_count": null,
   "metadata": {},
   "outputs": [],
   "source": [
    "inet=inets[0]\n",
    "evi=evis[0]\n",
    "\n",
    "coords = inet.get_ion_coordinates(inet.dimensions)\n",
    "repro = evi.get_aligned_nodes_from_group()\n",
    "edges = inet.get_edges(data_as_index=True)\n",
    "positive_edge_evidence = evi.get_edge_mask_from_group()\n",
    "negative_edge_evidence = evi.get_edge_mask_from_group(\n",
    "    positive=False\n",
    ")\n",
    "print(inet.dimensions)"
   ]
  },
  {
   "cell_type": "code",
   "execution_count": null,
   "metadata": {},
   "outputs": [],
   "source": [
    "node_selection = repro>=25\n",
    "node_selection &= (coords[3] > 10.0) & (coords[3] < 10.1)\n",
    "node_selection &= (coords[2] > 50) & (coords[2] < 60)\n",
    "\n",
    "\n",
    "selected_neighbors = edges[node_selection].T.tocsr()[node_selection]\n",
    "a, b = selected_neighbors.nonzero()\n",
    "positive_counts = positive_edge_evidence[\n",
    "    selected_neighbors.data\n",
    "]\n",
    "negative_counts = negative_edge_evidence[\n",
    "    selected_neighbors.data\n",
    "]\n",
    "edge_selection=...\n",
    "# edge_selection = (positive_counts >= self.min_positive_threshold)\n",
    "# edge_selection &= (positive_counts <= self.max_positive_threshold)\n",
    "# edge_selection &= (negative_counts >= self.min_negative_threshold)\n",
    "# edge_selection &= (negative_counts <= self.max_negative_threshold)\n",
    "a = a[edge_selection]\n",
    "b = b[edge_selection]\n",
    "start_edges = list(zip(coords[1][node_selection][a], coords[3][node_selection][a], coords[2][node_selection][a]))\n",
    "end_edges = list(zip(coords[1][node_selection][b], coords[3][node_selection][b], coords[2][node_selection][b]))\n",
    "colors = positive_counts[edge_selection] - negative_counts[edge_selection]\n",
    "plot_edges = np.array(list(zip(start_edges, end_edges)))\n",
    "color_order = np.argsort(colors)\n",
    "colors = colors[color_order]\n",
    "plot_edges = plot_edges[color_order]"
   ]
  },
  {
   "cell_type": "code",
   "execution_count": null,
   "metadata": {},
   "outputs": [],
   "source": [
    "%matplotlib notebook\n",
    "\n",
    "import matplotlib.animation as animation\n",
    "from IPython.display import HTML\n",
    "from mpl_toolkits.mplot3d import axes3d\n",
    "from mpl_toolkits.mplot3d import art3d\n",
    "from mpl_toolkits.mplot3d import Axes3D\n",
    "import matplotlib.pyplot as plt\n",
    "\n",
    "# fig = plt.figure(1, figsize=(13, 9))\n",
    "fig = plt.figure()\n",
    "\n",
    "ax = fig.add_subplot(111, projection='3d')\n",
    "\n",
    "    \n",
    "def init_plot():\n",
    "#     edge_collection = ax.add_collection(\n",
    "#         matplotlib.collections.LineCollection([], [], [])\n",
    "#     )\n",
    "    ax.scatter(\n",
    "        coords[1][node_selection],\n",
    "        coords[3][node_selection],\n",
    "        coords[2][node_selection],\n",
    "#         marker=\".\",\n",
    "        c=coords[0][node_selection],\n",
    "        cmap=\"RdYlGn\",\n",
    "        zorder=99999,\n",
    "        s=50\n",
    "    )\n",
    "    ax.set_xlabel(inet.dimensions[1])\n",
    "    ax.set_ylabel(inet.dimensions[3])\n",
    "    ax.set_zlabel(inet.dimensions[2])\n",
    "    edge_collection = art3d.Line3DCollection(plot_edges, alpha=0.2)\n",
    "    ax.add_collection(edge_collection)\n",
    "    ax.view_init(elev=15., azim=0)\n",
    "    edge_color_mapper = matplotlib.cm.ScalarMappable(\n",
    "        norm=matplotlib.colors.Normalize(\n",
    "            # vmin=-self.evidence.evidence_count,\n",
    "            vmin=-evi.evidence_count - 1,\n",
    "            # vmin=0,\n",
    "            vmax=evi.evidence_count\n",
    "        ),\n",
    "        cmap=\"RdYlGn\"\n",
    "    )\n",
    "    edge_collection.set_color(edge_color_mapper.to_rgba(colors))\n",
    "#     ax.set_facecolor('black')\n",
    "    return fig,\n",
    "\n",
    "init_plot()\n",
    "\n",
    "def animate(i):\n",
    "    ax.view_init(elev=15., azim=3.6*i)\n",
    "    return fig,\n",
    "\n",
    "# Animate\n",
    "ani = animation.FuncAnimation(fig, animate, init_func=init_plot,\n",
    "                               frames=100, interval=100, blit=True)    \n",
    "\n",
    "# # HTML(ani.to_html5_video())\n",
    "ani.save(\"/home/sander/test.mp4\", dpi=300)\n",
    "print(\"done saving\")"
   ]
  },
  {
   "cell_type": "code",
   "execution_count": null,
   "metadata": {},
   "outputs": [],
   "source": []
  },
  {
   "cell_type": "code",
   "execution_count": 19,
   "metadata": {},
   "outputs": [
    {
     "name": "stdout",
     "output_type": "stream",
     "text": [
      "Help on package ms2pip:\n",
      "\n",
      "NAME\n",
      "    ms2pip\n",
      "\n",
      "PACKAGE CONTENTS\n",
      "    __main__\n",
      "    config_parser\n",
      "    exceptions\n",
      "    feature_names\n",
      "    ms2pipC\n",
      "    ms2pip_tools (package)\n",
      "    peptides\n",
      "    retention_time\n",
      "\n",
      "SUBMODULES\n",
      "    cython_modules\n",
      "\n",
      "FILE\n",
      "    /home/sander/anaconda3/envs/ion_networks/lib/python3.8/site-packages/ms2pip/__init__.py\n",
      "\n",
      "\n"
     ]
    }
   ],
   "source": [
    "import ms2pip\n",
    "help(ms2pip)"
   ]
  },
  {
   "cell_type": "code",
   "execution_count": null,
   "metadata": {},
   "outputs": [],
   "source": []
  }
 ],
 "metadata": {
  "kernelspec": {
   "display_name": "Python [conda env:ion_networks]",
   "language": "python",
   "name": "conda-env-ion_networks-py"
  },
  "language_info": {
   "codemirror_mode": {
    "name": "ipython",
    "version": 3
   },
   "file_extension": ".py",
   "mimetype": "text/x-python",
   "name": "python",
   "nbconvert_exporter": "python",
   "pygments_lexer": "ipython3",
   "version": "3.8.1"
  }
 },
 "nbformat": 4,
 "nbformat_minor": 4
}
