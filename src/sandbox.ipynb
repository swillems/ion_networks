{
 "cells": [
  {
   "cell_type": "code",
   "execution_count": 1,
   "metadata": {},
   "outputs": [],
   "source": [
    "import os\n",
    "import importlib\n",
    "from timeit import timeit\n",
    "import logging\n",
    "import sys\n",
    "import importlib\n",
    "import time\n",
    "import multiprocessing as mp\n",
    "import multiprocessing.pool\n",
    "\n",
    "import numpy as np\n",
    "import pandas as pd\n",
    "import scipy\n",
    "import h5py\n",
    "import matplotlib\n",
    "from matplotlib import pyplot as plt\n",
    "import seaborn as sns\n",
    "import numba\n",
    "import sklearn.linear_model\n",
    "\n",
    "import ms_utils\n",
    "import browser\n",
    "import interface\n",
    "import ms_database\n",
    "import ms_run_files\n",
    "\n",
    "import sandbox\n",
    "\n",
    "import line_profiler\n",
    "profile = line_profiler.LineProfiler()\n",
    "# heat.evolve = profile(heat.evolve)\n",
    "# profile.print_stats()\n",
    "\n",
    "def reload():\n",
    "    importlib.reload(ms_run_files)\n",
    "    importlib.reload(ms_utils)\n",
    "    importlib.reload(browser)\n",
    "    importlib.reload(interface)\n",
    "    importlib.reload(sandbox)\n",
    "    importlib.reload(ms_database)\n",
    "   "
   ]
  },
  {
   "cell_type": "code",
   "execution_count": 2,
   "metadata": {},
   "outputs": [
    {
     "name": "stderr",
     "output_type": "stream",
     "text": [
      "WARNING: /home/sander/Documents/Proteomics/data/ecoli/28Oct2016_060.inet.hdf was created with version 2.0.200610 instead of 2.0.200619\n",
      "WARNING: /home/sander/Documents/Proteomics/data/ecoli/28Oct2016_061.inet.hdf was created with version 2.0.200610 instead of 2.0.200619\n"
     ]
    },
    {
     "data": {
      "text/plain": [
       "['FRAGMENT_LOGINT', 'FRAGMENT_MZ', 'PRECURSOR_MZ', 'PRECURSOR_RT']"
      ]
     },
     "execution_count": 2,
     "metadata": {},
     "output_type": "execute_result"
    }
   ],
   "source": [
    "reload()\n",
    "self = ms_run_files.Evidence(\"/home/sander/Documents/Proteomics/data/ecoli/28Oct2016_060.inet.hdf\")\n",
    "other = ms_run_files.Evidence(\"/home/sander/Documents/Proteomics/data/ecoli/28Oct2016_061.inet.hdf\")\n",
    "inet1 = self.ion_network\n",
    "inet2 = other.ion_network\n",
    "fint1, fmz1, pmz1, prt1 = inet1.get_ion_coordinates()\n",
    "fint2, fmz2, pmz2, prt2 = inet2.get_ion_coordinates()\n",
    "parameters = {\n",
    "    \"log_file_name\": \"log.txt\",\n",
    "    \"output_directory\": \"\",\n",
    "    \"force_overwrite\": True,\n",
    "    \"threads\": 8,\n",
    "    \"fragment_errors\": {\n",
    "        \"FRAGMENT_MZ\": 50.0,\n",
    "        \"PRECURSOR_RT\": 0.5,\n",
    "        \"PRECURSOR_DT\": 2.0,\n",
    "        \"PRECURSOR_MZ\": 5.0\n",
    "    },\n",
    "    \"calibrate_PRECURSOR_RT\": True,\n",
    "    \"calibration_ppm_FRAGMENT_MZ\": 1.0,\n",
    "    \"calibration_ions\": 50000\n",
    "}\n",
    "inet1.dimensions"
   ]
  },
  {
   "cell_type": "code",
   "execution_count": null,
   "metadata": {},
   "outputs": [],
   "source": []
  },
  {
   "cell_type": "code",
   "execution_count": 3,
   "metadata": {},
   "outputs": [],
   "source": [
    "ali1_unique = self.get_nodes(\n",
    "    other=other,\n",
    "    return_as_mask=False,\n",
    "    kind=\"unique\",\n",
    ")\n",
    "ali2_unique = other.get_nodes(\n",
    "    other=self,\n",
    "    return_as_mask=False,\n",
    "    kind=\"unique\",\n",
    ")\n",
    "\n",
    "ali1_ambiguous = self.get_nodes(\n",
    "    other=other,\n",
    "    return_as_mask=False,\n",
    "    kind=\"ambiguous\",\n",
    ")\n",
    "ali2_ambiguous = other.get_nodes(\n",
    "    other=self,\n",
    "    return_as_mask=False,\n",
    "    kind=\"ambiguous\",\n",
    ")"
   ]
  },
  {
   "cell_type": "code",
   "execution_count": 4,
   "metadata": {},
   "outputs": [],
   "source": [
    "self_indices = np.concatenate([ali1_unique, ali1_ambiguous])\n",
    "other_indices = np.concatenate([ali2_unique, ali2_ambiguous])\n",
    "fmzs = (np.abs(fmz1[self_indices] - fmz2[other_indices]))* 10**6 / fmz1[self_indices]\n",
    "prts = np.abs(prt1[self_indices] - prt2[other_indices])\n",
    "pmzs = np.abs(pmz1[self_indices] - pmz2[other_indices])"
   ]
  },
  {
   "cell_type": "code",
   "execution_count": 11,
   "metadata": {},
   "outputs": [],
   "source": [
    "# %matplotlib notebook\n",
    "\n",
    "# plt.scatter(\n",
    "#     fmz1[self_indices],\n",
    "#     fmz2[other_indices],\n",
    "# )"
   ]
  },
  {
   "cell_type": "code",
   "execution_count": 6,
   "metadata": {},
   "outputs": [
    {
     "data": {
      "text/plain": [
       "(array([7796124,  119396]),)"
      ]
     },
     "execution_count": 6,
     "metadata": {},
     "output_type": "execute_result"
    }
   ],
   "source": [
    "selection = ...\n",
    "# selection = order[:np.argmax(counts)]\n",
    "self_unique = np.bincount(self_indices[selection]) == 1\n",
    "other_unique = np.bincount(other_indices[selection]) == 1\n",
    "unique = self_unique[self_indices[selection]] & other_unique[other_indices[selection]]\n",
    "np.bincount(unique), #pmzs[order[np.argmax(counts)]]"
   ]
  },
  {
   "cell_type": "code",
   "execution_count": 7,
   "metadata": {},
   "outputs": [],
   "source": [
    "@numba.njit\n",
    "def get_unique_apex_and_count(\n",
    "    ordered_self_indices,\n",
    "    ordered_other_indices,\n",
    "    return_all_counts=True\n",
    "):\n",
    "    counts = np.zeros_like(ordered_self_indices)\n",
    "    self_max = np.max(ordered_self_indices)\n",
    "    other_max = np.max(ordered_other_indices)\n",
    "    unique_pair = np.zeros(counts.shape[0], np.bool_)\n",
    "    self_frequencies = np.zeros(self_max + 1, np.int64)\n",
    "    other_frequencies = np.zeros(other_max + 1, np.int64)\n",
    "    self_indptr = np.empty(self_max + 2, np.int64)\n",
    "    self_indptr[0] = 0\n",
    "    self_indptr[1:] = np.cumsum(np.bincount(ordered_self_indices))\n",
    "    self_order = np.argsort(ordered_self_indices)\n",
    "    other_indptr = np.empty(other_max + 2, np.int64)\n",
    "    other_indptr[0] = 0\n",
    "    other_indptr[1:] = np.cumsum(np.bincount(ordered_other_indices))\n",
    "    other_order = np.argsort(ordered_other_indices)\n",
    "    unique_count = 0\n",
    "    max_count = 0\n",
    "    apex = 0\n",
    "    for i in range(counts.shape[0]):\n",
    "        self_index = ordered_self_indices[i]\n",
    "        other_index = ordered_other_indices[i]\n",
    "        if (self_frequencies[self_index] == 0) & (other_frequencies[other_index] == 0):\n",
    "            unique_count += 1\n",
    "            unique_pair[i] = True\n",
    "            if unique_count > max_count:\n",
    "                apex = i\n",
    "                max_count = unique_count\n",
    "        else:\n",
    "            self_locs = self_order[self_indptr[self_index]: self_indptr[self_index + 1]]\n",
    "            if np.any(unique_pair[self_locs]):\n",
    "                unique_count -= 1\n",
    "            other_locs = other_order[other_indptr[other_index]: other_indptr[other_index + 1]]\n",
    "            if np.any(unique_pair[other_locs]):\n",
    "                unique_count -= 1\n",
    "            unique_pair[self_locs] = False\n",
    "            unique_pair[other_locs] = False\n",
    "        self_frequencies[self_index] += 1\n",
    "        other_frequencies[other_index] += 1\n",
    "        counts[i] = unique_count\n",
    "    if not return_all_counts:\n",
    "        counts = counts[apex: apex + 1]\n",
    "    return apex, counts"
   ]
  },
  {
   "cell_type": "code",
   "execution_count": 10,
   "metadata": {},
   "outputs": [
    {
     "data": {
      "application/javascript": [
       "/* Put everything inside the global mpl namespace */\n",
       "window.mpl = {};\n",
       "\n",
       "\n",
       "mpl.get_websocket_type = function() {\n",
       "    if (typeof(WebSocket) !== 'undefined') {\n",
       "        return WebSocket;\n",
       "    } else if (typeof(MozWebSocket) !== 'undefined') {\n",
       "        return MozWebSocket;\n",
       "    } else {\n",
       "        alert('Your browser does not have WebSocket support. ' +\n",
       "              'Please try Chrome, Safari or Firefox ≥ 6. ' +\n",
       "              'Firefox 4 and 5 are also supported but you ' +\n",
       "              'have to enable WebSockets in about:config.');\n",
       "    };\n",
       "}\n",
       "\n",
       "mpl.figure = function(figure_id, websocket, ondownload, parent_element) {\n",
       "    this.id = figure_id;\n",
       "\n",
       "    this.ws = websocket;\n",
       "\n",
       "    this.supports_binary = (this.ws.binaryType != undefined);\n",
       "\n",
       "    if (!this.supports_binary) {\n",
       "        var warnings = document.getElementById(\"mpl-warnings\");\n",
       "        if (warnings) {\n",
       "            warnings.style.display = 'block';\n",
       "            warnings.textContent = (\n",
       "                \"This browser does not support binary websocket messages. \" +\n",
       "                    \"Performance may be slow.\");\n",
       "        }\n",
       "    }\n",
       "\n",
       "    this.imageObj = new Image();\n",
       "\n",
       "    this.context = undefined;\n",
       "    this.message = undefined;\n",
       "    this.canvas = undefined;\n",
       "    this.rubberband_canvas = undefined;\n",
       "    this.rubberband_context = undefined;\n",
       "    this.format_dropdown = undefined;\n",
       "\n",
       "    this.image_mode = 'full';\n",
       "\n",
       "    this.root = $('<div/>');\n",
       "    this._root_extra_style(this.root)\n",
       "    this.root.attr('style', 'display: inline-block');\n",
       "\n",
       "    $(parent_element).append(this.root);\n",
       "\n",
       "    this._init_header(this);\n",
       "    this._init_canvas(this);\n",
       "    this._init_toolbar(this);\n",
       "\n",
       "    var fig = this;\n",
       "\n",
       "    this.waiting = false;\n",
       "\n",
       "    this.ws.onopen =  function () {\n",
       "            fig.send_message(\"supports_binary\", {value: fig.supports_binary});\n",
       "            fig.send_message(\"send_image_mode\", {});\n",
       "            if (mpl.ratio != 1) {\n",
       "                fig.send_message(\"set_dpi_ratio\", {'dpi_ratio': mpl.ratio});\n",
       "            }\n",
       "            fig.send_message(\"refresh\", {});\n",
       "        }\n",
       "\n",
       "    this.imageObj.onload = function() {\n",
       "            if (fig.image_mode == 'full') {\n",
       "                // Full images could contain transparency (where diff images\n",
       "                // almost always do), so we need to clear the canvas so that\n",
       "                // there is no ghosting.\n",
       "                fig.context.clearRect(0, 0, fig.canvas.width, fig.canvas.height);\n",
       "            }\n",
       "            fig.context.drawImage(fig.imageObj, 0, 0);\n",
       "        };\n",
       "\n",
       "    this.imageObj.onunload = function() {\n",
       "        fig.ws.close();\n",
       "    }\n",
       "\n",
       "    this.ws.onmessage = this._make_on_message_function(this);\n",
       "\n",
       "    this.ondownload = ondownload;\n",
       "}\n",
       "\n",
       "mpl.figure.prototype._init_header = function() {\n",
       "    var titlebar = $(\n",
       "        '<div class=\"ui-dialog-titlebar ui-widget-header ui-corner-all ' +\n",
       "        'ui-helper-clearfix\"/>');\n",
       "    var titletext = $(\n",
       "        '<div class=\"ui-dialog-title\" style=\"width: 100%; ' +\n",
       "        'text-align: center; padding: 3px;\"/>');\n",
       "    titlebar.append(titletext)\n",
       "    this.root.append(titlebar);\n",
       "    this.header = titletext[0];\n",
       "}\n",
       "\n",
       "\n",
       "\n",
       "mpl.figure.prototype._canvas_extra_style = function(canvas_div) {\n",
       "\n",
       "}\n",
       "\n",
       "\n",
       "mpl.figure.prototype._root_extra_style = function(canvas_div) {\n",
       "\n",
       "}\n",
       "\n",
       "mpl.figure.prototype._init_canvas = function() {\n",
       "    var fig = this;\n",
       "\n",
       "    var canvas_div = $('<div/>');\n",
       "\n",
       "    canvas_div.attr('style', 'position: relative; clear: both; outline: 0');\n",
       "\n",
       "    function canvas_keyboard_event(event) {\n",
       "        return fig.key_event(event, event['data']);\n",
       "    }\n",
       "\n",
       "    canvas_div.keydown('key_press', canvas_keyboard_event);\n",
       "    canvas_div.keyup('key_release', canvas_keyboard_event);\n",
       "    this.canvas_div = canvas_div\n",
       "    this._canvas_extra_style(canvas_div)\n",
       "    this.root.append(canvas_div);\n",
       "\n",
       "    var canvas = $('<canvas/>');\n",
       "    canvas.addClass('mpl-canvas');\n",
       "    canvas.attr('style', \"left: 0; top: 0; z-index: 0; outline: 0\")\n",
       "\n",
       "    this.canvas = canvas[0];\n",
       "    this.context = canvas[0].getContext(\"2d\");\n",
       "\n",
       "    var backingStore = this.context.backingStorePixelRatio ||\n",
       "\tthis.context.webkitBackingStorePixelRatio ||\n",
       "\tthis.context.mozBackingStorePixelRatio ||\n",
       "\tthis.context.msBackingStorePixelRatio ||\n",
       "\tthis.context.oBackingStorePixelRatio ||\n",
       "\tthis.context.backingStorePixelRatio || 1;\n",
       "\n",
       "    mpl.ratio = (window.devicePixelRatio || 1) / backingStore;\n",
       "\n",
       "    var rubberband = $('<canvas/>');\n",
       "    rubberband.attr('style', \"position: absolute; left: 0; top: 0; z-index: 1;\")\n",
       "\n",
       "    var pass_mouse_events = true;\n",
       "\n",
       "    canvas_div.resizable({\n",
       "        start: function(event, ui) {\n",
       "            pass_mouse_events = false;\n",
       "        },\n",
       "        resize: function(event, ui) {\n",
       "            fig.request_resize(ui.size.width, ui.size.height);\n",
       "        },\n",
       "        stop: function(event, ui) {\n",
       "            pass_mouse_events = true;\n",
       "            fig.request_resize(ui.size.width, ui.size.height);\n",
       "        },\n",
       "    });\n",
       "\n",
       "    function mouse_event_fn(event) {\n",
       "        if (pass_mouse_events)\n",
       "            return fig.mouse_event(event, event['data']);\n",
       "    }\n",
       "\n",
       "    rubberband.mousedown('button_press', mouse_event_fn);\n",
       "    rubberband.mouseup('button_release', mouse_event_fn);\n",
       "    // Throttle sequential mouse events to 1 every 20ms.\n",
       "    rubberband.mousemove('motion_notify', mouse_event_fn);\n",
       "\n",
       "    rubberband.mouseenter('figure_enter', mouse_event_fn);\n",
       "    rubberband.mouseleave('figure_leave', mouse_event_fn);\n",
       "\n",
       "    canvas_div.on(\"wheel\", function (event) {\n",
       "        event = event.originalEvent;\n",
       "        event['data'] = 'scroll'\n",
       "        if (event.deltaY < 0) {\n",
       "            event.step = 1;\n",
       "        } else {\n",
       "            event.step = -1;\n",
       "        }\n",
       "        mouse_event_fn(event);\n",
       "    });\n",
       "\n",
       "    canvas_div.append(canvas);\n",
       "    canvas_div.append(rubberband);\n",
       "\n",
       "    this.rubberband = rubberband;\n",
       "    this.rubberband_canvas = rubberband[0];\n",
       "    this.rubberband_context = rubberband[0].getContext(\"2d\");\n",
       "    this.rubberband_context.strokeStyle = \"#000000\";\n",
       "\n",
       "    this._resize_canvas = function(width, height) {\n",
       "        // Keep the size of the canvas, canvas container, and rubber band\n",
       "        // canvas in synch.\n",
       "        canvas_div.css('width', width)\n",
       "        canvas_div.css('height', height)\n",
       "\n",
       "        canvas.attr('width', width * mpl.ratio);\n",
       "        canvas.attr('height', height * mpl.ratio);\n",
       "        canvas.attr('style', 'width: ' + width + 'px; height: ' + height + 'px;');\n",
       "\n",
       "        rubberband.attr('width', width);\n",
       "        rubberband.attr('height', height);\n",
       "    }\n",
       "\n",
       "    // Set the figure to an initial 600x600px, this will subsequently be updated\n",
       "    // upon first draw.\n",
       "    this._resize_canvas(600, 600);\n",
       "\n",
       "    // Disable right mouse context menu.\n",
       "    $(this.rubberband_canvas).bind(\"contextmenu\",function(e){\n",
       "        return false;\n",
       "    });\n",
       "\n",
       "    function set_focus () {\n",
       "        canvas.focus();\n",
       "        canvas_div.focus();\n",
       "    }\n",
       "\n",
       "    window.setTimeout(set_focus, 100);\n",
       "}\n",
       "\n",
       "mpl.figure.prototype._init_toolbar = function() {\n",
       "    var fig = this;\n",
       "\n",
       "    var nav_element = $('<div/>');\n",
       "    nav_element.attr('style', 'width: 100%');\n",
       "    this.root.append(nav_element);\n",
       "\n",
       "    // Define a callback function for later on.\n",
       "    function toolbar_event(event) {\n",
       "        return fig.toolbar_button_onclick(event['data']);\n",
       "    }\n",
       "    function toolbar_mouse_event(event) {\n",
       "        return fig.toolbar_button_onmouseover(event['data']);\n",
       "    }\n",
       "\n",
       "    for(var toolbar_ind in mpl.toolbar_items) {\n",
       "        var name = mpl.toolbar_items[toolbar_ind][0];\n",
       "        var tooltip = mpl.toolbar_items[toolbar_ind][1];\n",
       "        var image = mpl.toolbar_items[toolbar_ind][2];\n",
       "        var method_name = mpl.toolbar_items[toolbar_ind][3];\n",
       "\n",
       "        if (!name) {\n",
       "            // put a spacer in here.\n",
       "            continue;\n",
       "        }\n",
       "        var button = $('<button/>');\n",
       "        button.addClass('ui-button ui-widget ui-state-default ui-corner-all ' +\n",
       "                        'ui-button-icon-only');\n",
       "        button.attr('role', 'button');\n",
       "        button.attr('aria-disabled', 'false');\n",
       "        button.click(method_name, toolbar_event);\n",
       "        button.mouseover(tooltip, toolbar_mouse_event);\n",
       "\n",
       "        var icon_img = $('<span/>');\n",
       "        icon_img.addClass('ui-button-icon-primary ui-icon');\n",
       "        icon_img.addClass(image);\n",
       "        icon_img.addClass('ui-corner-all');\n",
       "\n",
       "        var tooltip_span = $('<span/>');\n",
       "        tooltip_span.addClass('ui-button-text');\n",
       "        tooltip_span.html(tooltip);\n",
       "\n",
       "        button.append(icon_img);\n",
       "        button.append(tooltip_span);\n",
       "\n",
       "        nav_element.append(button);\n",
       "    }\n",
       "\n",
       "    var fmt_picker_span = $('<span/>');\n",
       "\n",
       "    var fmt_picker = $('<select/>');\n",
       "    fmt_picker.addClass('mpl-toolbar-option ui-widget ui-widget-content');\n",
       "    fmt_picker_span.append(fmt_picker);\n",
       "    nav_element.append(fmt_picker_span);\n",
       "    this.format_dropdown = fmt_picker[0];\n",
       "\n",
       "    for (var ind in mpl.extensions) {\n",
       "        var fmt = mpl.extensions[ind];\n",
       "        var option = $(\n",
       "            '<option/>', {selected: fmt === mpl.default_extension}).html(fmt);\n",
       "        fmt_picker.append(option);\n",
       "    }\n",
       "\n",
       "    // Add hover states to the ui-buttons\n",
       "    $( \".ui-button\" ).hover(\n",
       "        function() { $(this).addClass(\"ui-state-hover\");},\n",
       "        function() { $(this).removeClass(\"ui-state-hover\");}\n",
       "    );\n",
       "\n",
       "    var status_bar = $('<span class=\"mpl-message\"/>');\n",
       "    nav_element.append(status_bar);\n",
       "    this.message = status_bar[0];\n",
       "}\n",
       "\n",
       "mpl.figure.prototype.request_resize = function(x_pixels, y_pixels) {\n",
       "    // Request matplotlib to resize the figure. Matplotlib will then trigger a resize in the client,\n",
       "    // which will in turn request a refresh of the image.\n",
       "    this.send_message('resize', {'width': x_pixels, 'height': y_pixels});\n",
       "}\n",
       "\n",
       "mpl.figure.prototype.send_message = function(type, properties) {\n",
       "    properties['type'] = type;\n",
       "    properties['figure_id'] = this.id;\n",
       "    this.ws.send(JSON.stringify(properties));\n",
       "}\n",
       "\n",
       "mpl.figure.prototype.send_draw_message = function() {\n",
       "    if (!this.waiting) {\n",
       "        this.waiting = true;\n",
       "        this.ws.send(JSON.stringify({type: \"draw\", figure_id: this.id}));\n",
       "    }\n",
       "}\n",
       "\n",
       "\n",
       "mpl.figure.prototype.handle_save = function(fig, msg) {\n",
       "    var format_dropdown = fig.format_dropdown;\n",
       "    var format = format_dropdown.options[format_dropdown.selectedIndex].value;\n",
       "    fig.ondownload(fig, format);\n",
       "}\n",
       "\n",
       "\n",
       "mpl.figure.prototype.handle_resize = function(fig, msg) {\n",
       "    var size = msg['size'];\n",
       "    if (size[0] != fig.canvas.width || size[1] != fig.canvas.height) {\n",
       "        fig._resize_canvas(size[0], size[1]);\n",
       "        fig.send_message(\"refresh\", {});\n",
       "    };\n",
       "}\n",
       "\n",
       "mpl.figure.prototype.handle_rubberband = function(fig, msg) {\n",
       "    var x0 = msg['x0'] / mpl.ratio;\n",
       "    var y0 = (fig.canvas.height - msg['y0']) / mpl.ratio;\n",
       "    var x1 = msg['x1'] / mpl.ratio;\n",
       "    var y1 = (fig.canvas.height - msg['y1']) / mpl.ratio;\n",
       "    x0 = Math.floor(x0) + 0.5;\n",
       "    y0 = Math.floor(y0) + 0.5;\n",
       "    x1 = Math.floor(x1) + 0.5;\n",
       "    y1 = Math.floor(y1) + 0.5;\n",
       "    var min_x = Math.min(x0, x1);\n",
       "    var min_y = Math.min(y0, y1);\n",
       "    var width = Math.abs(x1 - x0);\n",
       "    var height = Math.abs(y1 - y0);\n",
       "\n",
       "    fig.rubberband_context.clearRect(\n",
       "        0, 0, fig.canvas.width / mpl.ratio, fig.canvas.height / mpl.ratio);\n",
       "\n",
       "    fig.rubberband_context.strokeRect(min_x, min_y, width, height);\n",
       "}\n",
       "\n",
       "mpl.figure.prototype.handle_figure_label = function(fig, msg) {\n",
       "    // Updates the figure title.\n",
       "    fig.header.textContent = msg['label'];\n",
       "}\n",
       "\n",
       "mpl.figure.prototype.handle_cursor = function(fig, msg) {\n",
       "    var cursor = msg['cursor'];\n",
       "    switch(cursor)\n",
       "    {\n",
       "    case 0:\n",
       "        cursor = 'pointer';\n",
       "        break;\n",
       "    case 1:\n",
       "        cursor = 'default';\n",
       "        break;\n",
       "    case 2:\n",
       "        cursor = 'crosshair';\n",
       "        break;\n",
       "    case 3:\n",
       "        cursor = 'move';\n",
       "        break;\n",
       "    }\n",
       "    fig.rubberband_canvas.style.cursor = cursor;\n",
       "}\n",
       "\n",
       "mpl.figure.prototype.handle_message = function(fig, msg) {\n",
       "    fig.message.textContent = msg['message'];\n",
       "}\n",
       "\n",
       "mpl.figure.prototype.handle_draw = function(fig, msg) {\n",
       "    // Request the server to send over a new figure.\n",
       "    fig.send_draw_message();\n",
       "}\n",
       "\n",
       "mpl.figure.prototype.handle_image_mode = function(fig, msg) {\n",
       "    fig.image_mode = msg['mode'];\n",
       "}\n",
       "\n",
       "mpl.figure.prototype.updated_canvas_event = function() {\n",
       "    // Called whenever the canvas gets updated.\n",
       "    this.send_message(\"ack\", {});\n",
       "}\n",
       "\n",
       "// A function to construct a web socket function for onmessage handling.\n",
       "// Called in the figure constructor.\n",
       "mpl.figure.prototype._make_on_message_function = function(fig) {\n",
       "    return function socket_on_message(evt) {\n",
       "        if (evt.data instanceof Blob) {\n",
       "            /* FIXME: We get \"Resource interpreted as Image but\n",
       "             * transferred with MIME type text/plain:\" errors on\n",
       "             * Chrome.  But how to set the MIME type?  It doesn't seem\n",
       "             * to be part of the websocket stream */\n",
       "            evt.data.type = \"image/png\";\n",
       "\n",
       "            /* Free the memory for the previous frames */\n",
       "            if (fig.imageObj.src) {\n",
       "                (window.URL || window.webkitURL).revokeObjectURL(\n",
       "                    fig.imageObj.src);\n",
       "            }\n",
       "\n",
       "            fig.imageObj.src = (window.URL || window.webkitURL).createObjectURL(\n",
       "                evt.data);\n",
       "            fig.updated_canvas_event();\n",
       "            fig.waiting = false;\n",
       "            return;\n",
       "        }\n",
       "        else if (typeof evt.data === 'string' && evt.data.slice(0, 21) == \"data:image/png;base64\") {\n",
       "            fig.imageObj.src = evt.data;\n",
       "            fig.updated_canvas_event();\n",
       "            fig.waiting = false;\n",
       "            return;\n",
       "        }\n",
       "\n",
       "        var msg = JSON.parse(evt.data);\n",
       "        var msg_type = msg['type'];\n",
       "\n",
       "        // Call the  \"handle_{type}\" callback, which takes\n",
       "        // the figure and JSON message as its only arguments.\n",
       "        try {\n",
       "            var callback = fig[\"handle_\" + msg_type];\n",
       "        } catch (e) {\n",
       "            console.log(\"No handler for the '\" + msg_type + \"' message type: \", msg);\n",
       "            return;\n",
       "        }\n",
       "\n",
       "        if (callback) {\n",
       "            try {\n",
       "                // console.log(\"Handling '\" + msg_type + \"' message: \", msg);\n",
       "                callback(fig, msg);\n",
       "            } catch (e) {\n",
       "                console.log(\"Exception inside the 'handler_\" + msg_type + \"' callback:\", e, e.stack, msg);\n",
       "            }\n",
       "        }\n",
       "    };\n",
       "}\n",
       "\n",
       "// from http://stackoverflow.com/questions/1114465/getting-mouse-location-in-canvas\n",
       "mpl.findpos = function(e) {\n",
       "    //this section is from http://www.quirksmode.org/js/events_properties.html\n",
       "    var targ;\n",
       "    if (!e)\n",
       "        e = window.event;\n",
       "    if (e.target)\n",
       "        targ = e.target;\n",
       "    else if (e.srcElement)\n",
       "        targ = e.srcElement;\n",
       "    if (targ.nodeType == 3) // defeat Safari bug\n",
       "        targ = targ.parentNode;\n",
       "\n",
       "    // jQuery normalizes the pageX and pageY\n",
       "    // pageX,Y are the mouse positions relative to the document\n",
       "    // offset() returns the position of the element relative to the document\n",
       "    var x = e.pageX - $(targ).offset().left;\n",
       "    var y = e.pageY - $(targ).offset().top;\n",
       "\n",
       "    return {\"x\": x, \"y\": y};\n",
       "};\n",
       "\n",
       "/*\n",
       " * return a copy of an object with only non-object keys\n",
       " * we need this to avoid circular references\n",
       " * http://stackoverflow.com/a/24161582/3208463\n",
       " */\n",
       "function simpleKeys (original) {\n",
       "  return Object.keys(original).reduce(function (obj, key) {\n",
       "    if (typeof original[key] !== 'object')\n",
       "        obj[key] = original[key]\n",
       "    return obj;\n",
       "  }, {});\n",
       "}\n",
       "\n",
       "mpl.figure.prototype.mouse_event = function(event, name) {\n",
       "    var canvas_pos = mpl.findpos(event)\n",
       "\n",
       "    if (name === 'button_press')\n",
       "    {\n",
       "        this.canvas.focus();\n",
       "        this.canvas_div.focus();\n",
       "    }\n",
       "\n",
       "    var x = canvas_pos.x * mpl.ratio;\n",
       "    var y = canvas_pos.y * mpl.ratio;\n",
       "\n",
       "    this.send_message(name, {x: x, y: y, button: event.button,\n",
       "                             step: event.step,\n",
       "                             guiEvent: simpleKeys(event)});\n",
       "\n",
       "    /* This prevents the web browser from automatically changing to\n",
       "     * the text insertion cursor when the button is pressed.  We want\n",
       "     * to control all of the cursor setting manually through the\n",
       "     * 'cursor' event from matplotlib */\n",
       "    event.preventDefault();\n",
       "    return false;\n",
       "}\n",
       "\n",
       "mpl.figure.prototype._key_event_extra = function(event, name) {\n",
       "    // Handle any extra behaviour associated with a key event\n",
       "}\n",
       "\n",
       "mpl.figure.prototype.key_event = function(event, name) {\n",
       "\n",
       "    // Prevent repeat events\n",
       "    if (name == 'key_press')\n",
       "    {\n",
       "        if (event.which === this._key)\n",
       "            return;\n",
       "        else\n",
       "            this._key = event.which;\n",
       "    }\n",
       "    if (name == 'key_release')\n",
       "        this._key = null;\n",
       "\n",
       "    var value = '';\n",
       "    if (event.ctrlKey && event.which != 17)\n",
       "        value += \"ctrl+\";\n",
       "    if (event.altKey && event.which != 18)\n",
       "        value += \"alt+\";\n",
       "    if (event.shiftKey && event.which != 16)\n",
       "        value += \"shift+\";\n",
       "\n",
       "    value += 'k';\n",
       "    value += event.which.toString();\n",
       "\n",
       "    this._key_event_extra(event, name);\n",
       "\n",
       "    this.send_message(name, {key: value,\n",
       "                             guiEvent: simpleKeys(event)});\n",
       "    return false;\n",
       "}\n",
       "\n",
       "mpl.figure.prototype.toolbar_button_onclick = function(name) {\n",
       "    if (name == 'download') {\n",
       "        this.handle_save(this, null);\n",
       "    } else {\n",
       "        this.send_message(\"toolbar_button\", {name: name});\n",
       "    }\n",
       "};\n",
       "\n",
       "mpl.figure.prototype.toolbar_button_onmouseover = function(tooltip) {\n",
       "    this.message.textContent = tooltip;\n",
       "};\n",
       "mpl.toolbar_items = [[\"Home\", \"Reset original view\", \"fa fa-home icon-home\", \"home\"], [\"Back\", \"Back to previous view\", \"fa fa-arrow-left icon-arrow-left\", \"back\"], [\"Forward\", \"Forward to next view\", \"fa fa-arrow-right icon-arrow-right\", \"forward\"], [\"\", \"\", \"\", \"\"], [\"Pan\", \"Pan axes with left mouse, zoom with right\", \"fa fa-arrows icon-move\", \"pan\"], [\"Zoom\", \"Zoom to rectangle\", \"fa fa-square-o icon-check-empty\", \"zoom\"], [\"\", \"\", \"\", \"\"], [\"Download\", \"Download plot\", \"fa fa-floppy-o icon-save\", \"download\"]];\n",
       "\n",
       "mpl.extensions = [\"eps\", \"pdf\", \"png\", \"ps\", \"raw\", \"svg\"];\n",
       "\n",
       "mpl.default_extension = \"png\";var comm_websocket_adapter = function(comm) {\n",
       "    // Create a \"websocket\"-like object which calls the given IPython comm\n",
       "    // object with the appropriate methods. Currently this is a non binary\n",
       "    // socket, so there is still some room for performance tuning.\n",
       "    var ws = {};\n",
       "\n",
       "    ws.close = function() {\n",
       "        comm.close()\n",
       "    };\n",
       "    ws.send = function(m) {\n",
       "        //console.log('sending', m);\n",
       "        comm.send(m);\n",
       "    };\n",
       "    // Register the callback with on_msg.\n",
       "    comm.on_msg(function(msg) {\n",
       "        //console.log('receiving', msg['content']['data'], msg);\n",
       "        // Pass the mpl event to the overridden (by mpl) onmessage function.\n",
       "        ws.onmessage(msg['content']['data'])\n",
       "    });\n",
       "    return ws;\n",
       "}\n",
       "\n",
       "mpl.mpl_figure_comm = function(comm, msg) {\n",
       "    // This is the function which gets called when the mpl process\n",
       "    // starts-up an IPython Comm through the \"matplotlib\" channel.\n",
       "\n",
       "    var id = msg.content.data.id;\n",
       "    // Get hold of the div created by the display call when the Comm\n",
       "    // socket was opened in Python.\n",
       "    var element = $(\"#\" + id);\n",
       "    var ws_proxy = comm_websocket_adapter(comm)\n",
       "\n",
       "    function ondownload(figure, format) {\n",
       "        window.open(figure.imageObj.src);\n",
       "    }\n",
       "\n",
       "    var fig = new mpl.figure(id, ws_proxy,\n",
       "                           ondownload,\n",
       "                           element.get(0));\n",
       "\n",
       "    // Call onopen now - mpl needs it, as it is assuming we've passed it a real\n",
       "    // web socket which is closed, not our websocket->open comm proxy.\n",
       "    ws_proxy.onopen();\n",
       "\n",
       "    fig.parent_element = element.get(0);\n",
       "    fig.cell_info = mpl.find_output_cell(\"<div id='\" + id + \"'></div>\");\n",
       "    if (!fig.cell_info) {\n",
       "        console.error(\"Failed to find cell for figure\", id, fig);\n",
       "        return;\n",
       "    }\n",
       "\n",
       "    var output_index = fig.cell_info[2]\n",
       "    var cell = fig.cell_info[0];\n",
       "\n",
       "};\n",
       "\n",
       "mpl.figure.prototype.handle_close = function(fig, msg) {\n",
       "    var width = fig.canvas.width/mpl.ratio\n",
       "    fig.root.unbind('remove')\n",
       "\n",
       "    // Update the output cell to use the data from the current canvas.\n",
       "    fig.push_to_output();\n",
       "    var dataURL = fig.canvas.toDataURL();\n",
       "    // Re-enable the keyboard manager in IPython - without this line, in FF,\n",
       "    // the notebook keyboard shortcuts fail.\n",
       "    IPython.keyboard_manager.enable()\n",
       "    $(fig.parent_element).html('<img src=\"' + dataURL + '\" width=\"' + width + '\">');\n",
       "    fig.close_ws(fig, msg);\n",
       "}\n",
       "\n",
       "mpl.figure.prototype.close_ws = function(fig, msg){\n",
       "    fig.send_message('closing', msg);\n",
       "    // fig.ws.close()\n",
       "}\n",
       "\n",
       "mpl.figure.prototype.push_to_output = function(remove_interactive) {\n",
       "    // Turn the data on the canvas into data in the output cell.\n",
       "    var width = this.canvas.width/mpl.ratio\n",
       "    var dataURL = this.canvas.toDataURL();\n",
       "    this.cell_info[1]['text/html'] = '<img src=\"' + dataURL + '\" width=\"' + width + '\">';\n",
       "}\n",
       "\n",
       "mpl.figure.prototype.updated_canvas_event = function() {\n",
       "    // Tell IPython that the notebook contents must change.\n",
       "    IPython.notebook.set_dirty(true);\n",
       "    this.send_message(\"ack\", {});\n",
       "    var fig = this;\n",
       "    // Wait a second, then push the new image to the DOM so\n",
       "    // that it is saved nicely (might be nice to debounce this).\n",
       "    setTimeout(function () { fig.push_to_output() }, 1000);\n",
       "}\n",
       "\n",
       "mpl.figure.prototype._init_toolbar = function() {\n",
       "    var fig = this;\n",
       "\n",
       "    var nav_element = $('<div/>');\n",
       "    nav_element.attr('style', 'width: 100%');\n",
       "    this.root.append(nav_element);\n",
       "\n",
       "    // Define a callback function for later on.\n",
       "    function toolbar_event(event) {\n",
       "        return fig.toolbar_button_onclick(event['data']);\n",
       "    }\n",
       "    function toolbar_mouse_event(event) {\n",
       "        return fig.toolbar_button_onmouseover(event['data']);\n",
       "    }\n",
       "\n",
       "    for(var toolbar_ind in mpl.toolbar_items){\n",
       "        var name = mpl.toolbar_items[toolbar_ind][0];\n",
       "        var tooltip = mpl.toolbar_items[toolbar_ind][1];\n",
       "        var image = mpl.toolbar_items[toolbar_ind][2];\n",
       "        var method_name = mpl.toolbar_items[toolbar_ind][3];\n",
       "\n",
       "        if (!name) { continue; };\n",
       "\n",
       "        var button = $('<button class=\"btn btn-default\" href=\"#\" title=\"' + name + '\"><i class=\"fa ' + image + ' fa-lg\"></i></button>');\n",
       "        button.click(method_name, toolbar_event);\n",
       "        button.mouseover(tooltip, toolbar_mouse_event);\n",
       "        nav_element.append(button);\n",
       "    }\n",
       "\n",
       "    // Add the status bar.\n",
       "    var status_bar = $('<span class=\"mpl-message\" style=\"text-align:right; float: right;\"/>');\n",
       "    nav_element.append(status_bar);\n",
       "    this.message = status_bar[0];\n",
       "\n",
       "    // Add the close button to the window.\n",
       "    var buttongrp = $('<div class=\"btn-group inline pull-right\"></div>');\n",
       "    var button = $('<button class=\"btn btn-mini btn-primary\" href=\"#\" title=\"Stop Interaction\"><i class=\"fa fa-power-off icon-remove icon-large\"></i></button>');\n",
       "    button.click(function (evt) { fig.handle_close(fig, {}); } );\n",
       "    button.mouseover('Stop Interaction', toolbar_mouse_event);\n",
       "    buttongrp.append(button);\n",
       "    var titlebar = this.root.find($('.ui-dialog-titlebar'));\n",
       "    titlebar.prepend(buttongrp);\n",
       "}\n",
       "\n",
       "mpl.figure.prototype._root_extra_style = function(el){\n",
       "    var fig = this\n",
       "    el.on(\"remove\", function(){\n",
       "\tfig.close_ws(fig, {});\n",
       "    });\n",
       "}\n",
       "\n",
       "mpl.figure.prototype._canvas_extra_style = function(el){\n",
       "    // this is important to make the div 'focusable\n",
       "    el.attr('tabindex', 0)\n",
       "    // reach out to IPython and tell the keyboard manager to turn it's self\n",
       "    // off when our div gets focus\n",
       "\n",
       "    // location in version 3\n",
       "    if (IPython.notebook.keyboard_manager) {\n",
       "        IPython.notebook.keyboard_manager.register_events(el);\n",
       "    }\n",
       "    else {\n",
       "        // location in version 2\n",
       "        IPython.keyboard_manager.register_events(el);\n",
       "    }\n",
       "\n",
       "}\n",
       "\n",
       "mpl.figure.prototype._key_event_extra = function(event, name) {\n",
       "    var manager = IPython.notebook.keyboard_manager;\n",
       "    if (!manager)\n",
       "        manager = IPython.keyboard_manager;\n",
       "\n",
       "    // Check for shift+enter\n",
       "    if (event.shiftKey && event.which == 13) {\n",
       "        this.canvas_div.blur();\n",
       "        // select the cell after this one\n",
       "        var index = IPython.notebook.find_cell_index(this.cell_info[0]);\n",
       "        IPython.notebook.select(index + 1);\n",
       "    }\n",
       "}\n",
       "\n",
       "mpl.figure.prototype.handle_save = function(fig, msg) {\n",
       "    fig.ondownload(fig, null);\n",
       "}\n",
       "\n",
       "\n",
       "mpl.find_output_cell = function(html_output) {\n",
       "    // Return the cell and output element which can be found *uniquely* in the notebook.\n",
       "    // Note - this is a bit hacky, but it is done because the \"notebook_saving.Notebook\"\n",
       "    // IPython event is triggered only after the cells have been serialised, which for\n",
       "    // our purposes (turning an active figure into a static one), is too late.\n",
       "    var cells = IPython.notebook.get_cells();\n",
       "    var ncells = cells.length;\n",
       "    for (var i=0; i<ncells; i++) {\n",
       "        var cell = cells[i];\n",
       "        if (cell.cell_type === 'code'){\n",
       "            for (var j=0; j<cell.output_area.outputs.length; j++) {\n",
       "                var data = cell.output_area.outputs[j];\n",
       "                if (data.data) {\n",
       "                    // IPython >= 3 moved mimebundle to data attribute of output\n",
       "                    data = data.data;\n",
       "                }\n",
       "                if (data['text/html'] == html_output) {\n",
       "                    return [cell, data, j];\n",
       "                }\n",
       "            }\n",
       "        }\n",
       "    }\n",
       "}\n",
       "\n",
       "// Register the function which deals with the matplotlib target/channel.\n",
       "// The kernel may be null if the page has been refreshed.\n",
       "if (IPython.notebook.kernel != null) {\n",
       "    IPython.notebook.kernel.comm_manager.register_target('matplotlib', mpl.mpl_figure_comm);\n",
       "}\n"
      ],
      "text/plain": [
       "<IPython.core.display.Javascript object>"
      ]
     },
     "metadata": {},
     "output_type": "display_data"
    },
    {
     "data": {
      "text/html": [
       "<img src=\"data:image/png;base64,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\" width=\"639.9999861283738\">"
      ],
      "text/plain": [
       "<IPython.core.display.HTML object>"
      ]
     },
     "metadata": {},
     "output_type": "display_data"
    },
    {
     "data": {
      "text/plain": [
       "Text(0.5, 1.0, '0.30979999999999563')"
      ]
     },
     "execution_count": 10,
     "metadata": {},
     "output_type": "execute_result"
    }
   ],
   "source": [
    "%matplotlib notebook\n",
    "\n",
    "array = fmzs\n",
    "order = np.argsort(array)\n",
    "\n",
    "apex, counts = get_unique_apex_and_count(\n",
    "    self_indices[order],\n",
    "    other_indices[order],\n",
    "    return_all_counts=True\n",
    ")\n",
    "\n",
    "max_value = array[order[apex]]\n",
    "\n",
    "plt.plot(counts)\n",
    "plt.scatter(apex, counts[apex])\n",
    "plt.title(max_value)"
   ]
  },
  {
   "cell_type": "code",
   "execution_count": 9,
   "metadata": {},
   "outputs": [
    {
     "name": "stdout",
     "output_type": "stream",
     "text": [
      "8.8 s ± 326 ms per loop (mean ± std. dev. of 7 runs, 1 loop each)\n"
     ]
    }
   ],
   "source": [
    "%timeit get_unique_apex_and_count(self_indices[order],other_indices[order])"
   ]
  },
  {
   "cell_type": "code",
   "execution_count": null,
   "metadata": {},
   "outputs": [],
   "source": []
  },
  {
   "cell_type": "code",
   "execution_count": null,
   "metadata": {},
   "outputs": [],
   "source": []
  },
  {
   "cell_type": "code",
   "execution_count": null,
   "metadata": {},
   "outputs": [],
   "source": []
  },
  {
   "cell_type": "code",
   "execution_count": null,
   "metadata": {},
   "outputs": [],
   "source": [
    "%matplotlib notebook\n",
    "\n",
    "arr = prts\n",
    "\n",
    "plt.plot(\n",
    "    np.percentile(arr[unique], range(101))\n",
    ")\n",
    "plt.plot(\n",
    "    np.percentile(arr[~unique], range(101))\n",
    ")\n",
    "# plt.plot(\n",
    "#     np.percentile(prts, range(101))\n",
    "# )"
   ]
  },
  {
   "cell_type": "code",
   "execution_count": null,
   "metadata": {},
   "outputs": [],
   "source": []
  },
  {
   "cell_type": "code",
   "execution_count": null,
   "metadata": {},
   "outputs": [],
   "source": []
  },
  {
   "cell_type": "code",
   "execution_count": null,
   "metadata": {},
   "outputs": [],
   "source": []
  },
  {
   "cell_type": "code",
   "execution_count": null,
   "metadata": {},
   "outputs": [],
   "source": [
    "reload()\n",
    "\n",
    "inets = []\n",
    "evis = []\n",
    "anis = []\n",
    "# in_folder = \"/home/sander/Documents/Proteomics/data/ion_networks\"\n",
    "in_folder = \"/home/sander/Documents/Proteomics/data/ecoli3\"\n",
    "# in_folder = \"/home/sander/Documents/Proteomics/data/jpt/APEX\"\n",
    "for file_name in ms_utils.get_file_names_with_extension([in_folder], \".inet.hdf\"):\n",
    "    inets.append(\n",
    "        ms_run_files.Network(\n",
    "            file_name\n",
    "        )\n",
    "    )\n",
    "    evis.append(\n",
    "        ms_run_files.Evidence(\n",
    "            file_name\n",
    "        )\n",
    "    )\n",
    "    anis.append(\n",
    "        ms_run_files.Annotation(\n",
    "            file_name\n",
    "        )\n",
    "    )"
   ]
  },
  {
   "cell_type": "code",
   "execution_count": null,
   "metadata": {},
   "outputs": [],
   "source": []
  },
  {
   "cell_type": "code",
   "execution_count": null,
   "metadata": {},
   "outputs": [],
   "source": [
    "ani_indices = anis[0].get_dataset(\"indices\", 'edge_candidates')\n",
    "ani_indptr = anis[0].get_dataset(\"indptr\", 'edge_candidates')"
   ]
  },
  {
   "cell_type": "code",
   "execution_count": null,
   "metadata": {},
   "outputs": [],
   "source": [
    "anis[0].get_dataset"
   ]
  },
  {
   "cell_type": "code",
   "execution_count": null,
   "metadata": {},
   "outputs": [],
   "source": []
  },
  {
   "cell_type": "code",
   "execution_count": null,
   "metadata": {},
   "outputs": [],
   "source": []
  },
  {
   "cell_type": "code",
   "execution_count": null,
   "metadata": {},
   "outputs": [],
   "source": []
  },
  {
   "cell_type": "code",
   "execution_count": null,
   "metadata": {},
   "outputs": [],
   "source": []
  },
  {
   "cell_type": "code",
   "execution_count": null,
   "metadata": {},
   "outputs": [],
   "source": []
  },
  {
   "cell_type": "code",
   "execution_count": null,
   "metadata": {},
   "outputs": [],
   "source": [
    "self_inet = inets[0]\n",
    "self_evi = evis[0]\n",
    "other_inet = inets[1]\n",
    "other_evi = evis[1]\n",
    "\n",
    "self_alignment = self_evi.get_aligned_nodes_from_group(\n",
    "    other_evi.file_name_base,\n",
    "    return_as_mask=False\n",
    ")\n",
    "other_alignment = other_evi.get_aligned_nodes_from_group(\n",
    "    self_evi.file_name_base,\n",
    "    return_as_mask=False\n",
    ")\n",
    "# other_logints = inets[other_name].get_ion_coordinates(\n",
    "#     \"FRAGMENT_LOGINT\",\n",
    "#     indices=other_alignment\n",
    "# )\n",
    "# logints[i, self_alignment] = other_logints"
   ]
  },
  {
   "cell_type": "code",
   "execution_count": null,
   "metadata": {},
   "outputs": [],
   "source": [
    "%matplotlib notebook\n",
    "\n",
    "fig = plt.figure()\n",
    "ax = fig.add_subplot(111)\n",
    "\n",
    "ind_start = 0\n",
    "ind_size = len(self_alignment)\n",
    "\n",
    "a1 = self_inet.get_ion_coordinates(\"PRECURSOR_RT\", indices = self_alignment[ind_start: ind_start+ind_size])\n",
    "b1 = self_inet.get_ion_coordinates(\"PRECURSOR_MZ\", indices = self_alignment[ind_start: ind_start+ind_size])\n",
    "a2 = other_inet.get_ion_coordinates(\"PRECURSOR_RT\", indices = other_alignment[ind_start: ind_start+ind_size])\n",
    "b2 = other_inet.get_ion_coordinates(\"PRECURSOR_MZ\", indices = other_alignment[ind_start: ind_start+ind_size])\n",
    "\n",
    "# ax=\n",
    "\n",
    "start_edges = list(zip(a1, b1))\n",
    "end_edges = list(zip(a2, b2))\n",
    "# colors = positive_counts[selection] - negative_counts[selection]\n",
    "edges = np.array(list(zip(start_edges, end_edges)))\n",
    "\n",
    "x = ax.add_collection(\n",
    "    matplotlib.collections.LineCollection(edges),\n",
    ")\n",
    "x.set_color(\"grey\")\n",
    "ax.scatter(a1, b1, marker=\".\", c=\"g\", zorder=10)\n",
    "ax.scatter(a2, b2, marker=\".\", c=\"r\", zorder=10)\n",
    "ax.set_xlabel(\"PRECURSOR_RT\")\n",
    "ax.set_ylabel(\"PRECURSOR_MZ\")\n",
    "# sns.jointplot(a1[ind_start: ind_start+ind_size], a2[ind_start: ind_start+ind_size], kind=\"kde\",gridsize=100)"
   ]
  },
  {
   "cell_type": "code",
   "execution_count": null,
   "metadata": {},
   "outputs": [],
   "source": [
    "import matplotlib\n",
    "sorted(matplotlib.colors.__dict__['CSS4_COLORS'])"
   ]
  },
  {
   "cell_type": "code",
   "execution_count": null,
   "metadata": {},
   "outputs": [],
   "source": [
    "# repro = evi.get_aligned_nodes_from_group()"
   ]
  },
  {
   "cell_type": "code",
   "execution_count": null,
   "metadata": {},
   "outputs": [],
   "source": [
    "inet=inets[0]\n",
    "evi=evis[0]\n",
    "\n",
    "%matplotlib notebook\n",
    "coords = inet.get_ion_coordinates(inet2.dimensions)\n",
    "print(inet.dimensions)\n",
    "from mpl_toolkits.mplot3d import Axes3D\n",
    "fig = plt.figure()\n",
    "ax = fig.add_subplot(111, projection='3d')\n",
    "\n",
    "# repro = evi.get_aligned_nodes_from_group()\n",
    "\n",
    "selection = (coords[3] > 30) & (coords[3] < 30.2)\n",
    "selection &= (coords[2] < 2000)\n",
    "selection &= (coords[1] < 900)\n",
    "# selection=...\n",
    "\n",
    "# sns.jointplot(coords[1][selection], coords[2][selection], kind=\"hex\", gridsize=200)\n",
    "ax.scatter(\n",
    "    coords[1][selection],\n",
    "    coords[3][selection],\n",
    "    coords[2][selection],\n",
    "    marker=\".\",\n",
    "    c=coords[0][selection],\n",
    "    cmap=\"RdYlGn\"\n",
    ")\n",
    "ax.set_xlabel(inet.dimensions[1])\n",
    "ax.set_ylabel(inet.dimensions[3])\n",
    "ax.set_zlabel(inet.dimensions[2])"
   ]
  },
  {
   "cell_type": "code",
   "execution_count": null,
   "metadata": {},
   "outputs": [],
   "source": []
  },
  {
   "cell_type": "code",
   "execution_count": null,
   "metadata": {},
   "outputs": [],
   "source": []
  },
  {
   "cell_type": "code",
   "execution_count": null,
   "metadata": {},
   "outputs": [],
   "source": []
  },
  {
   "cell_type": "code",
   "execution_count": null,
   "metadata": {},
   "outputs": [],
   "source": []
  },
  {
   "cell_type": "code",
   "execution_count": null,
   "metadata": {},
   "outputs": [],
   "source": []
  },
  {
   "cell_type": "code",
   "execution_count": null,
   "metadata": {},
   "outputs": [],
   "source": []
  },
  {
   "cell_type": "code",
   "execution_count": null,
   "metadata": {},
   "outputs": [],
   "source": []
  },
  {
   "cell_type": "code",
   "execution_count": null,
   "metadata": {},
   "outputs": [],
   "source": []
  },
  {
   "cell_type": "code",
   "execution_count": null,
   "metadata": {},
   "outputs": [],
   "source": []
  },
  {
   "cell_type": "code",
   "execution_count": null,
   "metadata": {},
   "outputs": [],
   "source": []
  },
  {
   "cell_type": "code",
   "execution_count": null,
   "metadata": {},
   "outputs": [],
   "source": []
  },
  {
   "cell_type": "code",
   "execution_count": null,
   "metadata": {},
   "outputs": [],
   "source": []
  },
  {
   "cell_type": "code",
   "execution_count": null,
   "metadata": {},
   "outputs": [],
   "source": [
    "reload()\n",
    "\n",
    "an = annotation.Annotation(\n",
    "    evidence=evis[0],\n",
    "    database=\"/home/sander/Documents/Proteomics/data/databases/hdf/crap_ecoli_concatenated_decoy.hdf\",\n",
    "    parameters={\n",
    "        \"annotation_ppm\": 20,\n",
    "    },\n",
    "    logger=logger\n",
    ")"
   ]
  },
  {
   "cell_type": "code",
   "execution_count": null,
   "metadata": {},
   "outputs": [],
   "source": [
    "self=inets[1]\n",
    "# indptr, indices = self.get_edges(\n",
    "#     indptr_and_indices=True\n",
    "# )\n",
    "# x, y = self.get_edges(return_as_scipy_csr=False)"
   ]
  },
  {
   "cell_type": "code",
   "execution_count": null,
   "metadata": {},
   "outputs": [],
   "source": [
    "rts = self.get_ion_coordinates(\"PRECURSOR_RT\")\n",
    "rts[:1000000]"
   ]
  },
  {
   "cell_type": "code",
   "execution_count": null,
   "metadata": {},
   "outputs": [],
   "source": []
  },
  {
   "cell_type": "code",
   "execution_count": null,
   "metadata": {},
   "outputs": [],
   "source": []
  },
  {
   "cell_type": "code",
   "execution_count": null,
   "metadata": {},
   "outputs": [],
   "source": []
  },
  {
   "cell_type": "code",
   "execution_count": null,
   "metadata": {},
   "outputs": [],
   "source": []
  },
  {
   "cell_type": "code",
   "execution_count": null,
   "metadata": {},
   "outputs": [],
   "source": []
  },
  {
   "cell_type": "code",
   "execution_count": null,
   "metadata": {},
   "outputs": [],
   "source": []
  },
  {
   "cell_type": "code",
   "execution_count": null,
   "metadata": {},
   "outputs": [],
   "source": []
  },
  {
   "cell_type": "code",
   "execution_count": null,
   "metadata": {},
   "outputs": [],
   "source": []
  },
  {
   "cell_type": "code",
   "execution_count": null,
   "metadata": {},
   "outputs": [],
   "source": [
    "reload()\n",
    "\n",
    "self = inets[0]\n",
    "other = inets[1]\n",
    "# self_ints, self_mzs, self_pmzs, self_rts = self.get_ion_coordinates()\n",
    "# other_ints, other_mzs, other_pmzs, other_rts = other.get_ion_coordinates()\n",
    "# calibrated_self_rts = sandbox.calibrate_precursor_rt(self, other, ppm=10)"
   ]
  },
  {
   "cell_type": "code",
   "execution_count": null,
   "metadata": {},
   "outputs": [],
   "source": []
  },
  {
   "cell_type": "code",
   "execution_count": null,
   "metadata": {},
   "outputs": [],
   "source": [
    "self_mzs = pd.read_csv(\n",
    "    \"/home/sander/Documents/Proteomics/data/jpt/APEX/200117_JPTmix_prop_Fullloop_01_Apex3DIons.inet.csv\",\n",
    "    usecols=[\"FRAGMENT_MZ\"]\n",
    ").values.flatten()\n",
    "other_mzs = pd.read_csv(\n",
    "    \"/home/sander/Documents/Proteomics/data/jpt/APEX/200117_JPTmix_prop_Fullloop_08_Apex3DIons.inet.csv\",\n",
    "    usecols=[\"FRAGMENT_MZ\"]\n",
    ").values.flatten()\n",
    "\n",
    "self_logints = pd.read_csv(\n",
    "    \"/home/sander/Documents/Proteomics/data/jpt/APEX/200117_JPTmix_prop_Fullloop_01_Apex3DIons.inet.csv\",\n",
    "    usecols=[\"FRAGMENT_LOGINT\"]\n",
    ").values.flatten()\n",
    "other_logints = pd.read_csv(\n",
    "    \"/home/sander/Documents/Proteomics/data/jpt/APEX/200117_JPTmix_prop_Fullloop_08_Apex3DIons.inet.csv\",\n",
    "    usecols=[\"FRAGMENT_LOGINT\"]\n",
    ").values.flatten()"
   ]
  },
  {
   "cell_type": "code",
   "execution_count": null,
   "metadata": {},
   "outputs": [],
   "source": [
    "# le_indices = np.concatenate(\n",
    "#     [\n",
    "#         start + np.argpartition(\n",
    "#             ions[\"INTENSITY\"][start: end], - to_select_per_sample\n",
    "#         )[-to_select_per_sample:] for start, end in zip(\n",
    "#             start_indices[:-1],\n",
    "#             start_indices[1:]\n",
    "#         )\n",
    "#     ]\n",
    "# )\n"
   ]
  },
  {
   "cell_type": "code",
   "execution_count": null,
   "metadata": {},
   "outputs": [],
   "source": [
    "calibration_ions = 50000\n",
    "self_ions = np.argpartition(self_logints, -calibration_ions)[-calibration_ions:]\n",
    "other_ions = np.argpartition(other_logints, -calibration_ions)[-calibration_ions:]"
   ]
  },
  {
   "cell_type": "code",
   "execution_count": null,
   "metadata": {},
   "outputs": [],
   "source": [
    "self_mzs = self_mzs[self_ions]\n",
    "other_mzs = other_mzs[other_ions]"
   ]
  },
  {
   "cell_type": "code",
   "execution_count": null,
   "metadata": {},
   "outputs": [],
   "source": []
  },
  {
   "cell_type": "code",
   "execution_count": null,
   "metadata": {},
   "outputs": [],
   "source": [
    "np.sort(self_mzs), np.sort(other_mzs)"
   ]
  },
  {
   "cell_type": "code",
   "execution_count": null,
   "metadata": {},
   "outputs": [],
   "source": [
    "self_mzs = self.get_ion_coordinates(\"FRAGMENT_MZ\")\n",
    "other_mzs = other.get_ion_coordinates(\"FRAGMENT_MZ\")\n",
    "# self_indices, other_indices = sandbox.quick_align(self_mzs, other_mzs, ppm=10)\n",
    "# self_rts = self.get_ion_coordinates(\"PRECURSOR_RT\")\n",
    "# other_rts = other.get_ion_coordinates(\"PRECURSOR_RT\", indices=other_indices)"
   ]
  },
  {
   "cell_type": "code",
   "execution_count": null,
   "metadata": {},
   "outputs": [],
   "source": [
    "self_inds = np.repeat(0, len(self_mzs))\n",
    "other_inds = np.repeat(1, len(other_mzs))"
   ]
  },
  {
   "cell_type": "code",
   "execution_count": null,
   "metadata": {},
   "outputs": [],
   "source": [
    "mzs = np.concatenate([self_mzs, other_mzs])\n",
    "inds = np.concatenate([self_inds, other_inds])\n",
    "order = np.argsort(mzs)\n",
    "mzs = mzs[order]\n",
    "inds = inds[order]"
   ]
  },
  {
   "cell_type": "code",
   "execution_count": null,
   "metadata": {},
   "outputs": [],
   "source": [
    "mz_diffs = np.diff(mzs)\n",
    "ind_diffs = np.diff(inds)\n",
    "x = np.concatenate([mz_diffs[ind_diffs==1], -mz_diffs[ind_diffs==-1]])"
   ]
  },
  {
   "cell_type": "code",
   "execution_count": null,
   "metadata": {},
   "outputs": [],
   "source": [
    "x = (mz_diffs[:-2] < mz_diffs[1:-1]) & (mz_diffs[1:-1] < mz_diffs[2:])\n",
    "x &= ind_diffs[1:-1] != 0\n",
    "x = mz_diffs[1:-1][x] * -ind_diffs[1:-1][x]"
   ]
  },
  {
   "cell_type": "code",
   "execution_count": null,
   "metadata": {},
   "outputs": [],
   "source": [
    "np.quantile(\n",
    "    mz_diffs[ind_diffs==-1] * 10**6 / mzs[:-1][ind_diffs==-1],\n",
    "    0.5\n",
    ")"
   ]
  },
  {
   "cell_type": "code",
   "execution_count": null,
   "metadata": {},
   "outputs": [],
   "source": []
  },
  {
   "cell_type": "code",
   "execution_count": null,
   "metadata": {},
   "outputs": [],
   "source": [
    "%matplotlib notebook\n",
    "\n",
    "# s = np.concatenate([mz_diffs[ind_diffs==1], -mz_diffs[ind_diffs==-1]])\n",
    "\n",
    "plt.scatter(\n",
    "    mzs[:-1][ind_diffs==1],\n",
    "    mz_diffs[ind_diffs==1] * 10**6 / mzs[:-1][ind_diffs==1]\n",
    "#     np.sort(self_mzs),\n",
    "#     np.sort(other_mzs) - np.sort(self_mzs),\n",
    "#     10**6 * (np.sort(self_mzs) - np.sort(other_mzs)) / np.sort(self_mzs)\n",
    ")"
   ]
  },
  {
   "cell_type": "code",
   "execution_count": null,
   "metadata": {},
   "outputs": [],
   "source": [
    "%matplotlib notebook\n",
    "\n",
    "a, b = np.unique(np.round(x,3), return_counts=True)\n",
    "print(np.quantile(x, np.arange(101)/100), np.median(x))\n",
    "# plt.plot(a,b)\n",
    "plt.plot(np.quantile(x, np.arange(101)/100))"
   ]
  },
  {
   "cell_type": "code",
   "execution_count": null,
   "metadata": {},
   "outputs": [],
   "source": []
  },
  {
   "cell_type": "code",
   "execution_count": null,
   "metadata": {},
   "outputs": [],
   "source": [
    "new_self_rts = []\n",
    "for self_start_index, self_end_index, other_rt_start, other_rt_end in zip(\n",
    "    self_indices[:-1],\n",
    "    self_indices[1:],\n",
    "    other_rts[:-1],\n",
    "    other_rts[1:]\n",
    "):\n",
    "#     if self_end_index == self_start_index:\n",
    "#         continue\n",
    "    self_rt_start = self_rts[self_start_index]\n",
    "    self_rt_end = self_rts[self_end_index]\n",
    "    if self_rt_start == self_rt_end:\n",
    "        new_rts = np.repeat(other_rt_start, self_end_index - self_start_index)\n",
    "    else:\n",
    "        slope = (other_rt_end - other_rt_start) / (self_rt_end - self_rt_start)\n",
    "        new_rts = other_rt_start + slope * (\n",
    "            self_rts[self_start_index: self_end_index] - self_rt_start\n",
    "        )\n",
    "    new_self_rts.append(new_rts)\n",
    "new_self_rts.append([other_rts[-1]])\n",
    "new_self_rts = np.concatenate(new_self_rts)"
   ]
  },
  {
   "cell_type": "code",
   "execution_count": null,
   "metadata": {},
   "outputs": [],
   "source": [
    "new_self_rts.shape[0] - self_rts.shape[0]"
   ]
  },
  {
   "cell_type": "code",
   "execution_count": null,
   "metadata": {},
   "outputs": [],
   "source": []
  },
  {
   "cell_type": "code",
   "execution_count": null,
   "metadata": {},
   "outputs": [],
   "source": [
    "self_rts = self.get_ion_coordinates(\"PRECURSOR_RT\")"
   ]
  },
  {
   "cell_type": "code",
   "execution_count": null,
   "metadata": {},
   "outputs": [],
   "source": [
    "%matplotlib notebook\n",
    "\n",
    "plt.scatter(self_rts, self_rts - calibrated_self_rts)"
   ]
  },
  {
   "cell_type": "code",
   "execution_count": null,
   "metadata": {},
   "outputs": [],
   "source": []
  },
  {
   "cell_type": "code",
   "execution_count": null,
   "metadata": {},
   "outputs": [],
   "source": [
    "reload()\n",
    "\n",
    "self_ints, self_mzs, self_dts, self_rts = self.get_ion_coordinates()\n",
    "other_ints, other_mzs, other_dts, other_rts = other.get_ion_coordinates()\n",
    "self_indices, other_indices = sandbox.quick_align(self_mzs, other_mzs, ppm=10)"
   ]
  },
  {
   "cell_type": "code",
   "execution_count": null,
   "metadata": {},
   "outputs": [],
   "source": []
  },
  {
   "cell_type": "code",
   "execution_count": null,
   "metadata": {},
   "outputs": [],
   "source": [
    "# s = slice(0, None, 1000)\n",
    "a1 = self_rts[self_indices]\n",
    "a2 = other_rts[other_indices]\n",
    "c = self_dts[self_indices] - other_dts[other_indices]"
   ]
  },
  {
   "cell_type": "code",
   "execution_count": null,
   "metadata": {},
   "outputs": [],
   "source": [
    "ppm=10\n",
    "\n",
    "self_mz_order = np.argsort(self_mzs)\n",
    "other_mz_order = np.argsort(other_mzs)\n",
    "max_mz_diff = 1 + ppm * 10**-6\n",
    "low_limits = np.searchsorted(\n",
    "    self_mzs[self_mz_order],\n",
    "    other_mzs[other_mz_order] / max_mz_diff,\n",
    "    \"left\"\n",
    ")\n",
    "high_limits = np.searchsorted(\n",
    "    self_mzs[self_mz_order],\n",
    "    other_mzs[other_mz_order] * max_mz_diff,\n",
    "    \"right\"\n",
    ")\n",
    "other_rt_order = np.argsort(other_mz_order)\n",
    "self_indices = np.concatenate(\n",
    "    [\n",
    "        self_mz_order[l:h] for l, h in zip(\n",
    "            low_limits[other_rt_order],\n",
    "            high_limits[other_rt_order]\n",
    "        )\n",
    "    ]\n",
    ")\n",
    "other_indices = np.repeat(\n",
    "    np.arange(len(other_rt_order)),\n",
    "    high_limits[other_rt_order] - low_limits[other_rt_order]\n",
    ")"
   ]
  },
  {
   "cell_type": "code",
   "execution_count": null,
   "metadata": {},
   "outputs": [],
   "source": [
    "%matplotlib notebook\n",
    "\n",
    "plt.plot(a1, a2)"
   ]
  },
  {
   "cell_type": "code",
   "execution_count": null,
   "metadata": {},
   "outputs": [],
   "source": [
    "%matplotlib notebook\n",
    "\n",
    "# plt.plot(a1, a2)\n",
    "# plt.scatter(a1, a2, marker=\".\", c=c, cmap=\"RdYlGn\")\n",
    "# sns.jointplot(a1, a2, kind=\"hex\", gridsize=200)\n",
    "# sns.jointplot(self_rts[self_indices], other_rts[other_indices], kind=\"hex\", gridsize=100)\n",
    "plt.scatter(self_rts[self_indices], other_rts[other_indices], marker=\".\")"
   ]
  },
  {
   "cell_type": "code",
   "execution_count": null,
   "metadata": {},
   "outputs": [],
   "source": []
  },
  {
   "cell_type": "code",
   "execution_count": null,
   "metadata": {},
   "outputs": [],
   "source": [
    "%matplotlib notebook\n",
    "\n",
    "a,b=np.unique(np.round(c,0), return_counts=True)\n",
    "plt.plot(a,b)"
   ]
  },
  {
   "cell_type": "code",
   "execution_count": null,
   "metadata": {},
   "outputs": [],
   "source": [
    "self_rts = self.get_ion_coordinates(\"PRECURSOR_RT\")\n",
    "other_rts = other.get_ion_coordinates(\"PRECURSOR_RT\", indices=other_indices)\n",
    "new_self_rts = []\n",
    "for self_start_index, self_end_index, other_rt_start, other_rt_end in zip(\n",
    "    self_indices[:-1],\n",
    "    self_indices[1:],\n",
    "    other_rts[:-1],\n",
    "    other_rts[1:]\n",
    "):\n",
    "    self_rt_start = self_rts[self_start_index]\n",
    "    self_rt_end = self_rts[self_end_index]\n",
    "    if self_rt_start == self_rt_end:\n",
    "        new_rts = np.repeat(other_rt_start, self_end_index - self_start_index)\n",
    "    else:\n",
    "        slope = (other_rt_end - other_rt_start) / (self_rt_end - self_rt_start)\n",
    "        new_rts = other_rt_start + slope * (\n",
    "            self_rts[self_start_index: self_end_index] - self_rt_start\n",
    "        )\n",
    "    new_self_rts.append(new_rts)\n",
    "new_self_rts.append([other_rts[-1]])\n",
    "new_self_rts = np.concatenate(new_self_rts)"
   ]
  },
  {
   "cell_type": "code",
   "execution_count": null,
   "metadata": {},
   "outputs": [],
   "source": [
    "# %matplotlib notebook\n",
    "\n",
    "# s = slice(0, None, 1000)\n",
    "# plt.scatter(new_self_rts[s], self_rts[s])"
   ]
  },
  {
   "cell_type": "code",
   "execution_count": null,
   "metadata": {},
   "outputs": [],
   "source": []
  },
  {
   "cell_type": "code",
   "execution_count": null,
   "metadata": {},
   "outputs": [],
   "source": []
  },
  {
   "cell_type": "code",
   "execution_count": null,
   "metadata": {},
   "outputs": [],
   "source": [
    "ints, mzs, pmzs, rts = inets[0].get_ion_coordinates()"
   ]
  },
  {
   "cell_type": "code",
   "execution_count": null,
   "metadata": {},
   "outputs": [],
   "source": [
    "reload()\n",
    "\n",
    "ali = evis[0].get_alignment(evis[1])\n",
    "# pairwise_alignment = inets[0].align_nodes(\n",
    "#     inets[1],\n",
    "#     parameters\n",
    "# )\n",
    "# ali = [\n",
    "#     pairwise_alignment.T.tocsr().indices,\n",
    "#     pairwise_alignment.indices\n",
    "# ]\n",
    "# a = np.repeat(np.arange(pairwise_alignment.shape[0]), np.diff(pairwise_alignment.indptr))\n",
    "# aa = pairwise_alignment.nonzero()[0]\n",
    "# a,aa,np.bincount(a==aa)"
   ]
  },
  {
   "cell_type": "code",
   "execution_count": null,
   "metadata": {},
   "outputs": [],
   "source": [
    "def rt_diffs(isotopic_distance, ppm, rts):\n",
    "    mz_order = np.argsort(mzs)\n",
    "    mzs_in_mz_order = mzs[mz_order]\n",
    "    if isotopic_distance > 0:\n",
    "        lower_limits = np.searchsorted(\n",
    "            mzs_in_mz_order,\n",
    "            (mzs_in_mz_order + isotopic_distance) / (1 + ppm * 10**-6),\n",
    "            \"left\"\n",
    "        )\n",
    "    else:\n",
    "        lower_limits = np.arange(len(mzs)) + 1\n",
    "    upper_limits = np.searchsorted(\n",
    "        mzs_in_mz_order,\n",
    "        (mzs_in_mz_order + isotopic_distance) * (1 + ppm * 10**-6),\n",
    "        \"right\"\n",
    "    )\n",
    "    first_isotopic_pairs = np.repeat(mz_order, upper_limits - lower_limits)\n",
    "    second_isotopic_pairs = np.concatenate([mz_order[l: u] for u, l in zip(upper_limits, lower_limits)])\n",
    "    return np.abs(rts[first_isotopic_pairs] - rts[second_isotopic_pairs])"
   ]
  },
  {
   "cell_type": "code",
   "execution_count": null,
   "metadata": {},
   "outputs": [],
   "source": [
    "isotopic_rts = rt_diffs(isotopic_distance = 1.002, ppm=2, rts=rts)\n",
    "random_rts = rt_diffs(isotopic_distance = 3.8254, ppm=2, rts=rts)"
   ]
  },
  {
   "cell_type": "code",
   "execution_count": null,
   "metadata": {},
   "outputs": [],
   "source": [
    "all_rts = np.concatenate([isotopic_rts, random_rts])\n",
    "all_labels = np.repeat([False, True], [len(isotopic_rts), len(random_rts)])\n",
    "order = np.argsort(all_rts)\n",
    "all_rts = all_rts[order]\n",
    "all_labels = all_labels[order]\n",
    "fdr = np.cumsum(all_labels) / (1 + np.arange(len(all_labels)))"
   ]
  },
  {
   "cell_type": "code",
   "execution_count": null,
   "metadata": {},
   "outputs": [],
   "source": [
    "np.argmin(fdr)"
   ]
  },
  {
   "cell_type": "code",
   "execution_count": null,
   "metadata": {},
   "outputs": [],
   "source": [
    "%matplotlib notebook\n",
    "\n",
    "s = slice(0,10000000, 1)\n",
    "plt.plot(all_rts[s], fdr[s])"
   ]
  },
  {
   "cell_type": "code",
   "execution_count": null,
   "metadata": {},
   "outputs": [],
   "source": [
    "isotope_rt_diffs, isotope_count = np.unique(\n",
    "        isotopic_rts,\n",
    "        return_counts=True\n",
    "    )\n",
    "isotope_count = np.cumsum(isotope_count)\n",
    "random_rt_diffs, random_count = np.unique(\n",
    "        random_rts,\n",
    "        return_counts=True\n",
    "    )\n",
    "random_count = np.cumsum(random_count)"
   ]
  },
  {
   "cell_type": "code",
   "execution_count": null,
   "metadata": {},
   "outputs": [],
   "source": [
    "# random_diffs = isotope_rt_diffs\n",
    "# random_counts = isotope_count"
   ]
  },
  {
   "cell_type": "code",
   "execution_count": null,
   "metadata": {},
   "outputs": [],
   "source": [
    "%matplotlib notebook\n",
    "\n",
    "# plt.plot(\n",
    "#     *np.unique(\n",
    "#         np.round(\n",
    "#             rts[first_isotopic_pairs] - rts[second_isotopic_pairs],\n",
    "#             3\n",
    "#         ),\n",
    "#         return_counts=True\n",
    "#     )\n",
    "# )\n",
    "\n",
    "\n",
    "plt.plot(\n",
    "    isotope_rt_diffs, isotope_count/isotope_count[-1]\n",
    ")\n",
    "plt.plot(\n",
    "    random_rt_diffs, random_count/random_count[-1]\n",
    ")\n",
    "# plt.plot(\n",
    "#     random_diffs, random_counts/random_counts[-1]+0.0029-0.001, c=\"r\"\n",
    "# )\n",
    "# plt.plot(\n",
    "#     random_diffs, random_counts/random_counts[-1]+0.0029+0.0015, c=\"r\"\n",
    "# )\n",
    "# plt.plot(\n",
    "#     random_diffs, random_counts/random_counts[-1], c=\"r\"\n",
    "# )\n",
    "plt.axhline(0.5, c=\"grey\")\n",
    "plt.axvline(0, c=\"grey\")\n",
    "# plt.plot([-15,15], [0.313,0.69])\n",
    "\n",
    "# plt.plot(\n",
    "#     isotope_rt_diffs,\n",
    "#     np.gradient(isotope_count),\n",
    "# )"
   ]
  },
  {
   "cell_type": "code",
   "execution_count": null,
   "metadata": {},
   "outputs": [],
   "source": [
    "%matplotlib notebook\n",
    "\n",
    "ricos = np.diff(isotope_count) / np.diff(isotope_rt_diffs)\n",
    "plt.plot(isotope_rt_diffs[:-1], ricos)"
   ]
  },
  {
   "cell_type": "code",
   "execution_count": null,
   "metadata": {},
   "outputs": [],
   "source": [
    "%matplotlib notebook\n",
    "\n",
    "sns.jointplot(\n",
    "    rts[first_isotopic_pairs[::10]],\n",
    "    rts[second_isotopic_pairs[::10]],\n",
    "    kind=\"hex\",\n",
    "    gridsize=500\n",
    ")"
   ]
  },
  {
   "cell_type": "code",
   "execution_count": null,
   "metadata": {},
   "outputs": [],
   "source": [
    "%matplotlib notebook\n",
    "\n",
    "sns.jointplot(\n",
    "    inets[0].get_ion_coordinates(\"FRAGMENT_LOGINT\", indices=ali[:,0]),\n",
    "    inets[1].get_ion_coordinates(\"FRAGMENT_LOGINT\", indices=ali[:,1]),\n",
    "    kind=\"hex\",\n",
    "    gridsize=500\n",
    ")"
   ]
  },
  {
   "cell_type": "code",
   "execution_count": null,
   "metadata": {},
   "outputs": [],
   "source": [
    "left, right = inets[0].get_edges(return_as_scipy_csr=False)\n",
    "mzs = inets[0].get_ion_coordinates(\"MZ2\")\n",
    "diffs2 = mzs[left] - mzs[right]"
   ]
  },
  {
   "cell_type": "code",
   "execution_count": null,
   "metadata": {},
   "outputs": [],
   "source": [
    "z = evidences[0].get_evidence(network_keys=[k.key for k in inets[1:]], return_total=True)"
   ]
  },
  {
   "cell_type": "code",
   "execution_count": null,
   "metadata": {},
   "outputs": [],
   "source": [
    "edges = inets[0].get_edges()\n",
    "edges.data = z[0] > z[1] + 8\n",
    "edges.eliminate_zeros()\n",
    "left, right = edges.nonzero()\n",
    "mzs = inets[0].get_ion_coordinates(\"MZ2\")\n",
    "diffs = mzs[left] - mzs[right]"
   ]
  },
  {
   "cell_type": "code",
   "execution_count": null,
   "metadata": {},
   "outputs": [],
   "source": [
    "# ori_a, ori_b = np.unique(np.round(diffs2, 3), return_counts=True)\n",
    "new_a, new_b = np.unique(np.round(diffs, 3), return_counts=True)"
   ]
  },
  {
   "cell_type": "code",
   "execution_count": null,
   "metadata": {},
   "outputs": [],
   "source": []
  },
  {
   "cell_type": "code",
   "execution_count": null,
   "metadata": {},
   "outputs": [],
   "source": [
    "%matplotlib notebook\n",
    "\n",
    "plt.plot(ori_a, ori_b/np.max(ori_b))\n",
    "plt.plot(new_a, new_b/np.max(new_b))"
   ]
  },
  {
   "cell_type": "code",
   "execution_count": null,
   "metadata": {},
   "outputs": [],
   "source": []
  },
  {
   "cell_type": "code",
   "execution_count": null,
   "metadata": {},
   "outputs": [],
   "source": []
  },
  {
   "cell_type": "code",
   "execution_count": null,
   "metadata": {},
   "outputs": [],
   "source": []
  },
  {
   "cell_type": "code",
   "execution_count": null,
   "metadata": {},
   "outputs": [],
   "source": [
    "mzs = inets[0].get_ion_coordinates(\"MZ2\")\n",
    "diffs = np.abs(mzs[left] - mzs[right])\n",
    "good = np.abs(diffs - 1.002) < 0.01"
   ]
  },
  {
   "cell_type": "code",
   "execution_count": null,
   "metadata": {},
   "outputs": [],
   "source": [
    "inets[0].get_ion_coordinates(indices=z[0])"
   ]
  },
  {
   "cell_type": "code",
   "execution_count": null,
   "metadata": {},
   "outputs": [],
   "source": [
    "posi = z[0][good]\n",
    "negi = z[1][good]\n",
    "np.bincount(posi), np.bincount(negi)"
   ]
  },
  {
   "cell_type": "code",
   "execution_count": null,
   "metadata": {},
   "outputs": [],
   "source": [
    "# iso = np.histogram2d(posi, negi, bins=10)[0].astype(np.int)\n",
    "# total = np.histogram2d(z[0], z[1], bins=10)[0].astype(np.int)\n",
    "iso, total"
   ]
  },
  {
   "cell_type": "code",
   "execution_count": null,
   "metadata": {},
   "outputs": [],
   "source": [
    "%matplotlib notebook\n",
    "# sns.heatmap(np.log(iso/total), cmap=\"RdYlGn\")\n",
    "sns.heatmap(np.log(iso + 1), cmap=\"RdYlGn\")"
   ]
  },
  {
   "cell_type": "code",
   "execution_count": null,
   "metadata": {},
   "outputs": [],
   "source": []
  },
  {
   "cell_type": "code",
   "execution_count": null,
   "metadata": {},
   "outputs": [],
   "source": [
    "selected = (z[0] + z[1]) > 0\n",
    "# np.unique(z[0][selected] / (z[0] + z[1])[selected], return_counts=True)\n",
    "a, b = np.unique(z[0][selected]-z[1][selected], return_counts=True)"
   ]
  },
  {
   "cell_type": "code",
   "execution_count": null,
   "metadata": {},
   "outputs": [],
   "source": [
    "%matplotlib notebook\n",
    "\n",
    "plt.plot(a, b)"
   ]
  },
  {
   "cell_type": "code",
   "execution_count": null,
   "metadata": {},
   "outputs": [],
   "source": [
    "%matplotlib notebook\n",
    "\n",
    "first_mz2, first_rt1, first_mz1, first_logint = inets[0].get_ion_coordinates([\"MZ2\", \"RT\", \"MZ1\", \"LOGINT\"])\n",
    "second_mz2, second_rt2, second_mz1, second_logint = inets[1].get_ion_coordinates([\"MZ2\", \"RT\", \"MZ1\", \"LOGINT\"])\n",
    "a = al.get_alignment(inets[0], inets[1], return_as_scipy_csr=False)\n",
    "\n",
    "sns.jointplot(first_mz1, first_mz2, kind=\"hex\", gridsize=500)\n",
    "sns.jointplot(first_logint[a[:,0]], second_logint[a[:,1]], kind=\"hex\", gridsize=500)"
   ]
  },
  {
   "cell_type": "code",
   "execution_count": null,
   "metadata": {},
   "outputs": [],
   "source": []
  },
  {
   "cell_type": "code",
   "execution_count": null,
   "metadata": {},
   "outputs": [],
   "source": []
  },
  {
   "cell_type": "code",
   "execution_count": null,
   "metadata": {},
   "outputs": [],
   "source": []
  },
  {
   "cell_type": "code",
   "execution_count": null,
   "metadata": {},
   "outputs": [],
   "source": []
  },
  {
   "cell_type": "code",
   "execution_count": null,
   "metadata": {},
   "outputs": [],
   "source": []
  },
  {
   "cell_type": "code",
   "execution_count": null,
   "metadata": {},
   "outputs": [],
   "source": []
  },
  {
   "cell_type": "code",
   "execution_count": null,
   "metadata": {},
   "outputs": [],
   "source": []
  },
  {
   "cell_type": "code",
   "execution_count": null,
   "metadata": {},
   "outputs": [],
   "source": [
    "importlib.reload(network)\n",
    "mzs, rts = inet.get_ion_coordinates([\"MZ2\", \"RT\"])\n",
    "isotopic_distance = 1.002\n",
    "ppm = 10\n",
    "\n",
    "isotope_rt_diffs, isotope_count = network.determine_isotopic_rt_difference(\n",
    "    mzs,\n",
    "    rts,\n",
    "    isotopic_distance,\n",
    "    ppm\n",
    ")"
   ]
  },
  {
   "cell_type": "code",
   "execution_count": null,
   "metadata": {},
   "outputs": [],
   "source": [
    "# mz_order = np.argsort(mzs)\n",
    "# mzs_in_mz_order = mzs[mz_order]\n",
    "# print(mzs_in_mz_order, (mzs_in_mz_order + isotopic_distance) * (1 + ppm * 10**-6))\n",
    "rts"
   ]
  },
  {
   "cell_type": "code",
   "execution_count": null,
   "metadata": {},
   "outputs": [],
   "source": [
    "ratios = []\n",
    "resolution = np.linspace(0,1,100)\n",
    "lower_limits = np.arange(len(rts)) + 1\n",
    "for limit in resolution:\n",
    "    upper_limits = np.searchsorted(\n",
    "        rts,\n",
    "        rts + limit,\n",
    "        \"right\"\n",
    "    )\n",
    "    total = np.sum(upper_limits-lower_limits)\n",
    "    ratio = isotope_count[np.searchsorted(isotope_rt_diffs, limit, \"right\")] / total\n",
    "    ratios.append(ratio)"
   ]
  },
  {
   "cell_type": "code",
   "execution_count": null,
   "metadata": {},
   "outputs": [],
   "source": [
    "%matplotlib notebook\n",
    "\n",
    "plt.plot(resolution, ratios)"
   ]
  },
  {
   "cell_type": "code",
   "execution_count": null,
   "metadata": {},
   "outputs": [],
   "source": []
  },
  {
   "cell_type": "code",
   "execution_count": null,
   "metadata": {},
   "outputs": [],
   "source": [
    "%matplotlib notebook\n",
    "\n",
    "\n",
    "plt.plot(isotope_rt_diffs, isotope_count / isotope_count[-1])"
   ]
  },
  {
   "cell_type": "code",
   "execution_count": null,
   "metadata": {},
   "outputs": [],
   "source": []
  },
  {
   "cell_type": "code",
   "execution_count": null,
   "metadata": {},
   "outputs": [],
   "source": []
  },
  {
   "cell_type": "code",
   "execution_count": null,
   "metadata": {},
   "outputs": [],
   "source": []
  },
  {
   "cell_type": "code",
   "execution_count": null,
   "metadata": {},
   "outputs": [],
   "source": []
  },
  {
   "cell_type": "code",
   "execution_count": null,
   "metadata": {},
   "outputs": [],
   "source": [
    "indptr, indices = inet.get_edge_indptr_and_indices()"
   ]
  },
  {
   "cell_type": "code",
   "execution_count": null,
   "metadata": {},
   "outputs": [],
   "source": [
    "second_indices = np.repeat(np.arange(len(indptr) - 1), np.diff(indptr))"
   ]
  },
  {
   "cell_type": "code",
   "execution_count": null,
   "metadata": {},
   "outputs": [],
   "source": [
    "%matplotlib notebook\n",
    "\n",
    "mzs = inet.get_ion_coordinates(\"MZ2\")\n",
    "diffs = np.abs(mzs[indices]-mzs[second_indices])\n",
    "\n",
    "plt.plot(*np.unique(np.round(diffs,2), return_counts=True))\n",
    "\n",
    "# plt.scatter(mzs[pairs[:,0]], diffs, marker=\".\")\n",
    "# mzds = mzs[pairs[:,0]] - mzs[pairs[:,1]]\n",
    "# sns.jointplot(mzs[pairs[:,0]], mzs[pairs[:,0]]-mzs[pairs[:,1]], kind=\"hex\", gridsize=100)"
   ]
  },
  {
   "cell_type": "code",
   "execution_count": null,
   "metadata": {},
   "outputs": [],
   "source": []
  },
  {
   "cell_type": "code",
   "execution_count": null,
   "metadata": {},
   "outputs": [],
   "source": []
  },
  {
   "cell_type": "code",
   "execution_count": null,
   "metadata": {},
   "outputs": [],
   "source": [
    "importlib.reload(network)\n",
    "# inet1 = network.Network(\n",
    "#     \"/home/sander/Documents/Proteomics/data/ion_networks/ecoli_sonar/ion_networks/28Oct2016_060_Apex3DIons.hdf\"\n",
    "# )\n",
    "inet2 = network.Network(\n",
    "    \"/home/sander/Documents/Proteomics/data/tmp.hdf\"\n",
    ")\n",
    "# inet.logger=logger"
   ]
  },
  {
   "cell_type": "code",
   "execution_count": null,
   "metadata": {},
   "outputs": [],
   "source": [
    "coords = inet2.get_ion_coordinates(inet2.dimensions)\n",
    "print(inet2.dimensions)"
   ]
  },
  {
   "cell_type": "code",
   "execution_count": null,
   "metadata": {},
   "outputs": [],
   "source": [
    "%matplotlib notebook\n",
    "\n",
    "selection = (coords[3] > 30) & (coords[3] < 31)\n",
    "# selection=...\n",
    "\n",
    "# sns.jointplot(coords[1][selection], coords[2][selection], kind=\"hex\", gridsize=200)\n",
    "plt.scatter(coords[1][selection], coords[3][selection], marker=\".\", c=coords[0][selection], cmap=\"RdYlGn\")"
   ]
  },
  {
   "cell_type": "code",
   "execution_count": null,
   "metadata": {},
   "outputs": [],
   "source": [
    "inet2 = network.Network(\n",
    "    \"/home/sander/Documents/Sandbox/test.inet.hdf\"\n",
    ")\n",
    "# inet2=inets[0]\n",
    "\n",
    "%matplotlib notebook\n",
    "coords = inet2.get_ion_coordinates(inet2.dimensions)\n",
    "print(inet2.dimensions)\n",
    "from mpl_toolkits.mplot3d import Axes3D\n",
    "fig = plt.figure()\n",
    "ax = fig.add_subplot(111, projection='3d')\n",
    "\n",
    "selection = (coords[3] > 30) & (coords[3] < 30.2)\n",
    "selection &= (coords[2] < 2000)\n",
    "selection &= (coords[1] < 900)\n",
    "# selection=...\n",
    "\n",
    "# sns.jointplot(coords[1][selection], coords[2][selection], kind=\"hex\", gridsize=200)\n",
    "ax.scatter(\n",
    "    coords[1][selection],\n",
    "    coords[3][selection],\n",
    "    coords[2][selection],\n",
    "    marker=\".\",\n",
    "    c=coords[0][selection],\n",
    "    cmap=\"RdYlGn\"\n",
    ")\n",
    "ax.set_xlabel(inet2.dimensions[1])\n",
    "ax.set_ylabel(inet2.dimensions[3])\n",
    "ax.set_zlabel(inet2.dimensions[2])"
   ]
  },
  {
   "cell_type": "code",
   "execution_count": null,
   "metadata": {},
   "outputs": [],
   "source": [
    "%matplotlib notebook\n",
    "coords = inet1.get_ion_coordinates(inet1.dimensions)\n",
    "print(inet1.dimensions)\n",
    "from mpl_toolkits.mplot3d import Axes3D\n",
    "fig = plt.figure()\n",
    "ax = fig.add_subplot(111, projection='3d')\n",
    "\n",
    "selection = (coords[3] > 30) & (coords[3] < 31)\n",
    "selection &= (coords[2] < 2000)\n",
    "selection &= (coords[1] < 900)\n",
    "# selection=...\n",
    "\n",
    "# sns.jointplot(coords[1][selection], coords[2][selection], kind=\"hex\", gridsize=200)\n",
    "ax.scatter(\n",
    "    coords[1][selection],\n",
    "    coords[3][selection],\n",
    "    coords[2][selection],\n",
    "    marker=\".\",\n",
    "    c=coords[0][selection],\n",
    "    cmap=\"RdYlGn\"\n",
    ")\n",
    "ax.set_xlabel('MZ1')\n",
    "ax.set_ylabel('RT')\n",
    "ax.set_zlabel('MZ2')"
   ]
  },
  {
   "cell_type": "code",
   "execution_count": null,
   "metadata": {},
   "outputs": [],
   "source": [
    "importlib.reload(network)\n",
    "importlib.reload(alignment)\n",
    "inets = []\n",
    "in_folder = \"/home/sander/Documents/Proteomics/data/ion_networks/ecoli_sonar/ion_networks\"\n",
    "for file_name in sorted(os.listdir(in_folder)):\n",
    "    in_file_name = os.path.join(in_folder, file_name)\n",
    "    inet = network.Network(\n",
    "        in_file_name\n",
    "    )\n",
    "    inets.append(inet)\n",
    "al = alignment.Alignment(\n",
    "    \"/home/sander/Documents/Proteomics/data/ion_networks/ecoli_sonar/alignment/alignment.hdf\"\n",
    "#     \"/home/sander/Documents/Proteomics/data/ion_networks/dda/dda_sonar_test_align.hdf\"\n",
    ")"
   ]
  },
  {
   "cell_type": "code",
   "execution_count": null,
   "metadata": {},
   "outputs": [],
   "source": [
    "importlib.reload(alignment)\n",
    "al = alignment.Alignment(\n",
    "    \"/home/sander/Documents/Proteomics/data/ion_networks/ecoli_sonar/alignment/alignment.hdf\"\n",
    "#     \"/home/sander/Documents/Proteomics/data/ion_networks/dda/dda_sonar_test_align.hdf\"\n",
    ")"
   ]
  },
  {
   "cell_type": "code",
   "execution_count": null,
   "metadata": {},
   "outputs": [],
   "source": [
    "%matplotlib notebook\n",
    "\n",
    "# inets = [\n",
    "#     network.Network(\"/home/sander/Documents/Proteomics/data/ion_networks/dda/tmp.hdf\"),\n",
    "#     network.Network(\"/home/sander/Documents/Proteomics/data/ion_networks/ecoli_sonar/ion_networks/28Oct2016_060_Apex3DIons.hdf\")\n",
    "# ]\n",
    "i = 0\n",
    "j = 1\n",
    "dimension = \"LOGINT\"\n",
    "\n",
    "x1, x2, x3, x4 = al.get_alignment(inets[i], inets[j])\n",
    "array1 = inets[i].get_ion_coordinates(dimension)[x1]\n",
    "array2 = inets[j].get_ion_coordinates(dimension)[x2]\n",
    "\n",
    "# plt.scatter(array1, array2, marker=\".\")\n",
    "sns.jointplot(array1, array2, kind=\"hex\", gridsize=500)"
   ]
  },
  {
   "cell_type": "code",
   "execution_count": null,
   "metadata": {},
   "outputs": [],
   "source": []
  },
  {
   "cell_type": "code",
   "execution_count": null,
   "metadata": {},
   "outputs": [],
   "source": [
    "import sandbox\n",
    "importlib.reload(sandbox)\n",
    "edges1, edges2, ali = sandbox.align_edges(inets[0], inets[1], al)\n",
    "edges1, edges2, ali"
   ]
  },
  {
   "cell_type": "code",
   "execution_count": null,
   "metadata": {},
   "outputs": [],
   "source": [
    "indirect = (ali.T * edges1 * ali).tocsr()"
   ]
  },
  {
   "cell_type": "code",
   "execution_count": null,
   "metadata": {},
   "outputs": [],
   "source": [
    "positive = indirect.multiply(edges2)"
   ]
  },
  {
   "cell_type": "code",
   "execution_count": null,
   "metadata": {},
   "outputs": [],
   "source": [
    "available = edges2 * ali.T * ali"
   ]
  },
  {
   "cell_type": "code",
   "execution_count": null,
   "metadata": {},
   "outputs": [],
   "source": [
    "negative = available - positive"
   ]
  },
  {
   "cell_type": "code",
   "execution_count": null,
   "metadata": {},
   "outputs": [],
   "source": [
    "edges2, indirect, available, positive, negative"
   ]
  },
  {
   "cell_type": "code",
   "execution_count": null,
   "metadata": {},
   "outputs": [],
   "source": [
    "mzs = inets[1].get_ion_coordinates(\"MZ2\")"
   ]
  },
  {
   "cell_type": "code",
   "execution_count": null,
   "metadata": {},
   "outputs": [],
   "source": [
    "%matplotlib notebook\n",
    "\n",
    "first_indices, second_indices = edges2.nonzero()\n",
    "diffs = np.abs(mzs[first_indices]-mzs[second_indices])\n",
    "a, b = np.unique(np.round(diffs,2), return_counts=True)\n",
    "\n",
    "plt.plot(a, b / np.average(b))\n",
    "\n",
    "first_indices, second_indices = negative.nonzero()\n",
    "diffs = np.abs(mzs[first_indices]-mzs[second_indices])\n",
    "a, b = np.unique(np.round(diffs,2), return_counts=True)\n",
    "\n",
    "plt.plot(a, b / np.average(b))\n",
    "\n",
    "first_indices, second_indices = positive.nonzero()\n",
    "diffs = np.abs(mzs[first_indices]-mzs[second_indices])\n",
    "a, b = np.unique(np.round(diffs,2), return_counts=True)\n",
    "\n",
    "plt.plot(a, b / np.average(b))"
   ]
  },
  {
   "cell_type": "code",
   "execution_count": null,
   "metadata": {},
   "outputs": [],
   "source": [
    "np.unique(positive.data)"
   ]
  },
  {
   "cell_type": "code",
   "execution_count": null,
   "metadata": {},
   "outputs": [],
   "source": [
    "inets[0].node_count"
   ]
  },
  {
   "cell_type": "code",
   "execution_count": null,
   "metadata": {},
   "outputs": [],
   "source": []
  },
  {
   "cell_type": "code",
   "execution_count": null,
   "metadata": {},
   "outputs": [],
   "source": []
  },
  {
   "cell_type": "code",
   "execution_count": null,
   "metadata": {},
   "outputs": [],
   "source": [
    "posi = evis[0].get_edge_mask_from_group()\n",
    "negi = evis[0].get_edge_mask_from_group(positive=False)"
   ]
  },
  {
   "cell_type": "code",
   "execution_count": null,
   "metadata": {},
   "outputs": [],
   "source": [
    "first, second = evis[0].ion_network.get_edges().nonzero()"
   ]
  },
  {
   "cell_type": "code",
   "execution_count": null,
   "metadata": {},
   "outputs": [],
   "source": [
    "posis = (posi == 9) & (negi == 0)\n",
    "negis = (posi == 0) & (negi == 9)"
   ]
  },
  {
   "cell_type": "code",
   "execution_count": null,
   "metadata": {},
   "outputs": [],
   "source": [
    "first_posi = first[posis]\n",
    "second_posi = second[posis]\n",
    "first_negi = first[negis]\n",
    "second_negi = second[negis]"
   ]
  },
  {
   "cell_type": "code",
   "execution_count": null,
   "metadata": {},
   "outputs": [],
   "source": [
    "posi_rtd = rts[second_posi] - rts[first_posi]\n",
    "negi_rtd = rts[second_negi] - rts[first_negi]"
   ]
  },
  {
   "cell_type": "code",
   "execution_count": null,
   "metadata": {},
   "outputs": [],
   "source": [
    "posi_rt_diffs, posi_count = np.unique(\n",
    "        posi_rtd,\n",
    "        return_counts=True\n",
    "    )\n",
    "posi_count = np.cumsum(posi_count)\n",
    "negi_rt_diffs, negi_count = np.unique(\n",
    "        negi_rtd,\n",
    "        return_counts=True\n",
    "    )\n",
    "negi_count = np.cumsum(negi_count)"
   ]
  },
  {
   "cell_type": "code",
   "execution_count": null,
   "metadata": {},
   "outputs": [],
   "source": [
    "%matplotlib notebook\n",
    "\n",
    "plt.plot(\n",
    "    posi_rt_diffs, posi_count / posi_count[-1]\n",
    ")\n",
    "plt.plot(\n",
    "    negi_rt_diffs, negi_count / negi_count[-1]\n",
    ")"
   ]
  },
  {
   "cell_type": "code",
   "execution_count": null,
   "metadata": {},
   "outputs": [],
   "source": []
  }
 ],
 "metadata": {
  "kernelspec": {
   "display_name": "Python [conda env:ion_networks]",
   "language": "python",
   "name": "conda-env-ion_networks-py"
  },
  "language_info": {
   "codemirror_mode": {
    "name": "ipython",
    "version": 3
   },
   "file_extension": ".py",
   "mimetype": "text/x-python",
   "name": "python",
   "nbconvert_exporter": "python",
   "pygments_lexer": "ipython3",
   "version": "3.8.1"
  }
 },
 "nbformat": 4,
 "nbformat_minor": 4
}
