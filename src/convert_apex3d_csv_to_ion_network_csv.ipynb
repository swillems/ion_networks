{
 "cells": [
  {
   "cell_type": "code",
   "execution_count": 1,
   "metadata": {},
   "outputs": [],
   "source": [
    "import numpy as np\n",
    "import pandas as pd\n",
    "import os\n",
    "in_folder = \"/home/sander/Documents/Proteomics/data/ecoli\"\n",
    "out_folder = \"/home/sander/Documents/Proteomics/data/ion_networks/ecoli_sonar/centroided_csvs\""
   ]
  },
  {
   "cell_type": "code",
   "execution_count": 2,
   "metadata": {},
   "outputs": [
    {
     "name": "stdout",
     "output_type": "stream",
     "text": [
      "28Oct2016_067_Apex3DIons.csv\n",
      "28Oct2016_065_Apex3DIons.csv\n",
      "28Oct2016_064_Apex3DIons.csv\n",
      "28Oct2016_068_Apex3DIons.csv\n",
      "28Oct2016_060_Apex3DIons.csv\n",
      "28Oct2016_063_Apex3DIons.csv\n",
      "28Oct2016_066_Apex3DIons.csv\n",
      "28Oct2016_062_Apex3DIons.csv\n",
      "28Oct2016_061_Apex3DIons.csv\n",
      "28Oct2016_069_Apex3DIons.csv\n"
     ]
    }
   ],
   "source": [
    "for file_name in os.listdir(in_folder):\n",
    "    if not file_name.endswith(\".csv\"):\n",
    "        continue\n",
    "    print(file_name)\n",
    "    in_file_name = os.path.join(in_folder, file_name)\n",
    "    out_file_name = os.path.join(out_folder, file_name)\n",
    "    data = pd.read_csv(\n",
    "        in_file_name,\n",
    "        engine=\"c\",\n",
    "        dtype=np.float,\n",
    "        usecols=[\"Function\", \"m_z\", \"rt\", \"mobility\", \"area\"]\n",
    "    ).values\n",
    "    data = data[np.searchsorted(data[:,0], 2):, 1:]\n",
    "    df = pd.DataFrame(data, columns=[\"MZ2\", \"RT\", \"INTENSITY\", \"DT\"])\n",
    "    df.to_csv(out_file_name, index=False)"
   ]
  },
  {
   "cell_type": "code",
   "execution_count": null,
   "metadata": {},
   "outputs": [],
   "source": []
  }
 ],
 "metadata": {
  "kernelspec": {
   "display_name": "Python 3",
   "language": "python",
   "name": "python3"
  },
  "language_info": {
   "codemirror_mode": {
    "name": "ipython",
    "version": 3
   },
   "file_extension": ".py",
   "mimetype": "text/x-python",
   "name": "python",
   "nbconvert_exporter": "python",
   "pygments_lexer": "ipython3",
   "version": "3.8.1"
  }
 },
 "nbformat": 4,
 "nbformat_minor": 4
}
