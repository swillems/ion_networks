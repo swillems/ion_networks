{
 "cells": [
  {
   "cell_type": "code",
   "execution_count": 23,
   "metadata": {},
   "outputs": [],
   "source": [
    "import os\n",
    "import importlib\n",
    "from timeit import timeit\n",
    "import logging\n",
    "import sys\n",
    "import importlib\n",
    "import time\n",
    "import multiprocessing as mp\n",
    "import multiprocessing.pool\n",
    "\n",
    "import numpy as np\n",
    "print(\"test3\")\n",
    "import pandas as pd\n",
    "import scipy\n",
    "import h5py\n",
    "import matplotlib\n",
    "from matplotlib import pyplot as plt\n",
    "# import seaborn as sns\n",
    "import numba\n",
    "import sklearn.linear_model\n",
    "\n",
    "from ion_networks import ms_utils\n",
    "from ion_networks import browser\n",
    "from ion_networks import interface\n",
    "from ion_networks import ms_database\n",
    "from ion_networks import ms_run_files\n",
    "\n",
    "import sandbox\n",
    "\n",
    "# import line_profiler\n",
    "# profile = line_profiler.LineProfiler()\n",
    "# heat.evolve = profile(heat.evolve)\n",
    "# profile.print_stats()\n",
    "\n",
    "def reload():\n",
    "    importlib.reload(ms_run_files)\n",
    "    importlib.reload(ms_utils)\n",
    "    importlib.reload(browser)\n",
    "    importlib.reload(interface)\n",
    "    importlib.reload(sandbox)\n",
    "    importlib.reload(ms_database)\n",
    "   "
   ]
  },
  {
   "cell_type": "code",
   "execution_count": 24,
   "metadata": {
    "tags": []
   },
   "outputs": [
    {
     "output_type": "stream",
     "name": "stdout",
     "text": "P 98.06003646677\nEPTIDER 859.4155711504699\nPE 227.10262646677\nPTIDER 730.3729811504699\nPEP 324.15538646677\nTIDER 633.32022115047\nPEPT 425.20306646677\nIDER 532.2725411504699\nPEPTI 538.28712646677\nDER 419.18848115047\nPEPTID 653.31406646677\nER 304.16154115047\nPEPTIDE 782.35665646677\nR 175.11895115047002\n"
    }
   ],
   "source": [
    "import pyteomics\n",
    "import pyteomics.mass\n",
    "peptide = \"PEPTIDER\"\n",
    "\n",
    "for i in range(1, len(peptide)):\n",
    "    print( peptide[:i], pyteomics.mass.fast_mass(\n",
    "            peptide[:i], ion_type=\"b\", charge=1))\n",
    "    print( peptide[i:], pyteomics.mass.fast_mass(\n",
    "            peptide[i:], ion_type=\"y\", charge=1))"
   ]
  },
  {
   "cell_type": "code",
   "execution_count": null,
   "metadata": {},
   "outputs": [],
   "source": []
  },
  {
   "cell_type": "code",
   "execution_count": 25,
   "metadata": {},
   "outputs": [
    {
     "output_type": "error",
     "ename": "AttributeError",
     "evalue": "module &#39;ion_networks.ms_run_files&#39; has no attribute &#39;Evidence&#39;",
     "traceback": [
      "\u001b[0;31m---------------------------------------------------------------------------\u001b[0m",
      "\u001b[0;31mAttributeError\u001b[0m                            Traceback (most recent call last)",
      "\u001b[0;32m&lt;ipython-input-25-f67f867805cd&gt;\u001b[0m in \u001b[0;36m&lt;module&gt;\u001b[0;34m\u001b[0m\n\u001b[1;32m      1\u001b[0m \u001b[0mreload\u001b[0m\u001b[0;34m(\u001b[0m\u001b[0;34m)\u001b[0m\u001b[0;34m\u001b[0m\u001b[0;34m\u001b[0m\u001b[0m\n\u001b[0;32m----&gt; 2\u001b[0;31m \u001b[0mself\u001b[0m \u001b[0;34m=\u001b[0m \u001b[0mms_run_files\u001b[0m\u001b[0;34m.\u001b[0m\u001b[0mEvidence\u001b[0m\u001b[0;34m(\u001b[0m\u001b[0;34m&quot;/home/sander/Documents/Proteomics/data/ecoli/28Oct2016_060.inet.hdf&quot;\u001b[0m\u001b[0;34m)\u001b[0m\u001b[0;34m\u001b[0m\u001b[0;34m\u001b[0m\u001b[0m\n\u001b[0m\u001b[1;32m      3\u001b[0m \u001b[0mother\u001b[0m \u001b[0;34m=\u001b[0m \u001b[0mms_run_files\u001b[0m\u001b[0;34m.\u001b[0m\u001b[0mEvidence\u001b[0m\u001b[0;34m(\u001b[0m\u001b[0;34m&quot;/home/sander/Documents/Proteomics/data/ecoli/28Oct2016_061.inet.hdf&quot;\u001b[0m\u001b[0;34m)\u001b[0m\u001b[0;34m\u001b[0m\u001b[0;34m\u001b[0m\u001b[0m\n\u001b[1;32m      4\u001b[0m \u001b[0minet1\u001b[0m \u001b[0;34m=\u001b[0m \u001b[0mself\u001b[0m\u001b[0;34m.\u001b[0m\u001b[0mion_network\u001b[0m\u001b[0;34m\u001b[0m\u001b[0;34m\u001b[0m\u001b[0m\n\u001b[1;32m      5\u001b[0m \u001b[0minet2\u001b[0m \u001b[0;34m=\u001b[0m \u001b[0mother\u001b[0m\u001b[0;34m.\u001b[0m\u001b[0mion_network\u001b[0m\u001b[0;34m\u001b[0m\u001b[0;34m\u001b[0m\u001b[0m\n",
      "\u001b[0;31mAttributeError\u001b[0m: module &#39;ion_networks.ms_run_files&#39; has no attribute &#39;Evidence&#39;"
     ]
    }
   ],
   "source": [
    "reload()\n",
    "self = ms_run_files.Evidence(\"/home/sander/Documents/Proteomics/data/ecoli/28Oct2016_060.inet.hdf\")\n",
    "other = ms_run_files.Evidence(\"/home/sander/Documents/Proteomics/data/ecoli/28Oct2016_061.inet.hdf\")\n",
    "inet1 = self.ion_network\n",
    "inet2 = other.ion_network\n",
    "fint1, fmz1, pmz1, prt1 = inet1.get_ion_coordinates()\n",
    "fint2, fmz2, pmz2, prt2 = inet2.get_ion_coordinates()\n",
    "parameters = {\n",
    "    \"log_file_name\": \"log.txt\",\n",
    "    \"output_directory\": \"\",\n",
    "    \"force_overwrite\": True,\n",
    "    \"threads\": 8,\n",
    "    \"fragment_errors\": {\n",
    "        \"FRAGMENT_MZ\": 50.0,\n",
    "        \"PRECURSOR_RT\": 0.5,\n",
    "        \"PRECURSOR_DT\": 2.0,\n",
    "        \"PRECURSOR_MZ\": 5.0\n",
    "    },\n",
    "    \"calibrate_PRECURSOR_RT\": True,\n",
    "    \"calibration_ppm_FRAGMENT_MZ\": 1.0,\n",
    "    \"calibration_ions\": 50000\n",
    "}\n",
    "inet1.dimensions"
   ]
  },
  {
   "cell_type": "code",
   "execution_count": null,
   "metadata": {},
   "outputs": [],
   "source": []
  },
  {
   "cell_type": "code",
   "execution_count": null,
   "metadata": {},
   "outputs": [],
   "source": [
    "ali1_unique = self.get_nodes(\n",
    "    other=other,\n",
    "    return_as_mask=False,\n",
    "    kind=\"unique\",\n",
    ")\n",
    "ali2_unique = other.get_nodes(\n",
    "    other=self,\n",
    "    return_as_mask=False,\n",
    "    kind=\"unique\",\n",
    ")\n",
    "\n",
    "ali1_ambiguous = self.get_nodes(\n",
    "    other=other,\n",
    "    return_as_mask=False,\n",
    "    kind=\"ambiguous\",\n",
    ")\n",
    "ali2_ambiguous = other.get_nodes(\n",
    "    other=self,\n",
    "    return_as_mask=False,\n",
    "    kind=\"ambiguous\",\n",
    ")"
   ]
  },
  {
   "cell_type": "code",
   "execution_count": null,
   "metadata": {},
   "outputs": [],
   "source": [
    "self_indices = np.concatenate([ali1_unique, ali1_ambiguous])\n",
    "other_indices = np.concatenate([ali2_unique, ali2_ambiguous])\n",
    "fmzs = (np.abs(fmz1[self_indices] - fmz2[other_indices]))* 10**6 / fmz1[self_indices]\n",
    "prts = np.abs(prt1[self_indices] - prt2[other_indices])\n",
    "pmzs = np.abs(pmz1[self_indices] - pmz2[other_indices])"
   ]
  },
  {
   "cell_type": "code",
   "execution_count": null,
   "metadata": {},
   "outputs": [],
   "source": [
    "# %matplotlib notebook\n",
    "\n",
    "# plt.scatter(\n",
    "#     fmz1[self_indices],\n",
    "#     fmz2[other_indices],\n",
    "# )"
   ]
  },
  {
   "cell_type": "code",
   "execution_count": null,
   "metadata": {},
   "outputs": [],
   "source": [
    "selection = ...\n",
    "# selection = order[:np.argmax(counts)]\n",
    "self_unique = np.bincount(self_indices[selection]) == 1\n",
    "other_unique = np.bincount(other_indices[selection]) == 1\n",
    "unique = self_unique[self_indices[selection]] & other_unique[other_indices[selection]]\n",
    "np.bincount(unique), #pmzs[order[np.argmax(counts)]]"
   ]
  },
  {
   "cell_type": "code",
   "execution_count": null,
   "metadata": {},
   "outputs": [],
   "source": [
    "@numba.njit\n",
    "def get_unique_apex_and_count(\n",
    "    ordered_self_indices,\n",
    "    ordered_other_indices,\n",
    "    return_all_counts=True\n",
    "):\n",
    "    counts = np.zeros_like(ordered_self_indices)\n",
    "    self_max = np.max(ordered_self_indices)\n",
    "    other_max = np.max(ordered_other_indices)\n",
    "    unique_pair = np.zeros(counts.shape[0], np.bool_)\n",
    "    self_frequencies = np.zeros(self_max + 1, np.int64)\n",
    "    other_frequencies = np.zeros(other_max + 1, np.int64)\n",
    "    self_indptr = np.empty(self_max + 2, np.int64)\n",
    "    self_indptr[0] = 0\n",
    "    self_indptr[1:] = np.cumsum(np.bincount(ordered_self_indices))\n",
    "    self_order = np.argsort(ordered_self_indices)\n",
    "    other_indptr = np.empty(other_max + 2, np.int64)\n",
    "    other_indptr[0] = 0\n",
    "    other_indptr[1:] = np.cumsum(np.bincount(ordered_other_indices))\n",
    "    other_order = np.argsort(ordered_other_indices)\n",
    "    unique_count = 0\n",
    "    max_count = 0\n",
    "    apex = 0\n",
    "    for i in range(counts.shape[0]):\n",
    "        self_index = ordered_self_indices[i]\n",
    "        other_index = ordered_other_indices[i]\n",
    "        if (self_frequencies[self_index] == 0) & (other_frequencies[other_index] == 0):\n",
    "            unique_count += 1\n",
    "            unique_pair[i] = True\n",
    "            if unique_count > max_count:\n",
    "                apex = i\n",
    "                max_count = unique_count\n",
    "        else:\n",
    "            self_locs = self_order[self_indptr[self_index]: self_indptr[self_index + 1]]\n",
    "            if np.any(unique_pair[self_locs]):\n",
    "                unique_count -= 1\n",
    "            other_locs = other_order[other_indptr[other_index]: other_indptr[other_index + 1]]\n",
    "            if np.any(unique_pair[other_locs]):\n",
    "                unique_count -= 1\n",
    "            unique_pair[self_locs] = False\n",
    "            unique_pair[other_locs] = False\n",
    "        self_frequencies[self_index] += 1\n",
    "        other_frequencies[other_index] += 1\n",
    "        counts[i] = unique_count\n",
    "    if not return_all_counts:\n",
    "        counts = counts[apex: apex + 1]\n",
    "    return apex, counts"
   ]
  },
  {
   "cell_type": "code",
   "execution_count": null,
   "metadata": {},
   "outputs": [],
   "source": [
    "%matplotlib notebook\n",
    "\n",
    "array = fmzs\n",
    "order = np.argsort(array)\n",
    "\n",
    "apex, counts = get_unique_apex_and_count(\n",
    "    self_indices[order],\n",
    "    other_indices[order],\n",
    "    return_all_counts=True\n",
    ")\n",
    "\n",
    "max_value = array[order[apex]]\n",
    "\n",
    "plt.plot(counts)\n",
    "plt.scatter(apex, counts[apex])\n",
    "plt.title(max_value)"
   ]
  },
  {
   "cell_type": "code",
   "execution_count": null,
   "metadata": {},
   "outputs": [],
   "source": [
    "%timeit get_unique_apex_and_count(self_indices[order],other_indices[order])"
   ]
  },
  {
   "cell_type": "code",
   "execution_count": null,
   "metadata": {},
   "outputs": [],
   "source": []
  },
  {
   "cell_type": "code",
   "execution_count": null,
   "metadata": {},
   "outputs": [],
   "source": []
  },
  {
   "cell_type": "code",
   "execution_count": null,
   "metadata": {},
   "outputs": [],
   "source": []
  },
  {
   "cell_type": "code",
   "execution_count": null,
   "metadata": {},
   "outputs": [],
   "source": [
    "%matplotlib notebook\n",
    "\n",
    "arr = prts\n",
    "\n",
    "plt.plot(\n",
    "    np.percentile(arr[unique], range(101))\n",
    ")\n",
    "plt.plot(\n",
    "    np.percentile(arr[~unique], range(101))\n",
    ")\n",
    "# plt.plot(\n",
    "#     np.percentile(prts, range(101))\n",
    "# )"
   ]
  },
  {
   "cell_type": "code",
   "execution_count": null,
   "metadata": {},
   "outputs": [],
   "source": []
  },
  {
   "cell_type": "code",
   "execution_count": null,
   "metadata": {},
   "outputs": [],
   "source": []
  },
  {
   "cell_type": "code",
   "execution_count": null,
   "metadata": {},
   "outputs": [],
   "source": []
  },
  {
   "cell_type": "code",
   "execution_count": null,
   "metadata": {},
   "outputs": [],
   "source": [
    "reload()\n",
    "\n",
    "inets = []\n",
    "evis = []\n",
    "anis = []\n",
    "# in_folder = \"/home/sander/Documents/Proteomics/data/ion_networks\"\n",
    "in_folder = \"/home/sander/Documents/Proteomics/data/ecoli3\"\n",
    "# in_folder = \"/home/sander/Documents/Proteomics/data/jpt/APEX\"\n",
    "for file_name in ms_utils.get_file_names_with_extension([in_folder], \".inet.hdf\"):\n",
    "    inets.append(\n",
    "        ms_run_files.Network(\n",
    "            file_name\n",
    "        )\n",
    "    )\n",
    "    evis.append(\n",
    "        ms_run_files.Evidence(\n",
    "            file_name\n",
    "        )\n",
    "    )\n",
    "    anis.append(\n",
    "        ms_run_files.Annotation(\n",
    "            file_name\n",
    "        )\n",
    "    )"
   ]
  },
  {
   "cell_type": "code",
   "execution_count": null,
   "metadata": {},
   "outputs": [],
   "source": []
  },
  {
   "cell_type": "code",
   "execution_count": null,
   "metadata": {},
   "outputs": [],
   "source": [
    "ani_indices = anis[0].get_dataset(\"indices\", 'edge_candidates')\n",
    "ani_indptr = anis[0].get_dataset(\"indptr\", 'edge_candidates')"
   ]
  },
  {
   "cell_type": "code",
   "execution_count": null,
   "metadata": {},
   "outputs": [],
   "source": [
    "anis[0].get_dataset"
   ]
  },
  {
   "cell_type": "code",
   "execution_count": null,
   "metadata": {},
   "outputs": [],
   "source": []
  },
  {
   "cell_type": "code",
   "execution_count": null,
   "metadata": {},
   "outputs": [],
   "source": []
  },
  {
   "cell_type": "code",
   "execution_count": null,
   "metadata": {},
   "outputs": [],
   "source": []
  },
  {
   "cell_type": "code",
   "execution_count": null,
   "metadata": {},
   "outputs": [],
   "source": []
  },
  {
   "cell_type": "code",
   "execution_count": null,
   "metadata": {},
   "outputs": [],
   "source": []
  },
  {
   "cell_type": "code",
   "execution_count": null,
   "metadata": {},
   "outputs": [],
   "source": [
    "self_inet = inets[0]\n",
    "self_evi = evis[0]\n",
    "other_inet = inets[1]\n",
    "other_evi = evis[1]\n",
    "\n",
    "self_alignment = self_evi.get_aligned_nodes_from_group(\n",
    "    other_evi.file_name_base,\n",
    "    return_as_mask=False\n",
    ")\n",
    "other_alignment = other_evi.get_aligned_nodes_from_group(\n",
    "    self_evi.file_name_base,\n",
    "    return_as_mask=False\n",
    ")\n",
    "# other_logints = inets[other_name].get_ion_coordinates(\n",
    "#     \"FRAGMENT_LOGINT\",\n",
    "#     indices=other_alignment\n",
    "# )\n",
    "# logints[i, self_alignment] = other_logints"
   ]
  },
  {
   "cell_type": "code",
   "execution_count": null,
   "metadata": {},
   "outputs": [],
   "source": [
    "%matplotlib notebook\n",
    "\n",
    "fig = plt.figure()\n",
    "ax = fig.add_subplot(111)\n",
    "\n",
    "ind_start = 0\n",
    "ind_size = len(self_alignment)\n",
    "\n",
    "a1 = self_inet.get_ion_coordinates(\"PRECURSOR_RT\", indices = self_alignment[ind_start: ind_start+ind_size])\n",
    "b1 = self_inet.get_ion_coordinates(\"PRECURSOR_MZ\", indices = self_alignment[ind_start: ind_start+ind_size])\n",
    "a2 = other_inet.get_ion_coordinates(\"PRECURSOR_RT\", indices = other_alignment[ind_start: ind_start+ind_size])\n",
    "b2 = other_inet.get_ion_coordinates(\"PRECURSOR_MZ\", indices = other_alignment[ind_start: ind_start+ind_size])\n",
    "\n",
    "# ax=\n",
    "\n",
    "start_edges = list(zip(a1, b1))\n",
    "end_edges = list(zip(a2, b2))\n",
    "# colors = positive_counts[selection] - negative_counts[selection]\n",
    "edges = np.array(list(zip(start_edges, end_edges)))\n",
    "\n",
    "x = ax.add_collection(\n",
    "    matplotlib.collections.LineCollection(edges),\n",
    ")\n",
    "x.set_color(\"grey\")\n",
    "ax.scatter(a1, b1, marker=\".\", c=\"g\", zorder=10)\n",
    "ax.scatter(a2, b2, marker=\".\", c=\"r\", zorder=10)\n",
    "ax.set_xlabel(\"PRECURSOR_RT\")\n",
    "ax.set_ylabel(\"PRECURSOR_MZ\")\n",
    "# sns.jointplot(a1[ind_start: ind_start+ind_size], a2[ind_start: ind_start+ind_size], kind=\"kde\",gridsize=100)"
   ]
  },
  {
   "cell_type": "code",
   "execution_count": null,
   "metadata": {},
   "outputs": [],
   "source": [
    "import matplotlib\n",
    "sorted(matplotlib.colors.__dict__['CSS4_COLORS'])"
   ]
  },
  {
   "cell_type": "code",
   "execution_count": null,
   "metadata": {},
   "outputs": [],
   "source": [
    "# repro = evi.get_aligned_nodes_from_group()"
   ]
  },
  {
   "cell_type": "code",
   "execution_count": null,
   "metadata": {},
   "outputs": [],
   "source": [
    "inet=inets[0]\n",
    "evi=evis[0]\n",
    "\n",
    "%matplotlib notebook\n",
    "coords = inet.get_ion_coordinates(inet2.dimensions)\n",
    "print(inet.dimensions)\n",
    "from mpl_toolkits.mplot3d import Axes3D\n",
    "fig = plt.figure()\n",
    "ax = fig.add_subplot(111, projection='3d')\n",
    "\n",
    "# repro = evi.get_aligned_nodes_from_group()\n",
    "\n",
    "selection = (coords[3] > 30) & (coords[3] < 30.2)\n",
    "selection &= (coords[2] < 2000)\n",
    "selection &= (coords[1] < 900)\n",
    "# selection=...\n",
    "\n",
    "# sns.jointplot(coords[1][selection], coords[2][selection], kind=\"hex\", gridsize=200)\n",
    "ax.scatter(\n",
    "    coords[1][selection],\n",
    "    coords[3][selection],\n",
    "    coords[2][selection],\n",
    "    marker=\".\",\n",
    "    c=coords[0][selection],\n",
    "    cmap=\"RdYlGn\"\n",
    ")\n",
    "ax.set_xlabel(inet.dimensions[1])\n",
    "ax.set_ylabel(inet.dimensions[3])\n",
    "ax.set_zlabel(inet.dimensions[2])"
   ]
  },
  {
   "cell_type": "code",
   "execution_count": null,
   "metadata": {},
   "outputs": [],
   "source": []
  },
  {
   "cell_type": "code",
   "execution_count": null,
   "metadata": {},
   "outputs": [],
   "source": []
  },
  {
   "cell_type": "code",
   "execution_count": null,
   "metadata": {},
   "outputs": [],
   "source": []
  },
  {
   "cell_type": "code",
   "execution_count": null,
   "metadata": {},
   "outputs": [],
   "source": []
  },
  {
   "cell_type": "code",
   "execution_count": null,
   "metadata": {},
   "outputs": [],
   "source": []
  },
  {
   "cell_type": "code",
   "execution_count": null,
   "metadata": {},
   "outputs": [],
   "source": []
  },
  {
   "cell_type": "code",
   "execution_count": null,
   "metadata": {},
   "outputs": [],
   "source": []
  },
  {
   "cell_type": "code",
   "execution_count": null,
   "metadata": {},
   "outputs": [],
   "source": []
  },
  {
   "cell_type": "code",
   "execution_count": null,
   "metadata": {},
   "outputs": [],
   "source": []
  },
  {
   "cell_type": "code",
   "execution_count": null,
   "metadata": {},
   "outputs": [],
   "source": []
  },
  {
   "cell_type": "code",
   "execution_count": null,
   "metadata": {},
   "outputs": [],
   "source": []
  },
  {
   "cell_type": "code",
   "execution_count": null,
   "metadata": {},
   "outputs": [],
   "source": []
  },
  {
   "cell_type": "code",
   "execution_count": null,
   "metadata": {},
   "outputs": [],
   "source": [
    "reload()\n",
    "\n",
    "an = annotation.Annotation(\n",
    "    evidence=evis[0],\n",
    "    database=\"/home/sander/Documents/Proteomics/data/databases/hdf/crap_ecoli_concatenated_decoy.hdf\",\n",
    "    parameters={\n",
    "        \"annotation_ppm\": 20,\n",
    "    },\n",
    "    logger=logger\n",
    ")"
   ]
  },
  {
   "cell_type": "code",
   "execution_count": null,
   "metadata": {},
   "outputs": [],
   "source": [
    "self=inets[1]\n",
    "# indptr, indices = self.get_edges(\n",
    "#     indptr_and_indices=True\n",
    "# )\n",
    "# x, y = self.get_edges(return_as_scipy_csr=False)"
   ]
  },
  {
   "cell_type": "code",
   "execution_count": null,
   "metadata": {},
   "outputs": [],
   "source": [
    "rts = self.get_ion_coordinates(\"PRECURSOR_RT\")\n",
    "rts[:1000000]"
   ]
  },
  {
   "cell_type": "code",
   "execution_count": null,
   "metadata": {},
   "outputs": [],
   "source": []
  },
  {
   "cell_type": "code",
   "execution_count": null,
   "metadata": {},
   "outputs": [],
   "source": []
  },
  {
   "cell_type": "code",
   "execution_count": null,
   "metadata": {},
   "outputs": [],
   "source": []
  },
  {
   "cell_type": "code",
   "execution_count": null,
   "metadata": {},
   "outputs": [],
   "source": []
  },
  {
   "cell_type": "code",
   "execution_count": null,
   "metadata": {},
   "outputs": [],
   "source": []
  },
  {
   "cell_type": "code",
   "execution_count": null,
   "metadata": {},
   "outputs": [],
   "source": []
  },
  {
   "cell_type": "code",
   "execution_count": null,
   "metadata": {},
   "outputs": [],
   "source": []
  },
  {
   "cell_type": "code",
   "execution_count": null,
   "metadata": {},
   "outputs": [],
   "source": []
  },
  {
   "cell_type": "code",
   "execution_count": null,
   "metadata": {},
   "outputs": [],
   "source": [
    "reload()\n",
    "\n",
    "self = inets[0]\n",
    "other = inets[1]\n",
    "# self_ints, self_mzs, self_pmzs, self_rts = self.get_ion_coordinates()\n",
    "# other_ints, other_mzs, other_pmzs, other_rts = other.get_ion_coordinates()\n",
    "# calibrated_self_rts = sandbox.calibrate_precursor_rt(self, other, ppm=10)"
   ]
  },
  {
   "cell_type": "code",
   "execution_count": null,
   "metadata": {},
   "outputs": [],
   "source": []
  },
  {
   "cell_type": "code",
   "execution_count": null,
   "metadata": {},
   "outputs": [],
   "source": [
    "self_mzs = pd.read_csv(\n",
    "    \"/home/sander/Documents/Proteomics/data/jpt/APEX/200117_JPTmix_prop_Fullloop_01_Apex3DIons.inet.csv\",\n",
    "    usecols=[\"FRAGMENT_MZ\"]\n",
    ").values.flatten()\n",
    "other_mzs = pd.read_csv(\n",
    "    \"/home/sander/Documents/Proteomics/data/jpt/APEX/200117_JPTmix_prop_Fullloop_08_Apex3DIons.inet.csv\",\n",
    "    usecols=[\"FRAGMENT_MZ\"]\n",
    ").values.flatten()\n",
    "\n",
    "self_logints = pd.read_csv(\n",
    "    \"/home/sander/Documents/Proteomics/data/jpt/APEX/200117_JPTmix_prop_Fullloop_01_Apex3DIons.inet.csv\",\n",
    "    usecols=[\"FRAGMENT_LOGINT\"]\n",
    ").values.flatten()\n",
    "other_logints = pd.read_csv(\n",
    "    \"/home/sander/Documents/Proteomics/data/jpt/APEX/200117_JPTmix_prop_Fullloop_08_Apex3DIons.inet.csv\",\n",
    "    usecols=[\"FRAGMENT_LOGINT\"]\n",
    ").values.flatten()"
   ]
  },
  {
   "cell_type": "code",
   "execution_count": null,
   "metadata": {},
   "outputs": [],
   "source": [
    "# le_indices = np.concatenate(\n",
    "#     [\n",
    "#         start + np.argpartition(\n",
    "#             ions[\"INTENSITY\"][start: end], - to_select_per_sample\n",
    "#         )[-to_select_per_sample:] for start, end in zip(\n",
    "#             start_indices[:-1],\n",
    "#             start_indices[1:]\n",
    "#         )\n",
    "#     ]\n",
    "# )\n"
   ]
  },
  {
   "cell_type": "code",
   "execution_count": null,
   "metadata": {},
   "outputs": [],
   "source": [
    "calibration_ions = 50000\n",
    "self_ions = np.argpartition(self_logints, -calibration_ions)[-calibration_ions:]\n",
    "other_ions = np.argpartition(other_logints, -calibration_ions)[-calibration_ions:]"
   ]
  },
  {
   "cell_type": "code",
   "execution_count": null,
   "metadata": {},
   "outputs": [],
   "source": [
    "self_mzs = self_mzs[self_ions]\n",
    "other_mzs = other_mzs[other_ions]"
   ]
  },
  {
   "cell_type": "code",
   "execution_count": null,
   "metadata": {},
   "outputs": [],
   "source": []
  },
  {
   "cell_type": "code",
   "execution_count": null,
   "metadata": {},
   "outputs": [],
   "source": [
    "np.sort(self_mzs), np.sort(other_mzs)"
   ]
  },
  {
   "cell_type": "code",
   "execution_count": null,
   "metadata": {},
   "outputs": [],
   "source": [
    "self_mzs = self.get_ion_coordinates(\"FRAGMENT_MZ\")\n",
    "other_mzs = other.get_ion_coordinates(\"FRAGMENT_MZ\")\n",
    "# self_indices, other_indices = sandbox.quick_align(self_mzs, other_mzs, ppm=10)\n",
    "# self_rts = self.get_ion_coordinates(\"PRECURSOR_RT\")\n",
    "# other_rts = other.get_ion_coordinates(\"PRECURSOR_RT\", indices=other_indices)"
   ]
  },
  {
   "cell_type": "code",
   "execution_count": null,
   "metadata": {},
   "outputs": [],
   "source": [
    "self_inds = np.repeat(0, len(self_mzs))\n",
    "other_inds = np.repeat(1, len(other_mzs))"
   ]
  },
  {
   "cell_type": "code",
   "execution_count": null,
   "metadata": {},
   "outputs": [],
   "source": [
    "mzs = np.concatenate([self_mzs, other_mzs])\n",
    "inds = np.concatenate([self_inds, other_inds])\n",
    "order = np.argsort(mzs)\n",
    "mzs = mzs[order]\n",
    "inds = inds[order]"
   ]
  },
  {
   "cell_type": "code",
   "execution_count": null,
   "metadata": {},
   "outputs": [],
   "source": [
    "mz_diffs = np.diff(mzs)\n",
    "ind_diffs = np.diff(inds)\n",
    "x = np.concatenate([mz_diffs[ind_diffs==1], -mz_diffs[ind_diffs==-1]])"
   ]
  },
  {
   "cell_type": "code",
   "execution_count": null,
   "metadata": {},
   "outputs": [],
   "source": [
    "x = (mz_diffs[:-2] < mz_diffs[1:-1]) & (mz_diffs[1:-1] < mz_diffs[2:])\n",
    "x &= ind_diffs[1:-1] != 0\n",
    "x = mz_diffs[1:-1][x] * -ind_diffs[1:-1][x]"
   ]
  },
  {
   "cell_type": "code",
   "execution_count": null,
   "metadata": {},
   "outputs": [],
   "source": [
    "np.quantile(\n",
    "    mz_diffs[ind_diffs==-1] * 10**6 / mzs[:-1][ind_diffs==-1],\n",
    "    0.5\n",
    ")"
   ]
  },
  {
   "cell_type": "code",
   "execution_count": null,
   "metadata": {},
   "outputs": [],
   "source": []
  },
  {
   "cell_type": "code",
   "execution_count": null,
   "metadata": {},
   "outputs": [],
   "source": [
    "%matplotlib notebook\n",
    "\n",
    "# s = np.concatenate([mz_diffs[ind_diffs==1], -mz_diffs[ind_diffs==-1]])\n",
    "\n",
    "plt.scatter(\n",
    "    mzs[:-1][ind_diffs==1],\n",
    "    mz_diffs[ind_diffs==1] * 10**6 / mzs[:-1][ind_diffs==1]\n",
    "#     np.sort(self_mzs),\n",
    "#     np.sort(other_mzs) - np.sort(self_mzs),\n",
    "#     10**6 * (np.sort(self_mzs) - np.sort(other_mzs)) / np.sort(self_mzs)\n",
    ")"
   ]
  },
  {
   "cell_type": "code",
   "execution_count": null,
   "metadata": {},
   "outputs": [],
   "source": [
    "%matplotlib notebook\n",
    "\n",
    "a, b = np.unique(np.round(x,3), return_counts=True)\n",
    "print(np.quantile(x, np.arange(101)/100), np.median(x))\n",
    "# plt.plot(a,b)\n",
    "plt.plot(np.quantile(x, np.arange(101)/100))"
   ]
  },
  {
   "cell_type": "code",
   "execution_count": null,
   "metadata": {},
   "outputs": [],
   "source": []
  },
  {
   "cell_type": "code",
   "execution_count": null,
   "metadata": {},
   "outputs": [],
   "source": [
    "new_self_rts = []\n",
    "for self_start_index, self_end_index, other_rt_start, other_rt_end in zip(\n",
    "    self_indices[:-1],\n",
    "    self_indices[1:],\n",
    "    other_rts[:-1],\n",
    "    other_rts[1:]\n",
    "):\n",
    "#     if self_end_index == self_start_index:\n",
    "#         continue\n",
    "    self_rt_start = self_rts[self_start_index]\n",
    "    self_rt_end = self_rts[self_end_index]\n",
    "    if self_rt_start == self_rt_end:\n",
    "        new_rts = np.repeat(other_rt_start, self_end_index - self_start_index)\n",
    "    else:\n",
    "        slope = (other_rt_end - other_rt_start) / (self_rt_end - self_rt_start)\n",
    "        new_rts = other_rt_start + slope * (\n",
    "            self_rts[self_start_index: self_end_index] - self_rt_start\n",
    "        )\n",
    "    new_self_rts.append(new_rts)\n",
    "new_self_rts.append([other_rts[-1]])\n",
    "new_self_rts = np.concatenate(new_self_rts)"
   ]
  },
  {
   "cell_type": "code",
   "execution_count": null,
   "metadata": {},
   "outputs": [],
   "source": [
    "new_self_rts.shape[0] - self_rts.shape[0]"
   ]
  },
  {
   "cell_type": "code",
   "execution_count": null,
   "metadata": {},
   "outputs": [],
   "source": []
  },
  {
   "cell_type": "code",
   "execution_count": null,
   "metadata": {},
   "outputs": [],
   "source": [
    "self_rts = self.get_ion_coordinates(\"PRECURSOR_RT\")"
   ]
  },
  {
   "cell_type": "code",
   "execution_count": null,
   "metadata": {},
   "outputs": [],
   "source": [
    "%matplotlib notebook\n",
    "\n",
    "plt.scatter(self_rts, self_rts - calibrated_self_rts)"
   ]
  },
  {
   "cell_type": "code",
   "execution_count": null,
   "metadata": {},
   "outputs": [],
   "source": []
  },
  {
   "cell_type": "code",
   "execution_count": null,
   "metadata": {},
   "outputs": [],
   "source": [
    "reload()\n",
    "\n",
    "self_ints, self_mzs, self_dts, self_rts = self.get_ion_coordinates()\n",
    "other_ints, other_mzs, other_dts, other_rts = other.get_ion_coordinates()\n",
    "self_indices, other_indices = sandbox.quick_align(self_mzs, other_mzs, ppm=10)"
   ]
  },
  {
   "cell_type": "code",
   "execution_count": null,
   "metadata": {},
   "outputs": [],
   "source": []
  },
  {
   "cell_type": "code",
   "execution_count": null,
   "metadata": {},
   "outputs": [],
   "source": [
    "# s = slice(0, None, 1000)\n",
    "a1 = self_rts[self_indices]\n",
    "a2 = other_rts[other_indices]\n",
    "c = self_dts[self_indices] - other_dts[other_indices]"
   ]
  },
  {
   "cell_type": "code",
   "execution_count": null,
   "metadata": {},
   "outputs": [],
   "source": [
    "ppm=10\n",
    "\n",
    "self_mz_order = np.argsort(self_mzs)\n",
    "other_mz_order = np.argsort(other_mzs)\n",
    "max_mz_diff = 1 + ppm * 10**-6\n",
    "low_limits = np.searchsorted(\n",
    "    self_mzs[self_mz_order],\n",
    "    other_mzs[other_mz_order] / max_mz_diff,\n",
    "    \"left\"\n",
    ")\n",
    "high_limits = np.searchsorted(\n",
    "    self_mzs[self_mz_order],\n",
    "    other_mzs[other_mz_order] * max_mz_diff,\n",
    "    \"right\"\n",
    ")\n",
    "other_rt_order = np.argsort(other_mz_order)\n",
    "self_indices = np.concatenate(\n",
    "    [\n",
    "        self_mz_order[l:h] for l, h in zip(\n",
    "            low_limits[other_rt_order],\n",
    "            high_limits[other_rt_order]\n",
    "        )\n",
    "    ]\n",
    ")\n",
    "other_indices = np.repeat(\n",
    "    np.arange(len(other_rt_order)),\n",
    "    high_limits[other_rt_order] - low_limits[other_rt_order]\n",
    ")"
   ]
  },
  {
   "cell_type": "code",
   "execution_count": null,
   "metadata": {},
   "outputs": [],
   "source": [
    "%matplotlib notebook\n",
    "\n",
    "plt.plot(a1, a2)"
   ]
  },
  {
   "cell_type": "code",
   "execution_count": null,
   "metadata": {},
   "outputs": [],
   "source": [
    "%matplotlib notebook\n",
    "\n",
    "# plt.plot(a1, a2)\n",
    "# plt.scatter(a1, a2, marker=\".\", c=c, cmap=\"RdYlGn\")\n",
    "# sns.jointplot(a1, a2, kind=\"hex\", gridsize=200)\n",
    "# sns.jointplot(self_rts[self_indices], other_rts[other_indices], kind=\"hex\", gridsize=100)\n",
    "plt.scatter(self_rts[self_indices], other_rts[other_indices], marker=\".\")"
   ]
  },
  {
   "cell_type": "code",
   "execution_count": null,
   "metadata": {},
   "outputs": [],
   "source": []
  },
  {
   "cell_type": "code",
   "execution_count": null,
   "metadata": {},
   "outputs": [],
   "source": [
    "%matplotlib notebook\n",
    "\n",
    "a,b=np.unique(np.round(c,0), return_counts=True)\n",
    "plt.plot(a,b)"
   ]
  },
  {
   "cell_type": "code",
   "execution_count": null,
   "metadata": {},
   "outputs": [],
   "source": [
    "self_rts = self.get_ion_coordinates(\"PRECURSOR_RT\")\n",
    "other_rts = other.get_ion_coordinates(\"PRECURSOR_RT\", indices=other_indices)\n",
    "new_self_rts = []\n",
    "for self_start_index, self_end_index, other_rt_start, other_rt_end in zip(\n",
    "    self_indices[:-1],\n",
    "    self_indices[1:],\n",
    "    other_rts[:-1],\n",
    "    other_rts[1:]\n",
    "):\n",
    "    self_rt_start = self_rts[self_start_index]\n",
    "    self_rt_end = self_rts[self_end_index]\n",
    "    if self_rt_start == self_rt_end:\n",
    "        new_rts = np.repeat(other_rt_start, self_end_index - self_start_index)\n",
    "    else:\n",
    "        slope = (other_rt_end - other_rt_start) / (self_rt_end - self_rt_start)\n",
    "        new_rts = other_rt_start + slope * (\n",
    "            self_rts[self_start_index: self_end_index] - self_rt_start\n",
    "        )\n",
    "    new_self_rts.append(new_rts)\n",
    "new_self_rts.append([other_rts[-1]])\n",
    "new_self_rts = np.concatenate(new_self_rts)"
   ]
  },
  {
   "cell_type": "code",
   "execution_count": null,
   "metadata": {},
   "outputs": [],
   "source": [
    "# %matplotlib notebook\n",
    "\n",
    "# s = slice(0, None, 1000)\n",
    "# plt.scatter(new_self_rts[s], self_rts[s])"
   ]
  },
  {
   "cell_type": "code",
   "execution_count": null,
   "metadata": {},
   "outputs": [],
   "source": []
  },
  {
   "cell_type": "code",
   "execution_count": null,
   "metadata": {},
   "outputs": [],
   "source": []
  },
  {
   "cell_type": "code",
   "execution_count": null,
   "metadata": {},
   "outputs": [],
   "source": [
    "ints, mzs, pmzs, rts = inets[0].get_ion_coordinates()"
   ]
  },
  {
   "cell_type": "code",
   "execution_count": null,
   "metadata": {},
   "outputs": [],
   "source": [
    "reload()\n",
    "\n",
    "ali = evis[0].get_alignment(evis[1])\n",
    "# pairwise_alignment = inets[0].align_nodes(\n",
    "#     inets[1],\n",
    "#     parameters\n",
    "# )\n",
    "# ali = [\n",
    "#     pairwise_alignment.T.tocsr().indices,\n",
    "#     pairwise_alignment.indices\n",
    "# ]\n",
    "# a = np.repeat(np.arange(pairwise_alignment.shape[0]), np.diff(pairwise_alignment.indptr))\n",
    "# aa = pairwise_alignment.nonzero()[0]\n",
    "# a,aa,np.bincount(a==aa)"
   ]
  },
  {
   "cell_type": "code",
   "execution_count": null,
   "metadata": {},
   "outputs": [],
   "source": [
    "def rt_diffs(isotopic_distance, ppm, rts):\n",
    "    mz_order = np.argsort(mzs)\n",
    "    mzs_in_mz_order = mzs[mz_order]\n",
    "    if isotopic_distance > 0:\n",
    "        lower_limits = np.searchsorted(\n",
    "            mzs_in_mz_order,\n",
    "            (mzs_in_mz_order + isotopic_distance) / (1 + ppm * 10**-6),\n",
    "            \"left\"\n",
    "        )\n",
    "    else:\n",
    "        lower_limits = np.arange(len(mzs)) + 1\n",
    "    upper_limits = np.searchsorted(\n",
    "        mzs_in_mz_order,\n",
    "        (mzs_in_mz_order + isotopic_distance) * (1 + ppm * 10**-6),\n",
    "        \"right\"\n",
    "    )\n",
    "    first_isotopic_pairs = np.repeat(mz_order, upper_limits - lower_limits)\n",
    "    second_isotopic_pairs = np.concatenate([mz_order[l: u] for u, l in zip(upper_limits, lower_limits)])\n",
    "    return np.abs(rts[first_isotopic_pairs] - rts[second_isotopic_pairs])"
   ]
  },
  {
   "cell_type": "code",
   "execution_count": null,
   "metadata": {},
   "outputs": [],
   "source": [
    "isotopic_rts = rt_diffs(isotopic_distance = 1.002, ppm=2, rts=rts)\n",
    "random_rts = rt_diffs(isotopic_distance = 3.8254, ppm=2, rts=rts)"
   ]
  },
  {
   "cell_type": "code",
   "execution_count": null,
   "metadata": {},
   "outputs": [],
   "source": [
    "all_rts = np.concatenate([isotopic_rts, random_rts])\n",
    "all_labels = np.repeat([False, True], [len(isotopic_rts), len(random_rts)])\n",
    "order = np.argsort(all_rts)\n",
    "all_rts = all_rts[order]\n",
    "all_labels = all_labels[order]\n",
    "fdr = np.cumsum(all_labels) / (1 + np.arange(len(all_labels)))"
   ]
  },
  {
   "cell_type": "code",
   "execution_count": null,
   "metadata": {},
   "outputs": [],
   "source": [
    "np.argmin(fdr)"
   ]
  },
  {
   "cell_type": "code",
   "execution_count": null,
   "metadata": {},
   "outputs": [],
   "source": [
    "%matplotlib notebook\n",
    "\n",
    "s = slice(0,10000000, 1)\n",
    "plt.plot(all_rts[s], fdr[s])"
   ]
  },
  {
   "cell_type": "code",
   "execution_count": null,
   "metadata": {},
   "outputs": [],
   "source": [
    "isotope_rt_diffs, isotope_count = np.unique(\n",
    "        isotopic_rts,\n",
    "        return_counts=True\n",
    "    )\n",
    "isotope_count = np.cumsum(isotope_count)\n",
    "random_rt_diffs, random_count = np.unique(\n",
    "        random_rts,\n",
    "        return_counts=True\n",
    "    )\n",
    "random_count = np.cumsum(random_count)"
   ]
  },
  {
   "cell_type": "code",
   "execution_count": null,
   "metadata": {},
   "outputs": [],
   "source": [
    "# random_diffs = isotope_rt_diffs\n",
    "# random_counts = isotope_count"
   ]
  },
  {
   "cell_type": "code",
   "execution_count": null,
   "metadata": {},
   "outputs": [],
   "source": [
    "%matplotlib notebook\n",
    "\n",
    "# plt.plot(\n",
    "#     *np.unique(\n",
    "#         np.round(\n",
    "#             rts[first_isotopic_pairs] - rts[second_isotopic_pairs],\n",
    "#             3\n",
    "#         ),\n",
    "#         return_counts=True\n",
    "#     )\n",
    "# )\n",
    "\n",
    "\n",
    "plt.plot(\n",
    "    isotope_rt_diffs, isotope_count/isotope_count[-1]\n",
    ")\n",
    "plt.plot(\n",
    "    random_rt_diffs, random_count/random_count[-1]\n",
    ")\n",
    "# plt.plot(\n",
    "#     random_diffs, random_counts/random_counts[-1]+0.0029-0.001, c=\"r\"\n",
    "# )\n",
    "# plt.plot(\n",
    "#     random_diffs, random_counts/random_counts[-1]+0.0029+0.0015, c=\"r\"\n",
    "# )\n",
    "# plt.plot(\n",
    "#     random_diffs, random_counts/random_counts[-1], c=\"r\"\n",
    "# )\n",
    "plt.axhline(0.5, c=\"grey\")\n",
    "plt.axvline(0, c=\"grey\")\n",
    "# plt.plot([-15,15], [0.313,0.69])\n",
    "\n",
    "# plt.plot(\n",
    "#     isotope_rt_diffs,\n",
    "#     np.gradient(isotope_count),\n",
    "# )"
   ]
  },
  {
   "cell_type": "code",
   "execution_count": null,
   "metadata": {},
   "outputs": [],
   "source": [
    "%matplotlib notebook\n",
    "\n",
    "ricos = np.diff(isotope_count) / np.diff(isotope_rt_diffs)\n",
    "plt.plot(isotope_rt_diffs[:-1], ricos)"
   ]
  },
  {
   "cell_type": "code",
   "execution_count": null,
   "metadata": {},
   "outputs": [],
   "source": [
    "%matplotlib notebook\n",
    "\n",
    "sns.jointplot(\n",
    "    rts[first_isotopic_pairs[::10]],\n",
    "    rts[second_isotopic_pairs[::10]],\n",
    "    kind=\"hex\",\n",
    "    gridsize=500\n",
    ")"
   ]
  },
  {
   "cell_type": "code",
   "execution_count": null,
   "metadata": {},
   "outputs": [],
   "source": [
    "%matplotlib notebook\n",
    "\n",
    "sns.jointplot(\n",
    "    inets[0].get_ion_coordinates(\"FRAGMENT_LOGINT\", indices=ali[:,0]),\n",
    "    inets[1].get_ion_coordinates(\"FRAGMENT_LOGINT\", indices=ali[:,1]),\n",
    "    kind=\"hex\",\n",
    "    gridsize=500\n",
    ")"
   ]
  },
  {
   "cell_type": "code",
   "execution_count": null,
   "metadata": {},
   "outputs": [],
   "source": [
    "left, right = inets[0].get_edges(return_as_scipy_csr=False)\n",
    "mzs = inets[0].get_ion_coordinates(\"MZ2\")\n",
    "diffs2 = mzs[left] - mzs[right]"
   ]
  },
  {
   "cell_type": "code",
   "execution_count": null,
   "metadata": {},
   "outputs": [],
   "source": [
    "z = evidences[0].get_evidence(network_keys=[k.key for k in inets[1:]], return_total=True)"
   ]
  },
  {
   "cell_type": "code",
   "execution_count": null,
   "metadata": {},
   "outputs": [],
   "source": [
    "edges = inets[0].get_edges()\n",
    "edges.data = z[0] > z[1] + 8\n",
    "edges.eliminate_zeros()\n",
    "left, right = edges.nonzero()\n",
    "mzs = inets[0].get_ion_coordinates(\"MZ2\")\n",
    "diffs = mzs[left] - mzs[right]"
   ]
  },
  {
   "cell_type": "code",
   "execution_count": null,
   "metadata": {},
   "outputs": [],
   "source": [
    "# ori_a, ori_b = np.unique(np.round(diffs2, 3), return_counts=True)\n",
    "new_a, new_b = np.unique(np.round(diffs, 3), return_counts=True)"
   ]
  },
  {
   "cell_type": "code",
   "execution_count": null,
   "metadata": {},
   "outputs": [],
   "source": []
  },
  {
   "cell_type": "code",
   "execution_count": null,
   "metadata": {},
   "outputs": [],
   "source": [
    "%matplotlib notebook\n",
    "\n",
    "plt.plot(ori_a, ori_b/np.max(ori_b))\n",
    "plt.plot(new_a, new_b/np.max(new_b))"
   ]
  },
  {
   "cell_type": "code",
   "execution_count": null,
   "metadata": {},
   "outputs": [],
   "source": []
  },
  {
   "cell_type": "code",
   "execution_count": null,
   "metadata": {},
   "outputs": [],
   "source": []
  },
  {
   "cell_type": "code",
   "execution_count": null,
   "metadata": {},
   "outputs": [],
   "source": []
  },
  {
   "cell_type": "code",
   "execution_count": null,
   "metadata": {},
   "outputs": [],
   "source": [
    "mzs = inets[0].get_ion_coordinates(\"MZ2\")\n",
    "diffs = np.abs(mzs[left] - mzs[right])\n",
    "good = np.abs(diffs - 1.002) < 0.01"
   ]
  },
  {
   "cell_type": "code",
   "execution_count": null,
   "metadata": {},
   "outputs": [],
   "source": [
    "inets[0].get_ion_coordinates(indices=z[0])"
   ]
  },
  {
   "cell_type": "code",
   "execution_count": null,
   "metadata": {},
   "outputs": [],
   "source": [
    "posi = z[0][good]\n",
    "negi = z[1][good]\n",
    "np.bincount(posi), np.bincount(negi)"
   ]
  },
  {
   "cell_type": "code",
   "execution_count": null,
   "metadata": {},
   "outputs": [],
   "source": [
    "# iso = np.histogram2d(posi, negi, bins=10)[0].astype(np.int)\n",
    "# total = np.histogram2d(z[0], z[1], bins=10)[0].astype(np.int)\n",
    "iso, total"
   ]
  },
  {
   "cell_type": "code",
   "execution_count": null,
   "metadata": {},
   "outputs": [],
   "source": [
    "%matplotlib notebook\n",
    "# sns.heatmap(np.log(iso/total), cmap=\"RdYlGn\")\n",
    "sns.heatmap(np.log(iso + 1), cmap=\"RdYlGn\")"
   ]
  },
  {
   "cell_type": "code",
   "execution_count": null,
   "metadata": {},
   "outputs": [],
   "source": []
  },
  {
   "cell_type": "code",
   "execution_count": null,
   "metadata": {},
   "outputs": [],
   "source": [
    "selected = (z[0] + z[1]) > 0\n",
    "# np.unique(z[0][selected] / (z[0] + z[1])[selected], return_counts=True)\n",
    "a, b = np.unique(z[0][selected]-z[1][selected], return_counts=True)"
   ]
  },
  {
   "cell_type": "code",
   "execution_count": null,
   "metadata": {},
   "outputs": [],
   "source": [
    "%matplotlib notebook\n",
    "\n",
    "plt.plot(a, b)"
   ]
  },
  {
   "cell_type": "code",
   "execution_count": null,
   "metadata": {},
   "outputs": [],
   "source": [
    "%matplotlib notebook\n",
    "\n",
    "first_mz2, first_rt1, first_mz1, first_logint = inets[0].get_ion_coordinates([\"MZ2\", \"RT\", \"MZ1\", \"LOGINT\"])\n",
    "second_mz2, second_rt2, second_mz1, second_logint = inets[1].get_ion_coordinates([\"MZ2\", \"RT\", \"MZ1\", \"LOGINT\"])\n",
    "a = al.get_alignment(inets[0], inets[1], return_as_scipy_csr=False)\n",
    "\n",
    "sns.jointplot(first_mz1, first_mz2, kind=\"hex\", gridsize=500)\n",
    "sns.jointplot(first_logint[a[:,0]], second_logint[a[:,1]], kind=\"hex\", gridsize=500)"
   ]
  },
  {
   "cell_type": "code",
   "execution_count": null,
   "metadata": {},
   "outputs": [],
   "source": []
  },
  {
   "cell_type": "code",
   "execution_count": null,
   "metadata": {},
   "outputs": [],
   "source": []
  },
  {
   "cell_type": "code",
   "execution_count": null,
   "metadata": {},
   "outputs": [],
   "source": []
  },
  {
   "cell_type": "code",
   "execution_count": null,
   "metadata": {},
   "outputs": [],
   "source": []
  },
  {
   "cell_type": "code",
   "execution_count": null,
   "metadata": {},
   "outputs": [],
   "source": []
  },
  {
   "cell_type": "code",
   "execution_count": null,
   "metadata": {},
   "outputs": [],
   "source": []
  },
  {
   "cell_type": "code",
   "execution_count": null,
   "metadata": {},
   "outputs": [],
   "source": []
  },
  {
   "cell_type": "code",
   "execution_count": null,
   "metadata": {},
   "outputs": [],
   "source": [
    "importlib.reload(network)\n",
    "mzs, rts = inet.get_ion_coordinates([\"MZ2\", \"RT\"])\n",
    "isotopic_distance = 1.002\n",
    "ppm = 10\n",
    "\n",
    "isotope_rt_diffs, isotope_count = network.determine_isotopic_rt_difference(\n",
    "    mzs,\n",
    "    rts,\n",
    "    isotopic_distance,\n",
    "    ppm\n",
    ")"
   ]
  },
  {
   "cell_type": "code",
   "execution_count": null,
   "metadata": {},
   "outputs": [],
   "source": [
    "# mz_order = np.argsort(mzs)\n",
    "# mzs_in_mz_order = mzs[mz_order]\n",
    "# print(mzs_in_mz_order, (mzs_in_mz_order + isotopic_distance) * (1 + ppm * 10**-6))\n",
    "rts"
   ]
  },
  {
   "cell_type": "code",
   "execution_count": null,
   "metadata": {},
   "outputs": [],
   "source": [
    "ratios = []\n",
    "resolution = np.linspace(0,1,100)\n",
    "lower_limits = np.arange(len(rts)) + 1\n",
    "for limit in resolution:\n",
    "    upper_limits = np.searchsorted(\n",
    "        rts,\n",
    "        rts + limit,\n",
    "        \"right\"\n",
    "    )\n",
    "    total = np.sum(upper_limits-lower_limits)\n",
    "    ratio = isotope_count[np.searchsorted(isotope_rt_diffs, limit, \"right\")] / total\n",
    "    ratios.append(ratio)"
   ]
  },
  {
   "cell_type": "code",
   "execution_count": null,
   "metadata": {},
   "outputs": [],
   "source": [
    "%matplotlib notebook\n",
    "\n",
    "plt.plot(resolution, ratios)"
   ]
  },
  {
   "cell_type": "code",
   "execution_count": null,
   "metadata": {},
   "outputs": [],
   "source": []
  },
  {
   "cell_type": "code",
   "execution_count": null,
   "metadata": {},
   "outputs": [],
   "source": [
    "%matplotlib notebook\n",
    "\n",
    "\n",
    "plt.plot(isotope_rt_diffs, isotope_count / isotope_count[-1])"
   ]
  },
  {
   "cell_type": "code",
   "execution_count": null,
   "metadata": {},
   "outputs": [],
   "source": []
  },
  {
   "cell_type": "code",
   "execution_count": null,
   "metadata": {},
   "outputs": [],
   "source": []
  },
  {
   "cell_type": "code",
   "execution_count": null,
   "metadata": {},
   "outputs": [],
   "source": []
  },
  {
   "cell_type": "code",
   "execution_count": null,
   "metadata": {},
   "outputs": [],
   "source": []
  },
  {
   "cell_type": "code",
   "execution_count": null,
   "metadata": {},
   "outputs": [],
   "source": [
    "indptr, indices = inet.get_edge_indptr_and_indices()"
   ]
  },
  {
   "cell_type": "code",
   "execution_count": null,
   "metadata": {},
   "outputs": [],
   "source": [
    "second_indices = np.repeat(np.arange(len(indptr) - 1), np.diff(indptr))"
   ]
  },
  {
   "cell_type": "code",
   "execution_count": null,
   "metadata": {},
   "outputs": [],
   "source": [
    "%matplotlib notebook\n",
    "\n",
    "mzs = inet.get_ion_coordinates(\"MZ2\")\n",
    "diffs = np.abs(mzs[indices]-mzs[second_indices])\n",
    "\n",
    "plt.plot(*np.unique(np.round(diffs,2), return_counts=True))\n",
    "\n",
    "# plt.scatter(mzs[pairs[:,0]], diffs, marker=\".\")\n",
    "# mzds = mzs[pairs[:,0]] - mzs[pairs[:,1]]\n",
    "# sns.jointplot(mzs[pairs[:,0]], mzs[pairs[:,0]]-mzs[pairs[:,1]], kind=\"hex\", gridsize=100)"
   ]
  },
  {
   "cell_type": "code",
   "execution_count": null,
   "metadata": {},
   "outputs": [],
   "source": []
  },
  {
   "cell_type": "code",
   "execution_count": null,
   "metadata": {},
   "outputs": [],
   "source": []
  },
  {
   "cell_type": "code",
   "execution_count": null,
   "metadata": {},
   "outputs": [],
   "source": [
    "importlib.reload(network)\n",
    "# inet1 = network.Network(\n",
    "#     \"/home/sander/Documents/Proteomics/data/ion_networks/ecoli_sonar/ion_networks/28Oct2016_060_Apex3DIons.hdf\"\n",
    "# )\n",
    "inet2 = network.Network(\n",
    "    \"/home/sander/Documents/Proteomics/data/tmp.hdf\"\n",
    ")\n",
    "# inet.logger=logger"
   ]
  },
  {
   "cell_type": "code",
   "execution_count": null,
   "metadata": {},
   "outputs": [],
   "source": [
    "coords = inet2.get_ion_coordinates(inet2.dimensions)\n",
    "print(inet2.dimensions)"
   ]
  },
  {
   "cell_type": "code",
   "execution_count": null,
   "metadata": {},
   "outputs": [],
   "source": [
    "%matplotlib notebook\n",
    "\n",
    "selection = (coords[3] > 30) & (coords[3] < 31)\n",
    "# selection=...\n",
    "\n",
    "# sns.jointplot(coords[1][selection], coords[2][selection], kind=\"hex\", gridsize=200)\n",
    "plt.scatter(coords[1][selection], coords[3][selection], marker=\".\", c=coords[0][selection], cmap=\"RdYlGn\")"
   ]
  },
  {
   "cell_type": "code",
   "execution_count": null,
   "metadata": {},
   "outputs": [],
   "source": [
    "inet2 = network.Network(\n",
    "    \"/home/sander/Documents/Sandbox/test.inet.hdf\"\n",
    ")\n",
    "# inet2=inets[0]\n",
    "\n",
    "%matplotlib notebook\n",
    "coords = inet2.get_ion_coordinates(inet2.dimensions)\n",
    "print(inet2.dimensions)\n",
    "from mpl_toolkits.mplot3d import Axes3D\n",
    "fig = plt.figure()\n",
    "ax = fig.add_subplot(111, projection='3d')\n",
    "\n",
    "selection = (coords[3] > 30) & (coords[3] < 30.2)\n",
    "selection &= (coords[2] < 2000)\n",
    "selection &= (coords[1] < 900)\n",
    "# selection=...\n",
    "\n",
    "# sns.jointplot(coords[1][selection], coords[2][selection], kind=\"hex\", gridsize=200)\n",
    "ax.scatter(\n",
    "    coords[1][selection],\n",
    "    coords[3][selection],\n",
    "    coords[2][selection],\n",
    "    marker=\".\",\n",
    "    c=coords[0][selection],\n",
    "    cmap=\"RdYlGn\"\n",
    ")\n",
    "ax.set_xlabel(inet2.dimensions[1])\n",
    "ax.set_ylabel(inet2.dimensions[3])\n",
    "ax.set_zlabel(inet2.dimensions[2])"
   ]
  },
  {
   "cell_type": "code",
   "execution_count": null,
   "metadata": {},
   "outputs": [],
   "source": [
    "%matplotlib notebook\n",
    "coords = inet1.get_ion_coordinates(inet1.dimensions)\n",
    "print(inet1.dimensions)\n",
    "from mpl_toolkits.mplot3d import Axes3D\n",
    "fig = plt.figure()\n",
    "ax = fig.add_subplot(111, projection='3d')\n",
    "\n",
    "selection = (coords[3] > 30) & (coords[3] < 31)\n",
    "selection &= (coords[2] < 2000)\n",
    "selection &= (coords[1] < 900)\n",
    "# selection=...\n",
    "\n",
    "# sns.jointplot(coords[1][selection], coords[2][selection], kind=\"hex\", gridsize=200)\n",
    "ax.scatter(\n",
    "    coords[1][selection],\n",
    "    coords[3][selection],\n",
    "    coords[2][selection],\n",
    "    marker=\".\",\n",
    "    c=coords[0][selection],\n",
    "    cmap=\"RdYlGn\"\n",
    ")\n",
    "ax.set_xlabel('MZ1')\n",
    "ax.set_ylabel('RT')\n",
    "ax.set_zlabel('MZ2')"
   ]
  },
  {
   "cell_type": "code",
   "execution_count": null,
   "metadata": {},
   "outputs": [],
   "source": [
    "importlib.reload(network)\n",
    "importlib.reload(alignment)\n",
    "inets = []\n",
    "in_folder = \"/home/sander/Documents/Proteomics/data/ion_networks/ecoli_sonar/ion_networks\"\n",
    "for file_name in sorted(os.listdir(in_folder)):\n",
    "    in_file_name = os.path.join(in_folder, file_name)\n",
    "    inet = network.Network(\n",
    "        in_file_name\n",
    "    )\n",
    "    inets.append(inet)\n",
    "al = alignment.Alignment(\n",
    "    \"/home/sander/Documents/Proteomics/data/ion_networks/ecoli_sonar/alignment/alignment.hdf\"\n",
    "#     \"/home/sander/Documents/Proteomics/data/ion_networks/dda/dda_sonar_test_align.hdf\"\n",
    ")"
   ]
  },
  {
   "cell_type": "code",
   "execution_count": null,
   "metadata": {},
   "outputs": [],
   "source": [
    "importlib.reload(alignment)\n",
    "al = alignment.Alignment(\n",
    "    \"/home/sander/Documents/Proteomics/data/ion_networks/ecoli_sonar/alignment/alignment.hdf\"\n",
    "#     \"/home/sander/Documents/Proteomics/data/ion_networks/dda/dda_sonar_test_align.hdf\"\n",
    ")"
   ]
  },
  {
   "cell_type": "code",
   "execution_count": null,
   "metadata": {},
   "outputs": [],
   "source": [
    "%matplotlib notebook\n",
    "\n",
    "# inets = [\n",
    "#     network.Network(\"/home/sander/Documents/Proteomics/data/ion_networks/dda/tmp.hdf\"),\n",
    "#     network.Network(\"/home/sander/Documents/Proteomics/data/ion_networks/ecoli_sonar/ion_networks/28Oct2016_060_Apex3DIons.hdf\")\n",
    "# ]\n",
    "i = 0\n",
    "j = 1\n",
    "dimension = \"LOGINT\"\n",
    "\n",
    "x1, x2, x3, x4 = al.get_alignment(inets[i], inets[j])\n",
    "array1 = inets[i].get_ion_coordinates(dimension)[x1]\n",
    "array2 = inets[j].get_ion_coordinates(dimension)[x2]\n",
    "\n",
    "# plt.scatter(array1, array2, marker=\".\")\n",
    "sns.jointplot(array1, array2, kind=\"hex\", gridsize=500)"
   ]
  },
  {
   "cell_type": "code",
   "execution_count": null,
   "metadata": {},
   "outputs": [],
   "source": []
  },
  {
   "cell_type": "code",
   "execution_count": null,
   "metadata": {},
   "outputs": [],
   "source": [
    "import sandbox\n",
    "importlib.reload(sandbox)\n",
    "edges1, edges2, ali = sandbox.align_edges(inets[0], inets[1], al)\n",
    "edges1, edges2, ali"
   ]
  },
  {
   "cell_type": "code",
   "execution_count": null,
   "metadata": {},
   "outputs": [],
   "source": [
    "indirect = (ali.T * edges1 * ali).tocsr()"
   ]
  },
  {
   "cell_type": "code",
   "execution_count": null,
   "metadata": {},
   "outputs": [],
   "source": [
    "positive = indirect.multiply(edges2)"
   ]
  },
  {
   "cell_type": "code",
   "execution_count": null,
   "metadata": {},
   "outputs": [],
   "source": [
    "available = edges2 * ali.T * ali"
   ]
  },
  {
   "cell_type": "code",
   "execution_count": null,
   "metadata": {},
   "outputs": [],
   "source": [
    "negative = available - positive"
   ]
  },
  {
   "cell_type": "code",
   "execution_count": null,
   "metadata": {},
   "outputs": [],
   "source": [
    "edges2, indirect, available, positive, negative"
   ]
  },
  {
   "cell_type": "code",
   "execution_count": null,
   "metadata": {},
   "outputs": [],
   "source": [
    "mzs = inets[1].get_ion_coordinates(\"MZ2\")"
   ]
  },
  {
   "cell_type": "code",
   "execution_count": null,
   "metadata": {},
   "outputs": [],
   "source": [
    "%matplotlib notebook\n",
    "\n",
    "first_indices, second_indices = edges2.nonzero()\n",
    "diffs = np.abs(mzs[first_indices]-mzs[second_indices])\n",
    "a, b = np.unique(np.round(diffs,2), return_counts=True)\n",
    "\n",
    "plt.plot(a, b / np.average(b))\n",
    "\n",
    "first_indices, second_indices = negative.nonzero()\n",
    "diffs = np.abs(mzs[first_indices]-mzs[second_indices])\n",
    "a, b = np.unique(np.round(diffs,2), return_counts=True)\n",
    "\n",
    "plt.plot(a, b / np.average(b))\n",
    "\n",
    "first_indices, second_indices = positive.nonzero()\n",
    "diffs = np.abs(mzs[first_indices]-mzs[second_indices])\n",
    "a, b = np.unique(np.round(diffs,2), return_counts=True)\n",
    "\n",
    "plt.plot(a, b / np.average(b))"
   ]
  },
  {
   "cell_type": "code",
   "execution_count": null,
   "metadata": {},
   "outputs": [],
   "source": [
    "np.unique(positive.data)"
   ]
  },
  {
   "cell_type": "code",
   "execution_count": null,
   "metadata": {},
   "outputs": [],
   "source": [
    "inets[0].node_count"
   ]
  },
  {
   "cell_type": "code",
   "execution_count": null,
   "metadata": {},
   "outputs": [],
   "source": []
  },
  {
   "cell_type": "code",
   "execution_count": null,
   "metadata": {},
   "outputs": [],
   "source": []
  },
  {
   "cell_type": "code",
   "execution_count": null,
   "metadata": {},
   "outputs": [],
   "source": [
    "posi = evis[0].get_edge_mask_from_group()\n",
    "negi = evis[0].get_edge_mask_from_group(positive=False)"
   ]
  },
  {
   "cell_type": "code",
   "execution_count": null,
   "metadata": {},
   "outputs": [],
   "source": [
    "first, second = evis[0].ion_network.get_edges().nonzero()"
   ]
  },
  {
   "cell_type": "code",
   "execution_count": null,
   "metadata": {},
   "outputs": [],
   "source": [
    "posis = (posi == 9) & (negi == 0)\n",
    "negis = (posi == 0) & (negi == 9)"
   ]
  },
  {
   "cell_type": "code",
   "execution_count": null,
   "metadata": {},
   "outputs": [],
   "source": [
    "first_posi = first[posis]\n",
    "second_posi = second[posis]\n",
    "first_negi = first[negis]\n",
    "second_negi = second[negis]"
   ]
  },
  {
   "cell_type": "code",
   "execution_count": null,
   "metadata": {},
   "outputs": [],
   "source": [
    "posi_rtd = rts[second_posi] - rts[first_posi]\n",
    "negi_rtd = rts[second_negi] - rts[first_negi]"
   ]
  },
  {
   "cell_type": "code",
   "execution_count": null,
   "metadata": {},
   "outputs": [],
   "source": [
    "posi_rt_diffs, posi_count = np.unique(\n",
    "        posi_rtd,\n",
    "        return_counts=True\n",
    "    )\n",
    "posi_count = np.cumsum(posi_count)\n",
    "negi_rt_diffs, negi_count = np.unique(\n",
    "        negi_rtd,\n",
    "        return_counts=True\n",
    "    )\n",
    "negi_count = np.cumsum(negi_count)"
   ]
  },
  {
   "cell_type": "code",
   "execution_count": null,
   "metadata": {},
   "outputs": [],
   "source": [
    "%matplotlib notebook\n",
    "\n",
    "plt.plot(\n",
    "    posi_rt_diffs, posi_count / posi_count[-1]\n",
    ")\n",
    "plt.plot(\n",
    "    negi_rt_diffs, negi_count / negi_count[-1]\n",
    ")"
   ]
  },
  {
   "cell_type": "code",
   "execution_count": null,
   "metadata": {},
   "outputs": [],
   "source": []
  }
 ],
 "metadata": {
  "kernelspec": {
   "name": "Python 3.8.5 64-bit ('ion_networks': conda)",
   "display_name": "Python 3.8.5 64-bit ('ion_networks': conda)",
   "metadata": {
    "interpreter": {
     "hash": "816c4deb23feba886b5e565b7cb54f70b66e5fec10e70088db8eec645e138d19"
    }
   }
  }
 },
 "nbformat": 4,
 "nbformat_minor": 4
}
